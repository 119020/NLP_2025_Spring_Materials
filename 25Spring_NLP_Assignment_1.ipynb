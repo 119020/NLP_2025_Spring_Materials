{
  "nbformat": 4,
  "nbformat_minor": 0,
  "metadata": {
    "colab": {
      "provenance": [],
      "toc_visible": true,
      "gpuType": "T4",
      "include_colab_link": true
    },
    "kernelspec": {
      "name": "python3",
      "display_name": "Python 3"
    },
    "accelerator": "GPU"
  },
  "cells": [
    {
      "cell_type": "markdown",
      "metadata": {
        "id": "view-in-github",
        "colab_type": "text"
      },
      "source": [
        "<a href=\"https://colab.research.google.com/github/119020/NLP_Assignment_1_Exploring-Word-Embeddings/blob/main/25Spring_NLP_Assignment_1.ipynb\" target=\"_parent\"><img src=\"https://colab.research.google.com/assets/colab-badge.svg\" alt=\"Open In Colab\"/></a>"
      ]
    },
    {
      "cell_type": "markdown",
      "source": [
        "\n",
        "# Assignment 1: Exploring Word Embeddings\n",
        "**Course Name:** Natural Language Processing (CSC6052/5051/4100/DDA6307/MDS5110)\n",
        "\n",
        "\n",
        "\n"
      ],
      "metadata": {
        "id": "9yFFKuDZB_ow"
      }
    },
    {
      "cell_type": "markdown",
      "source": [
        "*Please enter your personal information (make sure you have copied this colab)*\n",
        "\n",
        "**Name**: 匡博文 KUANG, Bowen\n",
        "\n",
        "**Student ID**: 119020237\n",
        "\n",
        "\n",
        "\n",
        "\n"
      ],
      "metadata": {
        "id": "Y_qFy6J9EgJe"
      }
    },
    {
      "cell_type": "code",
      "source": [],
      "metadata": {
        "id": "AbC_Md4Gicaz"
      },
      "execution_count": null,
      "outputs": []
    },
    {
      "cell_type": "markdown",
      "source": [
        "## Assignment Requirements\n",
        "\n",
        "This Colab file includes all contents for Assignment 1.\n",
        "\n",
        "#### You are required to:\n",
        "\n",
        "1. **Make a copy of the provided Google Colab file.**  \n",
        "   First, you need to make a copy of the provided file into your own Google Drive. To accomplish this, open the Colab file link, navigate to `File` → `Save a copy in Drive`.\n",
        "\n",
        "2. **Execute the notebook to generate results.**  \n",
        "   You can click on \"Connect to GPU\" to apply for a free T4 GPU. Then, you can press the large play button to run a code cell.\n",
        "\n",
        "3. **Complete the Necessary Parts.**  \n",
        "   Some sections of the code are incomplete and require your input, especially pay attention to the parts marked with **<font color=\"red\">[Task]</font>**. These sections are critical for scoring the assignment.\n",
        "\n",
        "For more detailed instructions, refer to [Working with Google Colab](https://docs.google.com/document/d/1vMe8kC-oSyP3w7rIurDbG3NqfyQw7sZJ2C_S2ngtQnk/edit?usp=sharing).\n",
        "\n",
        "## Submission Guidelines\n",
        "\n",
        "Follow these steps to submit your assignment:\n",
        "\n",
        "1. **Export the Notebook:** Navigate to `File` → `Download .ipynb` to download your notebook.\n",
        "\n",
        "2. **Upload Your File:** Access the [Blackboard system](https://bb.cuhk.edu.cn/) and upload your `.ipynb` file."
      ],
      "metadata": {
        "id": "nQDMk5Uu1niv"
      }
    },
    {
      "cell_type": "markdown",
      "source": [
        "\n",
        "## Overview\n",
        "\n",
        "*Assignment 1* consists of two tasks:\n",
        "- Task 1: Train Word Embeddings with Word2Vec (5 points)\n",
        "- Task 2: Explore word embeddings (3 ponits)\n",
        "- Task 3: Utilize word embeddings (2 points)\n",
        "\n",
        "Your task is to **run all the code in this script** and complete the parts marked with <font color=\"red\">[task]</font>.\n",
        "\n",
        "## Prerequisite\n",
        "If you're new to Python, Numpy, or PyTorch, consider these tutorials for a quick start:\n",
        "- [Python-Numpy-Tutorial](https://cs231n.github.io/python-numpy-tutorial/)\n",
        "- [Introduction to PyTorch](https://colab.research.google.com/drive/1obAmmGHsMizB38aiZJ_-L1bVMT5KOLMd?usp=sharing)"
      ],
      "metadata": {
        "id": "H0gO12GJE06O"
      }
    },
    {
      "cell_type": "markdown",
      "source": [
        "## Task 1: Train Word Embeddings with Word2Vec\n",
        "\n",
        "**In this task, you will implement and train your own Word2Vec model.**\n",
        "\n",
        "Before diving in, let's clarify what Word2Vec is.\n",
        "\n",
        "Its core concept is straightforward: you can infer the meaning of a word from its neighbors - the words that frequently appear in the same context. Consider this illustration:\n",
        "![Contexts](https://image.ibb.co/mnQ2uz/2018_09_17_21_07_08.png)\n",
        "\n",
        "A basic approach is to use the context word counts as meaningful word vectors. Take this simple corpus for example:\n",
        "\n",
        "```\n",
        "The red fox jumped\n",
        "The brown fox jumped\n",
        "```\n",
        "\n",
        "The count vectors would look like this:\n",
        "```\n",
        "        the fox jumped red brown\n",
        "red   = (1   1    1     0    0)\n",
        "brown = (1   1    1     0    0)\n",
        "```\n",
        "\n",
        "Notice how `red` and `brown` have similar vectors! We're close to solving the problem, but the goal is to obtain more compact embedding vectors.\n",
        "\n",
        "This is where Word2Vec algorithms come into play. They construct embedding vectors based on the word's neighbors in the corpus.\n",
        "\n",
        "For a more detailed introduction, check out this post: [king - man + woman = queen; but why?](http://p.migdal.pl/2017/01/06/king-man-woman-queen-why.html).\n",
        "\n",
        "Let's do some preparation work before moving to the interesting stuff.\n",
        "\n"
      ],
      "metadata": {
        "id": "SwAJjpp-K8RQ"
      }
    },
    {
      "cell_type": "markdown",
      "source": [
        "### **1.1 Preparation**"
      ],
      "metadata": {
        "id": "8rK5IxppLRHM"
      }
    },
    {
      "cell_type": "markdown",
      "source": [
        "Environment installation and data download"
      ],
      "metadata": {
        "id": "blHR2OjyO5mg"
      }
    },
    {
      "cell_type": "code",
      "metadata": {
        "id": "9vacV4BIFI8l",
        "colab": {
          "base_uri": "https://localhost:8080/"
        },
        "outputId": "2a1e37f1-92d5-45a2-d3ba-e53babd20668"
      },
      "source": [
        "# !pip3 -qq install torch==1.1\n",
        "!pip -qq install nltk==3.8\n",
        "!pip -qq install gensim\n",
        "!pip -qq install bokeh==3.2.0\n",
        "\n",
        "!wget -O quora.zip -qq --no-check-certificate \"https://drive.google.com/uc?export=download&id=1ERtxpdWOgGQ3HOigqAMHTJjmOE_tWvoF\"\n",
        "!unzip -o quora.zip\n",
        "\n",
        "import nltk\n",
        "nltk.download('punkt')\n",
        "import time\n",
        "import math\n",
        "import numpy as np\n",
        "import matplotlib.pyplot as plt\n",
        "\n",
        "import torch\n",
        "import torch.autograd as autograd\n",
        "import torch.nn as nn\n",
        "import torch.nn.functional as F\n",
        "import torch.optim as optim\n",
        "\n",
        "from IPython.display import clear_output\n",
        "%matplotlib inline\n",
        "np.random.seed(42)\n",
        "\n",
        "import pandas as pd\n",
        "from nltk.tokenize import word_tokenize\n",
        "from tqdm import tqdm\n"
      ],
      "execution_count": 2,
      "outputs": [
        {
          "output_type": "stream",
          "name": "stdout",
          "text": [
            "\u001b[?25l   \u001b[90m━━━━━━━━━━━━━━━━━━━━━━━━━━━━━━━━━━━━━━━━\u001b[0m \u001b[32m0.0/1.5 MB\u001b[0m \u001b[31m?\u001b[0m eta \u001b[36m-:--:--\u001b[0m\r\u001b[2K   \u001b[91m━━\u001b[0m\u001b[91m╸\u001b[0m\u001b[90m━━━━━━━━━━━━━━━━━━━━━━━━━━━━━━━━━━━━━\u001b[0m \u001b[32m0.1/1.5 MB\u001b[0m \u001b[31m4.1 MB/s\u001b[0m eta \u001b[36m0:00:01\u001b[0m\r\u001b[2K   \u001b[91m━━━━━━━━━━━━\u001b[0m\u001b[91m╸\u001b[0m\u001b[90m━━━━━━━━━━━━━━━━━━━━━━━━━━━\u001b[0m \u001b[32m0.5/1.5 MB\u001b[0m \u001b[31m6.8 MB/s\u001b[0m eta \u001b[36m0:00:01\u001b[0m\r\u001b[2K   \u001b[91m━━━━━━━━━━━━━━━━━━━━━━━━━━━━━━━━━━━━━━━\u001b[0m\u001b[91m╸\u001b[0m \u001b[32m1.5/1.5 MB\u001b[0m \u001b[31m15.7 MB/s\u001b[0m eta \u001b[36m0:00:01\u001b[0m\r\u001b[2K   \u001b[90m━━━━━━━━━━━━━━━━━━━━━━━━━━━━━━━━━━━━━━━━\u001b[0m \u001b[32m1.5/1.5 MB\u001b[0m \u001b[31m13.0 MB/s\u001b[0m eta \u001b[36m0:00:00\u001b[0m\n",
            "\u001b[?25h\u001b[31mERROR: pip's dependency resolver does not currently take into account all the packages that are installed. This behaviour is the source of the following dependency conflicts.\n",
            "textblob 0.19.0 requires nltk>=3.9, but you have nltk 3.8 which is incompatible.\u001b[0m\u001b[31m\n",
            "\u001b[2K   \u001b[90m━━━━━━━━━━━━━━━━━━━━━━━━━━━━━━━━━━━━━━━━\u001b[0m \u001b[32m7.8/7.8 MB\u001b[0m \u001b[31m55.9 MB/s\u001b[0m eta \u001b[36m0:00:00\u001b[0m\n",
            "\u001b[?25h\u001b[31mERROR: pip's dependency resolver does not currently take into account all the packages that are installed. This behaviour is the source of the following dependency conflicts.\n",
            "panel 1.6.1 requires bokeh<3.7.0,>=3.5.0, but you have bokeh 3.2.0 which is incompatible.\u001b[0m\u001b[31m\n",
            "\u001b[0mArchive:  quora.zip\n",
            "  inflating: train.csv               \n"
          ]
        },
        {
          "output_type": "stream",
          "name": "stderr",
          "text": [
            "[nltk_data] Downloading package punkt to /root/nltk_data...\n",
            "[nltk_data]   Unzipping tokenizers/punkt.zip.\n"
          ]
        }
      ]
    },
    {
      "cell_type": "markdown",
      "source": [
        "1. Tokenize and lower-case texts."
      ],
      "metadata": {
        "id": "wgSYdy30O_UZ"
      }
    },
    {
      "cell_type": "code",
      "source": [
        "quora_data = pd.read_csv('train.csv')\n",
        "\n",
        "quora_data.question1 = quora_data.question1.replace(np.nan, '', regex=True)\n",
        "quora_data.question2 = quora_data.question2.replace(np.nan, '', regex=True)\n",
        "\n",
        "texts = list(pd.concat([quora_data.question1, quora_data.question2]).unique())\n",
        "texts = texts[:50000] # Accelerated operation\n",
        "print(len(texts))\n",
        "\n",
        "tokenized_texts = [word_tokenize(text.lower()) for text in tqdm(texts)]\n",
        "\n",
        "assert len(tokenized_texts) == len(texts)\n",
        "assert isinstance(tokenized_texts[0], list)\n",
        "assert isinstance(tokenized_texts[0][0], str)"
      ],
      "metadata": {
        "id": "t27TcJKJO-ry",
        "colab": {
          "base_uri": "https://localhost:8080/"
        },
        "outputId": "40d84ad5-e165-48fb-88e9-c715274bc15a"
      },
      "execution_count": 3,
      "outputs": [
        {
          "output_type": "stream",
          "name": "stdout",
          "text": [
            "50000\n"
          ]
        },
        {
          "output_type": "stream",
          "name": "stderr",
          "text": [
            "100%|██████████| 50000/50000 [00:10<00:00, 4984.21it/s]\n"
          ]
        }
      ]
    },
    {
      "cell_type": "code",
      "source": [
        "tokenized_texts[0]\n",
        "#texts[0:10]"
      ],
      "metadata": {
        "id": "C9K7y4mD2UK2",
        "colab": {
          "base_uri": "https://localhost:8080/"
        },
        "outputId": "eef91731-f600-453a-cfee-1e96fba5e017"
      },
      "execution_count": 4,
      "outputs": [
        {
          "output_type": "execute_result",
          "data": {
            "text/plain": [
              "['what',\n",
              " 'is',\n",
              " 'the',\n",
              " 'step',\n",
              " 'by',\n",
              " 'step',\n",
              " 'guide',\n",
              " 'to',\n",
              " 'invest',\n",
              " 'in',\n",
              " 'share',\n",
              " 'market',\n",
              " 'in',\n",
              " 'india',\n",
              " '?']"
            ]
          },
          "metadata": {},
          "execution_count": 4
        }
      ]
    },
    {
      "cell_type": "markdown",
      "metadata": {
        "id": "QYoj91iDDDfT"
      },
      "source": [
        "2. Collect the indices of the words:"
      ]
    },
    {
      "cell_type": "code",
      "metadata": {
        "id": "5PL471pGjuVN",
        "colab": {
          "base_uri": "https://localhost:8080/"
        },
        "outputId": "ee46e70f-df49-4760-f90f-b2ff7c11db4e"
      },
      "source": [
        "from collections import Counter\n",
        "\n",
        "MIN_COUNT = 5\n",
        "\n",
        "words_counter = Counter(token for tokens in tokenized_texts for token in tokens)\n",
        "word2index = {\n",
        "    '<unk>': 0# index2word[0]，标记符\n",
        "}\n",
        "\n",
        "#print(words_counter.most_common())\n",
        "for word, count in words_counter.most_common():\n",
        "    if count < MIN_COUNT:\n",
        "        break\n",
        "\n",
        "    word2index[word] = len(word2index)\n",
        "\n",
        "#print(word2index)\n",
        "index2word = [word for word, _ in sorted(word2index.items(), key=lambda x: x[1])]\n",
        "#print(index2word)# 词库转化成list，按出现次数由大到小排序\n",
        "\n",
        "#print('Vocabulary size:', len(index2word))\n",
        "print('Vocabulary size:', len(word2index))# 只统计出现次数>=5的word\n",
        "print('Tokens count:', sum(len(tokens) for tokens in tokenized_texts))# 语料库所有语句的总词数（也等于不同单词按出现次数的加权和）\n",
        "print('Unknown tokens appeared:', sum(1 for tokens in tokenized_texts for token in tokens if token not in word2index))# 出现次数<5的word总数\n",
        "print('Most freq words:', index2word[1:21])"
      ],
      "execution_count": 5,
      "outputs": [
        {
          "output_type": "stream",
          "name": "stdout",
          "text": [
            "Vocabulary size: 7226\n",
            "Tokens count: 623563\n",
            "Unknown tokens appeared: 35607\n",
            "Most freq words: ['?', 'the', 'what', 'is', 'how', 'i', 'a', 'to', 'in', 'do', 'of', 'are', 'and', 'can', 'for', ',', 'you', 'why', 'it', 'best']\n"
          ]
        }
      ]
    },
    {
      "cell_type": "markdown",
      "source": [
        "3. collect the context words\n",
        "\n",
        "First of all, we need to collect all the contexts from our corpus."
      ],
      "metadata": {
        "id": "jHEQOelqQwqP"
      }
    },
    {
      "cell_type": "code",
      "metadata": {
        "id": "ocrsXgaynYPG"
      },
      "source": [
        "def build_contexts(tokenized_texts, window_size):\n",
        "    contexts = []\n",
        "    for tokens in tokenized_texts:\n",
        "        for i in range(len(tokens)):\n",
        "            central_word = tokens[i]\n",
        "            context = [tokens[i + delta] for delta in range(-window_size, window_size + 1)\n",
        "                       if delta != 0 and i + delta >= 0 and i + delta < len(tokens)]\n",
        "\n",
        "            contexts.append((central_word, context))\n",
        "\n",
        "    return contexts\n",
        "\n",
        "contexts = build_contexts(tokenized_texts, window_size=2)"
      ],
      "execution_count": 6,
      "outputs": []
    },
    {
      "cell_type": "markdown",
      "metadata": {
        "id": "8o_ePiZ7wfpT"
      },
      "source": [
        "Check, what you got:"
      ]
    },
    {
      "cell_type": "code",
      "metadata": {
        "id": "KyQNK-9SBdb9",
        "colab": {
          "base_uri": "https://localhost:8080/"
        },
        "outputId": "b061dd99-1118-4dfc-8141-c2666d5c3c96"
      },
      "source": [
        "contexts[:20]\n",
        "# len=2 第一个词（只有后两个词）/最后一个词（或标点，只有前两个词）\n",
        "# len=3 第二个词（前1个词+后两个词）/倒数第二个词（前两个词+后1个词）\n",
        "# len=4 中间的词（前两个词+后两个词）"
      ],
      "execution_count": 7,
      "outputs": [
        {
          "output_type": "execute_result",
          "data": {
            "text/plain": [
              "[('what', ['is', 'the']),\n",
              " ('is', ['what', 'the', 'step']),\n",
              " ('the', ['what', 'is', 'step', 'by']),\n",
              " ('step', ['is', 'the', 'by', 'step']),\n",
              " ('by', ['the', 'step', 'step', 'guide']),\n",
              " ('step', ['step', 'by', 'guide', 'to']),\n",
              " ('guide', ['by', 'step', 'to', 'invest']),\n",
              " ('to', ['step', 'guide', 'invest', 'in']),\n",
              " ('invest', ['guide', 'to', 'in', 'share']),\n",
              " ('in', ['to', 'invest', 'share', 'market']),\n",
              " ('share', ['invest', 'in', 'market', 'in']),\n",
              " ('market', ['in', 'share', 'in', 'india']),\n",
              " ('in', ['share', 'market', 'india', '?']),\n",
              " ('india', ['market', 'in', '?']),\n",
              " ('?', ['in', 'india']),\n",
              " ('what', ['is', 'the']),\n",
              " ('is', ['what', 'the', 'story']),\n",
              " ('the', ['what', 'is', 'story', 'of']),\n",
              " ('story', ['is', 'the', 'of', 'kohinoor']),\n",
              " ('of', ['the', 'story', 'kohinoor', '('])]"
            ]
          },
          "metadata": {},
          "execution_count": 7
        }
      ]
    },
    {
      "cell_type": "markdown",
      "metadata": {
        "id": "pbQKln_6yC4l"
      },
      "source": [
        "4. Convert to indices\n",
        "\n",
        "Let's convert words to indices:"
      ]
    },
    {
      "cell_type": "code",
      "metadata": {
        "id": "hOPRlKlLvUBA",
        "colab": {
          "base_uri": "https://localhost:8080/"
        },
        "outputId": "a6167619-6ba4-494c-f917-1765f948afb0"
      },
      "source": [
        "contexts = [(word2index.get(central_word, 0), [word2index.get(word, 0) for word in context])\n",
        "            for central_word, context in contexts]\n",
        "contexts[:20]# 词转化成按词频生成的index"
      ],
      "execution_count": 8,
      "outputs": [
        {
          "output_type": "execute_result",
          "data": {
            "text/plain": [
              "[(3, [4, 2]),\n",
              " (4, [3, 2, 1310]),\n",
              " (2, [3, 4, 1310, 65]),\n",
              " (1310, [4, 2, 65, 1310]),\n",
              " (65, [2, 1310, 1310, 2105]),\n",
              " (1310, [1310, 65, 2105, 8]),\n",
              " (2105, [65, 1310, 8, 629]),\n",
              " (8, [1310, 2105, 629, 9]),\n",
              " (629, [2105, 8, 9, 696]),\n",
              " (9, [8, 629, 696, 399]),\n",
              " (696, [629, 9, 399, 9]),\n",
              " (399, [9, 696, 9, 39]),\n",
              " (9, [696, 399, 39, 1]),\n",
              " (39, [399, 9, 1]),\n",
              " (1, [9, 39]),\n",
              " (3, [4, 2]),\n",
              " (4, [3, 2, 537]),\n",
              " (2, [3, 4, 537, 11]),\n",
              " (537, [4, 2, 11, 0]),\n",
              " (11, [2, 537, 0, 41])]"
            ]
          },
          "metadata": {},
          "execution_count": 8
        }
      ]
    },
    {
      "cell_type": "markdown",
      "metadata": {
        "id": "XGfhLR6x8D3r"
      },
      "source": [
        "### **1.2 Continuous Bag of Words (CBoW) Word2vec**"
      ]
    },
    {
      "cell_type": "markdown",
      "metadata": {
        "id": "3UuVr2IsaYhX"
      },
      "source": [
        "We have learn skip-gram model in tutorial. Now, we will explore another popular Word2Vec paradigm called Continuous Bag of Words (CBoW). *CBoW* offers faster processing and slightly better accuracy for common words compared to the *Skip-Gram*, which is more effective with rare words.\n",
        "\n",
        "**CBoW Structure**\n",
        "\n",
        "Below is the CBoW model architecture:\n",
        "\n",
        "![](https://i.ibb.co/StXTMFH/CBOW.png)\n",
        "\n",
        "In CBoW, the goal is to predict a target word from its surrounding context, represented by the sum of context vectors.\n",
        "\n",
        "We will leverage our understanding from the *Skip-Gram* model to implement *CBoW*."
      ]
    },
    {
      "cell_type": "markdown",
      "source": [
        "1. **Batches Generations**\n",
        "**<font color=\"red\">[Task]</font>** : Implement the batch generator.\n",
        "\n",
        "**Hint**: The generator should produce a input matrix `(batch_size, 2 * window_size)` containing context word indices and a target matrix `(batch_size)` with central word indices."
      ],
      "metadata": {
        "id": "5ENsl-sbox1m"
      }
    },
    {
      "cell_type": "code",
      "metadata": {
        "id": "VNaP0uaU7T2-"
      },
      "source": [
        "def make_cbow_batches_iter(contexts, window_size, batch_size):\n",
        "\n",
        "    # 去掉首尾两词（window<4）和标识词（word_index=0）\n",
        "    central_words = np.array([word for word, context in contexts if len(context) == 2 * window_size and word != 0])\n",
        "    contexts = np.array([context for word, context in contexts if len(context) == 2 * window_size and word != 0])\n",
        "\n",
        "\n",
        "    batches_count = int(math.ceil(len(contexts) / batch_size))\n",
        "\n",
        "    print('Initializing batches generator with {} batches per epoch'.format(batches_count))\n",
        "\n",
        "    indices = np.arange(len(contexts))\n",
        "    np.random.shuffle(indices)\n",
        "\n",
        "    for i in range(batches_count):\n",
        "      batch_begin, batch_end = i * batch_size, min((i + 1) * batch_size, len(contexts))\n",
        "      batch_indices = indices[batch_begin: batch_end]\n",
        "\n",
        "      # Write your implementation here.\n",
        "      # Get batch data\n",
        "      batch_contexts = contexts[batch_indices]\n",
        "      batch_centrals = central_words[batch_indices]\n",
        "\n",
        "      # Convert to tensors and yield\n",
        "      # Returns a dictionary with 'tokens' (context words) and 'labels' (target words)\n",
        "      yield {\n",
        "        # Converts numpy arrays to PyTorch LongTensors\n",
        "        'tokens': torch.LongTensor(batch_contexts),\n",
        "        'labels': torch.LongTensor(batch_centrals)\n",
        "      }"
      ],
      "execution_count": 9,
      "outputs": []
    },
    {
      "cell_type": "markdown",
      "metadata": {
        "id": "wBF7xiik7ZaN"
      },
      "source": [
        "Check it:"
      ]
    },
    {
      "cell_type": "code",
      "metadata": {
        "id": "0IVrQl8S4L9j",
        "colab": {
          "base_uri": "https://localhost:8080/"
        },
        "outputId": "8cb9bb3c-c31e-4c3c-bcc6-b59ce590d6b4"
      },
      "source": [
        "window_size = 2\n",
        "batch_size = 32\n",
        "\n",
        "batch = next(make_cbow_batches_iter(contexts, window_size=window_size, batch_size=batch_size))\n",
        "#print(batch.items())\n",
        "assert isinstance(batch, dict)\n",
        "assert 'labels' in batch and 'tokens' in batch\n",
        "\n",
        "assert isinstance(batch['tokens'], torch.LongTensor)\n",
        "assert isinstance(batch['labels'], torch.LongTensor)\n",
        "\n",
        "assert batch['tokens'].shape == (batch_size, 2 * window_size)\n",
        "assert batch['labels'].shape == (batch_size,)"
      ],
      "execution_count": 10,
      "outputs": [
        {
          "output_type": "stream",
          "name": "stdout",
          "text": [
            "Initializing batches generator with 12380 batches per epoch\n"
          ]
        }
      ]
    },
    {
      "cell_type": "markdown",
      "metadata": {
        "id": "nbKbZ_4E7T3U"
      },
      "source": [
        "2. **Model**\n",
        "**<font color=\"red\">[Task]</font>**: Build the `CBoWModel`.\n",
        "\n",
        "**Hint**: You need to implement the `forward` method based on the CBoW architecture. The context embedding is represented as the average of their context embeddings."
      ]
    },
    {
      "cell_type": "code",
      "metadata": {
        "id": "Mkawxwe77T3V"
      },
      "source": [
        "class CBoWModel(nn.Module):\n",
        "    def __init__(self, vocab_size, embedding_dim):\n",
        "        super().__init__()\n",
        "        self.embeddings = nn.Embedding(vocab_size, embedding_dim)\n",
        "        self.out_layer = nn.Linear(embedding_dim, vocab_size)\n",
        "\n",
        "    def forward(self, inputs):\n",
        "        # Get embeddings for all context words\n",
        "        context_embeds = self.embeddings(inputs)  # Shape: [batch_size, 2*window, emb_dim]\n",
        "\n",
        "        # Average the context embeddings across the window dimension\n",
        "        avg_embeds = context_embeds.mean(dim=1)  # Shape: [batch_size, emb_dim]\n",
        "\n",
        "        # Generate output logits\n",
        "        logits = self.out_layer(avg_embeds)  # Shape: [batch_size, vocab_size]\n",
        "        return logits"
      ],
      "execution_count": 11,
      "outputs": []
    },
    {
      "cell_type": "markdown",
      "metadata": {
        "id": "DHhTDxya7a3S"
      },
      "source": [
        "Check it:"
      ]
    },
    {
      "cell_type": "code",
      "metadata": {
        "id": "nh_mNh__6lG2"
      },
      "source": [
        "model = CBoWModel(vocab_size=len(word2index), embedding_dim=32).cuda()\n",
        "\n",
        "outputs = model(batch['tokens'].cuda())\n",
        "\n",
        "assert isinstance(outputs, torch.cuda.FloatTensor)\n",
        "assert outputs.shape == (batch_size, len(word2index))"
      ],
      "execution_count": 12,
      "outputs": []
    },
    {
      "cell_type": "markdown",
      "metadata": {
        "id": "hmn56yki7T3a"
      },
      "source": [
        "3. **Training**\n",
        "**<font color=\"red\">[Task]</font>** : Train the CBoW.\n",
        "\n",
        "**Hint**: Consider referring to the training code of the previously mentioned *Skip-gram* model."
      ]
    },
    {
      "cell_type": "code",
      "metadata": {
        "id": "OzKLP9bs7T3b",
        "colab": {
          "base_uri": "https://localhost:8080/"
        },
        "outputId": "6dcdf284-9b35-4674-b0c7-9a9dfe1d79e8"
      },
      "source": [
        "# Here are the hyperparameters you can adjust\n",
        "embedding_dim = 32\n",
        "learning_rate = 0.001\n",
        "epoch_num = 20\n",
        "batch_size = 128\n",
        "\n",
        "# Initialization Model\n",
        "model = CBoWModel(len(word2index),embedding_dim)\n",
        "# Getting model to GPU\n",
        "model.cuda()\n",
        "# Define the loss function\n",
        "criterion = nn.CrossEntropyLoss()\n",
        "# use Adam optimizer\n",
        "optimizer = optim.Adam(model.parameters(), lr=learning_rate)\n",
        "\n",
        "loss_every_nsteps = 3000\n",
        "total_loss = 0\n",
        "start_time = time.time()\n",
        "global_step = 0\n",
        "\n",
        "for ep in range(epoch_num):\n",
        "  for step, batch in enumerate(make_cbow_batches_iter(contexts, window_size=2, batch_size=batch_size)):\n",
        "      global_step += 1\n",
        "\n",
        "      # Move batch to GPU\n",
        "      inputs = batch['tokens'].cuda()\n",
        "      labels = batch['labels'].cuda()\n",
        "      # 初始化gradient\n",
        "      optimizer.zero_grad()\n",
        "      # Forward pass\n",
        "      outputs = model(inputs)\n",
        "\n",
        "      # Calculate loss\n",
        "      loss = criterion(outputs, labels)\n",
        "\n",
        "      # Backward pass and optimize（做一次gradient descent）\n",
        "      loss.backward()\n",
        "      optimizer.step()\n",
        "\n",
        "      total_loss += loss.item()\n",
        "\n",
        "      if global_step != 0 and global_step % loss_every_nsteps == 0:\n",
        "          print(\"Epoch = {}, Step = {}, Avg Loss = {:.4f}, Time = {:.2f}s\".format(ep, step, total_loss / loss_every_nsteps,\n",
        "                                                                      time.time() - start_time))\n",
        "          total_loss = 0\n",
        "          start_time = time.time() # 平均4s/epoch"
      ],
      "execution_count": 16,
      "outputs": [
        {
          "output_type": "stream",
          "name": "stdout",
          "text": [
            "Initializing batches generator with 3095 batches per epoch\n",
            "Epoch = 0, Step = 2999, Avg Loss = 6.4792, Time = 4.28s\n",
            "Initializing batches generator with 3095 batches per epoch\n",
            "Epoch = 1, Step = 2904, Avg Loss = 5.5652, Time = 3.79s\n",
            "Initializing batches generator with 3095 batches per epoch\n",
            "Epoch = 2, Step = 2809, Avg Loss = 5.2524, Time = 3.94s\n",
            "Initializing batches generator with 3095 batches per epoch\n",
            "Epoch = 3, Step = 2714, Avg Loss = 5.0570, Time = 4.22s\n",
            "Initializing batches generator with 3095 batches per epoch\n",
            "Epoch = 4, Step = 2619, Avg Loss = 4.9147, Time = 3.81s\n",
            "Initializing batches generator with 3095 batches per epoch\n",
            "Epoch = 5, Step = 2524, Avg Loss = 4.8091, Time = 3.75s\n",
            "Initializing batches generator with 3095 batches per epoch\n",
            "Epoch = 6, Step = 2429, Avg Loss = 4.7171, Time = 4.20s\n",
            "Initializing batches generator with 3095 batches per epoch\n",
            "Epoch = 7, Step = 2334, Avg Loss = 4.6391, Time = 3.79s\n",
            "Initializing batches generator with 3095 batches per epoch\n",
            "Epoch = 8, Step = 2239, Avg Loss = 4.5762, Time = 4.64s\n",
            "Initializing batches generator with 3095 batches per epoch\n",
            "Epoch = 9, Step = 2144, Avg Loss = 4.5255, Time = 3.94s\n",
            "Initializing batches generator with 3095 batches per epoch\n",
            "Epoch = 10, Step = 2049, Avg Loss = 4.4706, Time = 3.76s\n",
            "Initializing batches generator with 3095 batches per epoch\n",
            "Epoch = 11, Step = 1954, Avg Loss = 4.4305, Time = 3.93s\n",
            "Initializing batches generator with 3095 batches per epoch\n",
            "Epoch = 12, Step = 1859, Avg Loss = 4.3839, Time = 4.07s\n",
            "Initializing batches generator with 3095 batches per epoch\n",
            "Epoch = 13, Step = 1764, Avg Loss = 4.3537, Time = 3.76s\n",
            "Initializing batches generator with 3095 batches per epoch\n",
            "Epoch = 14, Step = 1669, Avg Loss = 4.3104, Time = 3.88s\n",
            "Initializing batches generator with 3095 batches per epoch\n",
            "Epoch = 15, Step = 1574, Avg Loss = 4.2842, Time = 4.03s\n",
            "Initializing batches generator with 3095 batches per epoch\n",
            "Epoch = 16, Step = 1479, Avg Loss = 4.2546, Time = 3.75s\n",
            "Initializing batches generator with 3095 batches per epoch\n",
            "Epoch = 17, Step = 1384, Avg Loss = 4.2327, Time = 3.79s\n",
            "Initializing batches generator with 3095 batches per epoch\n",
            "Epoch = 18, Step = 1289, Avg Loss = 4.1957, Time = 4.12s\n",
            "Initializing batches generator with 3095 batches per epoch\n",
            "Epoch = 19, Step = 1194, Avg Loss = 4.1787, Time = 3.80s\n"
          ]
        }
      ]
    },
    {
      "cell_type": "markdown",
      "source": [
        "**Obtaining word embeddings**\n",
        "\n",
        "Word embeddings are contained within the embeddings layer of the model. We just need to move them from the GPU to the CPU and convert them to a numpy array."
      ],
      "metadata": {
        "id": "bcdVwk_gtiC8"
      }
    },
    {
      "cell_type": "code",
      "source": [
        "embeddings = model.embeddings.weight.data.cpu().numpy()\n"
      ],
      "metadata": {
        "id": "YRu-WeMbtivr"
      },
      "execution_count": 17,
      "outputs": []
    },
    {
      "cell_type": "markdown",
      "source": [
        "**Testing Trained Word Embeddings**"
      ],
      "metadata": {
        "id": "X-GyEW7s76-Q"
      }
    },
    {
      "cell_type": "markdown",
      "source": [
        "Let's check how adequate are similarities that the model learnt."
      ],
      "metadata": {
        "id": "AqRo0WHOtrpu"
      }
    },
    {
      "cell_type": "code",
      "source": [
        "from sklearn.metrics.pairwise import cosine_similarity\n",
        "\n",
        "def most_similar(embeddings, index2word, word2index, word):\n",
        "    word_emb = embeddings[word2index[word]]\n",
        "\n",
        "    similarities = cosine_similarity([word_emb], embeddings)[0]\n",
        "    top10 = np.argsort(similarities)[-10:]\n",
        "\n",
        "    return [index2word[index] for index in reversed(top10)]\n",
        "\n",
        "most_similar(embeddings, index2word, word2index, 'my')"
      ],
      "metadata": {
        "id": "mjZ4Ki8RtXZH",
        "colab": {
          "base_uri": "https://localhost:8080/"
        },
        "outputId": "59653b92-b671-4e22-f3f5-93f34b6bd053"
      },
      "execution_count": 18,
      "outputs": [
        {
          "output_type": "execute_result",
          "data": {
            "text/plain": [
              "['my',\n",
              " 'your',\n",
              " 'his',\n",
              " 'her',\n",
              " 'pages',\n",
              " 'our',\n",
              " 'their',\n",
              " '360',\n",
              " 'john',\n",
              " 'increases']"
            ]
          },
          "metadata": {},
          "execution_count": 18
        }
      ]
    },
    {
      "cell_type": "markdown",
      "metadata": {
        "id": "HQW4PBdF96xC"
      },
      "source": [
        "**Visualization of our embeddings**"
      ]
    },
    {
      "cell_type": "code",
      "source": [
        "import bokeh.models as bm, bokeh.plotting as pl\n",
        "from bokeh.io import output_notebook\n",
        "\n",
        "from sklearn.manifold import TSNE\n",
        "from sklearn.preprocessing import scale\n",
        "\n",
        "\n",
        "def draw_vectors(x, y, radius=10, alpha=0.25, color='blue',\n",
        "                 width=600, height=400, show=True, **kwargs):\n",
        "    \"\"\" draws an interactive plot for data points with auxilirary info on hover \"\"\"\n",
        "    output_notebook()\n",
        "\n",
        "    if isinstance(color, str):\n",
        "        color = [color] * len(x)\n",
        "    data_source = bm.ColumnDataSource({ 'x' : x, 'y' : y, 'color': color, **kwargs })\n",
        "\n",
        "    fig = pl.figure(active_scroll='wheel_zoom', width=width, height=height)\n",
        "    fig.scatter('x', 'y', size=radius, color='color', alpha=alpha, source=data_source)\n",
        "\n",
        "    fig.add_tools(bm.HoverTool(tooltips=[(key, \"@\" + key) for key in kwargs.keys()]))\n",
        "    if show:\n",
        "        pl.show(fig)\n",
        "    return fig\n",
        "\n",
        "\n",
        "def get_tsne_projection(word_vectors):\n",
        "    tsne = TSNE(n_components=2, verbose=1)\n",
        "    return scale(tsne.fit_transform(word_vectors))\n",
        "\n",
        "\n",
        "def visualize_embeddings(embeddings, index2word, word_count):\n",
        "    word_vectors = embeddings[1: word_count + 1]\n",
        "    words = index2word[1: word_count + 1]\n",
        "\n",
        "    word_tsne = get_tsne_projection(word_vectors)\n",
        "    draw_vectors(word_tsne[:, 0], word_tsne[:, 1], color='blue', token=words)\n",
        "\n",
        "\n",
        "visualize_embeddings(embeddings, index2word, 100)"
      ],
      "metadata": {
        "id": "5utoAUjltQZ6",
        "colab": {
          "base_uri": "https://localhost:8080/",
          "height": 628
        },
        "outputId": "b5db62d5-9386-4633-8366-1d74ff5b26d6"
      },
      "execution_count": 20,
      "outputs": [
        {
          "output_type": "stream",
          "name": "stdout",
          "text": [
            "[t-SNE] Computing 91 nearest neighbors...\n",
            "[t-SNE] Indexed 100 samples in 0.000s...\n",
            "[t-SNE] Computed neighbors for 100 samples in 0.003s...\n",
            "[t-SNE] Computed conditional probabilities for sample 100 / 100\n",
            "[t-SNE] Mean sigma: 5.118707\n",
            "[t-SNE] KL divergence after 250 iterations with early exaggeration: 66.809059\n",
            "[t-SNE] KL divergence after 950 iterations: 0.496958\n"
          ]
        },
        {
          "output_type": "stream",
          "name": "stderr",
          "text": [
            "/usr/local/lib/python3.11/dist-packages/sklearn/preprocessing/_data.py:258: UserWarning: Numerical issues were encountered when centering the data and might not be solved. Dataset may contain too large values. You may need to prescale your features.\n",
            "  warnings.warn(\n",
            "/usr/local/lib/python3.11/dist-packages/sklearn/preprocessing/_data.py:277: UserWarning: Numerical issues were encountered when scaling the data and might not be solved. The standard deviation of the data is probably very close to 0. \n",
            "  warnings.warn(\n"
          ]
        },
        {
          "output_type": "display_data",
          "data": {
            "application/javascript": [
              "(function(root) {\n",
              "  function now() {\n",
              "    return new Date();\n",
              "  }\n",
              "\n",
              "  const force = true;\n",
              "\n",
              "  if (typeof root._bokeh_onload_callbacks === \"undefined\" || force === true) {\n",
              "    root._bokeh_onload_callbacks = [];\n",
              "    root._bokeh_is_loading = undefined;\n",
              "  }\n",
              "\n",
              "const JS_MIME_TYPE = 'application/javascript';\n",
              "  const HTML_MIME_TYPE = 'text/html';\n",
              "  const EXEC_MIME_TYPE = 'application/vnd.bokehjs_exec.v0+json';\n",
              "  const CLASS_NAME = 'output_bokeh rendered_html';\n",
              "\n",
              "  /**\n",
              "   * Render data to the DOM node\n",
              "   */\n",
              "  function render(props, node) {\n",
              "    const script = document.createElement(\"script\");\n",
              "    node.appendChild(script);\n",
              "  }\n",
              "\n",
              "  /**\n",
              "   * Handle when an output is cleared or removed\n",
              "   */\n",
              "  function handleClearOutput(event, handle) {\n",
              "    const cell = handle.cell;\n",
              "\n",
              "    const id = cell.output_area._bokeh_element_id;\n",
              "    const server_id = cell.output_area._bokeh_server_id;\n",
              "    // Clean up Bokeh references\n",
              "    if (id != null && id in Bokeh.index) {\n",
              "      Bokeh.index[id].model.document.clear();\n",
              "      delete Bokeh.index[id];\n",
              "    }\n",
              "\n",
              "    if (server_id !== undefined) {\n",
              "      // Clean up Bokeh references\n",
              "      const cmd_clean = \"from bokeh.io.state import curstate; print(curstate().uuid_to_server['\" + server_id + \"'].get_sessions()[0].document.roots[0]._id)\";\n",
              "      cell.notebook.kernel.execute(cmd_clean, {\n",
              "        iopub: {\n",
              "          output: function(msg) {\n",
              "            const id = msg.content.text.trim();\n",
              "            if (id in Bokeh.index) {\n",
              "              Bokeh.index[id].model.document.clear();\n",
              "              delete Bokeh.index[id];\n",
              "            }\n",
              "          }\n",
              "        }\n",
              "      });\n",
              "      // Destroy server and session\n",
              "      const cmd_destroy = \"import bokeh.io.notebook as ion; ion.destroy_server('\" + server_id + \"')\";\n",
              "      cell.notebook.kernel.execute(cmd_destroy);\n",
              "    }\n",
              "  }\n",
              "\n",
              "  /**\n",
              "   * Handle when a new output is added\n",
              "   */\n",
              "  function handleAddOutput(event, handle) {\n",
              "    const output_area = handle.output_area;\n",
              "    const output = handle.output;\n",
              "\n",
              "    // limit handleAddOutput to display_data with EXEC_MIME_TYPE content only\n",
              "    if ((output.output_type != \"display_data\") || (!Object.prototype.hasOwnProperty.call(output.data, EXEC_MIME_TYPE))) {\n",
              "      return\n",
              "    }\n",
              "\n",
              "    const toinsert = output_area.element.find(\".\" + CLASS_NAME.split(' ')[0]);\n",
              "\n",
              "    if (output.metadata[EXEC_MIME_TYPE][\"id\"] !== undefined) {\n",
              "      toinsert[toinsert.length - 1].firstChild.textContent = output.data[JS_MIME_TYPE];\n",
              "      // store reference to embed id on output_area\n",
              "      output_area._bokeh_element_id = output.metadata[EXEC_MIME_TYPE][\"id\"];\n",
              "    }\n",
              "    if (output.metadata[EXEC_MIME_TYPE][\"server_id\"] !== undefined) {\n",
              "      const bk_div = document.createElement(\"div\");\n",
              "      bk_div.innerHTML = output.data[HTML_MIME_TYPE];\n",
              "      const script_attrs = bk_div.children[0].attributes;\n",
              "      for (let i = 0; i < script_attrs.length; i++) {\n",
              "        toinsert[toinsert.length - 1].firstChild.setAttribute(script_attrs[i].name, script_attrs[i].value);\n",
              "        toinsert[toinsert.length - 1].firstChild.textContent = bk_div.children[0].textContent\n",
              "      }\n",
              "      // store reference to server id on output_area\n",
              "      output_area._bokeh_server_id = output.metadata[EXEC_MIME_TYPE][\"server_id\"];\n",
              "    }\n",
              "  }\n",
              "\n",
              "  function register_renderer(events, OutputArea) {\n",
              "\n",
              "    function append_mime(data, metadata, element) {\n",
              "      // create a DOM node to render to\n",
              "      const toinsert = this.create_output_subarea(\n",
              "        metadata,\n",
              "        CLASS_NAME,\n",
              "        EXEC_MIME_TYPE\n",
              "      );\n",
              "      this.keyboard_manager.register_events(toinsert);\n",
              "      // Render to node\n",
              "      const props = {data: data, metadata: metadata[EXEC_MIME_TYPE]};\n",
              "      render(props, toinsert[toinsert.length - 1]);\n",
              "      element.append(toinsert);\n",
              "      return toinsert\n",
              "    }\n",
              "\n",
              "    /* Handle when an output is cleared or removed */\n",
              "    events.on('clear_output.CodeCell', handleClearOutput);\n",
              "    events.on('delete.Cell', handleClearOutput);\n",
              "\n",
              "    /* Handle when a new output is added */\n",
              "    events.on('output_added.OutputArea', handleAddOutput);\n",
              "\n",
              "    /**\n",
              "     * Register the mime type and append_mime function with output_area\n",
              "     */\n",
              "    OutputArea.prototype.register_mime_type(EXEC_MIME_TYPE, append_mime, {\n",
              "      /* Is output safe? */\n",
              "      safe: true,\n",
              "      /* Index of renderer in `output_area.display_order` */\n",
              "      index: 0\n",
              "    });\n",
              "  }\n",
              "\n",
              "  // register the mime type if in Jupyter Notebook environment and previously unregistered\n",
              "  if (root.Jupyter !== undefined) {\n",
              "    const events = require('base/js/events');\n",
              "    const OutputArea = require('notebook/js/outputarea').OutputArea;\n",
              "\n",
              "    if (OutputArea.prototype.mime_types().indexOf(EXEC_MIME_TYPE) == -1) {\n",
              "      register_renderer(events, OutputArea);\n",
              "    }\n",
              "  }\n",
              "  if (typeof (root._bokeh_timeout) === \"undefined\" || force === true) {\n",
              "    root._bokeh_timeout = Date.now() + 5000;\n",
              "    root._bokeh_failed_load = false;\n",
              "  }\n",
              "\n",
              "  const NB_LOAD_WARNING = {'data': {'text/html':\n",
              "     \"<div style='background-color: #fdd'>\\n\"+\n",
              "     \"<p>\\n\"+\n",
              "     \"BokehJS does not appear to have successfully loaded. If loading BokehJS from CDN, this \\n\"+\n",
              "     \"may be due to a slow or bad network connection. Possible fixes:\\n\"+\n",
              "     \"</p>\\n\"+\n",
              "     \"<ul>\\n\"+\n",
              "     \"<li>re-rerun `output_notebook()` to attempt to load from CDN again, or</li>\\n\"+\n",
              "     \"<li>use INLINE resources instead, as so:</li>\\n\"+\n",
              "     \"</ul>\\n\"+\n",
              "     \"<code>\\n\"+\n",
              "     \"from bokeh.resources import INLINE\\n\"+\n",
              "     \"output_notebook(resources=INLINE)\\n\"+\n",
              "     \"</code>\\n\"+\n",
              "     \"</div>\"}};\n",
              "\n",
              "  function display_loaded() {\n",
              "    const el = document.getElementById(null);\n",
              "    if (el != null) {\n",
              "      el.textContent = \"BokehJS is loading...\";\n",
              "    }\n",
              "    if (root.Bokeh !== undefined) {\n",
              "      if (el != null) {\n",
              "        el.textContent = \"BokehJS \" + root.Bokeh.version + \" successfully loaded.\";\n",
              "      }\n",
              "    } else if (Date.now() < root._bokeh_timeout) {\n",
              "      setTimeout(display_loaded, 100)\n",
              "    }\n",
              "  }\n",
              "\n",
              "  function run_callbacks() {\n",
              "    try {\n",
              "      root._bokeh_onload_callbacks.forEach(function(callback) {\n",
              "        if (callback != null)\n",
              "          callback();\n",
              "      });\n",
              "    } finally {\n",
              "      delete root._bokeh_onload_callbacks\n",
              "    }\n",
              "    console.debug(\"Bokeh: all callbacks have finished\");\n",
              "  }\n",
              "\n",
              "  function load_libs(css_urls, js_urls, callback) {\n",
              "    if (css_urls == null) css_urls = [];\n",
              "    if (js_urls == null) js_urls = [];\n",
              "\n",
              "    root._bokeh_onload_callbacks.push(callback);\n",
              "    if (root._bokeh_is_loading > 0) {\n",
              "      console.debug(\"Bokeh: BokehJS is being loaded, scheduling callback at\", now());\n",
              "      return null;\n",
              "    }\n",
              "    if (js_urls == null || js_urls.length === 0) {\n",
              "      run_callbacks();\n",
              "      return null;\n",
              "    }\n",
              "    console.debug(\"Bokeh: BokehJS not loaded, scheduling load and callback at\", now());\n",
              "    root._bokeh_is_loading = css_urls.length + js_urls.length;\n",
              "\n",
              "    function on_load() {\n",
              "      root._bokeh_is_loading--;\n",
              "      if (root._bokeh_is_loading === 0) {\n",
              "        console.debug(\"Bokeh: all BokehJS libraries/stylesheets loaded\");\n",
              "        run_callbacks()\n",
              "      }\n",
              "    }\n",
              "\n",
              "    function on_error(url) {\n",
              "      console.error(\"failed to load \" + url);\n",
              "    }\n",
              "\n",
              "    for (let i = 0; i < css_urls.length; i++) {\n",
              "      const url = css_urls[i];\n",
              "      const element = document.createElement(\"link\");\n",
              "      element.onload = on_load;\n",
              "      element.onerror = on_error.bind(null, url);\n",
              "      element.rel = \"stylesheet\";\n",
              "      element.type = \"text/css\";\n",
              "      element.href = url;\n",
              "      console.debug(\"Bokeh: injecting link tag for BokehJS stylesheet: \", url);\n",
              "      document.body.appendChild(element);\n",
              "    }\n",
              "\n",
              "    for (let i = 0; i < js_urls.length; i++) {\n",
              "      const url = js_urls[i];\n",
              "      const element = document.createElement('script');\n",
              "      element.onload = on_load;\n",
              "      element.onerror = on_error.bind(null, url);\n",
              "      element.async = false;\n",
              "      element.src = url;\n",
              "      console.debug(\"Bokeh: injecting script tag for BokehJS library: \", url);\n",
              "      document.head.appendChild(element);\n",
              "    }\n",
              "  };\n",
              "\n",
              "  function inject_raw_css(css) {\n",
              "    const element = document.createElement(\"style\");\n",
              "    element.appendChild(document.createTextNode(css));\n",
              "    document.body.appendChild(element);\n",
              "  }\n",
              "\n",
              "  const js_urls = [\"https://cdn.bokeh.org/bokeh/release/bokeh-3.2.0.min.js\", \"https://cdn.bokeh.org/bokeh/release/bokeh-gl-3.2.0.min.js\", \"https://cdn.bokeh.org/bokeh/release/bokeh-widgets-3.2.0.min.js\", \"https://cdn.bokeh.org/bokeh/release/bokeh-tables-3.2.0.min.js\", \"https://cdn.bokeh.org/bokeh/release/bokeh-mathjax-3.2.0.min.js\"];\n",
              "  const css_urls = [];\n",
              "\n",
              "  const inline_js = [    function(Bokeh) {\n",
              "      Bokeh.set_log_level(\"info\");\n",
              "    },\n",
              "function(Bokeh) {\n",
              "    }\n",
              "  ];\n",
              "\n",
              "  function run_inline_js() {\n",
              "    if (root.Bokeh !== undefined || force === true) {\n",
              "          for (let i = 0; i < inline_js.length; i++) {\n",
              "      inline_js[i].call(root, root.Bokeh);\n",
              "    }\n",
              "} else if (Date.now() < root._bokeh_timeout) {\n",
              "      setTimeout(run_inline_js, 100);\n",
              "    } else if (!root._bokeh_failed_load) {\n",
              "      console.log(\"Bokeh: BokehJS failed to load within specified timeout.\");\n",
              "      root._bokeh_failed_load = true;\n",
              "    } else if (force !== true) {\n",
              "      const cell = $(document.getElementById(null)).parents('.cell').data().cell;\n",
              "      cell.output_area.append_execute_result(NB_LOAD_WARNING)\n",
              "    }\n",
              "  }\n",
              "\n",
              "  if (root._bokeh_is_loading === 0) {\n",
              "    console.debug(\"Bokeh: BokehJS loaded, going straight to plotting\");\n",
              "    run_inline_js();\n",
              "  } else {\n",
              "    load_libs(css_urls, js_urls, function() {\n",
              "      console.debug(\"Bokeh: BokehJS plotting callback run at\", now());\n",
              "      run_inline_js();\n",
              "    });\n",
              "  }\n",
              "}(window));"
            ],
            "application/vnd.bokehjs_load.v0+json": "(function(root) {\n  function now() {\n    return new Date();\n  }\n\n  const force = true;\n\n  if (typeof root._bokeh_onload_callbacks === \"undefined\" || force === true) {\n    root._bokeh_onload_callbacks = [];\n    root._bokeh_is_loading = undefined;\n  }\n\n\n  if (typeof (root._bokeh_timeout) === \"undefined\" || force === true) {\n    root._bokeh_timeout = Date.now() + 5000;\n    root._bokeh_failed_load = false;\n  }\n\n  const NB_LOAD_WARNING = {'data': {'text/html':\n     \"<div style='background-color: #fdd'>\\n\"+\n     \"<p>\\n\"+\n     \"BokehJS does not appear to have successfully loaded. If loading BokehJS from CDN, this \\n\"+\n     \"may be due to a slow or bad network connection. Possible fixes:\\n\"+\n     \"</p>\\n\"+\n     \"<ul>\\n\"+\n     \"<li>re-rerun `output_notebook()` to attempt to load from CDN again, or</li>\\n\"+\n     \"<li>use INLINE resources instead, as so:</li>\\n\"+\n     \"</ul>\\n\"+\n     \"<code>\\n\"+\n     \"from bokeh.resources import INLINE\\n\"+\n     \"output_notebook(resources=INLINE)\\n\"+\n     \"</code>\\n\"+\n     \"</div>\"}};\n\n  function display_loaded() {\n    const el = document.getElementById(null);\n    if (el != null) {\n      el.textContent = \"BokehJS is loading...\";\n    }\n    if (root.Bokeh !== undefined) {\n      if (el != null) {\n        el.textContent = \"BokehJS \" + root.Bokeh.version + \" successfully loaded.\";\n      }\n    } else if (Date.now() < root._bokeh_timeout) {\n      setTimeout(display_loaded, 100)\n    }\n  }\n\n  function run_callbacks() {\n    try {\n      root._bokeh_onload_callbacks.forEach(function(callback) {\n        if (callback != null)\n          callback();\n      });\n    } finally {\n      delete root._bokeh_onload_callbacks\n    }\n    console.debug(\"Bokeh: all callbacks have finished\");\n  }\n\n  function load_libs(css_urls, js_urls, callback) {\n    if (css_urls == null) css_urls = [];\n    if (js_urls == null) js_urls = [];\n\n    root._bokeh_onload_callbacks.push(callback);\n    if (root._bokeh_is_loading > 0) {\n      console.debug(\"Bokeh: BokehJS is being loaded, scheduling callback at\", now());\n      return null;\n    }\n    if (js_urls == null || js_urls.length === 0) {\n      run_callbacks();\n      return null;\n    }\n    console.debug(\"Bokeh: BokehJS not loaded, scheduling load and callback at\", now());\n    root._bokeh_is_loading = css_urls.length + js_urls.length;\n\n    function on_load() {\n      root._bokeh_is_loading--;\n      if (root._bokeh_is_loading === 0) {\n        console.debug(\"Bokeh: all BokehJS libraries/stylesheets loaded\");\n        run_callbacks()\n      }\n    }\n\n    function on_error(url) {\n      console.error(\"failed to load \" + url);\n    }\n\n    for (let i = 0; i < css_urls.length; i++) {\n      const url = css_urls[i];\n      const element = document.createElement(\"link\");\n      element.onload = on_load;\n      element.onerror = on_error.bind(null, url);\n      element.rel = \"stylesheet\";\n      element.type = \"text/css\";\n      element.href = url;\n      console.debug(\"Bokeh: injecting link tag for BokehJS stylesheet: \", url);\n      document.body.appendChild(element);\n    }\n\n    for (let i = 0; i < js_urls.length; i++) {\n      const url = js_urls[i];\n      const element = document.createElement('script');\n      element.onload = on_load;\n      element.onerror = on_error.bind(null, url);\n      element.async = false;\n      element.src = url;\n      console.debug(\"Bokeh: injecting script tag for BokehJS library: \", url);\n      document.head.appendChild(element);\n    }\n  };\n\n  function inject_raw_css(css) {\n    const element = document.createElement(\"style\");\n    element.appendChild(document.createTextNode(css));\n    document.body.appendChild(element);\n  }\n\n  const js_urls = [\"https://cdn.bokeh.org/bokeh/release/bokeh-3.2.0.min.js\", \"https://cdn.bokeh.org/bokeh/release/bokeh-gl-3.2.0.min.js\", \"https://cdn.bokeh.org/bokeh/release/bokeh-widgets-3.2.0.min.js\", \"https://cdn.bokeh.org/bokeh/release/bokeh-tables-3.2.0.min.js\", \"https://cdn.bokeh.org/bokeh/release/bokeh-mathjax-3.2.0.min.js\"];\n  const css_urls = [];\n\n  const inline_js = [    function(Bokeh) {\n      Bokeh.set_log_level(\"info\");\n    },\nfunction(Bokeh) {\n    }\n  ];\n\n  function run_inline_js() {\n    if (root.Bokeh !== undefined || force === true) {\n          for (let i = 0; i < inline_js.length; i++) {\n      inline_js[i].call(root, root.Bokeh);\n    }\n} else if (Date.now() < root._bokeh_timeout) {\n      setTimeout(run_inline_js, 100);\n    } else if (!root._bokeh_failed_load) {\n      console.log(\"Bokeh: BokehJS failed to load within specified timeout.\");\n      root._bokeh_failed_load = true;\n    } else if (force !== true) {\n      const cell = $(document.getElementById(null)).parents('.cell').data().cell;\n      cell.output_area.append_execute_result(NB_LOAD_WARNING)\n    }\n  }\n\n  if (root._bokeh_is_loading === 0) {\n    console.debug(\"Bokeh: BokehJS loaded, going straight to plotting\");\n    run_inline_js();\n  } else {\n    load_libs(css_urls, js_urls, function() {\n      console.debug(\"Bokeh: BokehJS plotting callback run at\", now());\n      run_inline_js();\n    });\n  }\n}(window));"
          },
          "metadata": {}
        },
        {
          "output_type": "display_data",
          "data": {
            "text/html": [
              "\n",
              "  <div id=\"a6b59266-6013-4dbe-8d92-c95ed8748b0f\" data-root-id=\"p1047\" style=\"display: contents;\"></div>\n"
            ]
          },
          "metadata": {}
        },
        {
          "output_type": "display_data",
          "data": {
            "application/javascript": [
              "(function(root) {\n",
              "  function embed_document(root) {\n",
              "  const docs_json = {\"61195cfa-3f47-4f64-b6af-408e12a33784\":{\"version\":\"3.2.0\",\"title\":\"Bokeh Application\",\"roots\":[{\"type\":\"object\",\"name\":\"Figure\",\"id\":\"p1047\",\"attributes\":{\"height\":400,\"x_range\":{\"type\":\"object\",\"name\":\"DataRange1d\",\"id\":\"p1048\"},\"y_range\":{\"type\":\"object\",\"name\":\"DataRange1d\",\"id\":\"p1049\"},\"x_scale\":{\"type\":\"object\",\"name\":\"LinearScale\",\"id\":\"p1056\"},\"y_scale\":{\"type\":\"object\",\"name\":\"LinearScale\",\"id\":\"p1057\"},\"title\":{\"type\":\"object\",\"name\":\"Title\",\"id\":\"p1054\"},\"renderers\":[{\"type\":\"object\",\"name\":\"GlyphRenderer\",\"id\":\"p1081\",\"attributes\":{\"data_source\":{\"type\":\"object\",\"name\":\"ColumnDataSource\",\"id\":\"p1044\",\"attributes\":{\"selected\":{\"type\":\"object\",\"name\":\"Selection\",\"id\":\"p1045\",\"attributes\":{\"indices\":[],\"line_indices\":[]}},\"selection_policy\":{\"type\":\"object\",\"name\":\"UnionRenderers\",\"id\":\"p1046\"},\"data\":{\"type\":\"map\",\"entries\":[[\"x\",{\"type\":\"ndarray\",\"array\":{\"type\":\"bytes\",\"data\":\"Yk1mv+KoEj8L4sG/QdMcP+SqvL+cNUi/+OyTPzI8vD9V1Qk/KaMaQNPzkj4M09C9LOt+vlcVBEBdDzw/9IBsvzHzb7+3mOG/5w7SvZHWLD8C9Oo/CeEIQDkNSD8QHEq+bC18vlgNr7zQ+Iq+iNmovvV4Hz7GAVk/aXwrPwHsM71pLHW/WaADQCZkn74V8p8/6YYEPynS5z8bh5e+XvcfvzK70j2qGAm+9NDiPDqU/b5MSOo+09iUv/bH/D+L2A2/XZb5PwfyxL+bMn8/c9x1vsh9cj+PkR0/LLnuvjhrVb8T3IW/PzoAPj3rCUBYrwU/wrVfv817t7+2JBM/E2xqPw4i8z7KAE2+N0+svkTha78wH48+XtiAv99wB7/Tf+s+NfaBv9twq78fx4m/vHtIvbwi+z4JuIG/MkI4v4i5dz70AeI/ex3hvobH9b9Yf+S/A12Pv79Gib1+I1W/oc+TPqrmET8OTsG/kM57vrfnvb5Rs+A+hAS6viB30763WIY+V3uNPx08A7/HqFO/FfVkvw==\"},\"shape\":[100],\"dtype\":\"float32\",\"order\":\"little\"}],[\"y\",{\"type\":\"ndarray\",\"array\":{\"type\":\"bytes\",\"data\":\"68MXP9bplb/SkKa94JTmP2d4dzxNL/6/dvyYv5AFnb4h69k+REZ6vhsZkj9jTAJAKFbLPhqaQz1m6Is9KS31Po/R7b/F9yy+eHqevyeV8r8435E/P8DhvhPHjz4lhLc+unS/vlSpBL5djcw/xsCOPwJK1T7Ghwa/hyvaPxyNwr61QQs/fmMPPvOYsj8oJ6C/daQkP/gvjT/fvnG/i87su0RcGj84nb6+3V0FvojZdD7NO0w+ZpHJv9/zkr3SDxi/QkymvUS1O7+v6VU/5g2cPs0ImL6a50++qZkDO0+RHb/waka/IVtHv66thL4/jda/QZDxv5KZQT1Is90/iKeKvzvGhT4fEF4/CGMKwAc9I77XZiA+e5n1v9muob9XIki/ytb2Pqd7zT9Zuam/DQNyvyNczj+TOXw/ciOYP239hb8p5oU/r8JuP0us7j796fQ+a2Cov12k0r9SgMw/kh+avmoXcj9HD3E/cu+dP9soHD88q0A/r2TAP3LKe7+94h+/NHD4PkR0kT/c5eq+Ei3dvg==\"},\"shape\":[100],\"dtype\":\"float32\",\"order\":\"little\"}],[\"color\",[\"blue\",\"blue\",\"blue\",\"blue\",\"blue\",\"blue\",\"blue\",\"blue\",\"blue\",\"blue\",\"blue\",\"blue\",\"blue\",\"blue\",\"blue\",\"blue\",\"blue\",\"blue\",\"blue\",\"blue\",\"blue\",\"blue\",\"blue\",\"blue\",\"blue\",\"blue\",\"blue\",\"blue\",\"blue\",\"blue\",\"blue\",\"blue\",\"blue\",\"blue\",\"blue\",\"blue\",\"blue\",\"blue\",\"blue\",\"blue\",\"blue\",\"blue\",\"blue\",\"blue\",\"blue\",\"blue\",\"blue\",\"blue\",\"blue\",\"blue\",\"blue\",\"blue\",\"blue\",\"blue\",\"blue\",\"blue\",\"blue\",\"blue\",\"blue\",\"blue\",\"blue\",\"blue\",\"blue\",\"blue\",\"blue\",\"blue\",\"blue\",\"blue\",\"blue\",\"blue\",\"blue\",\"blue\",\"blue\",\"blue\",\"blue\",\"blue\",\"blue\",\"blue\",\"blue\",\"blue\",\"blue\",\"blue\",\"blue\",\"blue\",\"blue\",\"blue\",\"blue\",\"blue\",\"blue\",\"blue\",\"blue\",\"blue\",\"blue\",\"blue\",\"blue\",\"blue\",\"blue\",\"blue\",\"blue\",\"blue\"]],[\"token\",[\"?\",\"the\",\"what\",\"is\",\"how\",\"i\",\"a\",\"to\",\"in\",\"do\",\"of\",\"are\",\"and\",\"can\",\"for\",\",\",\"you\",\"why\",\"it\",\"best\",\"my\",\"does\",\"on\",\"or\",\"which\",\"if\",\"be\",\"have\",\"with\",\"some\",\"'s\",\"that\",\".\",\"should\",\"get\",\"an\",\"from\",\"your\",\"india\",\")\",\"(\",\"who\",\"when\",\"like\",\"at\",\"people\",\"will\",\"good\",\"would\",\"there\",\"between\",\"as\",\"about\",\"``\",\"''\",\"not\",\"n't\",\"one\",\"did\",\"most\",\"we\",\"where\",\"was\",\"any\",\"by\",\"make\",\"way\",\"so\",\"after\",\"they\",\"quora\",\"life\",\":\",\"difference\",\"me\",\"this\",\"has\",\"know\",\"learn\",\"time\",\"their\",\"use\",\"many\",\"much\",\"someone\",\"money\",\"am\",\"all\",\"new\",\"think\",\"find\",\"work\",\"without\",\"become\",\"indian\",\"ever\",\"than\",\"start\",\"more\",\"better\"]]]}}},\"view\":{\"type\":\"object\",\"name\":\"CDSView\",\"id\":\"p1082\",\"attributes\":{\"filter\":{\"type\":\"object\",\"name\":\"AllIndices\",\"id\":\"p1083\"}}},\"glyph\":{\"type\":\"object\",\"name\":\"Scatter\",\"id\":\"p1078\",\"attributes\":{\"x\":{\"type\":\"field\",\"field\":\"x\"},\"y\":{\"type\":\"field\",\"field\":\"y\"},\"size\":{\"type\":\"value\",\"value\":10},\"line_color\":{\"type\":\"field\",\"field\":\"color\"},\"line_alpha\":{\"type\":\"value\",\"value\":0.25},\"fill_color\":{\"type\":\"field\",\"field\":\"color\"},\"fill_alpha\":{\"type\":\"value\",\"value\":0.25},\"hatch_color\":{\"type\":\"field\",\"field\":\"color\"},\"hatch_alpha\":{\"type\":\"value\",\"value\":0.25}}},\"nonselection_glyph\":{\"type\":\"object\",\"name\":\"Scatter\",\"id\":\"p1079\",\"attributes\":{\"x\":{\"type\":\"field\",\"field\":\"x\"},\"y\":{\"type\":\"field\",\"field\":\"y\"},\"size\":{\"type\":\"value\",\"value\":10},\"line_color\":{\"type\":\"field\",\"field\":\"color\"},\"line_alpha\":{\"type\":\"value\",\"value\":0.1},\"fill_color\":{\"type\":\"field\",\"field\":\"color\"},\"fill_alpha\":{\"type\":\"value\",\"value\":0.1},\"hatch_color\":{\"type\":\"field\",\"field\":\"color\"},\"hatch_alpha\":{\"type\":\"value\",\"value\":0.1}}},\"muted_glyph\":{\"type\":\"object\",\"name\":\"Scatter\",\"id\":\"p1080\",\"attributes\":{\"x\":{\"type\":\"field\",\"field\":\"x\"},\"y\":{\"type\":\"field\",\"field\":\"y\"},\"size\":{\"type\":\"value\",\"value\":10},\"line_color\":{\"type\":\"field\",\"field\":\"color\"},\"line_alpha\":{\"type\":\"value\",\"value\":0.2},\"fill_color\":{\"type\":\"field\",\"field\":\"color\"},\"fill_alpha\":{\"type\":\"value\",\"value\":0.2},\"hatch_color\":{\"type\":\"field\",\"field\":\"color\"},\"hatch_alpha\":{\"type\":\"value\",\"value\":0.2}}}}}],\"toolbar\":{\"type\":\"object\",\"name\":\"Toolbar\",\"id\":\"p1055\",\"attributes\":{\"tools\":[{\"type\":\"object\",\"name\":\"PanTool\",\"id\":\"p1068\"},{\"type\":\"object\",\"name\":\"WheelZoomTool\",\"id\":\"p1069\"},{\"type\":\"object\",\"name\":\"BoxZoomTool\",\"id\":\"p1070\",\"attributes\":{\"overlay\":{\"type\":\"object\",\"name\":\"BoxAnnotation\",\"id\":\"p1071\",\"attributes\":{\"syncable\":false,\"level\":\"overlay\",\"visible\":false,\"left_units\":\"canvas\",\"right_units\":\"canvas\",\"bottom_units\":\"canvas\",\"top_units\":\"canvas\",\"line_color\":\"black\",\"line_alpha\":1.0,\"line_width\":2,\"line_dash\":[4,4],\"fill_color\":\"lightgrey\",\"fill_alpha\":0.5}}}},{\"type\":\"object\",\"name\":\"SaveTool\",\"id\":\"p1072\"},{\"type\":\"object\",\"name\":\"ResetTool\",\"id\":\"p1073\"},{\"type\":\"object\",\"name\":\"HelpTool\",\"id\":\"p1074\"},{\"type\":\"object\",\"name\":\"HoverTool\",\"id\":\"p1084\",\"attributes\":{\"renderers\":\"auto\",\"tooltips\":[[\"token\",\"@token\"]]}}],\"active_scroll\":{\"id\":\"p1069\"}}},\"left\":[{\"type\":\"object\",\"name\":\"LinearAxis\",\"id\":\"p1063\",\"attributes\":{\"ticker\":{\"type\":\"object\",\"name\":\"BasicTicker\",\"id\":\"p1064\",\"attributes\":{\"mantissas\":[1,2,5]}},\"formatter\":{\"type\":\"object\",\"name\":\"BasicTickFormatter\",\"id\":\"p1065\"},\"major_label_policy\":{\"type\":\"object\",\"name\":\"AllLabels\",\"id\":\"p1066\"}}}],\"below\":[{\"type\":\"object\",\"name\":\"LinearAxis\",\"id\":\"p1058\",\"attributes\":{\"ticker\":{\"type\":\"object\",\"name\":\"BasicTicker\",\"id\":\"p1059\",\"attributes\":{\"mantissas\":[1,2,5]}},\"formatter\":{\"type\":\"object\",\"name\":\"BasicTickFormatter\",\"id\":\"p1060\"},\"major_label_policy\":{\"type\":\"object\",\"name\":\"AllLabels\",\"id\":\"p1061\"}}}],\"center\":[{\"type\":\"object\",\"name\":\"Grid\",\"id\":\"p1062\",\"attributes\":{\"axis\":{\"id\":\"p1058\"}}},{\"type\":\"object\",\"name\":\"Grid\",\"id\":\"p1067\",\"attributes\":{\"dimension\":1,\"axis\":{\"id\":\"p1063\"}}}]}}]}};\n",
              "  const render_items = [{\"docid\":\"61195cfa-3f47-4f64-b6af-408e12a33784\",\"roots\":{\"p1047\":\"a6b59266-6013-4dbe-8d92-c95ed8748b0f\"},\"root_ids\":[\"p1047\"]}];\n",
              "  root.Bokeh.embed.embed_items_notebook(docs_json, render_items);\n",
              "  }\n",
              "  if (root.Bokeh !== undefined) {\n",
              "    embed_document(root);\n",
              "  } else {\n",
              "    let attempts = 0;\n",
              "    const timer = setInterval(function(root) {\n",
              "      if (root.Bokeh !== undefined) {\n",
              "        clearInterval(timer);\n",
              "        embed_document(root);\n",
              "      } else {\n",
              "        attempts++;\n",
              "        if (attempts > 100) {\n",
              "          clearInterval(timer);\n",
              "          console.log(\"Bokeh: ERROR: Unable to run BokehJS code because BokehJS library is missing\");\n",
              "        }\n",
              "      }\n",
              "    }, 10, root)\n",
              "  }\n",
              "})(window);"
            ],
            "application/vnd.bokehjs_exec.v0+json": ""
          },
          "metadata": {
            "application/vnd.bokehjs_exec.v0+json": {
              "id": "p1047"
            }
          }
        }
      ]
    },
    {
      "cell_type": "markdown",
      "source": [
        "## Task 2： Explore Word Embeddings with Word2Vec\n",
        "In this task, we shall explore the embeddings produced by word2vec. Please revisit the lecture slides or tutorials for more details on the word2vec algorithm. If you're feeling adventurous, challenge yourself and try reading the original [paper](https://proceedings.neurips.cc/paper_files/paper/2013/file/9aa42b31882ec039965f3c4923ce901b-Paper.pdf).\n",
        "\n",
        "Then run the following cells to load the word2vec vectors into memory. **Note**: This might take several minutes."
      ],
      "metadata": {
        "id": "dkidM73PdLva"
      }
    },
    {
      "cell_type": "code",
      "source": [
        "def load_word2vec():\n",
        "    \"\"\" Load GloVe Twitter Vectors\n",
        "        Return:\n",
        "            wv_from_bin: Pre-trained embeddings with 25 dimensions for 1.2M vocabulary.\n",
        "    \"\"\"\n",
        "    import gensim.downloader as api\n",
        "    wv_from_bin = api.load(\"glove-twitter-25\")\n",
        "    vocab = list(wv_from_bin.key_to_index.keys())  # Updated for Gensim 4.x\n",
        "    print(\"Loaded vocab size %i\" % len(vocab))\n",
        "    return wv_from_bin"
      ],
      "metadata": {
        "id": "GI3v_EcWf9nW"
      },
      "execution_count": 21,
      "outputs": []
    },
    {
      "cell_type": "code",
      "source": [
        "# -----------------------------------\n",
        "# Run Cell to Load Word Vectors\n",
        "# Note: This may take several minutes\n",
        "# -----------------------------------\n",
        "# 加载用时45s\n",
        "wv_from_bin = load_word2vec()"
      ],
      "metadata": {
        "id": "9n7coG7kgHwU",
        "colab": {
          "base_uri": "https://localhost:8080/"
        },
        "outputId": "5a5edd58-8814-4d81-be39-d3ea877baa59"
      },
      "execution_count": 22,
      "outputs": [
        {
          "output_type": "stream",
          "name": "stdout",
          "text": [
            "[==================================================] 100.0% 104.8/104.8MB downloaded\n",
            "Loaded vocab size 1193514\n"
          ]
        }
      ]
    },
    {
      "cell_type": "markdown",
      "source": [
        "\n",
        "**Reducing dimensionality of Word2Vec Word Embeddings**\n",
        "\n",
        "Let's directly compare the word2vec embeddings to those of the co-occurrence matrix. Run the following cells to:\n",
        "\n",
        "- Put the 1.2 million word2vec vectors into a matrix M\n",
        "- Run reduce_to_k_dim (your Truncated SVD function) to reduce the vectors from 25-dimensional to 2-dimensional.\n",
        "\n"
      ],
      "metadata": {
        "id": "N3ONN2P8z9yA"
      }
    },
    {
      "cell_type": "code",
      "source": [
        "def get_matrix_of_vectors(wv_from_bin, required_words=['barrels', 'bpd', 'ecuador', 'energy', 'industry', 'kuwait', 'oil', 'output', 'petroleum', 'venezuela']):\n",
        "    \"\"\" Put the word2vec vectors into a matrix M.\n",
        "        Param:\n",
        "            wv_from_bin: KeyedVectors object; the 1.2 million word2vec vectors loaded from file\n",
        "        Return:\n",
        "            M: numpy matrix shape (num words, 300) containing the vectors\n",
        "            word2Ind: dictionary mapping each word to its row number in M\n",
        "    \"\"\"\n",
        "    import random\n",
        "    words = list(wv_from_bin.key_to_index.keys())\n",
        "    print(\"Shuffling words ...\")\n",
        "    random.shuffle(words)\n",
        "    words = words[:10000]\n",
        "    print(\"Putting %i words into word2Ind and matrix M...\" % len(words))\n",
        "    word2Ind = {}\n",
        "    M = []\n",
        "    curInd = 0\n",
        "    for w in words:\n",
        "        try:\n",
        "            M.append(wv_from_bin.word_vec(w))\n",
        "            word2Ind[w] = curInd\n",
        "            curInd += 1\n",
        "        except KeyError:\n",
        "            continue\n",
        "    for w in required_words:\n",
        "        try:\n",
        "            M.append(wv_from_bin.word_vec(w))\n",
        "            word2Ind[w] = curInd\n",
        "            curInd += 1\n",
        "        except KeyError:\n",
        "            continue\n",
        "    M = np.stack(M)\n",
        "    print(\"Done.\")\n",
        "    return M, word2Ind"
      ],
      "metadata": {
        "id": "Cmx7pKhhh1Qj"
      },
      "execution_count": 23,
      "outputs": []
    },
    {
      "cell_type": "markdown",
      "source": [
        "**Implement reduce_to_k_dim**\n",
        "\n",
        "Construct a method that performs dimensionality reduction on the matrix to produce k-dimensional embeddings. Use SVD to take the top k components and produce a new matrix of k-dimensional embeddings.\n",
        "\n",
        "Note: All of numpy, scipy, and scikit-learn (sklearn) provide some implementation of SVD, but only scipy and sklearn provide an implementation of Truncated SVD, and only sklearn provides an efficient randomized algorithm for calculating large-scale Truncated SVD. So please use [sklearn.decomposition.TruncatedSVD](https://scikit-learn.org/stable/modules/generated/sklearn.decomposition.TruncatedSVD.html).\n",
        "\n",
        "**<font color=\"red\">[Task]</font>**: Complete reduce_to_k_dim function"
      ],
      "metadata": {
        "id": "NwG7p3MepE6P"
      }
    },
    {
      "cell_type": "code",
      "source": [
        "from sklearn.decomposition import TruncatedSVD\n",
        "\n",
        "def reduce_to_k_dim(M, k=2):\n",
        "    \"\"\" Reduce a co-occurence count matrix of dimensionality (num_corpus_words, num_corpus_words)\n",
        "        to a matrix of dimensionality (num_corpus_words, k) using the following SVD function from Scikit-Learn:\n",
        "            - http://scikit-learn.org/stable/modules/generated/sklearn.decomposition.TruncatedSVD.html\n",
        "\n",
        "        Params:\n",
        "            M (numpy matrix of shape (number of corpus words, number of corpus words)): co-occurence matrix of word counts\n",
        "            k (int): embedding size of each word after dimension reduction\n",
        "        Return:\n",
        "            M_reduced (numpy matrix of shape (number of corpus words, k)): matrix of k-dimensioal word embeddings.\n",
        "                    In terms of the SVD from math class, this actually returns U * S\n",
        "    \"\"\"\n",
        "    n_iters = 10     # Use this parameter in your call to `TruncatedSVD`\n",
        "    M_reduced = None\n",
        "    print(\"Running Truncated SVD over %i words...\" % (M.shape[0]))\n",
        "\n",
        "    # Write your implementation here.\n",
        "    # Initialize Truncated SVD\n",
        "    svd = TruncatedSVD(n_components=k, n_iter=n_iters, random_state=42)\n",
        "\n",
        "    # Apply dimensionality reduction\n",
        "    M_reduced = svd.fit_transform(M)\n",
        "\n",
        "    print(\"Done.\")\n",
        "    return M_reduced"
      ],
      "metadata": {
        "id": "ggHnG5EcidGm"
      },
      "execution_count": 24,
      "outputs": []
    },
    {
      "cell_type": "code",
      "source": [
        "# -----------------------------------------------------------------\n",
        "# Run Cell to Reduce 25-Dimensinal Word Embeddings to k Dimensions\n",
        "# Note: This may take several minutes\n",
        "# -----------------------------------------------------------------\n",
        "M, word2Ind = get_matrix_of_vectors(wv_from_bin)\n",
        "M_reduced = reduce_to_k_dim(M, k=2)"
      ],
      "metadata": {
        "id": "hDG1rO_wh2zP",
        "colab": {
          "base_uri": "https://localhost:8080/"
        },
        "outputId": "fe1772a9-daa7-42a4-bb16-437b8f7ec202"
      },
      "execution_count": 26,
      "outputs": [
        {
          "output_type": "stream",
          "name": "stdout",
          "text": [
            "Shuffling words ...\n",
            "Putting 10000 words into word2Ind and matrix M...\n",
            "Done.\n",
            "Running Truncated SVD over 10010 words...\n"
          ]
        },
        {
          "output_type": "stream",
          "name": "stderr",
          "text": [
            "<ipython-input-23-380a110fcb9c>:20: DeprecationWarning: Call to deprecated `word_vec` (Use get_vector instead).\n",
            "  M.append(wv_from_bin.word_vec(w))\n",
            "<ipython-input-23-380a110fcb9c>:27: DeprecationWarning: Call to deprecated `word_vec` (Use get_vector instead).\n",
            "  M.append(wv_from_bin.word_vec(w))\n"
          ]
        },
        {
          "output_type": "stream",
          "name": "stdout",
          "text": [
            "Done.\n"
          ]
        }
      ]
    },
    {
      "cell_type": "markdown",
      "source": [
        "**Here is a helper function to plot a set of 2D vectors in 2D space. For graphs, we will use Matplotlib (plt).**"
      ],
      "metadata": {
        "id": "_0fGsfm-oZG7"
      }
    },
    {
      "cell_type": "code",
      "source": [
        "import matplotlib.pyplot as plt\n",
        "\n",
        "def plot_embeddings(M_reduced, word2Ind, words):\n",
        "    \"\"\" Plot in a scatterplot the embeddings of the words specified in the list \"words\".\n",
        "        Include a label next to each point.\n",
        "\n",
        "        Params:\n",
        "            M_reduced (numpy matrix of shape (number of unique words in the corpus, k)): matrix of k-dimensional word embeddings\n",
        "            word2Ind (dict): dictionary that maps word to indices for matrix M\n",
        "            words (list of strings): words whose embeddings we want to visualize\n",
        "    \"\"\"\n",
        "    plt.figure(figsize=(10, 10))\n",
        "    for word in words:\n",
        "        if word in word2Ind:\n",
        "            idx = word2Ind[word]\n",
        "            x, y = M_reduced[idx, 0], M_reduced[idx, 1]\n",
        "            plt.scatter(x, y, marker='o', color='blue')\n",
        "            plt.text(x + 0.02, y + 0.02, word, fontsize=9)\n",
        "        else:\n",
        "            print(f\"Word '{word}' not found in word2Ind dictionary.\")\n",
        "\n",
        "    plt.title(\"Word Embeddings Visualization\")\n",
        "    plt.xlabel(\"Dimension 1\")\n",
        "    plt.ylabel(\"Dimension 2\")\n",
        "    plt.grid(True)\n",
        "    plt.show()"
      ],
      "metadata": {
        "id": "bMXt_-QPn0C0"
      },
      "execution_count": 28,
      "outputs": []
    },
    {
      "cell_type": "markdown",
      "source": [
        "### 2.1: Word2Vec Plot Analysis\n",
        "Run the cell below to plot the 2D word2vec embeddings for ['barrels', 'bpd', 'ecuador', 'energy', 'industry', 'kuwait', 'oil', 'output', 'petroleum', 'venezuela'].\n",
        "\n",
        "What clusters together in 2-dimensional embedding space? What doesn't cluster together that you might think should have? How is the plot different from the one generated earlier from the co-occurrence matrix?"
      ],
      "metadata": {
        "id": "wBbtacQhorHe"
      }
    },
    {
      "cell_type": "code",
      "source": [
        "words = ['barrels', 'bpd', 'ecuador', 'energy', 'industry', 'kuwait', 'oil', 'output', 'petroleum', 'venezuela']\n",
        "plot_embeddings(M_reduced, word2Ind, words)"
      ],
      "metadata": {
        "id": "usSSq_x3llW6",
        "colab": {
          "base_uri": "https://localhost:8080/",
          "height": 892
        },
        "outputId": "e0a74f98-c29b-4bc7-ef0f-cae9ffe64d20"
      },
      "execution_count": 29,
      "outputs": [
        {
          "output_type": "display_data",
          "data": {
            "text/plain": [
              "<Figure size 1000x1000 with 1 Axes>"
            ],
            "image/png": "[encoded data removed]"
          },
          "metadata": {}
        }
      ]
    },
    {
      "cell_type": "markdown",
      "source": [
        "**<font color=\"red\">[Task]</font>**:\n",
        "\n",
        "**Cluster**:\n",
        "1. 'barrels', 'petroleum', 'bpd' (barrels per day), and 'output' cluster tightly, reflecting their semantic connection to crude oil production.\n",
        "2. 'kuwait', 'venezuela', and 'ecuador' form a geographical cluster, representing their shared role as major oil exporters.\n",
        "\n",
        "**Not cluster**:\n",
        "'petroleum' and 'oil' might be expected to overlap completely as synonyms.\n",
        "\n",
        "**Comparison to Co-Occurrence Matrix Visualization**:\n",
        "The Word2Vec plot groups words by semantic similarity (for example, oil-producing nations), while co-occurrence matrices often emphasize syntactic co-occurrence (for example, \"oil\" + \"barrels\" in phrases).\n",
        "\n"
      ],
      "metadata": {
        "id": "Swps7Nsqo0Q5"
      }
    },
    {
      "cell_type": "markdown",
      "source": [
        "### 2.2 Polysemous Words\n",
        "Find a [polysemous](https://en.wikipedia.org/wiki/Polysemy) word (for example, \"leaves\" or \"scoop\") such that the top-10 most similar words (according to cosine similarity) contains related words from both meanings. For example, \"leaves\" has both \"turns\" and \"ground\" in the top 10, and \"scoop\" has both \"buckets\" and \"pops\". You will probably need to try several polysemous words before you find one. Please state the polysemous word you discover and the multiple meanings that occur in the top 10. Why do you think many of the polysemous words you tried didn't work?\n",
        "\n",
        "Note: You should use the wv_from_bin.most_similar(word) function to get the top 10 similar words. This function ranks all other words in the vocabulary with respect to their cosine similarity to the given word. For further assistance please check the GenSim [documentation](https://radimrehurek.com/gensim/models/keyedvectors.html#gensim.models.keyedvectors.FastTextKeyedVectors.most_similar)."
      ],
      "metadata": {
        "id": "3mbzLnAwdOth"
      }
    },
    {
      "cell_type": "code",
      "source": [
        "# Polysemous word exploration\n",
        "\n",
        "def find_polysemous(polysemous_word):\n",
        "  similar_words = wv_from_bin.most_similar(polysemous_word)\n",
        "  print(f\"Top 10 similar words for '{polysemous_word}':\")\n",
        "  print([word for word, sim in similar_words])\n",
        "  return\n",
        "\n",
        "potential_wordset = [\"bank\",\"chair\",\"check\",\"kind\",\"light\",\"novel\",\"patient\"]\n",
        "for word in potential_wordset:\n",
        "  print(\"word: \", word)\n",
        "  find_polysemous(word)\n",
        "  print()\n",
        "\n"
      ],
      "metadata": {
        "id": "f1pUnbtZq-ST",
        "colab": {
          "base_uri": "https://localhost:8080/"
        },
        "outputId": "401c05db-b630-4725-b2fd-40c025f8e1dc"
      },
      "execution_count": 31,
      "outputs": [
        {
          "output_type": "stream",
          "name": "stdout",
          "text": [
            "word:  bank\n",
            "Top 10 similar words for 'bank':\n",
            "['unit', 'service', 'office', 'reg', 'program', 'company', 'open', 'target', 'bp', 'private']\n",
            "\n",
            "word:  chair\n",
            "Top 10 similar words for 'chair':\n",
            "['desk', 'floor', 'window', 'shoulder', 'front', 'bathroom', 'seat', 'wall', 'ceiling', 'roof']\n",
            "\n",
            "word:  check\n",
            "Top 10 similar words for 'check':\n",
            "['free', 'new', 'post', 'special', 'open', 'line', 'list', 'id', 'out', 'best']\n",
            "\n",
            "word:  kind\n",
            "Top 10 similar words for 'kind':\n",
            "['word', 'such', 'is', 'even', 'odd', 'thing', 'made', 'perfect', 'rare', 'exactly']\n",
            "\n",
            "word:  light\n",
            "Top 10 similar words for 'light':\n",
            "['dark', 'deep', 'cross', 'sun', 'heavy', 'clear', 'shadow', 'edge', 'inside', 'side']\n",
            "\n",
            "word:  novel\n",
            "Top 10 similar words for 'novel':\n",
            "['diary', 'comic', 'edit', 'judul', 'majalah', 'lagu', 'script', 'copy', 'film', 'theme']\n",
            "\n",
            "word:  patient\n",
            "Top 10 similar words for 'patient':\n",
            "['responsible', 'pleasure', 'seeking', 'opportunity', 'self', 'positive', 'presence', 'reputation', 'privilege', 'temporary']\n",
            "\n"
          ]
        }
      ]
    },
    {
      "cell_type": "markdown",
      "source": [
        "**<font color=\"red\">[Task]</font>**:\n",
        "\n",
        "**polysemous_word**:\n",
        "'light':\n",
        "1. meaning of **weight**: 'heavy'\n",
        "2. meaning of **brightness**: 'sun'\n",
        "3. meaning of **thickness**: 'deep'\n",
        "\n",
        "Many of the polysemous words **didn't work**:\n",
        "1. Most polysemous words have a statistically dominant meaning in training corpora. (\"bank\" predominantly relates to financial institutions in Twitter data).\n",
        "2. Some meanings share contextual associations ('bat' in sports and zoology both appear with 'night' or 'wing', since\n",
        "'wing' is also a polysemous word)."
      ],
      "metadata": {
        "id": "EIiwx3NLrHnV"
      }
    },
    {
      "cell_type": "markdown",
      "source": [
        "### 2.3: Synonyms & Antonyms\n",
        "\n",
        "When considering Cosine Similarity, it's often more convenient to think of Cosine Distance, which is simply 1 - Cosine Similarity.\n",
        "\n",
        "Find three words (w1,w2,w3) where w1 and w2 are synonyms and w1 and w3 are antonyms, but Cosine Distance(w1,w3) < Cosine Distance(w1,w2). For example, w1=\"happy\" is closer to w3=\"sad\" than to w2=\"cheerful\".\n",
        "\n",
        "Once you have found your example, please give a possible explanation for why this counter-intuitive result may have happened.\n",
        "\n",
        "You should use the the wv_from_bin.distance(w1, w2) function here in order to compute the cosine distance between two words. Please see the GenSim documentation for further assistance.\n"
      ],
      "metadata": {
        "id": "k8vhD0k0dQ-z"
      }
    },
    {
      "cell_type": "code",
      "source": [
        "def distance_exploration(w1, w2, w3):\n",
        "  w1_w2_dist = wv_from_bin.distance(w1, w2)\n",
        "  w1_w3_dist = wv_from_bin.distance(w1, w3)\n",
        "  w2_w3_dist = wv_from_bin.distance(w2, w3)\n",
        "  print(\"Synonyms {}, {} have cosine distance: {}\".format(w1, w2, w1_w2_dist))\n",
        "  print(\"Antonyms {}, {} have cosine distance: {}\".format(w1, w3, w1_w3_dist))\n",
        "  print(\"Antonyms {}, {} have cosine distance: {}\".format(w2, w3, w2_w3_dist))\n",
        "  print()\n",
        "  return\n",
        "\n",
        "# Test\n",
        "print(wv_from_bin.distance(\"be\", \"be\"))\n",
        "print(wv_from_bin.distance(\"bat\", \"tablet\"))\n",
        "print()\n",
        "# Example 1\n",
        "distance_exploration(\"light\", \"bright\", \"dark\")\n",
        "# Example 2\n",
        "distance_exploration(\"high\", \"tall\", \"low\")\n",
        "# Example 3\n",
        "distance_exploration(\"big\", \"large\", \"small\")\n",
        "# Example 4\n",
        "distance_exploration(\"fast\", \"quick\", \"slow\")\n",
        "# Example 5\n",
        "distance_exploration(\"rich\", \"wealthy\", \"poor\")"
      ],
      "metadata": {
        "id": "Wli3CumGs50-",
        "colab": {
          "base_uri": "https://localhost:8080/"
        },
        "outputId": "7ba3f75c-2503-4f39-dccc-4f2d5fc8fcc2"
      },
      "execution_count": 73,
      "outputs": [
        {
          "output_type": "stream",
          "name": "stdout",
          "text": [
            "0.0\n",
            "0.7222889065742493\n",
            "\n",
            "Synonyms light, bright have cosine distance: 0.10691648721694946\n",
            "Antonyms light, dark have cosine distance: 0.078238844871521\n",
            "Antonyms bright, dark have cosine distance: 0.1149187684059143\n",
            "\n",
            "Synonyms high, tall have cosine distance: 0.21945339441299438\n",
            "Antonyms high, low have cosine distance: 0.1244133710861206\n",
            "Antonyms tall, low have cosine distance: 0.29470646381378174\n",
            "\n",
            "Synonyms big, large have cosine distance: 0.2832111120223999\n",
            "Antonyms big, small have cosine distance: 0.142084002494812\n",
            "Antonyms large, small have cosine distance: 0.10240131616592407\n",
            "\n",
            "Synonyms fast, quick have cosine distance: 0.11719149351119995\n",
            "Antonyms fast, slow have cosine distance: 0.19635289907455444\n",
            "Antonyms quick, slow have cosine distance: 0.16050982475280762\n",
            "\n",
            "Synonyms rich, wealthy have cosine distance: 0.1948477029800415\n",
            "Antonyms rich, poor have cosine distance: 0.20605862140655518\n",
            "Antonyms wealthy, poor have cosine distance: 0.3631433844566345\n",
            "\n"
          ]
        }
      ]
    },
    {
      "cell_type": "markdown",
      "source": [
        "**<font color=\"red\">[Task]</font>**:\n",
        "\n",
        "For example, w1=\"big\" is closer to w3=\"small\" than to w2=\"large\".\n",
        "\n",
        "**Possible explanation**:\n",
        "The model learns antonym pairs through their symmetrical usage patterns (e.g., \"not big but small\", \"large or small\"), making their vectors develop parallel directional relationships."
      ],
      "metadata": {
        "id": "gZV7c7_4s9Is"
      }
    },
    {
      "cell_type": "markdown",
      "metadata": {
        "id": "l4G2X-TTpzwz"
      },
      "source": [
        "## Task 3: Utilize Word Embeddings\n",
        "\n",
        "Guess, you've seen such pictures already:  \n",
        "\n",
        "![Embeddings Relations](https://www.tensorflow.org/images/linear-relationships.png)\n",
        "*Source: [Tensorflow tutorial on Vector Representations of Words](https://www.tensorflow.org/tutorials/representation/word2vec)*\n",
        "\n",
        "In the first image, we observe the intricate relationships encoded within the word embeddings space. This encompasses various dimensions like gender differences (male-female) or verb tenses.\n",
        "\n",
        "**Interactive Exploration**\n",
        "\n",
        "To delve deeper and interactively explore these relationships, check out these resources:\n",
        "- [Word Vector Demo](http://bionlp-www.utu.fi/wv_demo/)\n",
        "- [Word2Viz](https://lamyiowce.github.io/word2viz/)\n",
        "\n",
        "These tools offer a playful yet insightful experience, allowing you to grasp the nuances and capabilities of word embeddings.\n",
        "\n",
        "**Our task point**\n",
        "\n",
        "Our focus will be on utilizing [gensim](https://radimrehurek.com/gensim/), a well-regarded Python library for word embeddings. Gensim makes it effortless to work with and leverage the power of word embeddings in various applications.\n"
      ]
    },
    {
      "cell_type": "markdown",
      "source": [
        "### **3.1 Use Pretrained Embeddings**\n",
        "Base on gensim, we can easily use a well-pretrained embeddings model. There are a number of such models in <font color=\"blue\">gensim</font>, you can call `api.info()` to get the list."
      ],
      "metadata": {
        "id": "KIvBhh71WIeS"
      }
    },
    {
      "cell_type": "code",
      "metadata": {
        "id": "OEazfh1s9eki"
      },
      "source": [
        "import gensim.downloader as api\n",
        "\n",
        "model = api.load('glove-twitter-25')"
      ],
      "execution_count": 36,
      "outputs": []
    },
    {
      "cell_type": "markdown",
      "source": [
        "**use word embedidngs with gensim**\n",
        "\n",
        "Yay, we have loaded well-built word embedings models, now let's learn how to use it.\n",
        "\n",
        "1. To get word's vector, well, call `get_vector`:"
      ],
      "metadata": {
        "id": "HPQxqjIGZxt_"
      }
    },
    {
      "cell_type": "code",
      "source": [
        "model.vector_size"
      ],
      "metadata": {
        "id": "kcvojKwVRooA",
        "outputId": "cc80b5c5-94cd-4282-da02-9465e2635ee0",
        "colab": {
          "base_uri": "https://localhost:8080/"
        }
      },
      "execution_count": 56,
      "outputs": [
        {
          "output_type": "execute_result",
          "data": {
            "text/plain": [
              "25"
            ]
          },
          "metadata": {},
          "execution_count": 56
        }
      ]
    },
    {
      "cell_type": "code",
      "metadata": {
        "id": "4uF6iF6A9uGQ",
        "colab": {
          "base_uri": "https://localhost:8080/"
        },
        "outputId": "9b66fffd-cff4-4657-de15-d346f31b7165"
      },
      "source": [
        "model.get_vector('anything')"
      ],
      "execution_count": 37,
      "outputs": [
        {
          "output_type": "execute_result",
          "data": {
            "text/plain": [
              "array([ 0.47841 ,  0.39537 , -0.3216  ,  0.58639 , -0.48316 ,  0.11402 ,\n",
              "        1.3829  , -0.86081 , -0.81769 , -0.075026, -0.77716 ,  0.58212 ,\n",
              "       -5.2756  , -0.54024 ,  0.39019 ,  0.3941  ,  0.32682 , -0.7274  ,\n",
              "        0.49747 , -0.88427 , -0.062516,  0.035716, -0.28677 ,  0.64153 ,\n",
              "       -0.574   ], dtype=float32)"
            ]
          },
          "metadata": {},
          "execution_count": 37
        }
      ]
    },
    {
      "cell_type": "markdown",
      "source": [
        "2. To get most similar words for the given one :"
      ],
      "metadata": {
        "id": "DiXwAZTsaHCf"
      }
    },
    {
      "cell_type": "code",
      "source": [
        "model.most_similar('bread')"
      ],
      "metadata": {
        "id": "57uH83XZaI6p",
        "colab": {
          "base_uri": "https://localhost:8080/"
        },
        "outputId": "e34e259c-177e-4768-e35d-900af9c26d6c"
      },
      "execution_count": 38,
      "outputs": [
        {
          "output_type": "execute_result",
          "data": {
            "text/plain": [
              "[('meat', 0.9616428017616272),\n",
              " ('corn', 0.9610626101493835),\n",
              " ('cheese', 0.9532765746116638),\n",
              " ('noodles', 0.9493104815483093),\n",
              " ('soup', 0.9440537691116333),\n",
              " ('egg', 0.9418217539787292),\n",
              " ('milk', 0.941437304019928),\n",
              " ('chicken', 0.9398934841156006),\n",
              " ('beans', 0.9390753507614136),\n",
              " ('toast', 0.936586856842041)]"
            ]
          },
          "metadata": {},
          "execution_count": 38
        }
      ]
    },
    {
      "cell_type": "markdown",
      "source": [
        "3. Analogies with word embeddings\n",
        "\n",
        "It can do such magic (`woman` + `grandfather` - `man`) :\n"
      ],
      "metadata": {
        "id": "Rtyp__uQaVcR"
      }
    },
    {
      "cell_type": "code",
      "source": [
        "# Run this cell to answer the analogy -- man : grandfather :: woman : x\n",
        "model.most_similar(positive=['woman', 'grandfather'], negative=['man'])"
      ],
      "metadata": {
        "id": "9igEyCm6aqfU",
        "colab": {
          "base_uri": "https://localhost:8080/"
        },
        "outputId": "7a614ebc-7de9-45b3-a410-d120928e34af"
      },
      "execution_count": 39,
      "outputs": [
        {
          "output_type": "execute_result",
          "data": {
            "text/plain": [
              "[('grandmother', 0.878795325756073),\n",
              " ('deceased', 0.8756000399589539),\n",
              " ('grandson', 0.8732503652572632),\n",
              " ('granddaughter', 0.8626090288162231),\n",
              " ('mother-in-law', 0.8423668742179871),\n",
              " ('stabs', 0.8338028192520142),\n",
              " ('adopted', 0.8286494016647339),\n",
              " ('marries', 0.825094997882843),\n",
              " ('brother-in-law', 0.8129834532737732),\n",
              " ('fiancee', 0.8020613193511963)]"
            ]
          },
          "metadata": {},
          "execution_count": 39
        }
      ]
    },
    {
      "cell_type": "markdown",
      "source": [
        "And this too:"
      ],
      "metadata": {
        "id": "BwCkJSNraruT"
      }
    },
    {
      "cell_type": "code",
      "source": [
        "model.most_similar([model.get_vector('coder') - model.get_vector('brain') + model.get_vector('money')])"
      ],
      "metadata": {
        "id": "e4t94HZXa1vd",
        "colab": {
          "base_uri": "https://localhost:8080/"
        },
        "outputId": "6ea99286-1a11-45f2-d766-f28a4ee8660b"
      },
      "execution_count": 40,
      "outputs": [
        {
          "output_type": "execute_result",
          "data": {
            "text/plain": [
              "[('gfx', 0.8166243433952332),\n",
              " ('realtor', 0.7994468212127686),\n",
              " ('promoters', 0.7922900319099426),\n",
              " ('promoter', 0.7778065800666809),\n",
              " ('recruiter', 0.7722607254981995),\n",
              " ('digg', 0.7702906727790833),\n",
              " ('sfi', 0.7655168175697327),\n",
              " ('chefs', 0.7650213241577148),\n",
              " ('smallbusiness', 0.7634385228157043),\n",
              " ('realestate', 0.7535584568977356)]"
            ]
          },
          "metadata": {},
          "execution_count": 40
        }
      ]
    },
    {
      "cell_type": "markdown",
      "source": [
        "That is, who is like coder, with money and without brains."
      ],
      "metadata": {
        "id": "c23cwWhKvtXp"
      }
    },
    {
      "cell_type": "markdown",
      "source": [
        "**<font color=\"red\">[Task]</font>** : Run an interesting analogy example\n",
        "\n",
        "**Hint**: Similar to (`woman` + `grandfather` - `man`)"
      ],
      "metadata": {
        "id": "4a15dwaha36x"
      }
    },
    {
      "cell_type": "code",
      "source": [
        "# Example 1\n",
        "print(model.most_similar(positive=['teacher', 'drive'], negative=['teach']))\n",
        "# Example 2\n",
        "print(model.most_similar(positive=['book', 'painter'], negative=['writer']))\n",
        "# Example 3\n",
        "print(model.most_similar(positive=['swimming', 'run'], negative=['swim']))\n",
        "# Example 4 (counter-intuitive)\n",
        "print(model.most_similar(positive=['ran', 'swim'], negative=['swam']))"
      ],
      "metadata": {
        "id": "g0D04rXsa_al",
        "colab": {
          "base_uri": "https://localhost:8080/"
        },
        "outputId": "90256852-89e4-4229-d8a8-5a288b44b6e4"
      },
      "execution_count": 49,
      "outputs": [
        {
          "output_type": "stream",
          "name": "stdout",
          "text": [
            "[('parking', 0.8648337721824646), ('driver', 0.8503885865211487), ('office', 0.8499545454978943), ('traffic', 0.8412368297576904), ('driving', 0.8351786732673645), ('room', 0.8287854194641113), ('phone', 0.8218833804130554), ('seat', 0.8195534944534302), ('class', 0.8189750909805298), ('window', 0.8187465667724609)]\n",
            "[('canvas', 0.9099440574645996), ('designs', 0.9082742929458618), ('painting', 0.906273603439331), ('charcoal', 0.8967033624649048), ('wood', 0.8896210193634033), ('acrylic', 0.88385009765625), ('fabric', 0.8818100690841675), ('glass', 0.8812238574028015), ('vinyl', 0.880736768245697), ('furniture', 0.8773772120475769)]\n",
            "[('fix', 0.9017049074172974), ('put', 0.8973711729049683), ('line', 0.8809762001037598), ('drop', 0.8791057467460632), ('take', 0.877155065536499), ('up', 0.8768268823623657), ('time', 0.874901294708252), ('step', 0.8721282482147217), ('shoot', 0.8701412677764893), ('out', 0.8696983456611633)]\n",
            "[('time', 0.9525530934333801), ('running', 0.9490893483161926), ('break', 0.9407573938369751), ('home', 0.9379763603210449), ('up', 0.9354071617126465), ('down', 0.9325153827667236), ('after', 0.9303314685821533), ('going', 0.9302447438240051), ('next', 0.9288904666900635), ('out', 0.9244027733802795)]\n"
          ]
        }
      ]
    },
    {
      "cell_type": "markdown",
      "source": [
        "### **3.2 Finding the Most Similar Sentence**\n",
        "\n",
        "In this section, we present a method for sentence retrieval based on word embeddings.\n",
        "\n",
        "The key point is to construct *sentence embeddings*. The simplest method to obtain a sentence embedding is by averaging the embeddings of the words within the sentence.\n",
        "\n",
        "*You are probably thinking, 'What a dumb idea, why on earth the average of embedding should contain any useful information'. Well, check [this paper](https://arxiv.org/pdf/1805.09843.pdf).*\n",
        "\n"
      ],
      "metadata": {
        "id": "szS69OEObDzy"
      }
    },
    {
      "cell_type": "markdown",
      "source": [
        "1. Get Sentence Embedding\n",
        "\n",
        "**<font color=\"red\">[Task]</font>** : Implement a function to compute sentence embeddings.\n",
        "\n",
        "**Hint**: Tokenize and lowercase the texts. Calculate the mean embedding for words with known embeddings."
      ],
      "metadata": {
        "id": "FPJdCsjtfDxJ"
      }
    },
    {
      "cell_type": "code",
      "source": [
        "def get_sentence_embedding(model, sentence):\n",
        "    \"\"\" Calcs sentence embedding as a mean of known word embeddings in the sentence.\n",
        "    If all the words are unknown, returns zero vector.\n",
        "    :param model: KeyedVectors instance\n",
        "    :param sentence: str or list of str (tokenized text)\n",
        "    \"\"\"\n",
        "    embedding = np.zeros([model.vector_size], dtype='float32')\n",
        "\n",
        "    if isinstance(sentence, str):\n",
        "        words = word_tokenize(sentence.lower())\n",
        "    else:\n",
        "        words = sentence\n",
        "\n",
        "    sum_embedding = np.zeros([model.vector_size], dtype='float32')\n",
        "    words_in_model = 0\n",
        "\n",
        "    # Write your implementation here.\n",
        "    for word in words:\n",
        "        if word in model.key_to_index:  # Check if word exists in model\n",
        "            sum_embedding += model.get_vector(word)\n",
        "            words_in_model += 1\n",
        "\n",
        "    if words_in_model > 0:\n",
        "        embedding = sum_embedding / words_in_model\n",
        "\n",
        "    return embedding"
      ],
      "metadata": {
        "id": "0LPw1fRg1GaW"
      },
      "execution_count": 51,
      "outputs": []
    },
    {
      "cell_type": "markdown",
      "source": [
        "Check it:"
      ],
      "metadata": {
        "id": "1FbZbKPI1OZf"
      }
    },
    {
      "cell_type": "code",
      "source": [
        "vector = get_sentence_embedding(model, \"I'm very sure. This never happened to me before...\")\n",
        "assert vector.shape == (model.vector_size,)"
      ],
      "metadata": {
        "id": "u5phpDHEcdK9"
      },
      "execution_count": 55,
      "outputs": []
    },
    {
      "cell_type": "markdown",
      "source": [
        "2. **Building the Index**\n",
        "\n",
        "With our method ready, we can now embed all sentences in our corpus for retrieval purposes. In this case, we use data from Quora, sampling 1000 entries randomly, and converting them into sentence embeddings."
      ],
      "metadata": {
        "id": "u-8wclbCdTfw"
      }
    },
    {
      "cell_type": "code",
      "source": [
        "quora_data = pd.read_csv('train.csv')\n",
        "corpus = list(quora_data.sample(1000)[['question1']].question1.replace(np.nan, '', regex=True).unique())\n",
        "text_vectors = np.array([get_sentence_embedding(model, sentence) for sentence in corpus])"
      ],
      "metadata": {
        "id": "P6B2c-bJdCrB"
      },
      "execution_count": 57,
      "outputs": []
    },
    {
      "cell_type": "code",
      "source": [
        "corpus[0]"
      ],
      "metadata": {
        "id": "NXrJ-R8leSWR",
        "colab": {
          "base_uri": "https://localhost:8080/",
          "height": 35
        },
        "outputId": "6e96c87a-589a-4195-f465-3b79fbde42cf"
      },
      "execution_count": 58,
      "outputs": [
        {
          "output_type": "execute_result",
          "data": {
            "text/plain": [
              "'What are some good badminton racket shops in chennai ?'"
            ],
            "application/vnd.google.colaboratory.intrinsic+json": {
              "type": "string"
            }
          },
          "metadata": {},
          "execution_count": 58
        }
      ]
    },
    {
      "cell_type": "code",
      "source": [
        "text_vectors"
      ],
      "metadata": {
        "id": "fqm8qkUFTuC4",
        "outputId": "be4a0c11-760b-4b3b-a0f7-0cfeadce1b6e",
        "colab": {
          "base_uri": "https://localhost:8080/"
        }
      },
      "execution_count": 59,
      "outputs": [
        {
          "output_type": "execute_result",
          "data": {
            "text/plain": [
              "array([[ 0.02402911,  0.1427646 ,  0.0784831 , ..., -0.3536118 ,\n",
              "        -0.0862153 ,  0.0179314 ],\n",
              "       [ 0.23579252,  0.40083623,  0.19827075, ..., -0.07701469,\n",
              "        -0.0160512 , -0.38661614],\n",
              "       [ 0.40023124,  0.09987028, -0.10166488, ..., -0.5227163 ,\n",
              "         0.148689  , -0.06494699],\n",
              "       ...,\n",
              "       [ 0.07645285,  0.16366829,  0.20252457, ..., -0.05411857,\n",
              "        -0.02385858, -0.06262673],\n",
              "       [ 0.19763671,  0.21267682, -0.03742473, ..., -0.17085181,\n",
              "         0.12257457, -0.44581273],\n",
              "       [ 0.4114161 ,  0.3917895 , -0.12161788, ..., -0.28744185,\n",
              "        -0.33045378, -0.27712998]], dtype=float32)"
            ]
          },
          "metadata": {},
          "execution_count": 59
        }
      ]
    },
    {
      "cell_type": "markdown",
      "source": [
        "3. **Search**\n",
        "\n",
        "Now we are able perform search of the nearest neighbours to the given sentences in our base!\n",
        "\n",
        "\n",
        "We'll use cosine similarity of two vectors:\n",
        "$$\\text{cosine_similarity}(x, y) = \\frac{x^{T} y}{||x||\\cdot ||y||}$$\n",
        "\n",
        "*It's not a [distance](https://www.encyclopediaofmath.org/index.php/Metric) strictly speaking but we still can use it to search for the sentence vectors.*\n",
        "\n",
        "**<font color=\"red\">[Task]</font>** : Implement the following function.\n",
        "\n",
        "**Hint:** Calc the similarity between `query` embedding and `text_vectors` using `cosine_similarity` function. Find `k` vectors with highest scores and return corresponding texts from `texts` list."
      ],
      "metadata": {
        "id": "QiMtj5dXebbY"
      }
    },
    {
      "cell_type": "code",
      "source": [
        "from sklearn.metrics.pairwise import cosine_similarity\n",
        "\n",
        "def find_nearest(model, text_vectors, texts, query, k=10):\n",
        "    query_vec = get_sentence_embedding(model, query)\n",
        "\n",
        "    # Write your implementation here.\n",
        "    # Calculate cosine similarities\n",
        "    similarity_scores = cosine_similarity(query_vec.reshape(1, -1), text_vectors).flatten()\n",
        "\n",
        "    # Get indices of top-k scores（cos越接近1，两个句子越相近）\n",
        "    top_k_indices = np.argsort(similarity_scores)[-k:][::-1]\n",
        "\n",
        "    # Retrieve corresponding texts\n",
        "    return [texts[index] for index in top_k_indices]"
      ],
      "metadata": {
        "id": "ynEJW6E7eg0c"
      },
      "execution_count": 74,
      "outputs": []
    },
    {
      "cell_type": "markdown",
      "source": [
        "Check it!"
      ],
      "metadata": {
        "id": "is8SoYmHkQo5"
      }
    },
    {
      "cell_type": "code",
      "source": [
        "find_nearest(model, text_vectors, corpus, \"What's your biggest regret in life?\", k=10)"
      ],
      "metadata": {
        "id": "49s4zB1OjXd4",
        "colab": {
          "base_uri": "https://localhost:8080/"
        },
        "outputId": "7ff03f9d-1b73-4ac1-9be4-e2db445431da"
      },
      "execution_count": 75,
      "outputs": [
        {
          "output_type": "execute_result",
          "data": {
            "text/plain": [
              "['What is that one thing you want to change in your life?',\n",
              " 'What was the happiest day of your life? And why was it?',\n",
              " 'They say too much knowledge is dangerous. When and why is this the case?',\n",
              " \"What's the most romantic thing you have ever done for your husband/partner?\",\n",
              " 'Who would play you in a movie of your life?',\n",
              " 'What is most important in life: sex or love?',\n",
              " 'How can I change my life and my bad habits?',\n",
              " 'Imagine this, what would happen if all of space was filled with \"earth\\'s air\" for 5 seconds?',\n",
              " 'What was the best day of your life? What happened?',\n",
              " 'Could a person feel absolutely nothing if we look each other in the eyes for a longer duration?']"
            ]
          },
          "metadata": {},
          "execution_count": 75
        }
      ]
    },
    {
      "cell_type": "markdown",
      "source": [
        "### **Bias of Word Embeddings**\n",
        "\n",
        "It's important to be cognizant of the biases (gender, race, sexual orientation etc.) implicit in our word embeddings. Bias can be dangerous because it can reinforce stereotypes through applications that employ these models.\n",
        "\n"
      ],
      "metadata": {
        "id": "qA5CwGV8jU5_"
      }
    },
    {
      "cell_type": "markdown",
      "source": [
        "Here's an example showing word embeddings biases on gender:"
      ],
      "metadata": {
        "id": "pdIUrmnJxGvL"
      }
    },
    {
      "cell_type": "code",
      "source": [
        "print(model.most_similar(positive=['man', 'profession'], negative=['woman']))\n",
        "print()\n",
        "print(model.most_similar(positive=['woman', 'profession'], negative=['man']))"
      ],
      "metadata": {
        "id": "gWngJZCWxduU",
        "colab": {
          "base_uri": "https://localhost:8080/"
        },
        "outputId": "ad4ba380-0cf8-46d1-d3e2-c829ba8d1341"
      },
      "execution_count": 76,
      "outputs": [
        {
          "output_type": "stream",
          "name": "stdout",
          "text": [
            "[('maths', 0.7983574867248535), ('basis', 0.7973601222038269), ('humør', 0.7948898673057556), ('cert', 0.7902684807777405), ('mulig', 0.7874146699905396), ('spændende', 0.7728654742240906), ('dårligt', 0.7700908184051514), ('latter', 0.7676339745521545), ('noget', 0.7676041126251221), ('vet', 0.7675378918647766)]\n",
            "\n",
            "[('representation', 0.871566116809845), ('encourages', 0.8626720309257507), ('empowering', 0.8612703084945679), ('intellectual', 0.8564386963844299), ('influences', 0.8559868931770325), ('ethical', 0.8550471663475037), ('affairs', 0.8541139960289001), ('behaviors', 0.8481355905532837), ('advocacy', 0.8439522981643677), ('critic', 0.8406822085380554)]\n"
          ]
        }
      ]
    },
    {
      "cell_type": "markdown",
      "source": [
        "**<font color=\"red\">[Task]</font>** Identify an example of bias.\n",
        "\n",
        "**Hint:** Consider providing an example from perspectives such as race or sexual orientation."
      ],
      "metadata": {
        "id": "zpFDY9BByDBj"
      }
    },
    {
      "cell_type": "code",
      "source": [
        "# Identifying racial bias example\n",
        "racial_bias = model.most_similar(positive=['black', 'crime'], negative=['white'])\n",
        "print(\"Black + Crime - White:\")\n",
        "print([word for word, score in racial_bias[:5]])"
      ],
      "metadata": {
        "id": "np_RQalnx0Bb",
        "colab": {
          "base_uri": "https://localhost:8080/"
        },
        "outputId": "44cbf66c-6530-4a70-dcd5-7f7e6ad48d12"
      },
      "execution_count": 77,
      "outputs": [
        {
          "output_type": "stream",
          "name": "stdout",
          "text": [
            "Black + Crime - White:\n",
            "['criminal', 'terror', 'attack', 'debate', 'political']\n"
          ]
        }
      ]
    },
    {
      "cell_type": "markdown",
      "source": [
        "**<font color=\"red\">[Task]</font>** Thinking About Bias.\n",
        "\n",
        "**Hint:** Briefly explain how bias can be introduced into word embeddings and suggest one method to mitigate these biases."
      ],
      "metadata": {
        "id": "902RJydFyjMx"
      }
    },
    {
      "cell_type": "markdown",
      "source": [
        "**Explanation**:\n",
        "\n",
        "1. Models learn statistical associations present in corpora. If texts frequently link \"black\" with crime-related terms or \"woman\" with domestic roles, these connections become encoded.\n",
        "2. Historical/social prejudices reflected in language usage (e.g., \"illegal\" co-occurring with certain ethnic groups).\n",
        "\n",
        "**Mitigation Method**:\n",
        "Counterfactual Data Augmentation\n",
        "\n",
        "1. Generate gender/race-neutral sentences (\"The nurse is...\" → \"The <neutral> nurse is...\") during training.\n",
        "2. Create counterexamples by swapping gender terms.\n",
        "3. Retrain embeddings with this balanced data.\n",
        "\n",
        "\n"
      ],
      "metadata": {
        "id": "P8zWOHg3065B"
      }
    },
    {
      "cell_type": "markdown",
      "metadata": {
        "id": "xqDmuu7m_PB5"
      },
      "source": [
        "## Supplementary Materials\n",
        "Source from [DeepNLP-Course of DanAnastasyev](https://colab.research.google.com/drive/1o65wrq6RYgWyyMvNP8r9ZknXBniDoXrn#forceEdit=true&offline=true&sandboxMode=true)\n",
        "\n",
        "## To read\n",
        "### Blogs\n",
        "[On word embeddings - Part 1, Sebastian Ruder](http://ruder.io/word-embeddings-1/)  \n",
        "[On word embeddings - Part 2: Approximating the Softmax, Sebastian Ruder](http://ruder.io/word-embeddings-softmax/index.html)  \n",
        "[Word2Vec Tutorial - The Skip-Gram Model, Chris McCormick](http://mccormickml.com/2016/04/19/word2vec-tutorial-the-skip-gram-model/)  \n",
        "[Word2Vec Tutorial Part 2 - Negative Sampling, Chris McCormick](http://mccormickml.com/2017/01/11/word2vec-tutorial-part-2-negative-sampling/)\n",
        "\n",
        "### Papers\n",
        "[Word2vec Parameter Learning Explained (2014), Xin Rong](https://arxiv.org/abs/1411.2738)  \n",
        "[Neural word embedding as implicit matrix factorization (2014), Levy, Omer, and Yoav Goldberg](http://u.cs.biu.ac.il/~nlp/wp-content/uploads/Neural-Word-Embeddings-as-Implicit-Matrix-Factorization-NIPS-2014.pdf)  \n",
        "\n",
        "### Enhancing Embeddings\n",
        "[Two/Too Simple Adaptations of Word2Vec for Syntax Problems (2015), Ling, Wang, et al.](https://www.aclweb.org/anthology/N/N15/N15-1142.pdf)  \n",
        "[Not All Neural Embeddings are Born Equal (2014)](https://arxiv.org/pdf/1410.0718.pdf)  \n",
        "[Retrofitting Word Vectors to Semantic Lexicons (2014), M. Faruqui, et al.](https://arxiv.org/pdf/1411.4166.pdf)  \n",
        "[All-but-the-top: Simple and Effective Postprocessing for Word Representations (2017), Mu, et al.](https://arxiv.org/pdf/1702.01417.pdf)  \n",
        "\n",
        "### Sentence Embeddings\n",
        "[Skip-Thought Vectors (2015), Kiros, et al.](https://arxiv.org/pdf/1506.06726)  \n",
        "\n",
        "### Backpropagation\n",
        "[Backpropagation, Intuitions, cs231n + next parts in the Module 1](http://cs231n.github.io/optimization-2/)   \n",
        "[Calculus on Computational Graphs: Backpropagation, Christopher Olah](http://colah.github.io/posts/2015-08-Backprop/)\n",
        "\n",
        "## To watch\n",
        "[cs224n \"Lecture 2 - Word Vector Representations: word2vec\"](https://www.youtube.com/watch?v=ERibwqs9p38&index=2&list=PLqdrfNEc5QnuV9RwUAhoJcoQvu4Q46Lja&t=0s)  \n",
        "[cs224n \"Lecture 5 - Backpropagation\"](https://www.youtube.com/watch?v=isPiE-DBagM&index=5&list=PLqdrfNEc5QnuV9RwUAhoJcoQvu4Q46Lja&t=0s)   \n"
      ]
    },
    {
      "cell_type": "markdown",
      "source": [
        "\n",
        "## Acknowledgement\n",
        "\n",
        "This assignment was developed with reference to the following course materials:\n",
        "- [DeepNLP Course by Dan Anastasyev](https://github.com/DanAnastasyev/DeepNLP-Course?tab=readme-ov-file)\n",
        "- [Exploring Word Vectors from Stanford's CS224N](https://web.stanford.edu/class/cs224n/assignments/a1_preview/exploring_word_vectors.html)\n",
        "- [Natural Language Processing course from Princeton University](https://nlp.cs.princeton.edu/cos484-sp21/)\n",
        "- [Yandex Data School NLP Course Week 1 Seminar](https://colab.research.google.com/github/yandexdataschool/nlp_course/blob/2023/week01_embeddings/seminar.ipynb#scrollTo=9m7GZWVk-jrW)\n"
      ],
      "metadata": {
        "id": "CJ_O-O0wkool"
      }
    }
  ]
}