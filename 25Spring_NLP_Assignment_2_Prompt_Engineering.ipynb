{
  "nbformat": 4,
  "nbformat_minor": 0,
  "metadata": {
    "colab": {
      "provenance": [],
      "toc_visible": true,
      "include_colab_link": true
    },
    "kernelspec": {
      "name": "python3",
      "display_name": "Python 3"
    }
  },
  "cells": [
    {
      "cell_type": "markdown",
      "metadata": {
        "id": "view-in-github",
        "colab_type": "text"
      },
      "source": [
        "<a href=\"https://colab.research.google.com/github/119020/NLP_2025_Spring_Materials/blob/main/25Spring_NLP_Assignment_2_Prompt_Engineering.ipynb\" target=\"_parent\"><img src=\"https://colab.research.google.com/assets/colab-badge.svg\" alt=\"Open In Colab\"/></a>"
      ]
    },
    {
      "cell_type": "markdown",
      "source": [
        "# Prompt Enginnering\n",
        "### **Course Name:** Natural Language Processing **<font color=\"red\">(CSC6052/MDS5110/CSC5051/CSC4100)</font>**\n",
        "\n",
        "\n"
      ],
      "metadata": {
        "id": "9yFFKuDZB_ow"
      }
    },
    {
      "cell_type": "markdown",
      "source": [
        "Hello, everyone.\n",
        "In this tutorial, we'll explore *Prompt Engineering* techniques.\n",
        "\n",
        "**<font color=\"blue\">What is prompt engineering in AI?</font>**\n",
        "\n",
        "An AI prompt is a carefully crafted instruction given to an AI model to generate a specific output. These inputs can range from text and images to videos or even music.\n",
        "\n",
        "Prompt engineering means writing precise instructions that guide AI models like **ChatGPT** to produce specific and useful responses. It involves designing inputs that an AI can easily understand and act upon, ensuring the output is relevant and accurate."
      ],
      "metadata": {
        "id": "Y_qFy6J9EgJe"
      }
    },
    {
      "cell_type": "markdown",
      "source": [
        "## **The First Step: Mastering the Use of APIs**\n",
        "\n"
      ],
      "metadata": {
        "id": "iEiLphcKt6Ya"
      }
    },
    {
      "cell_type": "markdown",
      "source": [
        "### About API Keys\n",
        "#### DeepSeek API Keys\n",
        "❗ Note that you can get your deepseek api key from it official website. Upon registeration, you will get 14 RMB free credit, and it will account for about 20M token usage, which will be enough to cover your assignment. Alternatively, you can go to [Siliconflow](https://cloud.siliconflow.cn/) for more free credit:\n",
        "- Go to the website [https://platform.deepseek.com/api_keys](https://platform.deepseek.com/api_keys).\n",
        "- Sign up for a new account, and you will have 14 RMB free credit.\n",
        "- Change the `DEEPSEEK_API_KEY` environment variable with the key you purchased.\n",
        "- Remember to update `DEEPSEEK_BASE_URL` to https://api.siliconflow.cn/v1/chat/completions when using API from SiliconFlow.\n",
        "\n",
        "#### OpenAI API Keys\n",
        "Note that we provide a key with 100 US dollars, if it is used up you need to buy the Keys yourself (it may cost you a little bit of money), here is how to buy the keys:\n",
        "- Go to the website [https://eylink.cn/buy/7](https://eylink.cn/buy/7).\n",
        "- Purchase a 14 RMB key (10 US dollars). (10 dollars are enough.)\n",
        "- Fill in the `OPENAI_API_KEY` below with the key you purchased.\n",
        "\n",
        "(As a student, you can apply for a $100 free API credit at https://azure.microsoft.com/en-us/free/students. Remember to update `OPENAI_BASE_URL` to https://api.openai.com/v1/chat/completions when using API from Azure.)"
      ],
      "metadata": {
        "id": "lR37y8eVuG8V"
      }
    },
    {
      "cell_type": "markdown",
      "source": [
        "🔅 To facilitate easier access to OpenAI's model APIs, we make use of a popular framework langchain."
      ],
      "metadata": {
        "id": "OOubmZd8vGl6"
      }
    },
    {
      "cell_type": "code",
      "source": [
        "!pip install langchain\n",
        "!pip install langchain-openai\n",
        "!pip install langchain-deepseek\n",
        "!pip install retrying"
      ],
      "metadata": {
        "collapsed": true,
        "colab": {
          "base_uri": "https://localhost:8080/"
        },
        "id": "OWx2mmC-fFuP",
        "outputId": "caf8b05e-1689-45cd-d357-195b369a45f6"
      },
      "execution_count": 4,
      "outputs": [
        {
          "output_type": "stream",
          "name": "stdout",
          "text": [
            "Requirement already satisfied: langchain in /usr/local/lib/python3.11/dist-packages (0.3.21)\n",
            "Requirement already satisfied: langchain-core<1.0.0,>=0.3.45 in /usr/local/lib/python3.11/dist-packages (from langchain) (0.3.49)\n",
            "Requirement already satisfied: langchain-text-splitters<1.0.0,>=0.3.7 in /usr/local/lib/python3.11/dist-packages (from langchain) (0.3.7)\n",
            "Requirement already satisfied: langsmith<0.4,>=0.1.17 in /usr/local/lib/python3.11/dist-packages (from langchain) (0.3.18)\n",
            "Requirement already satisfied: pydantic<3.0.0,>=2.7.4 in /usr/local/lib/python3.11/dist-packages (from langchain) (2.10.6)\n",
            "Requirement already satisfied: SQLAlchemy<3,>=1.4 in /usr/local/lib/python3.11/dist-packages (from langchain) (2.0.39)\n",
            "Requirement already satisfied: requests<3,>=2 in /usr/local/lib/python3.11/dist-packages (from langchain) (2.32.3)\n",
            "Requirement already satisfied: PyYAML>=5.3 in /usr/local/lib/python3.11/dist-packages (from langchain) (6.0.2)\n",
            "Requirement already satisfied: tenacity!=8.4.0,<10.0.0,>=8.1.0 in /usr/local/lib/python3.11/dist-packages (from langchain-core<1.0.0,>=0.3.45->langchain) (9.0.0)\n",
            "Requirement already satisfied: jsonpatch<2.0,>=1.33 in /usr/local/lib/python3.11/dist-packages (from langchain-core<1.0.0,>=0.3.45->langchain) (1.33)\n",
            "Requirement already satisfied: packaging<25,>=23.2 in /usr/local/lib/python3.11/dist-packages (from langchain-core<1.0.0,>=0.3.45->langchain) (24.2)\n",
            "Requirement already satisfied: typing-extensions>=4.7 in /usr/local/lib/python3.11/dist-packages (from langchain-core<1.0.0,>=0.3.45->langchain) (4.12.2)\n",
            "Requirement already satisfied: httpx<1,>=0.23.0 in /usr/local/lib/python3.11/dist-packages (from langsmith<0.4,>=0.1.17->langchain) (0.28.1)\n",
            "Requirement already satisfied: orjson<4.0.0,>=3.9.14 in /usr/local/lib/python3.11/dist-packages (from langsmith<0.4,>=0.1.17->langchain) (3.10.15)\n",
            "Requirement already satisfied: requests-toolbelt<2.0.0,>=1.0.0 in /usr/local/lib/python3.11/dist-packages (from langsmith<0.4,>=0.1.17->langchain) (1.0.0)\n",
            "Requirement already satisfied: zstandard<0.24.0,>=0.23.0 in /usr/local/lib/python3.11/dist-packages (from langsmith<0.4,>=0.1.17->langchain) (0.23.0)\n",
            "Requirement already satisfied: annotated-types>=0.6.0 in /usr/local/lib/python3.11/dist-packages (from pydantic<3.0.0,>=2.7.4->langchain) (0.7.0)\n",
            "Requirement already satisfied: pydantic-core==2.27.2 in /usr/local/lib/python3.11/dist-packages (from pydantic<3.0.0,>=2.7.4->langchain) (2.27.2)\n",
            "Requirement already satisfied: charset-normalizer<4,>=2 in /usr/local/lib/python3.11/dist-packages (from requests<3,>=2->langchain) (3.4.1)\n",
            "Requirement already satisfied: idna<4,>=2.5 in /usr/local/lib/python3.11/dist-packages (from requests<3,>=2->langchain) (3.10)\n",
            "Requirement already satisfied: urllib3<3,>=1.21.1 in /usr/local/lib/python3.11/dist-packages (from requests<3,>=2->langchain) (2.3.0)\n",
            "Requirement already satisfied: certifi>=2017.4.17 in /usr/local/lib/python3.11/dist-packages (from requests<3,>=2->langchain) (2025.1.31)\n",
            "Requirement already satisfied: greenlet!=0.4.17 in /usr/local/lib/python3.11/dist-packages (from SQLAlchemy<3,>=1.4->langchain) (3.1.1)\n",
            "Requirement already satisfied: anyio in /usr/local/lib/python3.11/dist-packages (from httpx<1,>=0.23.0->langsmith<0.4,>=0.1.17->langchain) (4.9.0)\n",
            "Requirement already satisfied: httpcore==1.* in /usr/local/lib/python3.11/dist-packages (from httpx<1,>=0.23.0->langsmith<0.4,>=0.1.17->langchain) (1.0.7)\n",
            "Requirement already satisfied: h11<0.15,>=0.13 in /usr/local/lib/python3.11/dist-packages (from httpcore==1.*->httpx<1,>=0.23.0->langsmith<0.4,>=0.1.17->langchain) (0.14.0)\n",
            "Requirement already satisfied: jsonpointer>=1.9 in /usr/local/lib/python3.11/dist-packages (from jsonpatch<2.0,>=1.33->langchain-core<1.0.0,>=0.3.45->langchain) (3.0.0)\n",
            "Requirement already satisfied: sniffio>=1.1 in /usr/local/lib/python3.11/dist-packages (from anyio->httpx<1,>=0.23.0->langsmith<0.4,>=0.1.17->langchain) (1.3.1)\n",
            "Requirement already satisfied: langchain-openai in /usr/local/lib/python3.11/dist-packages (0.3.11)\n",
            "Requirement already satisfied: langchain-core<1.0.0,>=0.3.49 in /usr/local/lib/python3.11/dist-packages (from langchain-openai) (0.3.49)\n",
            "Requirement already satisfied: openai<2.0.0,>=1.68.2 in /usr/local/lib/python3.11/dist-packages (from langchain-openai) (1.68.2)\n",
            "Requirement already satisfied: tiktoken<1,>=0.7 in /usr/local/lib/python3.11/dist-packages (from langchain-openai) (0.9.0)\n",
            "Requirement already satisfied: langsmith<0.4,>=0.1.125 in /usr/local/lib/python3.11/dist-packages (from langchain-core<1.0.0,>=0.3.49->langchain-openai) (0.3.18)\n",
            "Requirement already satisfied: tenacity!=8.4.0,<10.0.0,>=8.1.0 in /usr/local/lib/python3.11/dist-packages (from langchain-core<1.0.0,>=0.3.49->langchain-openai) (9.0.0)\n",
            "Requirement already satisfied: jsonpatch<2.0,>=1.33 in /usr/local/lib/python3.11/dist-packages (from langchain-core<1.0.0,>=0.3.49->langchain-openai) (1.33)\n",
            "Requirement already satisfied: PyYAML>=5.3 in /usr/local/lib/python3.11/dist-packages (from langchain-core<1.0.0,>=0.3.49->langchain-openai) (6.0.2)\n",
            "Requirement already satisfied: packaging<25,>=23.2 in /usr/local/lib/python3.11/dist-packages (from langchain-core<1.0.0,>=0.3.49->langchain-openai) (24.2)\n",
            "Requirement already satisfied: typing-extensions>=4.7 in /usr/local/lib/python3.11/dist-packages (from langchain-core<1.0.0,>=0.3.49->langchain-openai) (4.12.2)\n",
            "Requirement already satisfied: pydantic<3.0.0,>=2.5.2 in /usr/local/lib/python3.11/dist-packages (from langchain-core<1.0.0,>=0.3.49->langchain-openai) (2.10.6)\n",
            "Requirement already satisfied: anyio<5,>=3.5.0 in /usr/local/lib/python3.11/dist-packages (from openai<2.0.0,>=1.68.2->langchain-openai) (4.9.0)\n",
            "Requirement already satisfied: distro<2,>=1.7.0 in /usr/local/lib/python3.11/dist-packages (from openai<2.0.0,>=1.68.2->langchain-openai) (1.9.0)\n",
            "Requirement already satisfied: httpx<1,>=0.23.0 in /usr/local/lib/python3.11/dist-packages (from openai<2.0.0,>=1.68.2->langchain-openai) (0.28.1)\n",
            "Requirement already satisfied: jiter<1,>=0.4.0 in /usr/local/lib/python3.11/dist-packages (from openai<2.0.0,>=1.68.2->langchain-openai) (0.9.0)\n",
            "Requirement already satisfied: sniffio in /usr/local/lib/python3.11/dist-packages (from openai<2.0.0,>=1.68.2->langchain-openai) (1.3.1)\n",
            "Requirement already satisfied: tqdm>4 in /usr/local/lib/python3.11/dist-packages (from openai<2.0.0,>=1.68.2->langchain-openai) (4.67.1)\n",
            "Requirement already satisfied: regex>=2022.1.18 in /usr/local/lib/python3.11/dist-packages (from tiktoken<1,>=0.7->langchain-openai) (2024.11.6)\n",
            "Requirement already satisfied: requests>=2.26.0 in /usr/local/lib/python3.11/dist-packages (from tiktoken<1,>=0.7->langchain-openai) (2.32.3)\n",
            "Requirement already satisfied: idna>=2.8 in /usr/local/lib/python3.11/dist-packages (from anyio<5,>=3.5.0->openai<2.0.0,>=1.68.2->langchain-openai) (3.10)\n",
            "Requirement already satisfied: certifi in /usr/local/lib/python3.11/dist-packages (from httpx<1,>=0.23.0->openai<2.0.0,>=1.68.2->langchain-openai) (2025.1.31)\n",
            "Requirement already satisfied: httpcore==1.* in /usr/local/lib/python3.11/dist-packages (from httpx<1,>=0.23.0->openai<2.0.0,>=1.68.2->langchain-openai) (1.0.7)\n",
            "Requirement already satisfied: h11<0.15,>=0.13 in /usr/local/lib/python3.11/dist-packages (from httpcore==1.*->httpx<1,>=0.23.0->openai<2.0.0,>=1.68.2->langchain-openai) (0.14.0)\n",
            "Requirement already satisfied: jsonpointer>=1.9 in /usr/local/lib/python3.11/dist-packages (from jsonpatch<2.0,>=1.33->langchain-core<1.0.0,>=0.3.49->langchain-openai) (3.0.0)\n",
            "Requirement already satisfied: orjson<4.0.0,>=3.9.14 in /usr/local/lib/python3.11/dist-packages (from langsmith<0.4,>=0.1.125->langchain-core<1.0.0,>=0.3.49->langchain-openai) (3.10.15)\n",
            "Requirement already satisfied: requests-toolbelt<2.0.0,>=1.0.0 in /usr/local/lib/python3.11/dist-packages (from langsmith<0.4,>=0.1.125->langchain-core<1.0.0,>=0.3.49->langchain-openai) (1.0.0)\n",
            "Requirement already satisfied: zstandard<0.24.0,>=0.23.0 in /usr/local/lib/python3.11/dist-packages (from langsmith<0.4,>=0.1.125->langchain-core<1.0.0,>=0.3.49->langchain-openai) (0.23.0)\n",
            "Requirement already satisfied: annotated-types>=0.6.0 in /usr/local/lib/python3.11/dist-packages (from pydantic<3.0.0,>=2.5.2->langchain-core<1.0.0,>=0.3.49->langchain-openai) (0.7.0)\n",
            "Requirement already satisfied: pydantic-core==2.27.2 in /usr/local/lib/python3.11/dist-packages (from pydantic<3.0.0,>=2.5.2->langchain-core<1.0.0,>=0.3.49->langchain-openai) (2.27.2)\n",
            "Requirement already satisfied: charset-normalizer<4,>=2 in /usr/local/lib/python3.11/dist-packages (from requests>=2.26.0->tiktoken<1,>=0.7->langchain-openai) (3.4.1)\n",
            "Requirement already satisfied: urllib3<3,>=1.21.1 in /usr/local/lib/python3.11/dist-packages (from requests>=2.26.0->tiktoken<1,>=0.7->langchain-openai) (2.3.0)\n",
            "Requirement already satisfied: langchain-deepseek in /usr/local/lib/python3.11/dist-packages (0.1.3)\n",
            "Requirement already satisfied: langchain-core<1.0.0,>=0.3.47 in /usr/local/lib/python3.11/dist-packages (from langchain-deepseek) (0.3.49)\n",
            "Requirement already satisfied: langchain-openai<1.0.0,>=0.3.9 in /usr/local/lib/python3.11/dist-packages (from langchain-deepseek) (0.3.11)\n",
            "Requirement already satisfied: langsmith<0.4,>=0.1.125 in /usr/local/lib/python3.11/dist-packages (from langchain-core<1.0.0,>=0.3.47->langchain-deepseek) (0.3.18)\n",
            "Requirement already satisfied: tenacity!=8.4.0,<10.0.0,>=8.1.0 in /usr/local/lib/python3.11/dist-packages (from langchain-core<1.0.0,>=0.3.47->langchain-deepseek) (9.0.0)\n",
            "Requirement already satisfied: jsonpatch<2.0,>=1.33 in /usr/local/lib/python3.11/dist-packages (from langchain-core<1.0.0,>=0.3.47->langchain-deepseek) (1.33)\n",
            "Requirement already satisfied: PyYAML>=5.3 in /usr/local/lib/python3.11/dist-packages (from langchain-core<1.0.0,>=0.3.47->langchain-deepseek) (6.0.2)\n",
            "Requirement already satisfied: packaging<25,>=23.2 in /usr/local/lib/python3.11/dist-packages (from langchain-core<1.0.0,>=0.3.47->langchain-deepseek) (24.2)\n",
            "Requirement already satisfied: typing-extensions>=4.7 in /usr/local/lib/python3.11/dist-packages (from langchain-core<1.0.0,>=0.3.47->langchain-deepseek) (4.12.2)\n",
            "Requirement already satisfied: pydantic<3.0.0,>=2.5.2 in /usr/local/lib/python3.11/dist-packages (from langchain-core<1.0.0,>=0.3.47->langchain-deepseek) (2.10.6)\n",
            "Requirement already satisfied: openai<2.0.0,>=1.68.2 in /usr/local/lib/python3.11/dist-packages (from langchain-openai<1.0.0,>=0.3.9->langchain-deepseek) (1.68.2)\n",
            "Requirement already satisfied: tiktoken<1,>=0.7 in /usr/local/lib/python3.11/dist-packages (from langchain-openai<1.0.0,>=0.3.9->langchain-deepseek) (0.9.0)\n",
            "Requirement already satisfied: jsonpointer>=1.9 in /usr/local/lib/python3.11/dist-packages (from jsonpatch<2.0,>=1.33->langchain-core<1.0.0,>=0.3.47->langchain-deepseek) (3.0.0)\n",
            "Requirement already satisfied: httpx<1,>=0.23.0 in /usr/local/lib/python3.11/dist-packages (from langsmith<0.4,>=0.1.125->langchain-core<1.0.0,>=0.3.47->langchain-deepseek) (0.28.1)\n",
            "Requirement already satisfied: orjson<4.0.0,>=3.9.14 in /usr/local/lib/python3.11/dist-packages (from langsmith<0.4,>=0.1.125->langchain-core<1.0.0,>=0.3.47->langchain-deepseek) (3.10.15)\n",
            "Requirement already satisfied: requests<3,>=2 in /usr/local/lib/python3.11/dist-packages (from langsmith<0.4,>=0.1.125->langchain-core<1.0.0,>=0.3.47->langchain-deepseek) (2.32.3)\n",
            "Requirement already satisfied: requests-toolbelt<2.0.0,>=1.0.0 in /usr/local/lib/python3.11/dist-packages (from langsmith<0.4,>=0.1.125->langchain-core<1.0.0,>=0.3.47->langchain-deepseek) (1.0.0)\n",
            "Requirement already satisfied: zstandard<0.24.0,>=0.23.0 in /usr/local/lib/python3.11/dist-packages (from langsmith<0.4,>=0.1.125->langchain-core<1.0.0,>=0.3.47->langchain-deepseek) (0.23.0)\n",
            "Requirement already satisfied: anyio<5,>=3.5.0 in /usr/local/lib/python3.11/dist-packages (from openai<2.0.0,>=1.68.2->langchain-openai<1.0.0,>=0.3.9->langchain-deepseek) (4.9.0)\n",
            "Requirement already satisfied: distro<2,>=1.7.0 in /usr/local/lib/python3.11/dist-packages (from openai<2.0.0,>=1.68.2->langchain-openai<1.0.0,>=0.3.9->langchain-deepseek) (1.9.0)\n",
            "Requirement already satisfied: jiter<1,>=0.4.0 in /usr/local/lib/python3.11/dist-packages (from openai<2.0.0,>=1.68.2->langchain-openai<1.0.0,>=0.3.9->langchain-deepseek) (0.9.0)\n",
            "Requirement already satisfied: sniffio in /usr/local/lib/python3.11/dist-packages (from openai<2.0.0,>=1.68.2->langchain-openai<1.0.0,>=0.3.9->langchain-deepseek) (1.3.1)\n",
            "Requirement already satisfied: tqdm>4 in /usr/local/lib/python3.11/dist-packages (from openai<2.0.0,>=1.68.2->langchain-openai<1.0.0,>=0.3.9->langchain-deepseek) (4.67.1)\n",
            "Requirement already satisfied: annotated-types>=0.6.0 in /usr/local/lib/python3.11/dist-packages (from pydantic<3.0.0,>=2.5.2->langchain-core<1.0.0,>=0.3.47->langchain-deepseek) (0.7.0)\n",
            "Requirement already satisfied: pydantic-core==2.27.2 in /usr/local/lib/python3.11/dist-packages (from pydantic<3.0.0,>=2.5.2->langchain-core<1.0.0,>=0.3.47->langchain-deepseek) (2.27.2)\n",
            "Requirement already satisfied: regex>=2022.1.18 in /usr/local/lib/python3.11/dist-packages (from tiktoken<1,>=0.7->langchain-openai<1.0.0,>=0.3.9->langchain-deepseek) (2024.11.6)\n",
            "Requirement already satisfied: idna>=2.8 in /usr/local/lib/python3.11/dist-packages (from anyio<5,>=3.5.0->openai<2.0.0,>=1.68.2->langchain-openai<1.0.0,>=0.3.9->langchain-deepseek) (3.10)\n",
            "Requirement already satisfied: certifi in /usr/local/lib/python3.11/dist-packages (from httpx<1,>=0.23.0->langsmith<0.4,>=0.1.125->langchain-core<1.0.0,>=0.3.47->langchain-deepseek) (2025.1.31)\n",
            "Requirement already satisfied: httpcore==1.* in /usr/local/lib/python3.11/dist-packages (from httpx<1,>=0.23.0->langsmith<0.4,>=0.1.125->langchain-core<1.0.0,>=0.3.47->langchain-deepseek) (1.0.7)\n",
            "Requirement already satisfied: h11<0.15,>=0.13 in /usr/local/lib/python3.11/dist-packages (from httpcore==1.*->httpx<1,>=0.23.0->langsmith<0.4,>=0.1.125->langchain-core<1.0.0,>=0.3.47->langchain-deepseek) (0.14.0)\n",
            "Requirement already satisfied: charset-normalizer<4,>=2 in /usr/local/lib/python3.11/dist-packages (from requests<3,>=2->langsmith<0.4,>=0.1.125->langchain-core<1.0.0,>=0.3.47->langchain-deepseek) (3.4.1)\n",
            "Requirement already satisfied: urllib3<3,>=1.21.1 in /usr/local/lib/python3.11/dist-packages (from requests<3,>=2->langsmith<0.4,>=0.1.125->langchain-core<1.0.0,>=0.3.47->langchain-deepseek) (2.3.0)\n",
            "Requirement already satisfied: retrying in /usr/local/lib/python3.11/dist-packages (1.3.4)\n",
            "Requirement already satisfied: six>=1.7.0 in /usr/local/lib/python3.11/dist-packages (from retrying) (1.17.0)\n"
          ]
        }
      ]
    },
    {
      "cell_type": "code",
      "source": [
        "import os\n",
        "import time\n",
        "from langchain_openai import ChatOpenAI\n",
        "from langchain_core.prompts import ChatPromptTemplate\n",
        "from langchain_core.output_parsers import StrOutputParser\n",
        "from langchain_deepseek import ChatDeepSeek\n",
        "from langchain_core.prompts import ChatPromptTemplate\n",
        "from langchain_core.output_parsers import StrOutputParser\n",
        "import random\n",
        "import json\n",
        "from retrying import retry\n",
        "import requests\n",
        "\n",
        "\n",
        "os.environ[\"DEEPSEEK_API_KEY\"] = \"sk-76b03e5991db4845836cb45121a63bcf\"\n",
        "os.environ[\"DEEPSEEK_BASE_URL\"] = \"https://api.deepseek.com/v1\"\n",
        "deepseek_chat = ChatDeepSeek(model=\"deepseek-chat\", temperature=0)\n",
        "\n"
      ],
      "metadata": {
        "id": "EXIC-LVvVXit",
        "collapsed": true
      },
      "execution_count": 6,
      "outputs": []
    },
    {
      "cell_type": "markdown",
      "source": [
        "😊 You can now engage directly with DeepSeek-Chat using our `invoke` function."
      ],
      "metadata": {
        "id": "4ElnWZGKu9Vo"
      }
    },
    {
      "cell_type": "code",
      "source": [
        "prompt = ChatPromptTemplate.from_messages(\n",
        "    [\n",
        "        (\"system\", \"You are an AI assistant, please answer user's question.\"),\n",
        "        (\"user\", \"{input}\")\n",
        "    ]\n",
        ")\n",
        "\n",
        "#model = ChatDeepSeek(model=\"deepseek-chat\")\n",
        "\n",
        "chain = prompt | deepseek_chat\n",
        "\n",
        "response = chain.invoke({\"input\": \"Hello\"})\n",
        "print(response)\n"
      ],
      "metadata": {
        "colab": {
          "base_uri": "https://localhost:8080/"
        },
        "id": "mzUZFHrweW2D",
        "outputId": "2b71feb9-164a-4a20-b0f2-188063dc1dd2"
      },
      "execution_count": 7,
      "outputs": [
        {
          "output_type": "stream",
          "name": "stdout",
          "text": [
            "content='Hello! How can I assist you today? 😊' additional_kwargs={'refusal': None} response_metadata={'token_usage': {'completion_tokens': 11, 'prompt_tokens': 16, 'total_tokens': 27, 'completion_tokens_details': None, 'prompt_tokens_details': {'audio_tokens': None, 'cached_tokens': 0}, 'prompt_cache_hit_tokens': 0, 'prompt_cache_miss_tokens': 16}, 'model_name': 'deepseek-chat', 'system_fingerprint': 'fp_3d5141a69a_prod0225', 'id': '01e53780-f8fb-4a27-89bb-32682a3b9004', 'finish_reason': 'stop', 'logprobs': None} id='run-65790484-e524-4359-8057-f18e0cb1b78a-0' usage_metadata={'input_tokens': 16, 'output_tokens': 11, 'total_tokens': 27, 'input_token_details': {'cache_read': 0}, 'output_token_details': {}}\n"
          ]
        }
      ]
    },
    {
      "cell_type": "markdown",
      "source": [
        "To make the output easy to use, we can apply a output parser to the original output!"
      ],
      "metadata": {
        "id": "6Ly8ERAJgI8m"
      }
    },
    {
      "cell_type": "code",
      "source": [
        "chain = prompt | deepseek_chat | StrOutputParser()\n",
        "\n",
        "response = chain.invoke({\"input\": \"Hello\"})\n",
        "print(response)"
      ],
      "metadata": {
        "colab": {
          "base_uri": "https://localhost:8080/"
        },
        "id": "UPnmOckZgICw",
        "outputId": "2da9e14a-35f2-457e-ad37-b8a33067ebad"
      },
      "execution_count": 8,
      "outputs": [
        {
          "output_type": "stream",
          "name": "stdout",
          "text": [
            "Hello! How can I assist you today? 😊\n"
          ]
        }
      ]
    },
    {
      "cell_type": "markdown",
      "source": [
        "### **LLM Setting**\n",
        "\n",
        "**1. Model Selection**\n",
        "\n",
        "You are free to choose from several models. Below are the models DeepSeek offers:\n",
        "- deepseek-chat (currently pointing to deepseek-v3, offering a balance of capability and cost, highly recommended!)\n",
        "- deepseek-reasoner (currently pointing to deepseek-r1, extremely sophisticated and intelligent)\n",
        "For detailed information, please visit [DeepSeek's Website](https://api-docs.deepseek.com/zh-cn/news/news250120).\n",
        "\n",
        "Note that DeepSeek offers a discount when using API in the midnight, details showing [here](https://api-docs.deepseek.com/zh-cn/quick_start/pricing)\n",
        "\n",
        "Below are the models OpenAI offers:\n",
        "\n",
        "- gpt-4o-mini (the most cost-effective model, highly recommended!)\n",
        "- gpt-4o (offers a balance of capability and cost)\n",
        "- gpt-4-turbo (extremely sophisticated and intelligent)\n",
        "\n",
        "For detailed information, please visit [OpenAI's Website](https://platform.openai.com/docs/models/gpt-4-turbo-and-gpt-4)."
      ],
      "metadata": {
        "id": "ADk-FqFZvaNn"
      }
    },
    {
      "cell_type": "markdown",
      "source": [
        "**2. Temperature**\n",
        "Controls the randomness of the model's output. Lower values make responses more deterministic and focused, while higher values allow for more creative and diverse outputs. Use low values for factual tasks and high values for creative tasks."
      ],
      "metadata": {
        "id": "x-Glb5kzzu1e"
      }
    },
    {
      "cell_type": "markdown",
      "source": [
        "**3. Top P**\n",
        "This is nucleus sampling, where only tokens from the top probability mass (up to `top_p`) are considered. Lower values encourage more focused responses, while higher values increase the diversity of possible outputs."
      ],
      "metadata": {
        "id": "Cp7Tlio5w_DB"
      }
    },
    {
      "cell_type": "markdown",
      "source": [
        "**4. Max Length** This limits the total number of tokens the model can generate, helping control response length and prevent irrelevant output."
      ],
      "metadata": {
        "id": "RW6oF6wK0L5B"
      }
    },
    {
      "cell_type": "markdown",
      "source": [
        "### **Prompting Techniques**"
      ],
      "metadata": {
        "id": "bPOyoMZZKn9E"
      }
    },
    {
      "cell_type": "markdown",
      "source": [
        "**1. Zero-Shot Prompting** Large language models (LLMs) today, such as GPT-3.5 Turbo, GPT-4, and Claude 3, are tuned to follow instructions and are trained on large amounts of data. Large-scale training makes these models capable of performing some tasks in a \"zero-shot\" manner. Zero-shot prompting means that the prompt used to interact with the model won't contain examples or demonstrations. The zero-shot prompt directly instructs the model to perform a task without any additional examples to steer it."
      ],
      "metadata": {
        "id": "rW7OjIeqMzC3"
      }
    },
    {
      "cell_type": "code",
      "source": [
        "#model = ChatDeepSeek(model=\"deepseek-chat\")\n",
        "\n",
        "chain = prompt | deepseek_chat | StrOutputParser()\n",
        "\n",
        "your_prompt = \"\"\"Classify the text into neutral, negative or positive.\n",
        "Text: I think the vacation is okay.\n",
        "Sentiment:\"\"\"\n",
        "\n",
        "chain.invoke({\"input\": your_prompt})"
      ],
      "metadata": {
        "id": "h77_UeVAKnOy",
        "colab": {
          "base_uri": "https://localhost:8080/",
          "height": 52
        },
        "outputId": "1080ee5f-34b7-4bee-e79b-ab7300f837a9"
      },
      "execution_count": 9,
      "outputs": [
        {
          "output_type": "execute_result",
          "data": {
            "text/plain": [
              "'The sentiment of the text \"I think the vacation is okay.\" is **neutral**.  \\n\\nThe word \"okay\" indicates a neither strongly positive nor negative feeling, suggesting a moderate or indifferent sentiment.'"
            ],
            "application/vnd.google.colaboratory.intrinsic+json": {
              "type": "string"
            }
          },
          "metadata": {},
          "execution_count": 9
        }
      ]
    },
    {
      "cell_type": "markdown",
      "source": [
        "**2. Few-Shot Prompting** While large-language models demonstrate remarkable zero-shot capabilities, they still fall short on more complex tasks when using the zero-shot setting. Few-shot prompting can be used as a technique to enable in-context learning where we provide demonstrations in the prompt to steer the model to better performance. The demonstrations serve as conditioning for subsequent examples where we would like the model to generate a response.\n",
        "\n",
        "According to [Touvron et al. 2023](https://arxiv.org/pdf/2302.13971.pdf) few shot properties first appeared when models were scaled to a sufficient size ([Kaplan et al., 2020](https://arxiv.org/abs/2001.08361))."
      ],
      "metadata": {
        "id": "wLUojJlxNHsn"
      }
    },
    {
      "cell_type": "code",
      "source": [
        "your_prompt = \"\"\"This is bad! // Negative\n",
        "This is awesome! // Positive\n",
        "Wow that movie was rad! // Positive\n",
        "What a horrible show! //\"\"\"\n",
        "chain.invoke({\"input\": your_prompt})"
      ],
      "metadata": {
        "id": "aiMceIYUNISX",
        "colab": {
          "base_uri": "https://localhost:8080/",
          "height": 35
        },
        "outputId": "0388a7e0-12f3-4888-bdfe-76cb42b1843f"
      },
      "execution_count": 10,
      "outputs": [
        {
          "output_type": "execute_result",
          "data": {
            "text/plain": [
              "'Negative'"
            ],
            "application/vnd.google.colaboratory.intrinsic+json": {
              "type": "string"
            }
          },
          "metadata": {},
          "execution_count": 10
        }
      ]
    },
    {
      "cell_type": "markdown",
      "source": [
        "\n",
        "\n",
        "**3. Chain-of-Thought Prompting** Introduced in [Wei et al. (2022)](https://arxiv.org/abs/2201.11903), chain-of-thought (CoT) prompting enables complex reasoning capabilities through intermediate reasoning steps. You can combine it with few-shot prompting to get better results on more complex tasks that require reasoning before responding.\n",
        "\n",
        "![](https://www.promptingguide.ai/_next/image?url=%2F_next%2Fstatic%2Fmedia%2Fcot.1933d9fe.png&w=1920&q=75)  "
      ],
      "metadata": {
        "id": "vah7gl7qNIlx"
      }
    },
    {
      "cell_type": "code",
      "source": [
        "your_prompt = \"\"\"I went to the market and bought 10 apples. I gave 2 apples to the neighbor and 2 to the repairman. I then went and bought 5 more apples and ate 1. How many apples did I remain with?\n",
        "Let's think step by step.\"\"\"\n",
        "chain.invoke({\"input\": your_prompt})"
      ],
      "metadata": {
        "id": "cd0llsdSNJDC",
        "colab": {
          "base_uri": "https://localhost:8080/",
          "height": 104
        },
        "outputId": "bdc0a096-cf5e-4e53-bebc-8c6ed74b6b14"
      },
      "execution_count": 11,
      "outputs": [
        {
          "output_type": "execute_result",
          "data": {
            "text/plain": [
              "\"Let's break down the problem step by step to find out how many apples you remain with.\\n\\n1. **Initial Purchase:**\\n   - You bought **10 apples**.\\n   - **Total apples now:** 10\\n\\n2. **Giving Apples to Others:**\\n   - You gave **2 apples** to the neighbor.\\n   - You gave **2 apples** to the repairman.\\n   - **Total apples given away:** 2 (neighbor) + 2 (repairman) = **4 apples**\\n   - **Apples remaining after giving away:** 10 - 4 = **6 apples**\\n\\n3. **Second Purchase:**\\n   - You bought **5 more apples**.\\n   - **Total apples now:** 6 (remaining) + 5 (new) = **11 apples**\\n\\n4. **Eating an Apple:**\\n   - You ate **1 apple**.\\n   - **Apples remaining after eating:** 11 - 1 = **10 apples**\\n\\n**Final Answer:** You remain with \\\\(\\\\boxed{10}\\\\) apples.\""
            ],
            "application/vnd.google.colaboratory.intrinsic+json": {
              "type": "string"
            }
          },
          "metadata": {},
          "execution_count": 11
        }
      ]
    },
    {
      "cell_type": "markdown",
      "source": [
        "## **Task 1: LLMs as a knowledgeable doctor**\n"
      ],
      "metadata": {
        "id": "SEgnOeWYj43i"
      }
    },
    {
      "cell_type": "markdown",
      "source": [
        "\n",
        "\n",
        "The pharmacist licensure exam  is a cornerstone in the pharmacy profession, ensuring that candidates possess the requisite knowledge and skills for safe and effective practice. Its significance lies not only in validating credentials but also in safeguarding public health, enabling professional recognition, and ensuring adherence to legal and regulatory standards.\n",
        "\n",
        "Advanced models like ChatGPT have significant potential in exam preparation, boasting an extensive knowledge base and the capability to provide in-depth explanations and clarify complex concepts. However, despite the prowess of such large models, if prompts are not designed appropriately, the information retrieved might be inaccurate or incomplete, potentially hindering success in the pharmacist exam."
      ],
      "metadata": {
        "id": "A2M-7NsrLe7j"
      }
    },
    {
      "cell_type": "code",
      "source": [
        "!wget https://NLP-course-cuhksz.github.io/Assignments/Assignment2/task1/data/1.exam.json"
      ],
      "metadata": {
        "colab": {
          "base_uri": "https://localhost:8080/"
        },
        "id": "OeJKZ08wljui",
        "outputId": "3d9c0922-17e8-4736-a984-518a23757d18"
      },
      "execution_count": 15,
      "outputs": [
        {
          "output_type": "stream",
          "name": "stdout",
          "text": [
            "--2025-03-27 10:27:10--  https://nlp-course-cuhksz.github.io/Assignments/Assignment2/task1/data/1.exam.json\n",
            "Resolving nlp-course-cuhksz.github.io (nlp-course-cuhksz.github.io)... 185.199.109.153, 185.199.108.153, 185.199.110.153, ...\n",
            "Connecting to nlp-course-cuhksz.github.io (nlp-course-cuhksz.github.io)|185.199.109.153|:443... connected.\n",
            "HTTP request sent, awaiting response... 200 OK\n",
            "Length: 86223 (84K) [application/json]\n",
            "Saving to: ‘1.exam.json.1’\n",
            "\n",
            "1.exam.json.1       100%[===================>]  84.20K  --.-KB/s    in 0.02s   \n",
            "\n",
            "2025-03-27 10:27:10 (3.47 MB/s) - ‘1.exam.json.1’ saved [86223/86223]\n",
            "\n"
          ]
        }
      ]
    },
    {
      "cell_type": "code",
      "source": [
        "import json\n",
        "with open('1.exam.json') as f:\n",
        "  data = json.load(f)"
      ],
      "metadata": {
        "id": "FbVxQUfkmZg4"
      },
      "execution_count": 16,
      "outputs": []
    },
    {
      "cell_type": "code",
      "source": [
        "data[24]"
      ],
      "metadata": {
        "colab": {
          "base_uri": "https://localhost:8080/"
        },
        "id": "LpbU3bOdop67",
        "outputId": "e6e93cad-da2e-4e85-f93a-7d7316204c24"
      },
      "execution_count": 61,
      "outputs": [
        {
          "output_type": "execute_result",
          "data": {
            "text/plain": [
              "{'question': '63. 表⽰药物在体内波动程度的参数是（）。',\n",
              " 'option': {'A': 'Cmax', 'B': 'DE', 'C': 'MRT', 'D': 'AUMC', 'E': 'AUC'},\n",
              " 'analysis': '药物在体内波动程度的参数是峰浓度（C ），反应药物吸收的程度，也与吸收速度有关。max',\n",
              " 'answer': 'A',\n",
              " 'question_type': '配伍选择题',\n",
              " 'source': '2021年执业药师职业资格考试《药学专业知识（⼀）》',\n",
              " 'options': 'A:Cmax\\nB:DE\\nC:MRT\\nD:AUMC\\nE:AUC',\n",
              " 'deepseek_ans': 'B'}"
            ]
          },
          "metadata": {},
          "execution_count": 61
        }
      ]
    },
    {
      "cell_type": "code",
      "source": [
        "your_prompt = \"\"\"请回答下面的多选题，请直接正确答案选项，不要输出其他内容。\n",
        "{question}\n",
        "{options}\"\"\"\n",
        "\n",
        "def get_query(da):\n",
        "  da['options'] = '\\n'.join([f\"{k}:{v}\" for k,v in da['option'].items()])\n",
        "  return your_prompt.format_map(da)\n",
        "\n",
        "get_query(data[0])"
      ],
      "metadata": {
        "colab": {
          "base_uri": "https://localhost:8080/",
          "height": 70
        },
        "id": "gtmMDV5Hnaun",
        "outputId": "52cbb15d-b26b-4939-924a-4cdb22d408e8"
      },
      "execution_count": 21,
      "outputs": [
        {
          "output_type": "execute_result",
          "data": {
            "text/plain": [
              "'请回答下面的多选题，请直接正确答案选项，不要输出其他内容。\\n27. 根据国家药品监督管理局，公安部，国家卫⽣健康委员会的有关规定，⼜服固体制剂每剂量单位含羟考酮碱不超过5毫克，且不含其他⿇醉药品，精神药品或者药品类易制毒化学品的复⽅制剂列⼊（）。\\nA:含⿇醉药品复⽅制剂的管理\\nB:第⼆类精神药品管理\\nC:第⼀类精神药品管理\\nD:医疗⽤毒性药品管理\\nE:'"
            ],
            "application/vnd.google.colaboratory.intrinsic+json": {
              "type": "string"
            }
          },
          "metadata": {},
          "execution_count": 21
        }
      ]
    },
    {
      "cell_type": "code",
      "source": [
        "chain.invoke(get_query(data[0]))"
      ],
      "metadata": {
        "colab": {
          "base_uri": "https://localhost:8080/",
          "height": 35
        },
        "id": "j5t7lU5kpO3Z",
        "outputId": "cdd4c6bf-ea18-435f-c952-6604dc387f4e"
      },
      "execution_count": 22,
      "outputs": [
        {
          "output_type": "execute_result",
          "data": {
            "text/plain": [
              "'B:第⼆类精神药品管理'"
            ],
            "application/vnd.google.colaboratory.intrinsic+json": {
              "type": "string"
            }
          },
          "metadata": {},
          "execution_count": 22
        }
      ]
    },
    {
      "cell_type": "code",
      "source": [
        "# Zero-shot 计算做题准确率\n",
        "prompt = ChatPromptTemplate.from_messages(\n",
        "    [\n",
        "        (\"system\", \"You are an AI assistant, please answer user's question.\"),\n",
        "        (\"user\", \"{input}\")\n",
        "    ]\n",
        ")\n",
        "deepseek_chat = ChatDeepSeek(model=\"deepseek-chat\", temperature=0)\n",
        "chain = prompt | deepseek_chat | StrOutputParser()\n",
        "your_prompt = \"\"\"Please answer the multiple choice questions below, please direct the correct answer option and do not output anything else.\n",
        "{question}\n",
        "{options}\"\"\"\n",
        "\n",
        "import re\n",
        "from tqdm import tqdm\n",
        "\n",
        "def get_ans(ans):\n",
        "    match = re.findall(r'.*?([A-E]+(?:[、, ]+[A-E]+)*)', ans)\n",
        "    if match:\n",
        "        last_match = match[-1]\n",
        "        return ''.join(re.split(r'[、, ，]+', last_match))\n",
        "    return ''\n",
        "\n",
        "correct_num = 0\n",
        "total_num = 0\n",
        "#for da in tqdm(data[:10]):\n",
        "for da in tqdm(data):\n",
        "  print(total_num+1)\n",
        "  da['deepseek_ans'] =  chain.invoke(get_query(da))\n",
        "  print(da['answer'])\n",
        "  print(da['deepseek_ans'])\n",
        "  if get_ans(da['deepseek_ans']) == da['answer']:\n",
        "    correct_num += 1\n",
        "  total_num += 1\n",
        "print(f\"模型准确率: {correct_num/total_num:.2%}\")\n"
      ],
      "metadata": {
        "colab": {
          "base_uri": "https://localhost:8080/"
        },
        "id": "pRw_RUoUpfAH",
        "outputId": "ba390220-93d5-4735-a5d3-782f2b4e7ae2"
      },
      "execution_count": 24,
      "outputs": [
        {
          "output_type": "stream",
          "name": "stderr",
          "text": [
            "\r  0%|          | 0/100 [00:00<?, ?it/s]"
          ]
        },
        {
          "output_type": "stream",
          "name": "stdout",
          "text": [
            "1\n"
          ]
        },
        {
          "output_type": "stream",
          "name": "stderr",
          "text": [
            "\r  1%|          | 1/100 [00:04<08:03,  4.88s/it]"
          ]
        },
        {
          "output_type": "stream",
          "name": "stdout",
          "text": [
            "B\n",
            "B:第⼆类精神药品管理\n",
            "2\n"
          ]
        },
        {
          "output_type": "stream",
          "name": "stderr",
          "text": [
            "\r  2%|▏         | 2/100 [00:09<08:03,  4.94s/it]"
          ]
        },
        {
          "output_type": "stream",
          "name": "stdout",
          "text": [
            "BCDE\n",
            "B:普拉克索\n",
            "D:吡贝地尔\n",
            "3\n"
          ]
        },
        {
          "output_type": "stream",
          "name": "stderr",
          "text": [
            "\r  3%|▎         | 3/100 [00:14<08:02,  4.98s/it]"
          ]
        },
        {
          "output_type": "stream",
          "name": "stdout",
          "text": [
            "D\n",
            "D:甲苯咪唑\n",
            "4\n"
          ]
        },
        {
          "output_type": "stream",
          "name": "stderr",
          "text": [
            "\r  4%|▍         | 4/100 [00:19<07:55,  4.96s/it]"
          ]
        },
        {
          "output_type": "stream",
          "name": "stdout",
          "text": [
            "C\n",
            "C:雷珠单抗注射液\n",
            "5\n"
          ]
        },
        {
          "output_type": "stream",
          "name": "stderr",
          "text": [
            "\r  5%|▌         | 5/100 [00:25<08:15,  5.21s/it]"
          ]
        },
        {
          "output_type": "stream",
          "name": "stdout",
          "text": [
            "B\n",
            "B:复⽅⾦银花颗粒\n",
            "6\n"
          ]
        },
        {
          "output_type": "stream",
          "name": "stderr",
          "text": [
            "\r  6%|▌         | 6/100 [00:30<07:48,  4.98s/it]"
          ]
        },
        {
          "output_type": "stream",
          "name": "stdout",
          "text": [
            "B\n",
            "B:温度\n",
            "7\n"
          ]
        },
        {
          "output_type": "stream",
          "name": "stderr",
          "text": [
            "\r  7%|▋         | 7/100 [00:35<08:05,  5.22s/it]"
          ]
        },
        {
          "output_type": "stream",
          "name": "stdout",
          "text": [
            "C\n",
            "C:适⽤于1型糖尿病或糖尿病酮症酸中毒\n",
            "8\n"
          ]
        },
        {
          "output_type": "stream",
          "name": "stderr",
          "text": [
            "\r  8%|▊         | 8/100 [00:40<07:47,  5.08s/it]"
          ]
        },
        {
          "output_type": "stream",
          "name": "stdout",
          "text": [
            "C\n",
            "C:附条件批准程序\n",
            "9\n"
          ]
        },
        {
          "output_type": "stream",
          "name": "stderr",
          "text": [
            "\r  9%|▉         | 9/100 [00:45<07:34,  5.00s/it]"
          ]
        },
        {
          "output_type": "stream",
          "name": "stdout",
          "text": [
            "A\n",
            "A:西格列汀\n",
            "10\n"
          ]
        },
        {
          "output_type": "stream",
          "name": "stderr",
          "text": [
            "\r 10%|█         | 10/100 [00:50<07:34,  5.05s/it]"
          ]
        },
        {
          "output_type": "stream",
          "name": "stdout",
          "text": [
            "A\n",
            "A:25mg\n",
            "11\n"
          ]
        },
        {
          "output_type": "stream",
          "name": "stderr",
          "text": [
            "\r 11%|█         | 11/100 [00:55<07:19,  4.94s/it]"
          ]
        },
        {
          "output_type": "stream",
          "name": "stdout",
          "text": [
            "D\n",
            "D:N-去甲基舍曲林\n",
            "12\n"
          ]
        },
        {
          "output_type": "stream",
          "name": "stderr",
          "text": [
            "\r 12%|█▏        | 12/100 [00:59<06:51,  4.67s/it]"
          ]
        },
        {
          "output_type": "stream",
          "name": "stdout",
          "text": [
            "D\n",
            "A\n",
            "13\n"
          ]
        },
        {
          "output_type": "stream",
          "name": "stderr",
          "text": [
            "\r 13%|█▎        | 13/100 [01:04<07:06,  4.91s/it]"
          ]
        },
        {
          "output_type": "stream",
          "name": "stdout",
          "text": [
            "B\n",
            "B:甲硝唑栓\n",
            "14\n"
          ]
        },
        {
          "output_type": "stream",
          "name": "stderr",
          "text": [
            "\r 14%|█▍        | 14/100 [01:09<06:57,  4.86s/it]"
          ]
        },
        {
          "output_type": "stream",
          "name": "stdout",
          "text": [
            "D\n",
            "D:结晶性\n",
            "15\n"
          ]
        },
        {
          "output_type": "stream",
          "name": "stderr",
          "text": [
            "\r 15%|█▌        | 15/100 [01:14<06:46,  4.78s/it]"
          ]
        },
        {
          "output_type": "stream",
          "name": "stdout",
          "text": [
            "B\n",
            "A:83mL和9917mL\n",
            "16\n"
          ]
        },
        {
          "output_type": "stream",
          "name": "stderr",
          "text": [
            "\r 16%|█▌        | 16/100 [01:18<06:42,  4.79s/it]"
          ]
        },
        {
          "output_type": "stream",
          "name": "stdout",
          "text": [
            "C\n",
            "C:CYP2C19\n",
            "17\n"
          ]
        },
        {
          "output_type": "stream",
          "name": "stderr",
          "text": [
            "\r 17%|█▋        | 17/100 [01:23<06:32,  4.73s/it]"
          ]
        },
        {
          "output_type": "stream",
          "name": "stdout",
          "text": [
            "B\n",
            "B:别嘌醇\n",
            "18\n"
          ]
        },
        {
          "output_type": "stream",
          "name": "stderr",
          "text": [
            "\r 18%|█▊        | 18/100 [01:33<08:33,  6.27s/it]"
          ]
        },
        {
          "output_type": "stream",
          "name": "stdout",
          "text": [
            "ACE\n",
            "A:⾮甾体抗炎药舒林酸结构中的甲基亚砜，经还原后的代谢物才具有活性\n",
            "C:驱⾍药阿苯达唑结构中的丙硫醚，经S-氧化后的代谢物才具有活性\n",
            "D:抗癫痫药苯妥英钠结构中的⼀个芳环，发⽣氧化代谢后产⽣羟基化的代谢物仍具有活性\n",
            "E:解热镇痛药保泰松结构中的⼀个芳环，发⽣氧化代谢后产⽣羟基化的保泰松仍具有活性\n",
            "19\n"
          ]
        },
        {
          "output_type": "stream",
          "name": "stderr",
          "text": [
            "\r 19%|█▉        | 19/100 [01:37<07:48,  5.78s/it]"
          ]
        },
        {
          "output_type": "stream",
          "name": "stdout",
          "text": [
            "D\n",
            "D:CYP2D6\n",
            "20\n"
          ]
        },
        {
          "output_type": "stream",
          "name": "stderr",
          "text": [
            "\r 20%|██        | 20/100 [01:44<08:02,  6.03s/it]"
          ]
        },
        {
          "output_type": "stream",
          "name": "stdout",
          "text": [
            "A\n",
            "A:体温计、⽪肤缝合钉、⽆菌医⽤⼿套\n",
            "21\n"
          ]
        },
        {
          "output_type": "stream",
          "name": "stderr",
          "text": [
            "\r 21%|██        | 21/100 [01:48<07:19,  5.56s/it]"
          ]
        },
        {
          "output_type": "stream",
          "name": "stdout",
          "text": [
            "A\n",
            "E\n",
            "22\n"
          ]
        },
        {
          "output_type": "stream",
          "name": "stderr",
          "text": [
            "\r 22%|██▏       | 22/100 [01:53<06:46,  5.22s/it]"
          ]
        },
        {
          "output_type": "stream",
          "name": "stdout",
          "text": [
            "E\n",
            "E:pH调节剂\n",
            "23\n"
          ]
        },
        {
          "output_type": "stream",
          "name": "stderr",
          "text": [
            "\r 23%|██▎       | 23/100 [01:57<06:20,  4.94s/it]"
          ]
        },
        {
          "output_type": "stream",
          "name": "stdout",
          "text": [
            "B\n",
            "B\n",
            "24\n"
          ]
        },
        {
          "output_type": "stream",
          "name": "stderr",
          "text": [
            "\r 24%|██▍       | 24/100 [02:03<06:30,  5.14s/it]"
          ]
        },
        {
          "output_type": "stream",
          "name": "stdout",
          "text": [
            "B\n",
            "B:具有较⼤的⼼脏毒副作⽤\n",
            "25\n"
          ]
        },
        {
          "output_type": "stream",
          "name": "stderr",
          "text": [
            "\r 25%|██▌       | 25/100 [02:09<06:56,  5.56s/it]"
          ]
        },
        {
          "output_type": "stream",
          "name": "stdout",
          "text": [
            "A\n",
            "B:DE\n",
            "26\n"
          ]
        },
        {
          "output_type": "stream",
          "name": "stderr",
          "text": [
            "\r 26%|██▌       | 26/100 [02:15<06:42,  5.44s/it]"
          ]
        },
        {
          "output_type": "stream",
          "name": "stdout",
          "text": [
            "C\n",
            "E\n",
            "27\n"
          ]
        },
        {
          "output_type": "stream",
          "name": "stderr",
          "text": [
            "\r 27%|██▋       | 27/100 [02:21<07:07,  5.86s/it]"
          ]
        },
        {
          "output_type": "stream",
          "name": "stdout",
          "text": [
            "E\n",
            "E:β-内酰胺类\n",
            "28\n"
          ]
        },
        {
          "output_type": "stream",
          "name": "stderr",
          "text": [
            "\r 28%|██▊       | 28/100 [02:26<06:42,  5.59s/it]"
          ]
        },
        {
          "output_type": "stream",
          "name": "stdout",
          "text": [
            "B\n",
            "B:4.96mg/L\n",
            "29\n"
          ]
        },
        {
          "output_type": "stream",
          "name": "stderr",
          "text": [
            "\r 29%|██▉       | 29/100 [02:31<06:08,  5.19s/it]"
          ]
        },
        {
          "output_type": "stream",
          "name": "stdout",
          "text": [
            "ACD\n",
            "A, C, D\n",
            "30\n"
          ]
        },
        {
          "output_type": "stream",
          "name": "stderr",
          "text": [
            "\r 30%|███       | 30/100 [02:35<05:51,  5.02s/it]"
          ]
        },
        {
          "output_type": "stream",
          "name": "stdout",
          "text": [
            "E\n",
            "E:脂质体\n",
            "31\n"
          ]
        },
        {
          "output_type": "stream",
          "name": "stderr",
          "text": [
            "\r 31%|███       | 31/100 [02:41<05:52,  5.11s/it]"
          ]
        },
        {
          "output_type": "stream",
          "name": "stdout",
          "text": [
            "C\n",
            "C:⾏政处罚\n",
            "32\n"
          ]
        },
        {
          "output_type": "stream",
          "name": "stderr",
          "text": [
            "\r 32%|███▏      | 32/100 [02:45<05:40,  5.01s/it]"
          ]
        },
        {
          "output_type": "stream",
          "name": "stdout",
          "text": [
            "E\n",
            "E:⾮布司他\n",
            "33\n"
          ]
        },
        {
          "output_type": "stream",
          "name": "stderr",
          "text": [
            "\r 33%|███▎      | 33/100 [02:52<06:02,  5.41s/it]"
          ]
        },
        {
          "output_type": "stream",
          "name": "stdout",
          "text": [
            "C\n",
            "C:依达拉奉\n",
            "34\n"
          ]
        },
        {
          "output_type": "stream",
          "name": "stderr",
          "text": [
            "\r 34%|███▍      | 34/100 [02:56<05:36,  5.09s/it]"
          ]
        },
        {
          "output_type": "stream",
          "name": "stdout",
          "text": [
            "C\n",
            "C:构型异构\n",
            "35\n"
          ]
        },
        {
          "output_type": "stream",
          "name": "stderr",
          "text": [
            "\r 35%|███▌      | 35/100 [03:03<05:58,  5.52s/it]"
          ]
        },
        {
          "output_type": "stream",
          "name": "stdout",
          "text": [
            "C\n",
            "C:枸橼酸铋钾\n",
            "36\n"
          ]
        },
        {
          "output_type": "stream",
          "name": "stderr",
          "text": [
            "\r 36%|███▌      | 36/100 [03:07<05:34,  5.23s/it]"
          ]
        },
        {
          "output_type": "stream",
          "name": "stdout",
          "text": [
            "C\n",
            "C\n",
            "37\n"
          ]
        },
        {
          "output_type": "stream",
          "name": "stderr",
          "text": [
            "\r 37%|███▋      | 37/100 [03:12<05:27,  5.20s/it]"
          ]
        },
        {
          "output_type": "stream",
          "name": "stdout",
          "text": [
            "D\n",
            "D\n",
            "38\n"
          ]
        },
        {
          "output_type": "stream",
          "name": "stderr",
          "text": [
            "\r 38%|███▊      | 38/100 [03:17<05:19,  5.15s/it]"
          ]
        },
        {
          "output_type": "stream",
          "name": "stdout",
          "text": [
            "A\n",
            "A\n",
            "39\n"
          ]
        },
        {
          "output_type": "stream",
          "name": "stderr",
          "text": [
            "\r 39%|███▉      | 39/100 [03:24<05:43,  5.63s/it]"
          ]
        },
        {
          "output_type": "stream",
          "name": "stdout",
          "text": [
            "A\n",
            "A\n",
            "40\n"
          ]
        },
        {
          "output_type": "stream",
          "name": "stderr",
          "text": [
            "\r 40%|████      | 40/100 [03:29<05:27,  5.45s/it]"
          ]
        },
        {
          "output_type": "stream",
          "name": "stdout",
          "text": [
            "ACD\n",
            "A, C, D\n",
            "41\n"
          ]
        },
        {
          "output_type": "stream",
          "name": "stderr",
          "text": [
            "\r 41%|████      | 41/100 [03:34<05:12,  5.29s/it]"
          ]
        },
        {
          "output_type": "stream",
          "name": "stdout",
          "text": [
            "B\n",
            "B:氨曲南\n",
            "42\n"
          ]
        },
        {
          "output_type": "stream",
          "name": "stderr",
          "text": [
            "\r 42%|████▏     | 42/100 [03:39<05:08,  5.31s/it]"
          ]
        },
        {
          "output_type": "stream",
          "name": "stdout",
          "text": [
            "C\n",
            "C:⿇醉药品和第⼀类精神药品实⾏政府定价，其他药品实⾏政府指导价\n",
            "43\n"
          ]
        },
        {
          "output_type": "stream",
          "name": "stderr",
          "text": [
            "\r 43%|████▎     | 43/100 [03:44<04:50,  5.10s/it]"
          ]
        },
        {
          "output_type": "stream",
          "name": "stdout",
          "text": [
            "B\n",
            "B:乳果糖\n",
            "44\n"
          ]
        },
        {
          "output_type": "stream",
          "name": "stderr",
          "text": [
            "\r 44%|████▍     | 44/100 [03:48<04:33,  4.88s/it]"
          ]
        },
        {
          "output_type": "stream",
          "name": "stdout",
          "text": [
            "E\n",
            "D\n",
            "45\n"
          ]
        },
        {
          "output_type": "stream",
          "name": "stderr",
          "text": [
            "\r 45%|████▌     | 45/100 [03:53<04:21,  4.75s/it]"
          ]
        },
        {
          "output_type": "stream",
          "name": "stdout",
          "text": [
            "E\n",
            "E\n",
            "46\n"
          ]
        },
        {
          "output_type": "stream",
          "name": "stderr",
          "text": [
            "\r 46%|████▌     | 46/100 [03:58<04:19,  4.80s/it]"
          ]
        },
        {
          "output_type": "stream",
          "name": "stdout",
          "text": [
            "B\n",
            "B:清晨\n",
            "47\n"
          ]
        },
        {
          "output_type": "stream",
          "name": "stderr",
          "text": [
            "\r 47%|████▋     | 47/100 [04:02<04:14,  4.80s/it]"
          ]
        },
        {
          "output_type": "stream",
          "name": "stdout",
          "text": [
            "D\n",
            "D:±1.0℃\n",
            "48\n"
          ]
        },
        {
          "output_type": "stream",
          "name": "stderr",
          "text": [
            "\r 48%|████▊     | 48/100 [04:08<04:28,  5.15s/it]"
          ]
        },
        {
          "output_type": "stream",
          "name": "stdout",
          "text": [
            "ABE\n",
            "A:⿐炎康⽚\n",
            "B:珍菊降压⽚\n",
            "E:消渴丸\n",
            "49\n"
          ]
        },
        {
          "output_type": "stream",
          "name": "stderr",
          "text": [
            "\r 49%|████▉     | 49/100 [04:15<04:38,  5.47s/it]"
          ]
        },
        {
          "output_type": "stream",
          "name": "stdout",
          "text": [
            "B\n",
            "B:国家药品监督管理局执业药师资格认证中⼼\n",
            "50\n"
          ]
        },
        {
          "output_type": "stream",
          "name": "stderr",
          "text": [
            "\r 50%|█████     | 50/100 [04:20<04:35,  5.51s/it]"
          ]
        },
        {
          "output_type": "stream",
          "name": "stdout",
          "text": [
            "D\n",
            "C:⼄涉嫌将含⿇黄碱类复⽅制剂流⼊�⾮法渠道\n",
            "51\n"
          ]
        },
        {
          "output_type": "stream",
          "name": "stderr",
          "text": [
            "\r 51%|█████     | 51/100 [04:25<04:18,  5.28s/it]"
          ]
        },
        {
          "output_type": "stream",
          "name": "stdout",
          "text": [
            "B\n",
            "B:具有终⽌妊娠作⽤的药品\n",
            "52\n"
          ]
        },
        {
          "output_type": "stream",
          "name": "stderr",
          "text": [
            "\r 52%|█████▏    | 52/100 [04:30<04:09,  5.19s/it]"
          ]
        },
        {
          "output_type": "stream",
          "name": "stdout",
          "text": [
            "C\n",
            "C:⼀级保护品种\n",
            "53\n"
          ]
        },
        {
          "output_type": "stream",
          "name": "stderr",
          "text": [
            "\r 53%|█████▎    | 53/100 [04:34<03:50,  4.90s/it]"
          ]
        },
        {
          "output_type": "stream",
          "name": "stdout",
          "text": [
            "E\n",
            "E\n",
            "54\n"
          ]
        },
        {
          "output_type": "stream",
          "name": "stderr",
          "text": [
            "\r 54%|█████▍    | 54/100 [04:39<03:42,  4.84s/it]"
          ]
        },
        {
          "output_type": "stream",
          "name": "stdout",
          "text": [
            "C\n",
            "D:极端温度保温性能验证\n",
            "55\n"
          ]
        },
        {
          "output_type": "stream",
          "name": "stderr",
          "text": [
            "\r 55%|█████▌    | 55/100 [04:44<03:35,  4.78s/it]"
          ]
        },
        {
          "output_type": "stream",
          "name": "stdout",
          "text": [
            "C\n",
            "C:⼄基纤维素（EC）\n",
            "56\n"
          ]
        },
        {
          "output_type": "stream",
          "name": "stderr",
          "text": [
            "\r 56%|█████▌    | 56/100 [04:49<03:35,  4.89s/it]"
          ]
        },
        {
          "output_type": "stream",
          "name": "stdout",
          "text": [
            "B\n",
            "The correct answer is:\n",
            "\n",
            "B:磷酰基的引⼊使毒性升⾼\n",
            "57\n"
          ]
        },
        {
          "output_type": "stream",
          "name": "stderr",
          "text": [
            "\r 57%|█████▋    | 57/100 [04:54<03:37,  5.05s/it]"
          ]
        },
        {
          "output_type": "stream",
          "name": "stdout",
          "text": [
            "C\n",
            "C\n",
            "58\n"
          ]
        },
        {
          "output_type": "stream",
          "name": "stderr",
          "text": [
            "\r 58%|█████▊    | 58/100 [04:59<03:25,  4.89s/it]"
          ]
        },
        {
          "output_type": "stream",
          "name": "stdout",
          "text": [
            "E\n",
            "E:苯⼄醇胺类\n",
            "59\n"
          ]
        },
        {
          "output_type": "stream",
          "name": "stderr",
          "text": [
            "\r 59%|█████▉    | 59/100 [05:04<03:23,  4.96s/it]"
          ]
        },
        {
          "output_type": "stream",
          "name": "stdout",
          "text": [
            "C\n",
            "C:微浑浊或沉淀\n",
            "60\n"
          ]
        },
        {
          "output_type": "stream",
          "name": "stderr",
          "text": [
            "\r 60%|██████    | 60/100 [05:10<03:34,  5.37s/it]"
          ]
        },
        {
          "output_type": "stream",
          "name": "stdout",
          "text": [
            "D\n",
            "D:多奈哌齐\n",
            "61\n"
          ]
        },
        {
          "output_type": "stream",
          "name": "stderr",
          "text": [
            "\r 61%|██████    | 61/100 [05:14<03:17,  5.08s/it]"
          ]
        },
        {
          "output_type": "stream",
          "name": "stdout",
          "text": [
            "D\n",
            "D\n",
            "62\n"
          ]
        },
        {
          "output_type": "stream",
          "name": "stderr",
          "text": [
            "\r 62%|██████▏   | 62/100 [05:19<03:09,  4.98s/it]"
          ]
        },
        {
          "output_type": "stream",
          "name": "stdout",
          "text": [
            "E\n",
            "E:福莫特罗\n",
            "63\n"
          ]
        },
        {
          "output_type": "stream",
          "name": "stderr",
          "text": [
            "\r 63%|██████▎   | 63/100 [05:25<03:12,  5.20s/it]"
          ]
        },
        {
          "output_type": "stream",
          "name": "stdout",
          "text": [
            "A\n",
            "A:聚⼄⼆醇滴眼液\n",
            "64\n"
          ]
        },
        {
          "output_type": "stream",
          "name": "stderr",
          "text": [
            "\r 64%|██████▍   | 64/100 [05:31<03:12,  5.35s/it]"
          ]
        },
        {
          "output_type": "stream",
          "name": "stdout",
          "text": [
            "B\n",
            "B:治疗期间若发⽣⽪肤黏膜⼲燥，应减量或停药\n",
            "65\n"
          ]
        },
        {
          "output_type": "stream",
          "name": "stderr",
          "text": [
            "\r 65%|██████▌   | 65/100 [05:35<03:00,  5.17s/it]"
          ]
        },
        {
          "output_type": "stream",
          "name": "stdout",
          "text": [
            "C\n",
            "C:华法林\n",
            "66\n"
          ]
        },
        {
          "output_type": "stream",
          "name": "stderr",
          "text": [
            "\r 66%|██████▌   | 66/100 [05:40<02:47,  4.94s/it]"
          ]
        },
        {
          "output_type": "stream",
          "name": "stdout",
          "text": [
            "D\n",
            "E\n",
            "67\n"
          ]
        },
        {
          "output_type": "stream",
          "name": "stderr",
          "text": [
            "\r 67%|██████▋   | 67/100 [05:45<02:43,  4.97s/it]"
          ]
        },
        {
          "output_type": "stream",
          "name": "stdout",
          "text": [
            "A\n",
            "A\n",
            "68\n"
          ]
        },
        {
          "output_type": "stream",
          "name": "stderr",
          "text": [
            "\r 68%|██████▊   | 68/100 [05:49<02:35,  4.86s/it]"
          ]
        },
        {
          "output_type": "stream",
          "name": "stdout",
          "text": [
            "A\n",
            "C\n",
            "69\n"
          ]
        },
        {
          "output_type": "stream",
          "name": "stderr",
          "text": [
            "\r 69%|██████▉   | 69/100 [05:55<02:39,  5.14s/it]"
          ]
        },
        {
          "output_type": "stream",
          "name": "stdout",
          "text": [
            "D\n",
            "D:氯沙坦\n",
            "70\n"
          ]
        },
        {
          "output_type": "stream",
          "name": "stderr",
          "text": [
            "\r 70%|███████   | 70/100 [06:00<02:28,  4.94s/it]"
          ]
        },
        {
          "output_type": "stream",
          "name": "stdout",
          "text": [
            "A\n",
            "A:阿格列汀\n",
            "71\n"
          ]
        },
        {
          "output_type": "stream",
          "name": "stderr",
          "text": [
            "\r 71%|███████   | 71/100 [06:04<02:18,  4.78s/it]"
          ]
        },
        {
          "output_type": "stream",
          "name": "stdout",
          "text": [
            "C\n",
            "D:氯胺酮\n",
            "72\n"
          ]
        },
        {
          "output_type": "stream",
          "name": "stderr",
          "text": [
            "\r 72%|███████▏  | 72/100 [06:09<02:11,  4.70s/it]"
          ]
        },
        {
          "output_type": "stream",
          "name": "stdout",
          "text": [
            "D\n",
            "D\n",
            "73\n"
          ]
        },
        {
          "output_type": "stream",
          "name": "stderr",
          "text": [
            "\r 73%|███████▎  | 73/100 [06:13<02:06,  4.67s/it]"
          ]
        },
        {
          "output_type": "stream",
          "name": "stdout",
          "text": [
            "E\n",
            "E:⼄型流感\n",
            "74\n"
          ]
        },
        {
          "output_type": "stream",
          "name": "stderr",
          "text": [
            "\r 74%|███████▍  | 74/100 [06:17<01:57,  4.52s/it]"
          ]
        },
        {
          "output_type": "stream",
          "name": "stdout",
          "text": [
            "B\n",
            "B\n",
            "75\n"
          ]
        },
        {
          "output_type": "stream",
          "name": "stderr",
          "text": [
            "\r 75%|███████▌  | 75/100 [06:22<01:51,  4.47s/it]"
          ]
        },
        {
          "output_type": "stream",
          "name": "stdout",
          "text": [
            "C\n",
            "C:尿激酶\n",
            "76\n"
          ]
        },
        {
          "output_type": "stream",
          "name": "stderr",
          "text": [
            "\r 76%|███████▌  | 76/100 [06:28<01:59,  4.99s/it]"
          ]
        },
        {
          "output_type": "stream",
          "name": "stdout",
          "text": [
            "ACE\n",
            "A, C, E\n",
            "77\n"
          ]
        },
        {
          "output_type": "stream",
          "name": "stderr",
          "text": [
            "\r 77%|███████▋  | 77/100 [06:32<01:51,  4.83s/it]"
          ]
        },
        {
          "output_type": "stream",
          "name": "stdout",
          "text": [
            "A\n",
            "A\n",
            "78\n"
          ]
        },
        {
          "output_type": "stream",
          "name": "stderr",
          "text": [
            "\r 78%|███████▊  | 78/100 [06:37<01:44,  4.74s/it]"
          ]
        },
        {
          "output_type": "stream",
          "name": "stdout",
          "text": [
            "C\n",
            "C:氯吡格雷\n",
            "79\n"
          ]
        },
        {
          "output_type": "stream",
          "name": "stderr",
          "text": [
            "\r 79%|███████▉  | 79/100 [06:41<01:38,  4.69s/it]"
          ]
        },
        {
          "output_type": "stream",
          "name": "stdout",
          "text": [
            "A\n",
            "A:酮康唑乳膏\n",
            "80\n"
          ]
        },
        {
          "output_type": "stream",
          "name": "stderr",
          "text": [
            "\r 80%|████████  | 80/100 [06:48<01:46,  5.35s/it]"
          ]
        },
        {
          "output_type": "stream",
          "name": "stdout",
          "text": [
            "BCE\n",
            "B:必须补充⾜量的钙剂和维⽣素D\n",
            "C:对蛋⽩质过敏者，使⽤前需做⽪肤敏感试验\n",
            "E:常出现⾯部潮红的不良反应\n",
            "81\n"
          ]
        },
        {
          "output_type": "stream",
          "name": "stderr",
          "text": [
            "\r 81%|████████  | 81/100 [06:53<01:37,  5.12s/it]"
          ]
        },
        {
          "output_type": "stream",
          "name": "stdout",
          "text": [
            "D\n",
            "D:多柔⽐星\n",
            "82\n"
          ]
        },
        {
          "output_type": "stream",
          "name": "stderr",
          "text": [
            "\r 82%|████████▏ | 82/100 [06:58<01:30,  5.00s/it]"
          ]
        },
        {
          "output_type": "stream",
          "name": "stdout",
          "text": [
            "A\n",
            "A:呋⿇滴⿐液\n",
            "83\n"
          ]
        },
        {
          "output_type": "stream",
          "name": "stderr",
          "text": [
            "\r 83%|████████▎ | 83/100 [07:03<01:24,  4.97s/it]"
          ]
        },
        {
          "output_type": "stream",
          "name": "stdout",
          "text": [
            "A\n",
            "A:复⽅炔诺酮\n",
            "84\n"
          ]
        },
        {
          "output_type": "stream",
          "name": "stderr",
          "text": [
            "\r 84%|████████▍ | 84/100 [07:09<01:27,  5.46s/it]"
          ]
        },
        {
          "output_type": "stream",
          "name": "stdout",
          "text": [
            "C\n",
            "C:C级\n",
            "85\n"
          ]
        },
        {
          "output_type": "stream",
          "name": "stderr",
          "text": [
            "\r 85%|████████▌ | 85/100 [07:14<01:21,  5.41s/it]"
          ]
        },
        {
          "output_type": "stream",
          "name": "stdout",
          "text": [
            "B\n",
            "D:疾病预防控制机构、接种单位应当建⽴疫苗定期检查制度\n",
            "86\n"
          ]
        },
        {
          "output_type": "stream",
          "name": "stderr",
          "text": [
            "\r 86%|████████▌ | 86/100 [07:19<01:13,  5.28s/it]"
          ]
        },
        {
          "output_type": "stream",
          "name": "stdout",
          "text": [
            "C\n",
            "B:将⾃产中药材加⼯成中药制剂⽅便村民使⽤\n",
            "87\n"
          ]
        },
        {
          "output_type": "stream",
          "name": "stderr",
          "text": [
            "\r 87%|████████▋ | 87/100 [07:24<01:06,  5.09s/it]"
          ]
        },
        {
          "output_type": "stream",
          "name": "stdout",
          "text": [
            "C\n",
            "E\n",
            "88\n"
          ]
        },
        {
          "output_type": "stream",
          "name": "stderr",
          "text": [
            "\r 88%|████████▊ | 88/100 [07:28<00:58,  4.88s/it]"
          ]
        },
        {
          "output_type": "stream",
          "name": "stdout",
          "text": [
            "B\n",
            "B:神经氨酸酶抑制剂\n",
            "89\n"
          ]
        },
        {
          "output_type": "stream",
          "name": "stderr",
          "text": [
            "\r 89%|████████▉ | 89/100 [07:36<01:01,  5.60s/it]"
          ]
        },
        {
          "output_type": "stream",
          "name": "stdout",
          "text": [
            "ACDE\n",
            "A:亚胺培南\n",
            "C:美罗培南\n",
            "D:厄他培南\n",
            "E:⽐阿培南\n",
            "90\n"
          ]
        },
        {
          "output_type": "stream",
          "name": "stderr",
          "text": [
            "\r 90%|█████████ | 90/100 [07:41<00:55,  5.53s/it]"
          ]
        },
        {
          "output_type": "stream",
          "name": "stdout",
          "text": [
            "D\n",
            "D:⼆甲双胍\n",
            "91\n"
          ]
        },
        {
          "output_type": "stream",
          "name": "stderr",
          "text": [
            "\r 91%|█████████ | 91/100 [07:46<00:47,  5.30s/it]"
          ]
        },
        {
          "output_type": "stream",
          "name": "stdout",
          "text": [
            "B\n",
            "B:肾损害\n",
            "92\n"
          ]
        },
        {
          "output_type": "stream",
          "name": "stderr",
          "text": [
            "\r 92%|█████████▏| 92/100 [07:50<00:40,  5.03s/it]"
          ]
        },
        {
          "output_type": "stream",
          "name": "stdout",
          "text": [
            "B\n",
            "B\n",
            "93\n"
          ]
        },
        {
          "output_type": "stream",
          "name": "stderr",
          "text": [
            "\r 93%|█████████▎| 93/100 [07:55<00:33,  4.83s/it]"
          ]
        },
        {
          "output_type": "stream",
          "name": "stdout",
          "text": [
            "A\n",
            "A\n",
            "94\n"
          ]
        },
        {
          "output_type": "stream",
          "name": "stderr",
          "text": [
            "\r 94%|█████████▍| 94/100 [07:59<00:27,  4.66s/it]"
          ]
        },
        {
          "output_type": "stream",
          "name": "stdout",
          "text": [
            "E\n",
            "E\n",
            "95\n"
          ]
        },
        {
          "output_type": "stream",
          "name": "stderr",
          "text": [
            "\r 95%|█████████▌| 95/100 [08:04<00:24,  4.83s/it]"
          ]
        },
        {
          "output_type": "stream",
          "name": "stdout",
          "text": [
            "C\n",
            "C:厄洛替尼\n",
            "96\n"
          ]
        },
        {
          "output_type": "stream",
          "name": "stderr",
          "text": [
            "\r 96%|█████████▌| 96/100 [08:09<00:19,  4.76s/it]"
          ]
        },
        {
          "output_type": "stream",
          "name": "stdout",
          "text": [
            "A\n",
            "A:头孢曲松\n",
            "97\n"
          ]
        },
        {
          "output_type": "stream",
          "name": "stderr",
          "text": [
            "\r 97%|█████████▋| 97/100 [08:13<00:13,  4.61s/it]"
          ]
        },
        {
          "output_type": "stream",
          "name": "stdout",
          "text": [
            "B\n",
            "B\n",
            "98\n"
          ]
        },
        {
          "output_type": "stream",
          "name": "stderr",
          "text": [
            "\r 98%|█████████▊| 98/100 [08:17<00:08,  4.37s/it]"
          ]
        },
        {
          "output_type": "stream",
          "name": "stdout",
          "text": [
            "B\n",
            "A\n",
            "99\n"
          ]
        },
        {
          "output_type": "stream",
          "name": "stderr",
          "text": [
            "\r 99%|█████████▉| 99/100 [08:21<00:04,  4.35s/it]"
          ]
        },
        {
          "output_type": "stream",
          "name": "stdout",
          "text": [
            "B\n",
            "B\n",
            "100\n"
          ]
        },
        {
          "output_type": "stream",
          "name": "stderr",
          "text": [
            "100%|██████████| 100/100 [08:25<00:00,  5.06s/it]"
          ]
        },
        {
          "output_type": "stream",
          "name": "stdout",
          "text": [
            "E\n",
            "E\n",
            "模型准确率: 79.00%\n"
          ]
        },
        {
          "output_type": "stream",
          "name": "stderr",
          "text": [
            "\n"
          ]
        }
      ]
    },
    {
      "cell_type": "code",
      "source": [
        "!wget https://NLP-course-cuhksz.github.io/Assignments/Assignment2/task1/data/1.exam_demo.json\n",
        "with open('1.exam_demo.json') as f:\n",
        "  sample = json.load(f)\n",
        "\n",
        "sample[4]\n"
      ],
      "metadata": {
        "id": "tDBlcZ1xQYLL",
        "outputId": "9eb8135c-6b70-4896-f982-95dde9cdbab9",
        "colab": {
          "base_uri": "https://localhost:8080/"
        }
      },
      "execution_count": 45,
      "outputs": [
        {
          "output_type": "stream",
          "name": "stdout",
          "text": [
            "--2025-03-27 11:36:13--  https://nlp-course-cuhksz.github.io/Assignments/Assignment2/task1/data/1.exam_demo.json\n",
            "Resolving nlp-course-cuhksz.github.io (nlp-course-cuhksz.github.io)... 185.199.110.153, 185.199.108.153, 185.199.109.153, ...\n",
            "Connecting to nlp-course-cuhksz.github.io (nlp-course-cuhksz.github.io)|185.199.110.153|:443... connected.\n",
            "HTTP request sent, awaiting response... 200 OK\n",
            "Length: 6979 (6.8K) [application/json]\n",
            "Saving to: ‘1.exam_demo.json.6’\n",
            "\n",
            "\r1.exam_demo.json.6    0%[                    ]       0  --.-KB/s               \r1.exam_demo.json.6  100%[===================>]   6.82K  --.-KB/s    in 0s      \n",
            "\n",
            "2025-03-27 11:36:13 (68.6 MB/s) - ‘1.exam_demo.json.6’ saved [6979/6979]\n",
            "\n"
          ]
        },
        {
          "output_type": "execute_result",
          "data": {
            "text/plain": [
              "{'question': '5. 关于药品上市许可持有⼈委托储存、运输⾏为管理要求的说法，正确的是（）。',\n",
              " 'option': {'A': '药品上市许可持有⼈应当将受托⽅储存、运输、销售等⾏为纳⼊⼰⽅质量管理体系，与其签订委托协议，约定双⽅药品质量责任，并对受托⽅进⾏监督',\n",
              "  'B': '接受委托储存、运输药品的企业表明不知道承运承储的药品已超过有效期，⽽为其提供储存、运输服务的，可以免予⾏政处罚',\n",
              "  'C': '接受疫苗上市许可持有⼈委托储存、运输的企业，不得再次委托储存、运输疫苗；不得将疫苗与其他药品混库储存或者混车、混箱运输',\n",
              "  'D': '药品上市许可持有⼈应当对受托⽅的质量保证能⼒及风险管理能⼒进⾏评估，确认受托⽅符合《药品经质量管理规范》有关储存、运输的相关要求',\n",
              "  'E': ''},\n",
              " 'analysis': 'D项，药品上市许可持有⼈委托储存、运输药品的，应当对受托⽅的质量保证能⼒和风险管理能⼒进⾏评估，与其签订委托协议，约定药品质量责任、操作规程等内容，并对受托⽅进⾏监督。',\n",
              " 'answer': 'D',\n",
              " 'question_type': '最佳选择题',\n",
              " 'source': '2021年执业药师职业资格考试《药事管理与法规》'}"
            ]
          },
          "metadata": {},
          "execution_count": 45
        }
      ]
    },
    {
      "cell_type": "code",
      "source": [
        "sample_prompt = \"\"\"Give the following sample question:\n",
        "{question}\n",
        "{options}\n",
        "Answer:{answer}\n",
        "Analysis:{analysis}\"\"\"\n",
        "\n",
        "def get_sample(da):\n",
        "  da['options'] = '\\n'.join([f\"{k}:{v}\" for k,v in da['option'].items()])\n",
        "  return sample_prompt.format_map(da)\n",
        "\n",
        "get_sample(sample[4])"
      ],
      "metadata": {
        "id": "ao-w4cmATSS0",
        "outputId": "acb6109f-d780-4fcd-98be-b87d90dd3377",
        "colab": {
          "base_uri": "https://localhost:8080/",
          "height": 122
        }
      },
      "execution_count": 58,
      "outputs": [
        {
          "output_type": "execute_result",
          "data": {
            "text/plain": [
              "'Give the following sample question:\\n5. 关于药品上市许可持有⼈委托储存、运输⾏为管理要求的说法，正确的是（）。\\nA:药品上市许可持有⼈应当将受托⽅储存、运输、销售等⾏为纳⼊⼰⽅质量管理体系，与其签订委托协议，约定双⽅药品质量责任，并对受托⽅进⾏监督\\nB:接受委托储存、运输药品的企业表明不知道承运承储的药品已超过有效期，⽽为其提供储存、运输服务的，可以免予⾏政处罚\\nC:接受疫苗上市许可持有⼈委托储存、运输的企业，不得再次委托储存、运输疫苗；不得将疫苗与其他药品混库储存或者混车、混箱运输\\nD:药品上市许可持有⼈应当对受托⽅的质量保证能⼒及风险管理能⼒进⾏评估，确认受托⽅符合《药品经质量管理规范》有关储存、运输的相关要求\\nE:\\nanswer:D\\nanalysis:D项，药品上市许可持有⼈委托储存、运输药品的，应当对受托⽅的质量保证能⼒和风险管理能⼒进⾏评估，与其签订委托协议，约定药品质量责任、操作规程等内容，并对受托⽅进⾏监督。'"
            ],
            "application/vnd.google.colaboratory.intrinsic+json": {
              "type": "string"
            }
          },
          "metadata": {},
          "execution_count": 58
        }
      ]
    },
    {
      "cell_type": "code",
      "source": [
        "# Few-shot 计算做题准确率\n",
        "prompt = ChatPromptTemplate.from_messages(\n",
        "    [\n",
        "        (\"system\", \"You are an AI assistant, please answer user's question.\"),\n",
        "        (\"user\", \"{input}\")\n",
        "    ]\n",
        ")\n",
        "deepseek_chat = ChatDeepSeek(model=\"deepseek-chat\", temperature=0)\n",
        "chain = prompt | deepseek_chat | StrOutputParser()\n",
        "your_prompt = get_sample(sample[4]) + \"\\n\\n\" + \"\"\"Please answer the multiple choice questions below, please direct the correct answer option and do not output anything else.\n",
        "{question}\n",
        "{options}\"\"\"\n",
        "\n",
        "import re\n",
        "from tqdm import tqdm\n",
        "\n",
        "def get_ans(ans):\n",
        "    match = re.findall(r'.*?([A-E]+(?:[、, ]+[A-E]+)*)', ans)\n",
        "    if match:\n",
        "        last_match = match[-1]\n",
        "        return ''.join(re.split(r'[、, ，]+', last_match))\n",
        "    return ''\n",
        "\n",
        "correct_num = 0\n",
        "total_num = 0\n",
        "#for da in tqdm(data[:10]):\n",
        "for da in tqdm(data):\n",
        "  print(da)\n",
        "  print(total_num+1)\n",
        "  da['deepseek_ans'] = chain.invoke(get_query(da))\n",
        "  print(da['answer'])\n",
        "  print(da['deepseek_ans'])\n",
        "  if get_ans(da['deepseek_ans']) == da['answer']:\n",
        "    correct_num += 1\n",
        "  total_num += 1\n",
        "print(f\"模型准确率: {correct_num/total_num:.2%}\")\n"
      ],
      "metadata": {
        "id": "CS0Q6wB2PWK7",
        "outputId": "180d912b-7c81-4c09-d072-ad1938a5136e",
        "colab": {
          "base_uri": "https://localhost:8080/"
        }
      },
      "execution_count": 59,
      "outputs": [
        {
          "output_type": "stream",
          "name": "stderr",
          "text": [
            "\r  0%|          | 0/100 [00:00<?, ?it/s]"
          ]
        },
        {
          "output_type": "stream",
          "name": "stdout",
          "text": [
            "{'question': '27. 根据国家药品监督管理局，公安部，国家卫⽣健康委员会的有关规定，⼜服固体制剂每剂量单位含羟考酮碱不超过5毫克，且不含其他⿇醉药品，精神药品或者药品类易制毒化学品的复⽅制剂列⼊（）。', 'option': {'A': '含⿇醉药品复⽅制剂的管理', 'B': '第⼆类精神药品管理', 'C': '第⼀类精神药品管理', 'D': '医疗⽤毒性药品管理', 'E': ''}, 'analysis': '⼜服固体制剂每剂量单位含羟考酮碱不超过5毫克，且不含其他⿇醉药品、精神药品或药品类易制毒化学品的复⽅制剂列⼊第⼆类精神药品管理。', 'answer': 'B', 'question_type': '最佳选择题', 'source': '2021年执业药师职业资格考试《药事管理与法规》', 'options': 'A:含⿇醉药品复⽅制剂的管理\\nB:第⼆类精神药品管理\\nC:第⼀类精神药品管理\\nD:医疗⽤毒性药品管理\\nE:', 'deepseek_ans': '根据国家药品监督管理局、公安部、国家卫生健康委员会的相关规定，口服固体制剂每剂量单位含羟考酮碱不超过5毫克，且不含其他麻醉药品、精神药品或者药品类易制毒化学品的复方制剂列入**第二类精神药品管理**。\\n\\n**正确答案：B**'}\n",
            "1\n"
          ]
        },
        {
          "output_type": "stream",
          "name": "stderr",
          "text": [
            "\r  1%|          | 1/100 [00:04<07:55,  4.80s/it]"
          ]
        },
        {
          "output_type": "stream",
          "name": "stdout",
          "text": [
            "B\n",
            "B\n",
            "{'question': '112. 患者，男，70岁，因抑郁症长期服⽤舍曲林。新诊断为帕⾦森病，宜选⽤的药物有（）。', 'option': {'A': '司来吉兰', 'B': '普拉克索', 'C': '⾦刚烷胺', 'D': '吡贝地尔', 'E': '恩他卡朋'}, 'analysis': '上述题⼲中患者使⽤的抑郁药舍曲林是选择性5-羟⾊胺再摄取抑制剂，司来吉兰避免与选择性5-羟⾊胺再摄取抑制剂合⽤，因此答案选BCDE。', 'answer': 'BCDE', 'question_type': '多项选择题', 'source': '2021年执业药师职业资格考试《药学综合知识与技能》', 'options': 'A:司来吉兰\\nB:普拉克索\\nC:⾦刚烷胺\\nD:吡贝地尔\\nE:恩他卡朋', 'deepseek_ans': 'B:普拉克索'}\n",
            "2\n"
          ]
        },
        {
          "output_type": "stream",
          "name": "stderr",
          "text": [
            "\r  2%|▏         | 2/100 [00:09<07:45,  4.75s/it]"
          ]
        },
        {
          "output_type": "stream",
          "name": "stdout",
          "text": [
            "BCDE\n",
            "B:普拉克索\n",
            "{'question': '2215. 可⽤于治疗蛔⾍病、蛲⾍病、钩⾍病和鞭⾍病的⼴谱驱⾍药物是（）。', 'option': {'A': '甲硝唑', 'B': '氯硝柳胺', 'C': '⼄胺嗪', 'D': '甲苯咪唑', 'E': '三氯苯达唑'}, 'analysis': '甲苯咪唑是⼴谱的驱肠⾍药，⽤于治疗蛲⾍、蛔⾍、鞭⾍、⼗⼆指肠钩⾍、粪类圆线⾍和绦⾍单独感染及混合感染。', 'answer': 'D', 'question_type': '最佳选择题', 'source': '2021年执业药师职业资格考试《药学专业知识（⼆）》', 'options': 'A:甲硝唑\\nB:氯硝柳胺\\nC:⼄胺嗪\\nD:甲苯咪唑\\nE:三氯苯达唑', 'deepseek_ans': 'D:甲苯咪唑'}\n",
            "3\n"
          ]
        },
        {
          "output_type": "stream",
          "name": "stderr",
          "text": [
            "\r  3%|▎         | 3/100 [00:13<07:21,  4.55s/it]"
          ]
        },
        {
          "output_type": "stream",
          "name": "stdout",
          "text": [
            "D\n",
            "D\n",
            "{'question': '49. ⽤于治疗湿性视⽹膜黄斑变性的药物是（）。', 'option': {'A': '聚⼄⼆醇滴眼液', 'B': '硫酸阿托品眼⽤凝胶', 'C': '雷珠单抗注射液', 'D': '⽑果芸⾹碱滴眼液', 'E': '丙美卡因滴眼液'}, 'analysis': '雷珠单抗注射液，竞争性地抑制VEGF与受体的结合，从⽽抑制内⽪细胞增殖和⾎管新⽣。⽤于治疗湿性，（新⽣⾎管性）年龄相关性黄斑病变。', 'answer': 'C', 'question_type': '配伍选择题', 'source': '2021年执业药师职业资格考试《药学专业知识（⼆）》', 'options': 'A:聚⼄⼆醇滴眼液\\nB:硫酸阿托品眼⽤凝胶\\nC:雷珠单抗注射液\\nD:⽑果芸⾹碱滴眼液\\nE:丙美卡因滴眼液', 'deepseek_ans': 'C:雷珠单抗注射液'}\n",
            "4\n"
          ]
        },
        {
          "output_type": "stream",
          "name": "stderr",
          "text": [
            "\r  4%|▍         | 4/100 [00:18<07:19,  4.58s/it]"
          ]
        },
        {
          "output_type": "stream",
          "name": "stdout",
          "text": [
            "C\n",
            "C\n",
            "{'question': '19. 根据药品管理法律法规及相关⽂件的规定，药品零售企业可以开架⾃选销售的药品是（）。', 'option': {'A': '复⽅⽢草⽚', 'B': '复⽅⾦银花颗粒', 'C': '复⽅地芬诺酯⽚', 'D': '复⽅枇杷喷托维林颗粒', 'E': ''}, 'analysis': '复⽅⽢草⽚、复⽅地芬诺酯⽚、复⽅枇杷喷托维林颗粒属于处⽅药，处⽅药不得开架⾃选。', 'answer': 'B', 'question_type': '最佳选择题', 'source': '2021年执业药师职业资格考试《药事管理与法规》', 'options': 'A:复⽅⽢草⽚\\nB:复⽅⾦银花颗粒\\nC:复⽅地芬诺酯⽚\\nD:复⽅枇杷喷托维林颗粒\\nE:', 'deepseek_ans': '根据药品管理法律法规及相关文件的规定，药品零售企业可以开架自选销售的药品是非处方药（OTC）。我们需要分析各选项是否为非处方药：\\n\\nA: 复方甘草片 - 含阿片粉成分，属于处方药  \\nB: 复方金银花颗粒 - 中成药OTC（乙类非处方药）  \\nC: 复方地芬诺酯片 - 含地芬诺酯（麻醉药品），严格处方药  \\nD: 复方枇杷喷托维林颗粒 - 含喷托维林（镇咳药），部分为处方药  \\n\\n经核实，**复方金银花颗粒**是唯一明确列入乙类非处方药的品种。  \\n\\n正确答案选项：B'}\n",
            "5\n"
          ]
        },
        {
          "output_type": "stream",
          "name": "stderr",
          "text": [
            "\r  5%|▌         | 5/100 [00:23<07:21,  4.65s/it]"
          ]
        },
        {
          "output_type": "stream",
          "name": "stdout",
          "text": [
            "B\n",
            "A\n",
            "{'question': '2. 影响药物制剂稳定性的⾮处⽅因素是（）。', 'option': {'A': 'pH', 'B': '温度', 'C': '溶剂', 'D': '离⼦强度', 'E': '表⾯活性剂'}, 'analysis': '外界因素对药物制剂稳定性的影响包括：①温度的影响；②光线的影响；③空⽓（氧）的影响；④⾦属离⼦的影响；⑤湿度和⽔分的影响；⑥包装材料的影响。', 'answer': 'B', 'question_type': '最佳选择题', 'source': '2021年执业药师职业资格考试《药学专业知识（⼀）》', 'options': 'A:pH\\nB:温度\\nC:溶剂\\nD:离⼦强度\\nE:表⾯活性剂', 'deepseek_ans': 'B:温度'}\n",
            "6\n"
          ]
        },
        {
          "output_type": "stream",
          "name": "stderr",
          "text": [
            "\r  6%|▌         | 6/100 [00:28<07:26,  4.75s/it]"
          ]
        },
        {
          "output_type": "stream",
          "name": "stdout",
          "text": [
            "B\n",
            "B\n",
            "{'question': '9. 关于钠-葡萄糖协同转运蛋⽩-2（SLG-2）抑制剂达格列净作⽤特点和不良反应的说法，错误的是（）。', 'option': {'A': '降糖效果受肾⼩球滤过的葡萄糖负荷的影响', 'B': '降糖作⽤不依赖于胰岛B细胞的功能及机体对胰岛素的敏感性', 'C': '适⽤于1型糖尿病或糖尿病酮症酸中毒', 'D': '重度肾功能不全患者禁⽤', 'E': '可降低⾎压，减轻体重'}, 'analysis': '达格列净是钠-葡萄糖协同转运蛋⽩-2（SLG-2）抑制剂，SGLT-2抑制剂降低⾎糖和糖化⾎红蛋⽩的能⼒受滤过的葡萄糖负荷和这类药物引起的渗透性利尿的限制。SGLT-2抑制剂的降糖作⽤不依赖于胰岛B细胞功能及胰岛素敏感性。中度肾功能不全的患者可以减量使⽤。在重度肾功能不全患者中因降糖效果显著下降不建议使⽤。在饮⾷和运动基础上，达格列净可作为单药治疗，⽤于2型糖尿病成⼈患者改善⾎糖控制。本品不适⽤于治疗1型糖尿病或糖尿病酮症酸中毒。', 'answer': 'C', 'question_type': '最佳选择题', 'source': '2021年执业药师职业资格考试《药学专业知识（⼆）》', 'options': 'A:降糖效果受肾⼩球滤过的葡萄糖负荷的影响\\nB:降糖作⽤不依赖于胰岛B细胞的功能及机体对胰岛素的敏感性\\nC:适⽤于1型糖尿病或糖尿病酮症酸中毒\\nD:重度肾功能不全患者禁⽤\\nE:可降低⾎压，减轻体重', 'deepseek_ans': '根据严谨的药剂学分析流程，正确答案是：\\n\\nC:适⽤于1型糖尿病或糖尿病酮症酸中毒'}\n",
            "7\n"
          ]
        },
        {
          "output_type": "stream",
          "name": "stderr",
          "text": [
            "\r  7%|▋         | 7/100 [00:33<07:42,  4.98s/it]"
          ]
        },
        {
          "output_type": "stream",
          "name": "stdout",
          "text": [
            "C\n",
            "C\n",
            "{'question': '66. 对于治疗严重危及⽣命且尚⽆有效治疗⼿段的疾病的药品，药物临床试验已有数据证实疗效并能预测其临床价值的，可以申请（）。', 'option': {'A': '关联审评审批程序', 'B': '简化审批程序', 'C': '附条件批准程序', 'D': '突破性治疗药物程序', 'E': ''}, 'analysis': '药物临床试验期间，符合以下情形的药品，可以申请附条件批准：①治疗严重危及⽣命且尚⽆有效治疗⼿段的疾病的药品，药物临床试验已有数据证实疗效并能预测其临床价值的；②公共卫⽣⽅⾯急需的药品，药物临床试验已有数据显⽰疗效并能预测其临床价值的；③应对重⼤突发公共卫⽣事件急需的疫苗或者国家卫⽣健康委员会认定急需的其他疫苗，经评估获益⼤于风险的。', 'answer': 'C', 'question_type': '配伍选择题', 'source': '2021年执业药师职业资格考试《药事管理与法规》', 'options': 'A:关联审评审批程序\\nB:简化审批程序\\nC:附条件批准程序\\nD:突破性治疗药物程序\\nE:', 'deepseek_ans': 'C:附条件批准程序'}\n",
            "8\n"
          ]
        },
        {
          "output_type": "stream",
          "name": "stderr",
          "text": [
            "\r  8%|▊         | 8/100 [00:38<07:46,  5.07s/it]"
          ]
        },
        {
          "output_type": "stream",
          "name": "stdout",
          "text": [
            "C\n",
            "C\n",
            "{'question': '56. 属于⼆肽基肽酶-4（DPP-4）抑制剂的药物是（）。', 'option': {'A': '西格列汀', 'B': '那格列奈', 'C': '格列美脲', 'D': '利拉鲁肽', 'E': '罗格列酮'}, 'analysis': 'A项，西格列汀属于⼆肽基肽酶-4（DPP-4）抑制剂；B项，那格列奈属于⾮磺酰脲类促胰岛素分泌药；C项，格列美脲属于磺酰脲类促胰岛素分泌药；D项，利拉鲁肽属于胰⾼⾎糖素样肽-1（GLP-1）受体激动剂；E项，罗格列酮属于噻唑烷⼆酮类（TZDs）胰岛素增敏剂。', 'answer': 'A', 'question_type': '配伍选择题', 'source': '2021年执业药师职业资格考试《药学专业知识（⼆）》', 'options': 'A:西格列汀\\nB:那格列奈\\nC:格列美脲\\nD:利拉鲁肽\\nE:罗格列酮', 'deepseek_ans': 'A:西格列汀'}\n",
            "9\n"
          ]
        },
        {
          "output_type": "stream",
          "name": "stderr",
          "text": [
            "\r  9%|▉         | 9/100 [00:43<07:26,  4.90s/it]"
          ]
        },
        {
          "output_type": "stream",
          "name": "stdout",
          "text": [
            "A\n",
            "A\n",
            "{'question': '题干：雌⼆醇⼜服⼏乎⽆效，临床常⽤雌⼆醇贴⽚。近年来，随着微粒化技术问世，市⾯上亦出现了雌⼆醇⽚。某患者使⽤微粒化雌⼆醇⽚治疗雌激素缺乏综合征，每次2mg，每天服药⼀次，使⽤⼀段时间后，出现肝功能异常，后改⽤雌⼆醇贴⽚（每⽚2.5mg，每⽚可使⽤7⽇），不良反应消失。\\n103. 雌⼆醇⽚属于⼩剂量⽚剂，应检查含量均匀度，根据《中国药典》规定，⼩剂量是指每⽚标⽰量⼩于（）。', 'option': {'A': '25mg', 'B': '1mg', 'C': '5mg', 'D': '10mg', 'E': '50mg'}, 'analysis': '含量均匀度的检查除另有规定外，⽚剂、硬胶囊剂、颗粒剂或散剂等，每⼀个单剂标⽰量⼩于25mg或主药含量⼩于每⼀个单剂重量25%者；药物间或药物与辅料间采⽤混粉⼯艺制成的注射⽤⽆菌粉末；内充⾮均相溶液的软胶囊；单剂量包装的⼜服混悬液、透⽪贴剂和栓剂等品种项下规定含量均匀度应符合要求的制剂，均应检查含量均匀度。', 'answer': 'A', 'question_type': '综合分析选择题', 'source': '2021年执业药师职业资格考试《药学专业知识（⼀）》', 'options': 'A:25mg\\nB:1mg\\nC:5mg\\nD:10mg\\nE:50mg', 'deepseek_ans': 'A:25mg'}\n",
            "10\n"
          ]
        },
        {
          "output_type": "stream",
          "name": "stderr",
          "text": [
            "\r 10%|█         | 10/100 [00:50<08:18,  5.53s/it]"
          ]
        },
        {
          "output_type": "stream",
          "name": "stdout",
          "text": [
            "A\n",
            "A:25mg\n",
            "{'question': '题干：舍曲林的化学结构如下，体内过程符合线性药动学特征，只有极少量（＜0.2%）以原形从尿中排泄，临床上常⽤剂量为50～200mg，每天给药⼀次。肝肾功能正常的某患者服⽤该药后的达峰时间约为5h，其消除半衰期约为24h，⾎浆蛋⽩结合率为98%。\\n108. 舍曲林在体内主要代谢产物仍有活性，约为舍曲林的1/20，该主要代谢产物是（）。', 'option': {'A': '3-羟基舍曲林', 'B': '去甲氨基舍曲林', 'C': '7-羟基舍曲林', 'D': 'N-去甲基舍曲林', 'E': '脱氯舍曲林'}, 'analysis': '舍曲林主要⾸先通过肝脏代谢，⾎浆中的主要代谢产物是N-去甲基舍曲林，其药理活性是舍曲林的1/20，t 是62～104⼩时。1/', 'answer': 'D', 'question_type': '综合分析选择题', 'source': '2021年执业药师职业资格考试《药学专业知识（⼀）》', 'options': 'A:3-羟基舍曲林\\nB:去甲氨基舍曲林\\nC:7-羟基舍曲林\\nD:N-去甲基舍曲林\\nE:脱氯舍曲林', 'deepseek_ans': 'D:N-去甲基舍曲林'}\n",
            "11\n"
          ]
        },
        {
          "output_type": "stream",
          "name": "stderr",
          "text": [
            "\r 11%|█         | 11/100 [00:55<08:12,  5.53s/it]"
          ]
        },
        {
          "output_type": "stream",
          "name": "stdout",
          "text": [
            "D\n",
            "D:N-去甲基舍曲林\n",
            "{'question': '22. 关于药品标签、说明书管理的说法，错误的是（）。', 'option': {'A': '同⼀药品上市许可持有⼈⽣产的同⼀药品，分别按处⽅药与⾮处⽅药管理的，⼆者包装颜⾊必须明显区别', 'B': '由于包装尺⼨或者技术设备等原因，标签中的有效期⽆法标注“有效期⾄某年某⽉”的，可以标注有效期实际期限', 'C': '对贮藏有特殊要求的药品，应当在标签的醒⽬位置注明', 'D': '药品内标签⾄少应当标注药品通⽤名称、产品批号和有效期', 'E': ''}, 'analysis': '药品内标签⾄少应当标注药品通⽤名称、规格、产品批号、有效期等内容。', 'answer': 'D', 'question_type': '最佳选择题', 'source': '2021年执业药师职业资格考试《药事管理与法规》', 'options': 'A:同⼀药品上市许可持有⼈⽣产的同⼀药品，分别按处⽅药与⾮处⽅药管理的，⼆者包装颜⾊必须明显区别\\nB:由于包装尺⼨或者技术设备等原因，标签中的有效期⽆法标注“有效期⾄某年某⽉”的，可以标注有效期实际期限\\nC:对贮藏有特殊要求的药品，应当在标签的醒⽬位置注明\\nD:药品内标签⾄少应当标注药品通⽤名称、产品批号和有效期\\nE:', 'deepseek_ans': '根据题干要求，通过分析关键词和验证医学依据，最准确的错误说法是：\\n\\nA:同⼀药品上市许可持有⼈⽣产的同⼀药品，分别按处⽅药与⾮处⽅药管理的，⼆者包装颜⾊必须明显区别\\n\\n依据：《药品说明书和标签管理规定》未强制要求处方药与非处方药的包装颜色必须明显区别，而是强调标签内容应显著区分。其他选项B、C、D均符合现行法规要求。'}\n",
            "12\n"
          ]
        },
        {
          "output_type": "stream",
          "name": "stderr",
          "text": [
            "\r 12%|█▏        | 12/100 [01:01<08:14,  5.62s/it]"
          ]
        },
        {
          "output_type": "stream",
          "name": "stdout",
          "text": [
            "D\n",
            "A\n",
            "{'question': '51. 患者，⼥，28岁，已婚未育，因阴道分泌物增多伴瘙痒5天就诊。妇科检查见阴道内⼤量黄绿⾊泡沫样分泌物，有臭味，分泌物镜检见滴⾍。宜选⽤的药物是（）。', 'option': {'A': '酮康唑乳膏', 'B': '甲硝唑栓', 'C': '雌三醇乳膏', 'D': '硝酸咪康唑栓', 'E': '氯康唑胶囊'}, 'analysis': '分泌物镜检见滴⾍，可知患者患有滴⾍性阴道炎，可⽤甲硝唑、替硝唑治疗，因此答案选B。', 'answer': 'B', 'question_type': '配伍选择题', 'source': '2021年执业药师职业资格考试《药学综合知识与技能》', 'options': 'A:酮康唑乳膏\\nB:甲硝唑栓\\nC:雌三醇乳膏\\nD:硝酸咪康唑栓\\nE:氯康唑胶囊', 'deepseek_ans': 'B:甲硝唑栓'}\n",
            "13\n"
          ]
        },
        {
          "output_type": "stream",
          "name": "stderr",
          "text": [
            "\r 13%|█▎        | 13/100 [01:06<07:38,  5.27s/it]"
          ]
        },
        {
          "output_type": "stream",
          "name": "stdout",
          "text": [
            "B\n",
            "B\n",
            "{'question': '62. 药品质量标准中属于药物特性检查的项⽬是（）。', 'option': {'A': '氯化物', 'B': '细菌内毒素', 'C': '有关物质', 'D': '结晶性', 'E': '熔点'}, 'analysis': '特性检查有溶液颜⾊检查法（通则0901）、澄清度检查法（通则0902）、不溶性微粒检查法（通则0903）、可见异物检查法（通则0904）、崩解时限检查法（通则0921）、溶出度与释放度测定法（通则0931）、含量均匀度检查法（通则0941）、最低装量检查法（通则0942）、结晶性检查法（通则0981）、粒度和粒度分布测定法（通则0982）等。', 'answer': 'D', 'question_type': '配伍选择题', 'source': '2021年执业药师职业资格考试《药学专业知识（⼀）》', 'options': 'A:氯化物\\nB:细菌内毒素\\nC:有关物质\\nD:结晶性\\nE:熔点', 'deepseek_ans': 'D:结晶性'}\n",
            "14\n"
          ]
        },
        {
          "output_type": "stream",
          "name": "stderr",
          "text": [
            "\r 14%|█▍        | 14/100 [01:11<07:44,  5.41s/it]"
          ]
        },
        {
          "output_type": "stream",
          "name": "stdout",
          "text": [
            "D\n",
            "D\n",
            "{'question': '1. 为配制有效氯浓度为500mg/L的消毒剂10L，需要次氯酸钠溶液（有效氯浓度为6.0%）和纯化⽔的量分别是（）。', 'option': {'A': '83mL和9917mL', 'B': '830mL和9170mL', 'C': '120mL和9880mL', 'D': '150mL和9850mL', 'E': '500mL和9500mL'}, 'analysis': '有效氯含量为6.0%相当于100ml消毒剂中含有6g有效氯，即有效氯含量为6000mg/L，根据C ×V浓 浓＝C ×V ，次氯酸钠溶液的体积是500×10÷6000≈0.83L，即830mL，纯化⽔的量为X＝10－0.83＝9.17L＝9170mL。因此答案选B。稀 稀', 'answer': 'B', 'question_type': '最佳选择题', 'source': '2021年执业药师职业资格考试《药学综合知识与技能》', 'options': 'A:83mL和9917mL\\nB:830mL和9170mL\\nC:120mL和9880mL\\nD:150mL和9850mL\\nE:500mL和9500mL', 'deepseek_ans': '要配制有效氯浓度为500 mg/L的消毒剂10 L，计算步骤如下：\\n\\n1. **计算所需有效氯的总质量**：  \\n   500 mg/L × 10 L = 5000 mg = 5 g。\\n\\n2. **计算所需次氯酸钠溶液的体积**：  \\n   次氯酸钠溶液的有效氯浓度为6.0%（即60 g/L）。  \\n   设需要的次氯酸钠溶液体积为 \\\\( V \\\\)，则：  \\n   \\\\( 60 \\\\, \\\\text{g/L} \\\\times V = 5 \\\\, \\\\text{g} \\\\)  \\n   \\\\( V = \\\\frac{5}{60} \\\\, \\\\text{L} \\\\approx 0.0833 \\\\, \\\\text{L} = 83 \\\\, \\\\text{mL} \\\\)。\\n\\n3. **计算所需纯化水的体积**：  \\n   总配制体积为10 L，减去次氯酸钠溶液的体积：  \\n   \\\\( 10 \\\\, \\\\text{L} - 0.0833 \\\\, \\\\text{L} \\\\approx 9.917 \\\\, \\\\text{L} = 9917 \\\\, \\\\text{mL} \\\\)。\\n\\n**正确答案是选项 A: 83 mL 和 9917 mL**。'}\n",
            "15\n"
          ]
        },
        {
          "output_type": "stream",
          "name": "stderr",
          "text": [
            "\r 15%|█▌        | 15/100 [01:16<07:30,  5.30s/it]"
          ]
        },
        {
          "output_type": "stream",
          "name": "stdout",
          "text": [
            "B\n",
            "A:83mL和9917mL\n",
            "{'question': '21. 亚洲⼈易发⽣某种代谢酶基因突变，导致部分患者使⽤奥美拉唑时，其体内该药物的AUC明显增加，该代谢酶是（）。', 'option': {'A': 'CYP2D6', 'B': 'CYP3A4', 'C': 'CYP2C19', 'D': 'CYP2C9', 'E': 'CYP1A2'}, 'analysis': '奥美拉唑是H ，K -ATP酶抑制药，⽤于治疗消化道溃疡及消化道反流，其单剂量药动学研究中，亚洲⼈的AUC⽐⽩种⼈增加近40%，这种差异是由药物的不同代谢率引起的。奥美拉唑是细胞⾊素酶CYP2C19的作⽤底物，近20%的亚洲⼈为CYP2C19的突变纯合⼦形式，为弱代谢型，因此对于亚洲患者中的弱代谢型及肝功受损的患者，应调低剂量进⾏治疗。', 'answer': 'C', 'question_type': '最佳选择题', 'source': '2021年执业药师职业资格考试《药学专业知识（⼀）》', 'options': 'A:CYP2D6\\nB:CYP3A4\\nC:CYP2C19\\nD:CYP2C9\\nE:CYP1A2', 'deepseek_ans': 'C:CYP2C19'}\n",
            "16\n"
          ]
        },
        {
          "output_type": "stream",
          "name": "stderr",
          "text": [
            "\r 16%|█▌        | 16/100 [01:21<06:58,  4.98s/it]"
          ]
        },
        {
          "output_type": "stream",
          "name": "stdout",
          "text": [
            "C\n",
            "C\n",
            "{'question': '39. 可致超敏反应综合征（AHS），推荐⽤药前做HLA-B*5801基因筛查的抗痛风药物是（）。', 'option': {'A': '苯溴马隆', 'B': '别嘌醇', 'C': '秋⽔仙碱', 'D': '⾮布司他', 'E': '丙磺舒'}, 'analysis': '别嘌醇可致超敏反应综合征（AHS），建议应⽤前做基因（HLA-B*5801）筛查。', 'answer': 'B', 'question_type': '最佳选择题', 'source': '2021年执业药师职业资格考试《药学专业知识（⼆）》', 'options': 'A:苯溴马隆\\nB:别嘌醇\\nC:秋⽔仙碱\\nD:⾮布司他\\nE:丙磺舒', 'deepseek_ans': 'B:别嘌醇'}\n",
            "17\n"
          ]
        },
        {
          "output_type": "stream",
          "name": "stderr",
          "text": [
            "\r 17%|█▋        | 17/100 [01:25<06:36,  4.78s/it]"
          ]
        },
        {
          "output_type": "stream",
          "name": "stdout",
          "text": [
            "B\n",
            "B\n",
            "{'question': '117. 药物代谢是机体对药物的处置过程，下列关于药物代谢的说法，正确的有（）。', 'option': {'A': '⾮甾体抗炎药舒林酸结构中的甲基亚砜，经还原后的代谢物才具有活性', 'B': '抗抑郁药丙⽶嗪结构中的⼆甲胺⽚段，经N-脱甲基后的代谢物失去活性', 'C': '驱⾍药阿苯达唑结构中的丙硫醚，经S-氧化后的代谢物才具有活性', 'D': '抗癫痫药苯妥英钠结构中的⼀个芳环，发⽣氧化代谢后产⽣羟基化的代谢物仍具有活性', 'E': '解热镇痛药保泰松结构中的⼀个芳环，发⽣氧化代谢后产⽣羟基化的保泰松仍具有活性'}, 'analysis': '舒林酸属前体药物，它在体外⽆效，在体内经肝代谢，甲基亚砜基被还原为甲硫基化合物⽽显⽰⽣物活性。舒林酸⾃肾脏排泄较慢，半衰期长，故起效慢，作⽤持久。阿苯达唑⼜服吸收差，但可迅速经肝脏S-氧化⽣成亚砜和砜类活性代谢物，代谢物为砜及⽔解脱羧后的2-氨基取代的砜及亚砜。保泰松在体内的代谢物羟布宗（羟基保泰松）也具有消炎抗风湿作⽤，且毒性较低，副作⽤较⼩。', 'answer': 'ACE', 'question_type': '多项选择题', 'source': '2021年执业药师职业资格考试《药学专业知识（⼀）》', 'options': 'A:⾮甾体抗炎药舒林酸结构中的甲基亚砜，经还原后的代谢物才具有活性\\nB:抗抑郁药丙⽶嗪结构中的⼆甲胺⽚段，经N-脱甲基后的代谢物失去活性\\nC:驱⾍药阿苯达唑结构中的丙硫醚，经S-氧化后的代谢物才具有活性\\nD:抗癫痫药苯妥英钠结构中的⼀个芳环，发⽣氧化代谢后产⽣羟基化的代谢物仍具有活性\\nE:解热镇痛药保泰松结构中的⼀个芳环，发⽣氧化代谢后产⽣羟基化的保泰松仍具有活性', 'deepseek_ans': 'A:⾮甾体抗炎药舒林酸结构中的甲基亚砜，经还原后的代谢物才具有活性\\nC:驱⾍药阿苯达唑结构中的丙硫醚，经S-氧化后的代谢物才具有活性\\nD:抗癫痫药苯妥英钠结构中的⼀个芳环，发⽣氧化代谢后产⽣羟基化的代谢物仍具有活性\\nE:解热镇痛药保泰松结构中的⼀个芳环，发⽣氧化代谢后产⽣羟基化的保泰松仍具有活性'}\n",
            "18\n"
          ]
        },
        {
          "output_type": "stream",
          "name": "stderr",
          "text": [
            "\r 18%|█▊        | 18/100 [01:30<06:42,  4.91s/it]"
          ]
        },
        {
          "output_type": "stream",
          "name": "stdout",
          "text": [
            "ACE\n",
            "A,C,D,E\n",
            "{'question': '29. 可待因是前药，需经肝药酶转化为吗啡⽽发挥镇痛作⽤，参与转化的肝药酶是（）。', 'option': {'A': 'CYP1A2', 'B': 'CYP3A4', 'C': 'CYP2C9', 'D': 'CYP2D6', 'E': 'CYP2C19'}, 'analysis': '可待因与阿⽚受体的亲和⼒很低，体内药物的10%经肝CYP2D6转化为吗啡⽽发挥镇痛作⽤。', 'answer': 'D', 'question_type': '最佳选择题', 'source': '2021年执业药师职业资格考试《药学专业知识（⼆）》', 'options': 'A:CYP1A2\\nB:CYP3A4\\nC:CYP2C9\\nD:CYP2D6\\nE:CYP2C19', 'deepseek_ans': 'D:CYP2D6'}\n",
            "19\n"
          ]
        },
        {
          "output_type": "stream",
          "name": "stderr",
          "text": [
            "\r 19%|█▉        | 19/100 [01:35<06:28,  4.80s/it]"
          ]
        },
        {
          "output_type": "stream",
          "name": "stdout",
          "text": [
            "D\n",
            "D\n",
            "{'question': '37. 根据医疗器械分类管理规定，下列属于⼆类医疗器械的是（）。', 'option': {'A': '体温计、⽪肤缝合钉、⽆菌医⽤⼿套', 'B': '超声三维系统软件、⾎压计、核磁共振成像设备', 'C': '针灸针、听诊器、医⽤防护服', 'D': '集液袋、⼿术⼑、睡眠监护系统软件', 'E': ''}, 'analysis': '第⼆类医疗器械有⾎压计、体温计、⼼电图机、脑电图机、⼿术显微镜、（中医⽤）针灸针、助听器、⽪肤缝合钉、避孕套、避孕帽、⽆菌医⽤⼿套、睡眠监护系统软件、超声三维系统软件、脉象仪软件等。', 'answer': 'A', 'question_type': '最佳选择题', 'source': '2021年执业药师职业资格考试《药事管理与法规》', 'options': 'A:体温计、⽪肤缝合钉、⽆菌医⽤⼿套\\nB:超声三维系统软件、⾎压计、核磁共振成像设备\\nC:针灸针、听诊器、医⽤防护服\\nD:集液袋、⼿术⼑、睡眠监护系统软件\\nE:', 'deepseek_ans': '根据医疗器械分类管理规定，二类医疗器械通常指需要严格控制管理以保证其安全有效的医疗器械。综合分析选项：\\n\\nA: 体温计（二类）、皮肤缝合钉（一类或二类）、无菌医用手套（一类）→ 部分符合  \\nB: 超声三维系统软件（三类）、血压计（二类）、核磁共振成像设备（三类）→ 部分符合  \\nC: 针灸针（二类）、听诊器（一类）、医用防护服（一类或二类）→ 部分符合  \\nD: 集液袋（二类）、手术刀（一类）、睡眠监护系统软件（二类）→ 部分符合  \\n\\n**最准确的是A选项**（体温计为二类代表性产品，其余选项混合三类或一类器械）。  \\n\\n最终选项：A'}\n",
            "20\n"
          ]
        },
        {
          "output_type": "stream",
          "name": "stderr",
          "text": [
            "\r 20%|██        | 20/100 [01:39<06:18,  4.73s/it]"
          ]
        },
        {
          "output_type": "stream",
          "name": "stdout",
          "text": [
            "A\n",
            "A\n",
            "{'question': '14. ⽤烯丙基、环丙基甲基或环丁基甲基对吗啡及其类似物的叔胺部分进⾏修饰后，由阿⽚受体激动剂转为拮抗剂，属于阿⽚受体拮抗剂的是（）。', 'option': {'A': '', 'B': '', 'C': '', 'D': '', 'E': ''}, 'analysis': '当吗啡的N-甲基被烯丙基、环丙基甲基或环丁基甲基等取代后，导致吗啡样物质对受体的作⽤发⽣逆转，由激动剂变为拮抗剂。如烯丙吗啡（Nalorphine）、纳洛酮（Naloxone）和纳曲酮（Naltrexone），均⽆镇痛作⽤，都是阿⽚受体阻断药，A项，是烯丙吗啡。', 'answer': 'A', 'question_type': '最佳选择题', 'source': '2021年执业药师职业资格考试《药学专业知识（⼀）》', 'options': 'A:\\nB:\\nC:\\nD:\\nE:', 'deepseek_ans': 'E'}\n",
            "21\n"
          ]
        },
        {
          "output_type": "stream",
          "name": "stderr",
          "text": [
            "\r 21%|██        | 21/100 [01:44<06:04,  4.62s/it]"
          ]
        },
        {
          "output_type": "stream",
          "name": "stdout",
          "text": [
            "A\n",
            "E\n",
            "{'question': '8. 异丙托溴铵制剂处⽅如下。处⽅中枸橼酸⽤作（）。 【处⽅】 异丙托溴铵0.374g，⽆⽔⼄醇150g； HFA-134a844.6g，枸橼酸0.04g； 蒸馏⽔5.0g。', 'option': {'A': '潜溶剂', 'B': '防腐剂', 'C': '助溶剂', 'D': '抛射剂', 'E': 'pH调节剂'}, 'analysis': '上述⽓雾剂为液体⽓雾剂，⽆⽔⼄醇为潜溶剂，增加药物和赋形剂在制剂中的溶解度，使药物溶解达到有效治疗量；枸橼酸调节体系pH，抑制药物分解；加⼊少量⽔可以降低药物因脱⽔引起的分解。', 'answer': 'E', 'question_type': '最佳选择题', 'source': '2021年执业药师职业资格考试《药学专业知识（⼀）》', 'options': 'A:潜溶剂\\nB:防腐剂\\nC:助溶剂\\nD:抛射剂\\nE:pH调节剂', 'deepseek_ans': '分析题干关键词：\\n1. 异丙托溴铵制剂处方成分及用量\\n2. 枸橼酸的作用\\n\\n调用检索工具验证医学依据：\\n1. 枸橼酸在药物制剂中常用作pH调节剂，维持药物稳定性\\n2. 该处方中枸橼酸用量极低(0.04g)，符合pH调节剂的使用特点\\n3. 其他选项：\\n   A. 潜溶剂 - 主要由无水乙醇担任\\n   B. 防腐剂 - 处方中无典型防腐剂\\n   C. 助溶剂 - 无证据支持\\n   D. 抛射剂 - 由HFA-134a担任\\n   E. pH调节剂 - 最符合枸橼酸作用\\n\\n综合所有信息选择最准确的答案：\\nE:pH调节剂\\n\\n最终选项：E'}\n",
            "22\n"
          ]
        },
        {
          "output_type": "stream",
          "name": "stderr",
          "text": [
            "\r 22%|██▏       | 22/100 [01:48<05:52,  4.53s/it]"
          ]
        },
        {
          "output_type": "stream",
          "name": "stdout",
          "text": [
            "E\n",
            "E\n",
            "{'question': '32. 根据处⽅药与⾮处⽅药分类管理要求，下列销售⾏为错误的是（）。', 'option': {'A': '药品零售企业对疑似假冒或者不合法处⽅，应当断然拒绝调配，并向所在地药品监管理部门报告', 'B': '药品零售企业不得采⽤开架⾃选的⽅式销售处⽅药，可以采⽤“捆绑搭售”“满减优惠”等⽅式赠送销售⾮处⽅药', 'C': '销售处⽅药时，处⽅应当经执业药师审核，调配处⽅应当经过核对，对处⽅所列药品不得擅⾃更改或者代⽤，对有配伍禁忌的处⽅，应当拒绝调配', 'D': '第⼆类精神药品，肿瘤治疗药，精神障碍治疗药等在药品零售企业必须严格凭处⽅销售', 'E': ''}, 'analysis': '药品零售企业不得采⽤开架⾃选的⽅式销售处⽅药，也不得采⽤“捆绑搭售”“买商品赠药品”“买N赠1”“满N减1”“满N元减x元”等⽅式直接或变相赠送销售处⽅药、甲类⾮处⽅药（包括通过⽹络销售的渠道）。', 'answer': 'B', 'question_type': '最佳选择题', 'source': '2021年执业药师职业资格考试《药事管理与法规》', 'options': 'A:药品零售企业对疑似假冒或者不合法处⽅，应当断然拒绝调配，并向所在地药品监管理部门报告\\nB:药品零售企业不得采⽤开架⾃选的⽅式销售处⽅药，可以采⽤“捆绑搭售”“满减优惠”等⽅式赠送销售⾮处⽅药\\nC:销售处⽅药时，处⽅应当经执业药师审核，调配处⽅应当经过核对，对处⽅所列药品不得擅⾃更改或者代⽤，对有配伍禁忌的处⽅，应当拒绝调配\\nD:第⼆类精神药品，肿瘤治疗药，精神障碍治疗药等在药品零售企业必须严格凭处⽅销售\\nE:', 'deepseek_ans': '根据题干关键词和分类管理要求分析：\\n\\n1. 关键词：处方药与非处方药分类管理、销售行为错误\\n2. 医学依据验证：\\n   - A选项符合《药品管理法》对可疑处方的处理规定\\n   - B选项错误：非处方药也不允许采用\"捆绑搭售\"等促销方式（依据《药品流通监督管理办法》）\\n   - C选项符合《处方管理办法》对药师审方要求\\n   - D选项符合现行零售药店处方药销售规定\\n\\n3. 最准确答案：B\\n\\n最终选项：B'}\n",
            "23\n"
          ]
        },
        {
          "output_type": "stream",
          "name": "stderr",
          "text": [
            "\r 23%|██▎       | 23/100 [01:53<05:54,  4.60s/it]"
          ]
        },
        {
          "output_type": "stream",
          "name": "stdout",
          "text": [
            "B\n",
            "B\n",
            "{'question': '34. ⾮索⾮那定为H 受体阻断药，适⽤于减轻季节性过性⿐炎和慢性特发性荨⿇疹引起的症状。下1列关于⾮索⾮那定结构和临床使⽤的说法错误的是（）。', 'option': {'A': '为特⾮那定的体内活性代谢产物', 'B': '具有较⼤的⼼脏毒副作⽤', 'C': '分⼦中含有⼀个羧基', 'D': '不易通过⾎-脑屏障，因⽽⼏乎⽆镇静作⽤', 'E': '⼜服后吸收迅速'}, 'analysis': '⾮索⾮那定可以⽣成特⾮那定的活性代谢物，因含有羧基故⽆中枢镇静作⽤，也⽆⼼脏毒性；为第三代抗组胺药，⼜服后吸收迅速，不能通过⾎-脑屏障，⼏乎不代谢；适⽤于减轻季节性过敏性⿐炎和慢性特发性荨⿇疹引起的症状。', 'answer': 'B', 'question_type': '最佳选择题', 'source': '2021年执业药师职业资格考试《药学专业知识（⼀）》', 'options': 'A:为特⾮那定的体内活性代谢产物\\nB:具有较⼤的⼼脏毒副作⽤\\nC:分⼦中含有⼀个羧基\\nD:不易通过⾎-脑屏障，因⽽⼏乎⽆镇静作⽤\\nE:⼜服后吸收迅速', 'deepseek_ans': '1. 分析题干关键词：\\n   - 非索非那定（H1受体阻断药）\\n   - 结构特点\\n   - 临床使用特点\\n   - 错误的说法\\n\\n2. 医学依据验证：\\n   - 非索非那定是特非那定的活性代谢产物（A正确）\\n   - 非索非那定经结构改造后心脏毒性显著降低（B错误，原特非那定有心脏毒性）\\n   - 分子中含羧基（C正确，COOH是其结构特征）\\n   - 极性大不易通过血脑屏障（D正确，故无中枢镇静作用）\\n   - 口服生物利用度高（E正确，吸收迅速）\\n\\n3. 最准确答案：\\n   B（心脏毒性大的说法错误）\\n\\n4. 最终选项：\\nB'}\n",
            "24\n"
          ]
        },
        {
          "output_type": "stream",
          "name": "stderr",
          "text": [
            "\r 24%|██▍       | 24/100 [01:57<05:48,  4.58s/it]"
          ]
        },
        {
          "output_type": "stream",
          "name": "stdout",
          "text": [
            "B\n",
            "B\n",
            "{'question': '63. 表⽰药物在体内波动程度的参数是（）。', 'option': {'A': 'Cmax', 'B': 'DE', 'C': 'MRT', 'D': 'AUMC', 'E': 'AUC'}, 'analysis': '药物在体内波动程度的参数是峰浓度（C ），反应药物吸收的程度，也与吸收速度有关。max', 'answer': 'A', 'question_type': '配伍选择题', 'source': '2021年执业药师职业资格考试《药学专业知识（⼀）》', 'options': 'A:Cmax\\nB:DE\\nC:MRT\\nD:AUMC\\nE:AUC', 'deepseek_ans': 'B:DF（波动系数）  \\n\\n（注：DE应为DF（Degree of Fluctuation）的笔误，DF是评价药物在体内浓度波动程度的关键参数，计算公式为 (Cmax - Cmin)/Cavg。其他选项中，AUC、Cmax、MRT、AUMC均不直接反映波动性。）'}\n",
            "25\n"
          ]
        },
        {
          "output_type": "stream",
          "name": "stderr",
          "text": [
            "\r 25%|██▌       | 25/100 [02:02<05:46,  4.62s/it]"
          ]
        },
        {
          "output_type": "stream",
          "name": "stdout",
          "text": [
            "A\n",
            "B\n",
            "{'question': '83. 结构中引⼊甲磺酰基，通过氢键作⽤增⼤了与酶的结合能⼒，使药效增强的药物是（）。', 'option': {'A': '', 'B': '', 'C': '', 'D': '', 'E': ''}, 'analysis': '瑞舒伐他汀钙是全合成的他汀类药物，其分⼦中的双环部分改成了多取代的嘧啶环，嘧啶环上引⼊的甲磺酰基作为氢键接受体，和HMG-CoA还原酶形成氢键，增加了与酶的结合能⼒，抑制作⽤更强。', 'answer': 'C', 'question_type': '配伍选择题', 'source': '2021年执业药师职业资格考试《药学专业知识（⼀）》', 'options': 'A:\\nB:\\nC:\\nD:\\nE:', 'deepseek_ans': 'E'}\n",
            "26\n"
          ]
        },
        {
          "output_type": "stream",
          "name": "stderr",
          "text": [
            "\r 26%|██▌       | 26/100 [02:07<05:41,  4.61s/it]"
          ]
        },
        {
          "output_type": "stream",
          "name": "stdout",
          "text": [
            "C\n",
            "E\n",
            "{'question': '题干：头孢呋⾟钠是⼀种半合成⼴谱抗⽣素，在⽔溶液中易降解，化学结构式如下。其药动学特征可⽤⼀室模型描述，半衰期约为1.1h，给药24h内，90%以上药物以原形从尿中排出。对肝肾功能正常的患者，临床上治疗肺炎时，每⽇三次，每次静脉注射剂量为0.5g。\\n104. 头孢呋⾟钠的结构属于（）。', 'option': {'A': '⼤环内酯类', 'B': '四环素类', 'C': '氨基糖苷类', 'D': '喹诺酮类', 'E': 'β-内酰胺类'}, 'analysis': 'β-内酰胺类包括青霉素类，头孢菌素类，故上述题中头孢呋⾟钠属于β-内酰胺类药物。因此答案选E。', 'answer': 'E', 'question_type': '综合分析选择题', 'source': '2021年执业药师职业资格考试《药学专业知识（⼀）》', 'options': 'A:⼤环内酯类\\nB:四环素类\\nC:氨基糖苷类\\nD:喹诺酮类\\nE:β-内酰胺类', 'deepseek_ans': 'E:β-内酰胺类'}\n",
            "27\n"
          ]
        },
        {
          "output_type": "stream",
          "name": "stderr",
          "text": [
            "\r 27%|██▋       | 27/100 [02:11<05:37,  4.63s/it]"
          ]
        },
        {
          "output_type": "stream",
          "name": "stdout",
          "text": [
            "E\n",
            "E\n",
            "{'question': '题干：头孢呋⾟钠是⼀种半合成⼴谱抗⽣素，在⽔溶液中易降解，化学结构式如下。其药动学特征可⽤⼀室模型描述，半衰期约为1.1h，给药24h内，90%以上药物以原形从尿中排出。对肝肾功能正常的患者，临床上治疗肺炎时，每⽇三次，每次静脉注射剂量为0.5g。\\n105. 某患者的表观分布容积为20L，每次静脉注射0.5g，则多次给药后的平均稳态⾎药浓度是（）。', 'option': {'A': '75mg/L', 'B': '4.96mg/L', 'C': '3.13mg/L', 'D': '119mg/L', 'E': '2.5mg/L'}, 'analysis': '平均稳态⾎药浓度的计算公式C ＝X /kVτ。已知X 是每经τ时间静脉注射的剂量0.5g，给药24h内，每⽇三次，τ是8⼩时，表观分布容积为20L，已知半衰期1.1h，则k＝0.693/t ＝0.693/1.1＝0.63，故C ＝0.5÷（20×8×0.63）≈0.00496g/L＝4.96mg/L。1/2ss00ss', 'answer': 'B', 'question_type': '综合分析选择题', 'source': '2021年执业药师职业资格考试《药学专业知识（⼀）》', 'options': 'A:75mg/L\\nB:4.96mg/L\\nC:3.13mg/L\\nD:119mg/L\\nE:2.5mg/L', 'deepseek_ans': '### 1. 分析题干关键词\\n- **头孢呋辛钠**：半合成广谱抗生素，水溶液中易降解。\\n- **药动学特征**：一室模型，半衰期（t1/2）约为1.1小时。\\n- **排泄**：24小时内90%以上以原形从尿中排出。\\n- **给药方案**：每日三次（即每8小时一次），每次静脉注射0.5g。\\n- **患者参数**：表观分布容积（Vd）为20L。\\n- **问题**：计算多次给药后的平均稳态血药浓度（Css_avg）。\\n\\n### 2. 调用检索工具验证医学依据\\n根据药动学一室模型，平均稳态血药浓度（Css_avg）的计算公式为：\\n\\\\[ Css_{avg} = \\\\frac{Dose \\\\times F}{CL \\\\times \\\\tau} \\\\]\\n其中：\\n- Dose：每次给药剂量（0.5g = 500mg）。\\n- F：生物利用度，静脉注射为1（100%）。\\n- CL：清除率（Clearance）。\\n- τ：给药间隔（8小时）。\\n\\n清除率（CL）可通过半衰期（t1/2）和表观分布容积（Vd）计算：\\n\\\\[ CL = \\\\frac{0.693 \\\\times Vd}{t_{1/2}} \\\\]\\n已知：\\n- t1/2 = 1.1小时。\\n- Vd = 20L。\\n\\n因此：\\n\\\\[ CL = \\\\frac{0.693 \\\\times 20}{1.1} \\\\approx \\\\frac{13.86}{1.1} \\\\approx 12.6 \\\\, \\\\text{L/h} \\\\]\\n\\n### 3. 计算平均稳态血药浓度（Css_avg）\\n将已知值代入Css_avg公式：\\n\\\\[ Css_{avg} = \\\\frac{500 \\\\times 1}{12.6 \\\\times 8} \\\\approx \\\\frac{500}{100.8} \\\\approx 4.96 \\\\, \\\\text{mg/L} \\\\]\\n\\n### 4. 综合所有信息选择最准确的答案\\n计算结果与选项B一致。\\n\\n### 5. 最终答案\\nB:4.96mg/L'}\n",
            "28\n"
          ]
        },
        {
          "output_type": "stream",
          "name": "stderr",
          "text": [
            "\r 28%|██▊       | 28/100 [02:16<05:42,  4.75s/it]"
          ]
        },
        {
          "output_type": "stream",
          "name": "stdout",
          "text": [
            "B\n",
            "B\n",
            "{'question': '116. 关于药物临床试验的说法，正确的有（）。', 'option': {'A': 'Ⅲ期临床试验是治疗作⽤确证阶段', 'B': 'Ⅳ期临床试验是新药上市前的应⽤研究阶段', 'C': 'Ⅰ期临床试验是初步的临床药理学及⼈体安全性评价试验', 'D': 'Ⅱ期临床试验是治疗作⽤初步评价阶段', 'E': ''}, 'analysis': 'Ⅰ期临床试验：初步的临床药理学及⼈体安全性评；Ⅱ期临床试验：治疗作⽤初步评价阶段；Ⅲ期临床试验：治疗作⽤确证阶段；Ⅳ期临床试验：新药上市后的应⽤研究阶段。', 'answer': 'ACD', 'question_type': '多项选择题', 'source': '2021年执业药师职业资格考试《药事管理与法规》', 'options': 'A:Ⅲ期临床试验是治疗作⽤确证阶段\\nB:Ⅳ期临床试验是新药上市前的应⽤研究阶段\\nC:Ⅰ期临床试验是初步的临床药理学及⼈体安全性评价试验\\nD:Ⅱ期临床试验是治疗作⽤初步评价阶段\\nE:', 'deepseek_ans': 'A:Ⅲ期临床试验是治疗作⽤确证阶段\\nC:Ⅰ期临床试验是初步的临床药理学及⼈体安全性评价试验\\nD:Ⅱ期临床试验是治疗作⽤初步评价阶段'}\n",
            "29\n"
          ]
        },
        {
          "output_type": "stream",
          "name": "stderr",
          "text": [
            "\r 29%|██▉       | 29/100 [02:21<05:39,  4.79s/it]"
          ]
        },
        {
          "output_type": "stream",
          "name": "stdout",
          "text": [
            "ACD\n",
            "A,C,D\n",
            "{'question': '80. 常⽤磷脂作为载体材料的是（）。', 'option': {'A': '纳⽶粒', 'B': '微囊', 'C': '纳⽶乳', 'D': '微球', 'E': '脂质体'}, 'analysis': '脂质体是将药物包封于类脂质双分⼦层形成的薄膜中间所得的超微型球状载体。脂质体的膜材主要由磷脂与胆固醇构成。', 'answer': 'E', 'question_type': '配伍选择题', 'source': '2021年执业药师职业资格考试《药学专业知识（⼀）》', 'options': 'A:纳⽶粒\\nB:微囊\\nC:纳⽶乳\\nD:微球\\nE:脂质体', 'deepseek_ans': 'E:脂质体'}\n",
            "30\n"
          ]
        },
        {
          "output_type": "stream",
          "name": "stderr",
          "text": [
            "\r 30%|███       | 30/100 [02:28<06:09,  5.27s/it]"
          ]
        },
        {
          "output_type": "stream",
          "name": "stdout",
          "text": [
            "E\n",
            "E\n",
            "{'question': '33. 根据《药品管理法》，对未取得药品⽣产许可证⽣产、销售药品的情形，药品监督管理部门对其责令关闭，没收违法⽣产，销售的药品和违法所得，并处罚款。药品监督管理部门作出的该⾏为属于（）。', 'option': {'A': '⾏政裁决', 'B': '⾏政处分', 'C': '⾏政处罚', 'D': '⾏政强制', 'E': ''}, 'analysis': '《处罚法》第九条明确规定了⾏政处罚的种类，包括：①警告、通报批评；②罚款、没收违法所得、没收⾮法财物；③暂扣许可证件、降低资质等级、吊销许可证件；④限制开展⽣产经营活动、责令停产停业、责令关闭、限制从业；⑤⾏政拘留；⑥法律、⾏政法规规定的其他⾏政处罚。', 'answer': 'C', 'question_type': '最佳选择题', 'source': '2021年执业药师职业资格考试《药事管理与法规》', 'options': 'A:⾏政裁决\\nB:⾏政处分\\nC:⾏政处罚\\nD:⾏政强制\\nE:', 'deepseek_ans': 'C:行政处罚'}\n",
            "31\n"
          ]
        },
        {
          "output_type": "stream",
          "name": "stderr",
          "text": [
            "\r 31%|███       | 31/100 [02:33<06:09,  5.36s/it]"
          ]
        },
        {
          "output_type": "stream",
          "name": "stdout",
          "text": [
            "C\n",
            "C\n",
            "{'question': '92. 抑制尿酸⽣成的抗痛风药物是（）。', 'option': {'A': '双氯芬酸', 'B': '秋⽔仙碱', 'C': '苯溴马隆', 'D': '双醋瑞因', 'E': '⾮布司他'}, 'analysis': '', 'answer': 'E', 'question_type': '配伍选择题', 'source': '2021年执业药师职业资格考试《药学专业知识（⼆）》', 'options': 'A:双氯芬酸\\nB:秋⽔仙碱\\nC:苯溴马隆\\nD:双醋瑞因\\nE:⾮布司他', 'deepseek_ans': 'E:⾮布司他'}\n",
            "32\n"
          ]
        },
        {
          "output_type": "stream",
          "name": "stderr",
          "text": [
            "\r 32%|███▏      | 32/100 [02:38<05:44,  5.07s/it]"
          ]
        },
        {
          "output_type": "stream",
          "name": "stdout",
          "text": [
            "E\n",
            "E\n",
            "{'question': '64. 属于⾃由基清除剂，⽤于治疗缺⾎性脑⾎管病的药物是（）。', 'option': {'A': '尼莫地平', 'B': '吡拉西坦', 'C': '依达拉奉', 'D': '多奈哌齐', 'E': '尼麦⾓林'}, 'analysis': '依达拉奉可清除⾃由基，抑制脂质过氧化，从⽽抑制脑细胞、⾎管内⽪细胞、神经细胞的氧化损伤。适⽤于改善急性脑梗塞所致的神经症状，⽇常⽣活活动能⼒和功能障碍。', 'answer': 'C', 'question_type': '配伍选择题', 'source': '2021年执业药师职业资格考试《药学专业知识（⼆）》', 'options': 'A:尼莫地平\\nB:吡拉西坦\\nC:依达拉奉\\nD:多奈哌齐\\nE:尼麦⾓林', 'deepseek_ans': 'C:依达拉奉'}\n",
            "33\n"
          ]
        },
        {
          "output_type": "stream",
          "name": "stderr",
          "text": [
            "\r 33%|███▎      | 33/100 [02:42<05:34,  5.00s/it]"
          ]
        },
        {
          "output_type": "stream",
          "name": "stdout",
          "text": [
            "C\n",
            "C\n",
            "{'question': '1221248. 氧氟沙星左旋体的抗菌活性是右旋体的9.3倍，产⽣该现象的原因是（）。', 'option': {'A': '构象异构', 'B': '⼏何异构', 'C': '构型异构', 'D': '组成差异', 'E': '代谢差异'}, 'analysis': '对映体异构体之间产⽣相同的药理活性，但强弱不同；两个对映体有相似的药理活性，但作⽤强度有明显的差异。例如抗菌药物氧氟沙星，其S-（－）-对映异构体对细菌旋转酶抑制活性是R-（＋）-对映异构体的9.3倍，是消旋体的1.3倍。', 'answer': 'C', 'question_type': '配伍选择题', 'source': '2021年执业药师职业资格考试《药学专业知识（⼀）》', 'options': 'A:构象异构\\nB:⼏何异构\\nC:构型异构\\nD:组成差异\\nE:代谢差异', 'deepseek_ans': 'C:构型异构'}\n",
            "34\n"
          ]
        },
        {
          "output_type": "stream",
          "name": "stderr",
          "text": [
            "\r 34%|███▍      | 34/100 [02:47<05:21,  4.87s/it]"
          ]
        },
        {
          "output_type": "stream",
          "name": "stdout",
          "text": [
            "C\n",
            "C\n",
            "{'question': '30. 患者，⼥，58岁，⾼⾎压病史3年，服⽤氨氯地平控制⾎压。近1⽉来间断上腹痛，伴反酸，诊断为胃溃疡，Hp（＋），给予雷贝拉唑、克拉霉素、阿莫西林、枸橼酸铋钾进⾏Hp根除治疗。服药后患者⾃述⾆苔发⿊，⼜中有氨味，可能引起这种现象的药物是（）。', 'option': {'A': '雷贝拉唑', 'B': '克拉霉素', 'C': '枸橼酸铋钾', 'D': '阿莫西林', 'E': '氨氯地平'}, 'analysis': '枸橼酸铋钾服药期间，⼜中可能带有氨味并可使⾆苔及⼤便呈灰⿊⾊，因此答案选C。', 'answer': 'C', 'question_type': '最佳选择题', 'source': '2021年执业药师职业资格考试《药学综合知识与技能》', 'options': 'A:雷贝拉唑\\nB:克拉霉素\\nC:枸橼酸铋钾\\nD:阿莫西林\\nE:氨氯地平', 'deepseek_ans': 'C:枸橼酸铋钾'}\n",
            "35\n"
          ]
        },
        {
          "output_type": "stream",
          "name": "stderr",
          "text": [
            "\r 35%|███▌      | 35/100 [02:51<05:10,  4.77s/it]"
          ]
        },
        {
          "output_type": "stream",
          "name": "stdout",
          "text": [
            "C\n",
            "C\n",
            "{'question': '47. 根据《中共中央国务院关于深化医疗保障制度改⾰的意见》，⼒争到2030年全⾯建成多层次医疗保障制度体系，多层次医疗保障制度体系中发挥托底作⽤的是（）。', 'option': {'A': '补充医疗保险', 'B': '医疗互助', 'C': '医疗救助', 'D': '基本医疗保险', 'E': ''}, 'analysis': '2020年3⽉5⽇，《中共中央国务院关于深化医疗保障制度改⾰的意见》提出了“1＋4＋2”的医疗保障制度总体改⾰框架。其中，“1”是⼒争到2030年，全⾯建成以基本医疗保险为主体，医疗救助为托底，补充医疗保险、商业健康保险、慈善捐赠、医疗互助共同发展的多层次医疗保障制度体系。“4”是健全待遇保障、筹资运⾏、医保⽀付、基⾦监管四个机制。“2”是完善医药服务供给和医疗保障服务两个⽀撑。', 'answer': 'C', 'question_type': '配伍选择题', 'source': '2021年执业药师职业资格考试《药事管理与法规》', 'options': 'A:补充医疗保险\\nB:医疗互助\\nC:医疗救助\\nD:基本医疗保险\\nE:', 'deepseek_ans': '根据《中共中央国务院关于深化医疗保障制度改革的意见》中明确的制度定位，医疗救助是对困难群众的托底保障。以下是逐步分析：\\n\\n1. **关键词分析**：题目核心是“多层次医疗保障制度体系”中“发挥托底作用”的部分。  \\n2. **政策依据**：  \\n   - 基本医疗保险（D）是主体保障，覆盖全民，但非托底。  \\n   - 补充医疗保险（A）和医疗互助（B）是更高层次的补充保障。  \\n   - **医疗救助（C）**专门针对贫困人群，承担防止因病致贫、兜底保障的功能，符合“托底”描述。  \\n3. **排除法**：其他选项均不具备政策明文规定的托底属性。  \\n\\n**正确答案：C**'}\n",
            "36\n"
          ]
        },
        {
          "output_type": "stream",
          "name": "stderr",
          "text": [
            "\r 36%|███▌      | 36/100 [02:56<04:54,  4.61s/it]"
          ]
        },
        {
          "output_type": "stream",
          "name": "stdout",
          "text": [
            "C\n",
            "C\n",
            "{'question': '32. 妊娠5个⽉后⽤药，可导致⽇后婴⼉⽛齿黄染、⽛釉质、发育不全的药物是（）。', 'option': {'A': '阿莫西林', 'B': '呋喃妥因', 'C': '甲硝唑', 'D': '四环素', 'E': '磺胺甲恶唑'}, 'analysis': '妊娠5个⽉后⽤四环素可使婴⼉⽛齿黄染，⽛釉质发育不全，⾻⽣长障碍，因此答案选D。', 'answer': 'D', 'question_type': '最佳选择题', 'source': '2021年执业药师职业资格考试《药学综合知识与技能》', 'options': 'A:阿莫西林\\nB:呋喃妥因\\nC:甲硝唑\\nD:四环素\\nE:磺胺甲恶唑', 'deepseek_ans': 'D:四环素'}\n",
            "37\n"
          ]
        },
        {
          "output_type": "stream",
          "name": "stderr",
          "text": [
            "\r 37%|███▋      | 37/100 [03:00<04:45,  4.53s/it]"
          ]
        },
        {
          "output_type": "stream",
          "name": "stdout",
          "text": [
            "D\n",
            "D\n",
            "{'question': '94. 既有黏痰溶解作⽤，还有解救对⼄酰氨基酚中毒作⽤的药物是（）。', 'option': {'A': '⼄酰半胱氨酸', 'B': '氯化铵', 'C': '氨溴索', 'D': '右美沙芬', 'E': '可待因'}, 'analysis': '⼄酰半胱氨酸分⼦中所含的巯基能使糖蛋⽩多肽链的⼆硫键断裂，并使脓性痰DNA纤维断裂，从⽽降低痰液的黏滞性，使痰液液化，容易咳出，具有较强的黏痰溶解作⽤，不仅能溶解⽩⾊黏痰，也能溶解脓性痰。还有解救对⼄酰氨基酚中毒的治疗。', 'answer': 'A', 'question_type': '配伍选择题', 'source': '2021年执业药师职业资格考试《药学专业知识（⼆）》', 'options': 'A:⼄酰半胱氨酸\\nB:氯化铵\\nC:氨溴索\\nD:右美沙芬\\nE:可待因', 'deepseek_ans': 'A:乙酰半胱氨酸'}\n",
            "38\n"
          ]
        },
        {
          "output_type": "stream",
          "name": "stderr",
          "text": [
            "\r 38%|███▊      | 38/100 [03:05<04:40,  4.53s/it]"
          ]
        },
        {
          "output_type": "stream",
          "name": "stdout",
          "text": [
            "A\n",
            "A\n",
            "{'question': '题干：甲是药品上市许可持有⼈，依法持有甲钴胺⽚等药品品种； ⼄是药品⽣产企业，⽣产范围：⽚剂、胶囊剂； 丙是药品⽣产企业，⽣产范围：胶囊剂、颗粒剂； 丁是全国性药品批发企业，经营范围：⿇醉药品、中成药、中药饮⽚、化学药、⽣物制品，具备药品现代物流条件； 戊是县级区域性药品批发企业，经营范围：中成药、化学药； ⼰是药品零售连锁企业所属门店，经营类别：处⽅药、甲类⾮处⽅药、⼄类⾮处⽅药，经营范围：第⼆类精神药品、中成药、中药饮⽚、化学药。\\n96. 药品监督管理部门检查发现⼰从个⼈处购进药品并销售，情节较轻，应当依法依规做出的处罚是（）。', 'option': {'A': '责令改正，没收违法购进的药品和违法所得，并处违法购进药品货值⾦额⼆倍以上⼗倍以下的罚款，货值⾦额不⾜五万元的，按五万元计算', 'B': '给予警告，责令限期改正：逾期不改正或者情节严重的，处以⼀千元以上三千元以下的罚款', 'C': '没收违法销售的药品和违法所得，并处违法销售药品货值⾦额⼗倍以上⼆⼗倍以下的罚款，货值⾦额不⾜⼀万元的，按⼀万元计算', 'D': '责令限期改正，予以警告：逾期不改正的，处⼗万元以上五⼗万元以下的罚款', 'E': ''}, 'analysis': '根据《药品管理法》第⼀百⼆⼗九条的规定，药品上市许可持有⼈、药品⽣产企业、药品经营企业或者医疗机构未从药品上市许可持有⼈或者具有药品⽣产、经营资格的企业购进药品的，责令改正，没收违法购进的药品和违法所得，并处违法购进药品货值⾦额⼆倍以上⼗倍以下的罚款；情节严重的，并处货值⾦额⼗倍以上三⼗倍以下的罚款，吊销药品批准证明⽂件、药品⽣产许可证、药品经营许可证或者医疗机构执业许可证；货值⾦额不⾜五万元的，按五万元计算。', 'answer': 'A', 'question_type': '综合分析选择题', 'source': '2021年执业药师职业资格考试《药事管理与法规》', 'options': 'A:责令改正，没收违法购进的药品和违法所得，并处违法购进药品货值⾦额⼆倍以上⼗倍以下的罚款，货值⾦额不⾜五万元的，按五万元计算\\nB:给予警告，责令限期改正：逾期不改正或者情节严重的，处以⼀千元以上三千元以下的罚款\\nC:没收违法销售的药品和违法所得，并处违法销售药品货值⾦额⼗倍以上⼆⼗倍以下的罚款，货值⾦额不⾜⼀万元的，按⼀万元计算\\nD:责令限期改正，予以警告：逾期不改正的，处⼗万元以上五⼗万元以下的罚款\\nE:', 'deepseek_ans': 'A:责令改正，没收违法购进的药品和违法所得，并处违法购进药品货值⾦额⼆倍以上⼗倍以下的罚款，货值⾦额不⾜五万元的，按五万元计算'}\n",
            "39\n"
          ]
        },
        {
          "output_type": "stream",
          "name": "stderr",
          "text": [
            "\r 39%|███▉      | 39/100 [03:09<04:42,  4.63s/it]"
          ]
        },
        {
          "output_type": "stream",
          "name": "stdout",
          "text": [
            "A\n",
            "A\n",
            "{'question': '111. 据执业药师注册管理的相关规定，取得执业药师职业资格证书并经注册后⽅可执业，下列属于执业单位的有（）。', 'option': {'A': '药品连锁企业总部', 'B': '药品检验机构', 'C': '药品批发企业', 'D': '医疗机构', 'E': ''}, 'analysis': '机关、院校、科研单位和药品检验机构不属于规定的注册执业单位。', 'answer': 'ACD', 'question_type': '多项选择题', 'source': '2021年执业药师职业资格考试《药事管理与法规》', 'options': 'A:药品连锁企业总部\\nB:药品检验机构\\nC:药品批发企业\\nD:医疗机构\\nE:', 'deepseek_ans': '根据执业药师注册管理的相关规定，执业药师的执业单位主要包括药品生产、经营（批发、零售）、使用领域的企业或机构。结合选项分析：\\n\\n1. **药品连锁企业总部**（A）：属于药品经营企业，符合执业单位要求  \\n2. **药品检验机构**（B）：属于技术监督机构，非直接药品服务单位，不符合  \\n3. **药品批发企业**（C）：明确属于药品经营企业，符合  \\n4. **医疗机构**（D）：属于药品使用单位，符合  \\n\\n**正确答案选项：A、C、D**'}\n",
            "40\n"
          ]
        },
        {
          "output_type": "stream",
          "name": "stderr",
          "text": [
            "\r 40%|████      | 40/100 [03:15<04:52,  4.88s/it]"
          ]
        },
        {
          "output_type": "stream",
          "name": "stdout",
          "text": [
            "ACD\n",
            "A,C,D\n",
            "{'question': '82. 属于时间依赖型抗菌药物，抗菌谱窄，仅对需氧⾰兰阴性菌有效的药物是（）。', 'option': {'A': '阿⽶卡星', 'B': '氨曲南', 'C': '氨苄西林', 'D': '头孢他啶', 'E': '头孢曲松'}, 'analysis': '氨曲南属于时间依赖型抗菌药物，通过与敏感需氧⾰兰阴性菌细胞膜上PBP3的⾼度亲和⽽发挥杀菌作⽤，仅对需氧⾰兰阴性菌包括铜绿假单胞菌具有良好抗菌活性，对⾰兰阳性菌和厌氧菌作⽤差。', 'answer': 'B', 'question_type': '配伍选择题', 'source': '2021年执业药师职业资格考试《药学专业知识（⼆）》', 'options': 'A:阿⽶卡星\\nB:氨曲南\\nC:氨苄西林\\nD:头孢他啶\\nE:头孢曲松', 'deepseek_ans': 'B:氨曲南'}\n",
            "41\n"
          ]
        },
        {
          "output_type": "stream",
          "name": "stderr",
          "text": [
            "\r 41%|████      | 41/100 [03:19<04:39,  4.74s/it]"
          ]
        },
        {
          "output_type": "stream",
          "name": "stdout",
          "text": [
            "B\n",
            "B\n",
            "{'question': '28. 根据《关于做好当前药品价格管理⼯作的意见》，关于药品价格政策的说法，错误的是（）。', 'option': {'A': '以现⾏药品价格政策为基础，坚持市场在资源配置中的决定性作⽤', 'B': '同种药品在剂型、规格和包装等⽅⾯存在差异的，按照治疗费⽤相当的原则，综合考虑临床效果、成本价值、技术⽔平等因素，保持合理的差价⽐价关系', 'C': '⿇醉药品和第⼀类精神药品实⾏政府定价，其他药品实⾏政府指导价', 'D': '⿇醉药品和第⼀类精神药品价格依法实⾏最⾼出⼚（⼜岸）价格和最⾼零售价格管理', 'E': ''}, 'analysis': 'C项，⿇醉药品和第⼀类精神药品实⾏政府定价，其他药品实⾏市场调节价。', 'answer': 'C', 'question_type': '最佳选择题', 'source': '2021年执业药师职业资格考试《药事管理与法规》', 'options': 'A:以现⾏药品价格政策为基础，坚持市场在资源配置中的决定性作⽤\\nB:同种药品在剂型、规格和包装等⽅⾯存在差异的，按照治疗费⽤相当的原则，综合考虑临床效果、成本价值、技术⽔平等因素，保持合理的差价⽐价关系\\nC:⿇醉药品和第⼀类精神药品实⾏政府定价，其他药品实⾏政府指导价\\nD:⿇醉药品和第⼀类精神药品价格依法实⾏最⾼出⼚（⼜岸）价格和最⾼零售价格管理\\nE:', 'deepseek_ans': '根据《关于做好当前药品价格管理工作的意见》的相关规定，错误的说法是：\\n\\nC: 麻醉药品和第一类精神药品实行政府定价，其他药品实行政府指导价\\n\\n（正确政策应为：麻醉药品和第一类精神药品实行政府定价，其他药品实行市场调节价，而非政府指导价）'}\n",
            "42\n"
          ]
        },
        {
          "output_type": "stream",
          "name": "stderr",
          "text": [
            "\r 42%|████▏     | 42/100 [03:24<04:36,  4.78s/it]"
          ]
        },
        {
          "output_type": "stream",
          "name": "stdout",
          "text": [
            "C\n",
            "C\n",
            "{'question': '12. 患者，⼥，27岁，孕34周。诊断为轻度便秘，宜选⽤的药物是（）。', 'option': {'A': '蓖⿇油', 'B': '乳果糖', 'C': '硫酸镁', 'D': '普芦卡必利', 'E': '利那洛肽'}, 'analysis': '上述题⼲中患者是孕妇，妊娠期便秘的治疗⾸先建议患者改变⽣活⽅式；其次容积性泻药、聚⼄⼆醇、乳果糖的安全性好、作⽤缓和且对胎⼉⽆不良影响，可作为妊娠期便秘患者的⾸选泻剂。', 'answer': 'B', 'question_type': '最佳选择题', 'source': '2021年执业药师职业资格考试《药学专业知识（⼆）》', 'options': 'A:蓖⿇油\\nB:乳果糖\\nC:硫酸镁\\nD:普芦卡必利\\nE:利那洛肽', 'deepseek_ans': 'B:乳果糖'}\n",
            "43\n"
          ]
        },
        {
          "output_type": "stream",
          "name": "stderr",
          "text": [
            "\r 43%|████▎     | 43/100 [03:29<04:34,  4.82s/it]"
          ]
        },
        {
          "output_type": "stream",
          "name": "stdout",
          "text": [
            "B\n",
            "B\n",
            "{'question': '84. 中毒解救需灌肠时，宜选⽤的灌肠液是（）。', 'option': {'A': '硫酸镁溶液', 'B': '淀粉溶液', 'C': '植物油', 'D': '⾼锰酸钾溶液（1:5000～1:10000）', 'E': '1%肥皂⽔'}, 'analysis': '灌肠⼀般⽤1%微温盐⽔，1%肥皂⽔或清⽔，或将药⽤炭加于灌肠液中，以加速毒物吸附后排出。', 'answer': 'E', 'question_type': '配伍选择题', 'source': '2021年执业药师职业资格考试《药学综合知识与技能》', 'options': 'A:硫酸镁溶液\\nB:淀粉溶液\\nC:植物油\\nD:⾼锰酸钾溶液（1:5000～1:10000）\\nE:1%肥皂⽔', 'deepseek_ans': 'D:⾼锰酸钾溶液（1:5000～1:10000）'}\n",
            "44\n"
          ]
        },
        {
          "output_type": "stream",
          "name": "stderr",
          "text": [
            "\r 44%|████▍     | 44/100 [03:34<04:25,  4.74s/it]"
          ]
        },
        {
          "output_type": "stream",
          "name": "stdout",
          "text": [
            "E\n",
            "D\n",
            "{'question': '13. 两药同时使⽤时，⼀个药物可通过诱导体内⽣化反应⽽使另⼀个药物的药效降低。下列药物同时使⽤时，会发⽣这种相互作⽤的是（）。', 'option': {'A': 'β受体阻断药阿替洛尔与利尿药氢氯噻嗪', 'B': '抗痛风药丙磺舒与青霉素', 'C': '解热镇痛药阿司匹林与对⼄酰氨基酚', 'D': '抗菌药磺胺甲与甲氧苄啶', 'E': '抗癫痫药苯巴⽐妥与避孕药'}, 'analysis': '某些化学物质能提⾼肝药酶活性，增加⾃⾝或其他药物的代谢速率，此现象称酶诱导。具有酶诱导作⽤的物质叫酶诱导剂。苯巴⽐妥有肝药酶诱导作⽤，能加速药物的消除⽽使药效减弱。', 'answer': 'E', 'question_type': '最佳选择题', 'source': '2021年执业药师职业资格考试《药学专业知识（⼀）》', 'options': 'A:β受体阻断药阿替洛尔与利尿药氢氯噻嗪\\nB:抗痛风药丙磺舒与青霉素\\nC:解热镇痛药阿司匹林与对⼄酰氨基酚\\nD:抗菌药磺胺甲与甲氧苄啶\\nE:抗癫痫药苯巴⽐妥与避孕药', 'deepseek_ans': '分析题干关键词：\\n1. 药物相互作用：一个药物通过诱导体内生化反应影响另一个药物的药效\\n2. 药效降低：属于拮抗作用或代谢性相互作用\\n3. 诱导生化反应：主要指酶诱导作用（如细胞色素P450酶）\\n\\n验证医学依据：\\n- 苯巴比妥是强效的CYP3A4酶诱导剂，可加速避孕药的代谢，降低其血药浓度和避孕效果\\n- 其他选项：\\n  A. 阿替洛尔与氢氯噻嗪是协同降压，无代谢影响\\n  B. 丙磺舒抑制青霉素排泄，属于转运体相互作用\\n  C. 阿司匹林与对乙酰氨基酚是作用机制互补\\n  D. 磺胺甲噁唑与甲氧苄啶是协同抑制叶酸代谢\\n\\n最准确的答案：\\nE:抗癫痫药苯巴⽐妥与避孕药'}\n",
            "45\n"
          ]
        },
        {
          "output_type": "stream",
          "name": "stderr",
          "text": [
            "\r 45%|████▌     | 45/100 [03:39<04:25,  4.83s/it]"
          ]
        },
        {
          "output_type": "stream",
          "name": "stdout",
          "text": [
            "E\n",
            "E\n",
            "{'question': '45. 因肾上腺⽪质激素的分泌具有晨⾼昼低的特点，故使⽤维持剂量的肾上腺⽪质激素类药物时，推荐的服药时间是（）。', 'option': {'A': '中午', 'B': '清晨', 'C': '上午', 'D': '下午', 'E': '临睡前'}, 'analysis': '应⽤糖⽪质激素治疗疾病时，清晨8:00时1次予以全天剂量⽐1天多次给药效果好，不良反应也少。', 'answer': 'B', 'question_type': '配伍选择题', 'source': '2021年执业药师职业资格考试《药学专业知识（⼀）》', 'options': 'A:中午\\nB:清晨\\nC:上午\\nD:下午\\nE:临睡前', 'deepseek_ans': 'B:清晨'}\n",
            "46\n"
          ]
        },
        {
          "output_type": "stream",
          "name": "stderr",
          "text": [
            "\r 46%|████▌     | 46/100 [03:43<04:10,  4.64s/it]"
          ]
        },
        {
          "output_type": "stream",
          "name": "stdout",
          "text": [
            "B\n",
            "B\n",
            "{'question': '42. 根据《药品经营质量管理规范》，测量范围在－25℃～0℃之间的温湿度监测系统，测量设备的温度最⼤允许误差为（）。', 'option': {'A': '±2.0℃', 'B': '±0.5℃', 'C': '±0.1℃', 'D': '±1.0℃', 'E': ''}, 'analysis': '系统温湿度测量设备的最⼤允许误差应符合要求。根据《药品经营质量管理规范》，测量范围在－25℃～0℃之间，温度的最⼤允许误差为±1.0℃。', 'answer': 'D', 'question_type': '配伍选择题', 'source': '2021年执业药师职业资格考试《药事管理与法规》', 'options': 'A:±2.0℃\\nB:±0.5℃\\nC:±0.1℃\\nD:±1.0℃\\nE:', 'deepseek_ans': '根据《药品经营质量管理规范》（GSP）相关规定，测量范围在－25℃～0℃之间的温湿度监测系统，温度最大允许误差为 **±1.0℃**。  \\n\\n**最终答案：D**'}\n",
            "47\n"
          ]
        },
        {
          "output_type": "stream",
          "name": "stderr",
          "text": [
            "\r 47%|████▋     | 47/100 [03:48<04:15,  4.81s/it]"
          ]
        },
        {
          "output_type": "stream",
          "name": "stdout",
          "text": [
            "D\n",
            "B\n",
            "{'question': '120. 审⽅时要关注中西药联⽤的情况，下列药品中含有西药成分的有（）。', 'option': {'A': '⿐炎康⽚', 'B': '珍菊降压⽚', 'C': '防风通圣丸', 'D': '蛇胆川贝液', 'E': '消渴丸'}, 'analysis': '⿐炎康⽚含有的西药成分是马来酸氯苯那敏，珍菊降压⽚含有的西药成分是盐酸可乐定、氢氯噻嗪，消渴丸含有的西药成分是格列本脲，因此答案选ABE。', 'answer': 'ABE', 'question_type': '多项选择题', 'source': '2021年执业药师职业资格考试《药学综合知识与技能》', 'options': 'A:⿐炎康⽚\\nB:珍菊降压⽚\\nC:防风通圣丸\\nD:蛇胆川贝液\\nE:消渴丸', 'deepseek_ans': 'B:珍菊降压⽚\\nE:消渴丸'}\n",
            "48\n"
          ]
        },
        {
          "output_type": "stream",
          "name": "stderr",
          "text": [
            "\r 48%|████▊     | 48/100 [03:53<04:16,  4.93s/it]"
          ]
        },
        {
          "output_type": "stream",
          "name": "stdout",
          "text": [
            "ABE\n",
            "B:珍菊降压⽚\n",
            "E:消渴丸\n",
            "{'question': '85. 根据《国家药品监督管理局职能配置、内设机构和⼈员编制规定》及其有关规定，负责执业药师管理信息系统的建设、管理和维护的是（）。', 'option': {'A': '国家药品监督管理局⾼级研修学院', 'B': '国家药品监督管理局执业药师资格认证中⼼', 'C': '国家药典委员会', 'D': '国家药品监督管理局信息中⼼', 'E': ''}, 'analysis': '国家药品监督管理局执业药师资格认证中⼼的主要职责为：①开展执业药师资格准⼊制度及执业药师队伍发展战略研究，参与拟订完善执业药师资格准⼊标准并组织实施。②承担执业药师资格考试相关⼯作。组织开展执业药师资格考试命审题⼯作，编写考试⼤纲和考试指南。负责执业药师资格考试命审题专家库、考试题库的建设和管理。③组织制订执业药师认证注册⼯作标准和规范并监督实施。承担执业药师认证注册管理⼯作。④组织制订执业药师认证注册与继续教育衔接标准。拟订执业药师执业标准和业务规范，协助开展执业药师配备使⽤政策研究和相关执业监督⼯作。⑤承担全国执业药师管理信息系统的建设、管理和维护⼯作，收集报告相关信息。⑥指导地⽅执业药师资格认证相关⼯作。⑦开展执业药师资格认证国际（地区）交流与合作。⑧协助实施执业药师能⼒与学历提升⼯程。', 'answer': 'B', 'question_type': '配伍选择题', 'source': '2021年执业药师职业资格考试《药事管理与法规》', 'options': 'A:国家药品监督管理局⾼级研修学院\\nB:国家药品监督管理局执业药师资格认证中⼼\\nC:国家药典委员会\\nD:国家药品监督管理局信息中⼼\\nE:', 'deepseek_ans': '根据《国家药品监督管理局职能配置、内设机构和人员编制规定》及相关规定，负责执业药师管理信息系统的建设、管理和维护的机构是：\\n\\nB:国家药品监督管理局执业药师资格认证中心'}\n",
            "49\n"
          ]
        },
        {
          "output_type": "stream",
          "name": "stderr",
          "text": [
            "\r 49%|████▉     | 49/100 [03:58<04:05,  4.82s/it]"
          ]
        },
        {
          "output_type": "stream",
          "name": "stdout",
          "text": [
            "B\n",
            "B\n",
            "{'question': '题干：为规范药品零售环节经营⾏为，某地药品监督管理部门对辖区内药品零售企业开展监督检查。检查发现： （1）甲药品零售企业涉嫌从⾮法渠道购进药品，部分批号的阿卡波糖⽚不能提供购进发票，且经追测码查询，供货单位系某医疗机构：涉嫌违规经营⽶⾮司酮⽚。 （2）⼄药品零售企业屡次绕开计算机系统销售过期的盐酸⼆甲双胍缓释⽚、⼆甲双胍格列本脲胶囊等药品：计算机系统中有多条超数量销售含⿇黄碱类复⽅制剂的销售记录，其中最多⼀次销售了50盒，企业留存了本次销售的处⽅。\\n109. 针对⼄违规销售含⿇黄碱类复⽅制剂的⾏为，下列检查结论错误的是（）。', 'option': {'A': '⼄的计算机系统未有效拦截含特殊药品复⽅制剂超数量销售', 'B': '⼄配备的执业药师未严格履⾏处⽅审核职责', 'C': '⼄涉嫌将含⿇黄碱类复⽅制剂流⼊⾮法渠道', 'D': '⼄未对违规超量售出含⿇黄碱类复⽅制剂发起药品追回', 'E': ''}, 'analysis': '⼄药品零售企业计算机系统中有多条超数量销售含⿇黄碱类复⽅制剂的销售记录，未有效拦截含特殊药品复⽅制剂超数量销售，且执业药师未严格按处⽅剂量销售，涉嫌将含⿇黄碱类复⽅制剂流⼊⾮法渠道。最多⼀次销售了50盒，超过正常医疗需求，⼤量购买含⿇黄碱类复⽅制剂的，应当⽴即向当地药品监督管理部门和公安机关报告。', 'answer': 'D', 'question_type': '综合分析选择题', 'source': '2021年执业药师职业资格考试《药事管理与法规》', 'options': 'A:⼄的计算机系统未有效拦截含特殊药品复⽅制剂超数量销售\\nB:⼄配备的执业药师未严格履⾏处⽅审核职责\\nC:⼄涉嫌将含⿇黄碱类复⽅制剂流⼊⾮法渠道\\nD:⼄未对违规超量售出含⿇黄碱类复⽅制剂发起药品追回\\nE:', 'deepseek_ans': '根据题干描述和药品监管相关规定，针对乙企业违规销售含麻黄碱类复方制剂行为的错误检查结论是：\\n\\nC:乙涉嫌将含麻黄碱类复方制剂流入非法渠道\\n\\n（题干仅提及超数量销售和留存处方，未提供流向非法渠道的证据，其他选项A/B/D均与题干违规事实直接相关）'}\n",
            "50\n"
          ]
        },
        {
          "output_type": "stream",
          "name": "stderr",
          "text": [
            "\r 50%|█████     | 50/100 [04:03<04:00,  4.81s/it]"
          ]
        },
        {
          "output_type": "stream",
          "name": "stdout",
          "text": [
            "D\n",
            "C\n",
            "{'question': '题干：为规范药品零售环节经营⾏为，某地药品监督管理部门对辖区内药品零售企业开展监督检查。检查发现： （1）甲药品零售企业涉嫌从⾮法渠道购进药品，部分批号的阿卡波糖⽚不能提供购进发票，且经追测码查询，供货单位系某医疗机构：涉嫌违规经营⽶⾮司酮⽚。 （2）⼄药品零售企业屡次绕开计算机系统销售过期的盐酸⼆甲双胍缓释⽚、⼆甲双胍格列本脲胶囊等药品：计算机系统中有多条超数量销售含⿇黄碱类复⽅制剂的销售记录，其中最多⼀次销售了50盒，企业留存了本次销售的处⽅。\\n107. 甲违规经营的⽶⾮司酮⽚，其药品种类是（）。', 'option': {'A': '⽤于紧急避孕的⾮处⽅药', 'B': '具有终⽌妊娠作⽤的药品', 'C': '第⼆类精神药品', 'D': '含兴奋剂药品', 'E': ''}, 'analysis': '药品零售企业不得经营的药品：⿇醉药品、放射性药品、第⼀类精神药品、终⽌妊娠药品（包括含有“⽶⾮司酮”成分的所有药品制剂）、蛋⽩同化制剂、肽类激素（胰岛素除外）、药品类易制毒化学品、疫苗，以及我国法律法规规定的其他禁⽌零售的药品。药品零售企业也不得经营中药配⽅颗粒、医疗机构制剂。', 'answer': 'B', 'question_type': '综合分析选择题', 'source': '2021年执业药师职业资格考试《药事管理与法规》', 'options': 'A:⽤于紧急避孕的⾮处⽅药\\nB:具有终⽌妊娠作⽤的药品\\nC:第⼆类精神药品\\nD:含兴奋剂药品\\nE:', 'deepseek_ans': 'B:具有终⽌妊娠作⽤的药品'}\n",
            "51\n"
          ]
        },
        {
          "output_type": "stream",
          "name": "stderr",
          "text": [
            "\r 51%|█████     | 51/100 [04:08<03:57,  4.84s/it]"
          ]
        },
        {
          "output_type": "stream",
          "name": "stdout",
          "text": [
            "B\n",
            "B:具有终⽌妊娠作⽤的药品\n",
            "{'question': '59. 根据《中药品种保护条例》，对特定疾病有特殊疗效的中药属于（）。', 'option': {'A': '四级保护品种', 'B': '三级保护品种', 'C': '⼀级保护品种', 'D': '⼆级保护品种', 'E': ''}, 'analysis': '⼀级保护品种：对特定疾病有特殊疗效，是指对某⼀疾病在治疗效果上取得重⼤突破性进展。', 'answer': 'C', 'question_type': '配伍选择题', 'source': '2021年执业药师职业资格考试《药事管理与法规》', 'options': 'A:四级保护品种\\nB:三级保护品种\\nC:⼀级保护品种\\nD:⼆级保护品种\\nE:', 'deepseek_ans': '根据《中药品种保护条例》对中药保护级别的划分，对特定疾病有特殊疗效的中药符合以下标准：\\n\\n**一级保护品种**：  \\n- 对特定疾病有特殊疗效  \\n- 相当于国家一级保护野生药材物种的人工制成品  \\n- 用于预防和治疗特殊疾病  \\n\\n**二级保护品种**：  \\n- 符合一级保护的品种或已解除一级保护的品种  \\n- 对特定疾病有显著疗效  \\n- 从天然药物中提取的有效物质及特殊制剂  \\n\\n**三级保护品种**：  \\n- 对特定疾病有一定疗效（标准低于二级）  \\n\\n**题干关键词**“对特定疾病有特殊疗效”明确对应**一级保护品种**的最高级别保护。  \\n\\n正确答案：  \\nC:⼀级保护品种'}\n",
            "52\n"
          ]
        },
        {
          "output_type": "stream",
          "name": "stderr",
          "text": [
            "\r 52%|█████▏    | 52/100 [04:12<03:46,  4.72s/it]"
          ]
        },
        {
          "output_type": "stream",
          "name": "stdout",
          "text": [
            "C\n",
            "D\n",
            "{'question': '66. 使⾎药浓度-时间曲线上出现双峰现象的原因通常是（）。', 'option': {'A': '酶诱导作⽤', 'B': '肾⼩球滤过', 'C': '酶抑制作⽤', 'D': '⾸关效应', 'E': '肠-肝循环'}, 'analysis': '肠-肝循环是指随胆汁排⼊⼗⼆指肠的药物或其代谢物，在肠道中重新被吸收，经门静脉返回肝脏，重新进⼊⾎液循环的现象。⼀些药物会因肠-肝循环在⾎药浓度-时间曲线上出现第⼆个峰，即产⽣双峰现象。', 'answer': 'E', 'question_type': '配伍选择题', 'source': '2021年执业药师职业资格考试《药学专业知识（⼀）》', 'options': 'A:酶诱导作⽤\\nB:肾⼩球滤过\\nC:酶抑制作⽤\\nD:⾸关效应\\nE:肠-肝循环', 'deepseek_ans': 'E:肠-肝循环'}\n",
            "53\n"
          ]
        },
        {
          "output_type": "stream",
          "name": "stderr",
          "text": [
            "\r 53%|█████▎    | 53/100 [04:17<03:52,  4.94s/it]"
          ]
        },
        {
          "output_type": "stream",
          "name": "stdout",
          "text": [
            "E\n",
            "E\n",
            "{'question': '57. 根据《药品经营质量管理规范》及其有关附录⽂件，属于保温箱特有的验证项⽬是（）。', 'option': {'A': '测点终端安装数量及位置确认', 'B': '测点终端参数与数据联动传输确认', 'C': '运输最长时限验证', 'D': '极端温度保温性能验证', 'E': ''}, 'analysis': '冷藏箱（保温箱）验证项⽬包括：箱内温度分布特性，蓄冷剂配备使⽤（蓄冷剂与保温箱采取摆列组合式捆绑验证），测点终端位置，开箱作业对箱内温度影响，极端温度保温性能，运输最长时限验证。', 'answer': 'C', 'question_type': '配伍选择题', 'source': '2021年执业药师职业资格考试《药事管理与法规》', 'options': 'A:测点终端安装数量及位置确认\\nB:测点终端参数与数据联动传输确认\\nC:运输最长时限验证\\nD:极端温度保温性能验证\\nE:', 'deepseek_ans': '根据《药品经营质量管理规范》及其相关附录文件，保温箱特有的验证项目是：\\n\\nD:极端温度保温性能验证'}\n",
            "54\n"
          ]
        },
        {
          "output_type": "stream",
          "name": "stderr",
          "text": [
            "\r 54%|█████▍    | 54/100 [04:23<03:49,  4.98s/it]"
          ]
        },
        {
          "output_type": "stream",
          "name": "stdout",
          "text": [
            "C\n",
            "D\n",
            "{'question': '95. 在药品处⽅中，常作为⽔不溶性包⾐材料的是（）。', 'option': {'A': '羧甲基纤维素钠（CMC-Na）', 'B': '羟丙基甲基纤维素（HPMC）', 'C': '⼄基纤维素（EC）', 'D': '甲基纤维素（MC）', 'E': '羟丙基纤维素（HPC）'}, 'analysis': '⽔不溶型：系指在⽔中不溶解的⾼分⼦薄膜材料，主要有⼄基纤维素（EC）、醋酸纤维素等。', 'answer': 'C', 'question_type': '配伍选择题', 'source': '2021年执业药师职业资格考试《药学专业知识（⼀）》', 'options': 'A:羧甲基纤维素钠（CMC-Na）\\nB:羟丙基甲基纤维素（HPMC）\\nC:⼄基纤维素（EC）\\nD:甲基纤维素（MC）\\nE:羟丙基纤维素（HPC）', 'deepseek_ans': 'C:⼄基纤维素（EC）'}\n",
            "55\n"
          ]
        },
        {
          "output_type": "stream",
          "name": "stderr",
          "text": [
            "\r 55%|█████▌    | 55/100 [04:27<03:40,  4.89s/it]"
          ]
        },
        {
          "output_type": "stream",
          "name": "stdout",
          "text": [
            "C\n",
            "C\n",
            "{'question': '7. 关于环磷酰胺（化学结构如下）结构特点和应⽤的说法，错误的是（）。', 'option': {'A': '环磷酰胺属于前药', 'B': '磷酰基的引⼊使毒性升⾼', 'C': '正常细胞内可转化为⽆毒代谢产物', 'D': '属于氮芥类药物', 'E': '临床⽤于抗肿瘤'}, 'analysis': '环磷酰胺属于氮芥类的抗肿瘤药，环磷酰胺属于前药，在体外对肿瘤细胞⽆效，只有进⼊体内后，经过活化才能发挥作⽤。环磷酰胺在肝脏中被细胞⾊素P450氧化酶氧化⽣成4-羟基环磷酰胺，4-羟基环磷酰胺可经过进⼀步氧化代谢为⽆毒的4-酮基环磷酰胺；也可经过互变异构⽣成开环的醛基化合物。并在肝脏中进⼀步氧化⽣成⽆毒的羧酸化合物。因此答案选B。', 'answer': 'B', 'question_type': '最佳选择题', 'source': '2021年执业药师职业资格考试《药学专业知识（⼀）》', 'options': 'A:环磷酰胺属于前药\\nB:磷酰基的引⼊使毒性升⾼\\nC:正常细胞内可转化为⽆毒代谢产物\\nD:属于氮芥类药物\\nE:临床⽤于抗肿瘤', 'deepseek_ans': '1. 分析题干关键词：\\n   - 环磷酰胺\\n   - 结构特点\\n   - 应用\\n   - 错误说法\\n\\n2. 调用检索工具验证医学依据：\\n   - 环磷酰胺是一种前药，需要在体内代谢激活才能发挥作用。\\n   - 磷酰基的引入降低了毒性，提高了选择性。\\n   - 正常细胞内可转化为无毒代谢产物（如羧基磷酰胺），这是其选择性毒性的原因之一。\\n   - 环磷酰胺属于氮芥类烷化剂，是经典的抗肿瘤药物。\\n   - 临床广泛用于抗肿瘤治疗。\\n\\n3. 综合所有信息选择最准确的答案：\\n   - 选项B\"磷酰基的引⼊使毒性升⾼\"与事实相反，磷酰基实际上是降低毒性的关键修饰。\\n\\n4. 最终答案：\\nB'}\n",
            "56\n"
          ]
        },
        {
          "output_type": "stream",
          "name": "stderr",
          "text": [
            "\r 56%|█████▌    | 56/100 [04:31<03:25,  4.66s/it]"
          ]
        },
        {
          "output_type": "stream",
          "name": "stdout",
          "text": [
            "B\n",
            "B\n",
            "{'question': '25. 下列符合化妆品管理要求的是（）。', 'option': {'A': '特殊化妆品需经省级以上药品监督管理部门注册后⽅可⽣产、进⼜和经营', 'B': '国产普通化妆品在上市销售后，向所在地省级药品监督管理部门备案', 'C': '国家按照风险程度对化妆品、化妆品原料实⾏分类管理', 'D': '已经注册的特殊化妆品在⽣产⼯艺、功效宣称等⽅⾯发⽣任何变化，注册⼈均应当向原注册部门申请变更注册', 'E': ''}, 'analysis': '国家按照风险程度对化妆品、化妆品原料实⾏分类管理。化妆品分为特殊化妆品和普通化妆品。国家对特殊化妆品实⾏注册管理，对普通化妆品实⾏备案管理。⽤于染发、烫发、祛斑美⽩、防晒、防脱发的化妆品以及宣称新功效的化妆品为特殊化妆品。特殊化妆品以外的化妆品为普通化妆品。', 'answer': 'C', 'question_type': '最佳选择题', 'source': '2021年执业药师职业资格考试《药事管理与法规》', 'options': 'A:特殊化妆品需经省级以上药品监督管理部门注册后⽅可⽣产、进⼜和经营\\nB:国产普通化妆品在上市销售后，向所在地省级药品监督管理部门备案\\nC:国家按照风险程度对化妆品、化妆品原料实⾏分类管理\\nD:已经注册的特殊化妆品在⽣产⼯艺、功效宣称等⽅⾯发⽣任何变化，注册⼈均应当向原注册部门申请变更注册\\nE:', 'deepseek_ans': '根据化妆品管理要求的分析：\\n\\n1. 关键词分析：\\n- 特殊化妆品注册级别（国家级）\\n- 普通化妆品备案时间（上市前）\\n- 分类管理依据（风险程度）\\n- 特殊化妆品变更注册条件（重大变化）\\n\\n2. 医学依据验证（根据《化妆品监督管理条例》）：\\n- A选项错误：特殊化妆品需经国务院药品监督管理部门注册（非省级）\\n- B选项错误：国产普通化妆品应在上市销售前备案\\n- C选项正确：第四条明确规定按风险程度分类管理\\n- D选项错误：仅当变化涉及安全性、功效宣称时才需变更注册\\n\\n3. 最准确答案：\\nC\\n\\n最终选项：C'}\n",
            "57\n"
          ]
        },
        {
          "output_type": "stream",
          "name": "stderr",
          "text": [
            "\r 57%|█████▋    | 57/100 [04:36<03:20,  4.67s/it]"
          ]
        },
        {
          "output_type": "stream",
          "name": "stdout",
          "text": [
            "C\n",
            "C\n",
            "{'question': '4. 抗哮喘药沙丁胺醇的化学结构式如下，其化学⾻架属于（）。', 'option': {'A': '芳基丙酸类', 'B': '芳氧丙醇胺类', 'C': '⼆氢吡啶类', 'D': '苯⼆氮卓类', 'E': '苯⼄醇胺类'}, 'analysis': '沙丁胺醇是拟肾上腺素药，它的基本结构是β-苯⼄胺。', 'answer': 'E', 'question_type': '最佳选择题', 'source': '2021年执业药师职业资格考试《药学专业知识（⼀）》', 'options': 'A:芳基丙酸类\\nB:芳氧丙醇胺类\\nC:⼆氢吡啶类\\nD:苯⼆氮卓类\\nE:苯⼄醇胺类', 'deepseek_ans': 'E:苯⼄醇胺类'}\n",
            "58\n"
          ]
        },
        {
          "output_type": "stream",
          "name": "stderr",
          "text": [
            "\r 58%|█████▊    | 58/100 [04:40<03:11,  4.56s/it]"
          ]
        },
        {
          "output_type": "stream",
          "name": "stdout",
          "text": [
            "E\n",
            "E\n",
            "{'question': '58. 头孢曲松钠与乳酸钠林格注射液直接混合，可导致（）。', 'option': {'A': '产⽣⽓体', 'B': '溶液变⾊', 'C': '微浑浊或沉淀', 'D': '产⽣胶状不溶物', 'E': '药物分解、降解速度加快'}, 'analysis': '⼤多数头孢菌素类属于弱酸强碱盐，葡萄糖注射液在制备中加⼊盐酸，两者可发⽣反应⽽产⽣游离的头孢菌素，若超过溶解度许可，会产⽣沉淀或浑浊，因此答案选C。', 'answer': 'C', 'question_type': '配伍选择题', 'source': '2021年执业药师职业资格考试《药学综合知识与技能》', 'options': 'A:产⽣⽓体\\nB:溶液变⾊\\nC:微浑浊或沉淀\\nD:产⽣胶状不溶物\\nE:药物分解、降解速度加快', 'deepseek_ans': 'C:微浑浊或沉淀'}\n",
            "59\n"
          ]
        },
        {
          "output_type": "stream",
          "name": "stderr",
          "text": [
            "\r 59%|█████▉    | 59/100 [04:45<03:13,  4.71s/it]"
          ]
        },
        {
          "output_type": "stream",
          "name": "stdout",
          "text": [
            "C\n",
            "C\n",
            "{'question': '65. 属于⼄酰胆碱酯酶抑制剂，⽤于改善脑功能及抗记忆障碍的药物是（）。', 'option': {'A': '尼莫地平', 'B': '吡拉西坦', 'C': '依达拉奉', 'D': '多奈哌齐', 'E': '尼麦⾓林'}, 'analysis': '⼄酰胆碱酯酶抑制剂通过抑制胆碱酯酶活性，阻⽌⼄酰胆碱的⽔解，提⾼脑内⼄酰胆碱的含量，从⽽缓解因胆碱能神经功能缺陷所引起的记忆和认知功能障碍。代表药有⽯杉碱甲、多奈哌齐、利斯的明等。', 'answer': 'D', 'question_type': '配伍选择题', 'source': '2021年执业药师职业资格考试《药学专业知识（⼆）》', 'options': 'A:尼莫地平\\nB:吡拉西坦\\nC:依达拉奉\\nD:多奈哌齐\\nE:尼麦⾓林', 'deepseek_ans': 'D:多奈哌齐'}\n",
            "60\n"
          ]
        },
        {
          "output_type": "stream",
          "name": "stderr",
          "text": [
            "\r 60%|██████    | 60/100 [04:50<03:05,  4.63s/it]"
          ]
        },
        {
          "output_type": "stream",
          "name": "stdout",
          "text": [
            "D\n",
            "D\n",
            "{'question': '18. 某患者上呼吸道感染，⽤氨苄西林治疗⼀周，未见明显好转，后改⽤舒他西林，症状得到改善。关于舒他西林结构和临床使⽤的说法，错误的是（）。', 'option': {'A': '为⼀种前体药物', 'B': '给药后，在体内⾮特定酯酶的作⽤下⽔解成氨苄西林和舒巴坦', 'C': '对β-内酰胺醇的稳定性强于氨苄西林', 'D': '抗菌效果优于氨苄西林，原因是它在体内⽣成的两种药物都有较强的抗菌活性', 'E': '可以⼜服，且⼜服后吸收迅速'}, 'analysis': '将氨苄西林与舒巴坦以1:1的形式以次甲基相连形成双酯结构的前体药物，称为舒他西林。舒他西林⼜服后可迅速吸收，在体内⾮特定酯酶的作⽤下⽔解成较⾼⾎清浓度的氨苄西林和舒巴坦。', 'answer': 'D', 'question_type': '最佳选择题', 'source': '2021年执业药师职业资格考试《药学专业知识（⼀）》', 'options': 'A:为⼀种前体药物\\nB:给药后，在体内⾮特定酯酶的作⽤下⽔解成氨苄西林和舒巴坦\\nC:对β-内酰胺醇的稳定性强于氨苄西林\\nD:抗菌效果优于氨苄西林，原因是它在体内⽣成的两种药物都有较强的抗菌活性\\nE:可以⼜服，且⼜服后吸收迅速', 'deepseek_ans': '1. 分析题干关键词：\\n   - 上呼吸道感染\\n   - 氨苄西林治疗无效\\n   - 舒他西林（sultamicillin）有效\\n   - 题目要求找出关于舒他西林结构和临床使用的错误说法\\n\\n2. 医学依据验证：\\n   - 舒他西林是氨苄西林与舒巴坦（β-内酰胺酶抑制剂）通过双酯键连接的前药，口服后在肠道酯酶作用下水解为氨苄西林和舒巴坦。\\n   - 舒巴坦本身抗菌活性较弱，主要作用是抑制β-内酰胺酶，保护氨苄西林不被水解。\\n   - 舒他西林的抗菌效果优于单用氨苄西林，是因为舒巴坦增强了氨苄西林的稳定性，而非两者均有强抗菌活性。\\n   - 口服吸收迅速完全，且对β-内酰胺酶的稳定性确实强于氨苄西林。\\n\\n3. 综合判断错误选项：\\n   D选项错误（舒巴坦抗菌活性弱，主要作用是抑制β-内酰胺酶）\\n\\n4. 最终答案：\\nD'}\n",
            "61\n"
          ]
        },
        {
          "output_type": "stream",
          "name": "stderr",
          "text": [
            "\r 61%|██████    | 61/100 [04:54<02:57,  4.54s/it]"
          ]
        },
        {
          "output_type": "stream",
          "name": "stdout",
          "text": [
            "D\n",
            "D\n",
            "{'question': '14. 属于长效β 肾上腺素受体激动剂，可⽤于哮喘长期维持治疗的药物是（）。2', 'option': {'A': '噻托溴铵', 'B': '特布他林', 'C': '布地奈德', 'D': '孟鲁司特', 'E': '福莫特罗'}, 'analysis': 'A项，噻托溴铵是M受体阻断剂；B项，特布他林是短效的β 受体激动剂；C项，布地奈德是吸⼊型肾上腺⽪质激素；D项，孟鲁司特是⽩三烯受体阻断剂；E项，福莫特罗是长效的β 受体激动剂。', 'answer': 'E', 'question_type': '最佳选择题', 'source': '2021年执业药师职业资格考试《药学专业知识（⼆）》', 'options': 'A:噻托溴铵\\nB:特布他林\\nC:布地奈德\\nD:孟鲁司特\\nE:福莫特罗', 'deepseek_ans': 'E:福莫特罗'}\n",
            "62\n"
          ]
        },
        {
          "output_type": "stream",
          "name": "stderr",
          "text": [
            "\r 62%|██████▏   | 62/100 [04:59<02:58,  4.70s/it]"
          ]
        },
        {
          "output_type": "stream",
          "name": "stdout",
          "text": [
            "E\n",
            "E\n",
            "{'question': '48. ⽤于治疗⼲眼症的药物是（）。', 'option': {'A': '聚⼄⼆醇滴眼液', 'B': '硫酸阿托品眼⽤凝胶', 'C': '雷珠单抗注射液', 'D': '⽑果芸⾹碱滴眼液', 'E': '丙美卡因滴眼液'}, 'analysis': '聚⼄⼆醇滴眼液是⼲眼症⽤药眼液，属⾼分⼦聚合物，具有亲⽔性和成膜性，在适宜浓度下，能起⼈⼯泪液的作⽤。⽤于暂时缓解由于眼睛⼲涩引起的灼热和刺痛症状。', 'answer': 'A', 'question_type': '配伍选择题', 'source': '2021年执业药师职业资格考试《药学专业知识（⼆）》', 'options': 'A:聚⼄⼆醇滴眼液\\nB:硫酸阿托品眼⽤凝胶\\nC:雷珠单抗注射液\\nD:⽑果芸⾹碱滴眼液\\nE:丙美卡因滴眼液', 'deepseek_ans': 'A:聚⼄⼆醇滴眼液'}\n",
            "63\n"
          ]
        },
        {
          "output_type": "stream",
          "name": "stderr",
          "text": [
            "\r 63%|██████▎   | 63/100 [05:03<02:47,  4.54s/it]"
          ]
        },
        {
          "output_type": "stream",
          "name": "stdout",
          "text": [
            "A\n",
            "A\n",
            "{'question': '33. 患者，⼥，28岁，因痤疮就诊，给予异维A酸胶囊。关于该患者⽤药教育的说法，错误的是（）。', 'option': {'A': '治疗期间及停药后3个⽉内应做好避孕措施', 'B': '治疗期间若发⽣⽪肤黏膜⼲燥，应减量或停药', 'C': '不良反应常见，但停药后绝⼤多数可恢复', 'D': '治疗最初2个⽉可能导致肝酶异常，必要时检查肝功能', 'E': '部分患者⽤药2～4周时出现⼀过性⽪疹加重现象'}, 'analysis': '异维A酸不良反应常见，但停药后绝⼤多数可恢复，严重不良反应少见甚或罕见。最常见的不良反应是⽪肤黏膜⼲燥，建议配合⽪肤屏障修复剂使⽤；⼜唇⼲燥在⽪肤黏膜反应中最为常见，但这也是判定药物剂量的有效指标。较少见不良反应包括肌⾁-⾻骼疼痛、⾎脂升⾼、肝酶异常及眼睛⼲燥等，通常发⽣在治疗最初2个⽉，肥胖、⾎脂异常和肝病患者应慎⽤，必要时定期监测肝功能和⾎脂⽔平。异维A酸有明确的致畸作⽤，育龄期⼥性患者及其配偶应在治疗前1个⽉、治疗期间及治疗结束后3个⽉内严格避孕。哺乳期⼥性严禁使⽤异维A酸制剂。部分患者在使⽤2～4周时会出现⽪疹短期加重现象，通常为⼀过性，反应严重者需要减量甚⾄停药。ACDE四项均正确，因此答案选B。', 'answer': 'B', 'question_type': '最佳选择题', 'source': '2021年执业药师职业资格考试《药学综合知识与技能》', 'options': 'A:治疗期间及停药后3个⽉内应做好避孕措施\\nB:治疗期间若发⽣⽪肤黏膜⼲燥，应减量或停药\\nC:不良反应常见，但停药后绝⼤多数可恢复\\nD:治疗最初2个⽉可能导致肝酶异常，必要时检查肝功能\\nE:部分患者⽤药2～4周时出现⼀过性⽪疹加重现象', 'deepseek_ans': 'B:治疗期间若发⽣⽪肤黏膜⼲燥，应减量或停药'}\n",
            "64\n"
          ]
        },
        {
          "output_type": "stream",
          "name": "stderr",
          "text": [
            "\r 64%|██████▍   | 64/100 [05:08<02:41,  4.48s/it]"
          ]
        },
        {
          "output_type": "stream",
          "name": "stdout",
          "text": [
            "B\n",
            "B\n",
            "{'question': '61. 属于维⽣素K拮抗剂的抗凝⾎药物是（）。', 'option': {'A': '依诺肝素', 'B': '氯吡格雷', 'C': '华法林', 'D': '利伐沙班', 'E': '达⽐加群酯'}, 'analysis': '华法林是⾹⾖素类的药，属于维⽣素K拮抗剂。', 'answer': 'C', 'question_type': '配伍选择题', 'source': '2021年执业药师职业资格考试《药学专业知识（⼆）》', 'options': 'A:依诺肝素\\nB:氯吡格雷\\nC:华法林\\nD:利伐沙班\\nE:达⽐加群酯', 'deepseek_ans': '1. 分析题干关键词：维生素K拮抗剂、抗凝血药物  \\n2. 医学依据验证：  \\n   - 维生素K拮抗剂通过抑制维生素K依赖性凝血因子（Ⅱ、Ⅶ、Ⅸ、Ⅹ）的合成发挥抗凝作用。  \\n   - **华法林**是经典维生素K拮抗剂，其他选项作用机制不同：  \\n     - A（依诺肝素）：低分子肝素，抗Xa因子  \\n     - B（氯吡格雷）：抗血小板药（P2Y12抑制剂）  \\n     - D（利伐沙班）& E（达比加群酯）：直接口服抗凝药（分别抑制Xa因子和Ⅱa因子）  \\n3. 最准确答案：**C**  \\n\\n最终选项：C'}\n",
            "65\n"
          ]
        },
        {
          "output_type": "stream",
          "name": "stderr",
          "text": [
            "\r 65%|██████▌   | 65/100 [05:12<02:30,  4.31s/it]"
          ]
        },
        {
          "output_type": "stream",
          "name": "stdout",
          "text": [
            "C\n",
            "C\n",
            "{'question': '81. 在体外⽆活性，需要在体内⽔解开环发挥活性的药物是（）。', 'option': {'A': '', 'B': '', 'C': '', 'D': '', 'E': ''}, 'analysis': '洛伐他汀是天然的他汀类药物，但由于分⼦中存在内酯结构，所以体外⽆HMG-CoA还原酶抑制作⽤，需进⼊体内后分⼦中的羟基内酯结构⽔解为3，5-⼆羟基戊酸才表现出活性。', 'answer': 'D', 'question_type': '配伍选择题', 'source': '2021年执业药师职业资格考试《药学专业知识（⼀）》', 'options': 'A:\\nB:\\nC:\\nD:\\nE:', 'deepseek_ans': '为了准确回答这个问题，我将按照严谨的步骤进行分析：\\n\\n1. 分析题干关键词：\\n- \"体外无活性\"：指药物在体外测试时不显示药理活性\\n- \"体内水解开环\"：指药物进入体内后需要通过水解反应打开环状结构\\n- \"发挥活性\"：指药物需要在体内转化后才能起效\\n\\n2. 医学依据验证：\\n这类药物被称为\"前药\"(prodrug)，常见需要通过体内代谢激活的环状结构药物包括：\\n- 奥司他韦（开环后才能抑制神经氨酸酶）\\n- 环磷酰胺（需开环形成活性代谢物）\\n- 头孢类抗生素中的某些前药（如头孢呋辛酯）\\n\\n3. 最可能正确的选项：\\n根据药剂学知识，典型的例子是奥美拉唑（E选项），它属于质子泵抑制剂前药，需要在酸性环境中开环转化为活性形式。\\n\\n但由于题目未提供具体选项内容，基于专业判断，最常见且符合描述的案例是：\\n\\nE\\n\\n4. 最终答案：\\nE'}\n",
            "66\n"
          ]
        },
        {
          "output_type": "stream",
          "name": "stderr",
          "text": [
            "\r 66%|██████▌   | 66/100 [05:16<02:27,  4.33s/it]"
          ]
        },
        {
          "output_type": "stream",
          "name": "stdout",
          "text": [
            "D\n",
            "E\n",
            "{'question': '题干：患者，男，58岁，有⾼⾎压、冠⼼病、⾼脂⾎症、便秘、⾻关节炎和胃溃疡病史，2年前接受冠脉⽀架植⼊术。近⽇，患者先后在⼼内科、消化科、⾻科就诊，开具药品如下：\\n98. 关于该患者药物治疗⽅案的说法，错误的是（）。', 'option': {'A': '美托洛尔会影响阿司匹林的抗⾎⼩板活性，应停⽤', 'B': '阿托伐他汀钙⽤于冠⼼病的治疗，需长期规律⽤药', 'C': '如⼤便次数规律（如每⽇1次），聚⼄⼆醇4000散可按需使⽤', 'D': '同时使⽤双氯芬酸钠与阿司匹林会增加消化道出⾎风险，两药不宜合⽤', 'E': '麝⾹保⼼丸和复⽅丹参⽚均属活⾎剂，选⽤其中⼀种即可'}, 'analysis': '美托洛尔是β受体阻断剂，阿司匹林与β受体阻断剂合⽤，由于前列腺素的⾎管舒张作⽤被抑制，美托洛尔的抗⾼⾎压作⽤会降低。因此答案选A。', 'answer': 'A', 'question_type': '综合分析选择题', 'source': '2021年执业药师职业资格考试《药学综合知识与技能》', 'options': 'A:美托洛尔会影响阿司匹林的抗⾎⼩板活性，应停⽤\\nB:阿托伐他汀钙⽤于冠⼼病的治疗，需长期规律⽤药\\nC:如⼤便次数规律（如每⽇1次），聚⼄⼆醇4000散可按需使⽤\\nD:同时使⽤双氯芬酸钠与阿司匹林会增加消化道出⾎风险，两药不宜合⽤\\nE:麝⾹保⼼丸和复⽅丹参⽚均属活⾎剂，选⽤其中⼀种即可', 'deepseek_ans': 'A:美托洛尔会影响阿司匹林的抗⾎⼩板活性，应停⽤'}\n",
            "67\n"
          ]
        },
        {
          "output_type": "stream",
          "name": "stderr",
          "text": [
            "\r 67%|██████▋   | 67/100 [05:21<02:29,  4.52s/it]"
          ]
        },
        {
          "output_type": "stream",
          "name": "stdout",
          "text": [
            "A\n",
            "A\n",
            "{'question': '题干：甲是药品零售连锁企业所属门店，经营类别：处⽅药、甲类⾮处⽅药、⼄类⾮处⽅药，经营范围：第⼆类精神药品、⽣物制品、化学药、中成药、中药饮⽚。 ⼄是药品零售企业，经营类别：处⽅药、甲类⾮处⽅药、⼄类⾮处⽅药，经营范围：⽣物制品、化学药、中成药。 丙是药品零售企业，经营类别：⼄类⾮处⽅药，经营范围：⽣物制品、化学药、中成药。\\n104. 根据处⽅药与⾮处⽅药分类管理规定，结合题⽬提供的信息，下列做法正确的是（）。', 'option': {'A': '甲在经营场所内开架销售中药饮⽚百合、枸杞⼦', 'B': '甲营业期间，⼀⽼⼈⾝体不适欲购买处⽅药速效救⼼丸，经询问发现⽼⼈有冠⼼病史，执业药师在没有处⽅的情况下，依然向其销售了该处⽅药，并建议其⽴即就诊', 'C': '⼄建⽴处⽅药销售的处⽅管理制度，要求对售出的处⽅药处⽅进⾏抄录，处⽅原件返还消费者', 'D': '⼄的执业药师在凭处⽅向个⼈消费者销售处⽅药时，结合其表状的疾病症状，告知其该处⽅药与另⼀处⽅药联合购买可以享受优惠', 'E': ''}, 'analysis': 'B项，药品零售企业销售处⽅药应当按照国家处⽅药与⾮处⽅药分类管理有关规定，凭处⽅销售处⽅药，处⽅保留不少于5年。AD两项，药品零售企业不得采⽤开架⾃选的⽅式销售处⽅药，也不得采⽤“捆绑搭售”“买商品赠药品”“买N赠1”“满N减1”“满N元减x元”等⽅式直接或变相赠送销售处⽅药、甲类⾮处⽅药（包括通过⽹络销售的渠道）。C项，处⽅应当经执业药师审核，调配处⽅应当经过核对，对处⽅所列药品不得擅⾃更改或代⽤。处⽅由调剂处⽅药品的医疗机构妥善保存。', 'answer': 'A', 'question_type': '综合分析选择题', 'source': '2021年执业药师职业资格考试《药事管理与法规》', 'options': 'A:甲在经营场所内开架销售中药饮⽚百合、枸杞⼦\\nB:甲营业期间，⼀⽼⼈⾝体不适欲购买处⽅药速效救⼼丸，经询问发现⽼⼈有冠⼼病史，执业药师在没有处⽅的情况下，依然向其销售了该处⽅药，并建议其⽴即就诊\\nC:⼄建⽴处⽅药销售的处⽅管理制度，要求对售出的处⽅药处⽅进⾏抄录，处⽅原件返还消费者\\nD:⼄的执业药师在凭处⽅向个⼈消费者销售处⽅药时，结合其表状的疾病症状，告知其该处⽅药与另⼀处⽅药联合购买可以享受优惠\\nE:', 'deepseek_ans': '根据题干信息和处方药与非处方药分类管理规定，最准确的答案是：\\n\\nC:⼄建⽴处⽅药销售的处⽅管理制度，要求对售出的处⽅药处⽅进⾏抄录，处⽅原件返还消费者'}\n",
            "68\n"
          ]
        },
        {
          "output_type": "stream",
          "name": "stderr",
          "text": [
            "\r 68%|██████▊   | 68/100 [05:26<02:31,  4.75s/it]"
          ]
        },
        {
          "output_type": "stream",
          "name": "stdout",
          "text": [
            "A\n",
            "C\n",
            "{'question': '99. 可被肝药酶CYP2C9和CYP3A4代谢，代谢产物仍具降压活性的ARB类药物是（）。', 'option': {'A': '福⾟普利', 'B': '缬沙坦', 'C': '厄贝沙坦', 'D': '氯沙坦', 'E': '卡托普利'}, 'analysis': '氯沙坦可被肝药酶CYP2C9和CYP3A4代谢，在体内约14%的氯沙坦上的羟甲基可被肝脏氧化代谢为甲酸类的衍⽣物。它是⼀个⾮竞争性的AT 受体的拮抗剂，其活性是氯沙坦的10～40倍。', 'answer': 'D', 'question_type': '配伍选择题', 'source': '2021年执业药师职业资格考试《药学专业知识（⼆）》', 'options': 'A:福⾟普利\\nB:缬沙坦\\nC:厄贝沙坦\\nD:氯沙坦\\nE:卡托普利', 'deepseek_ans': 'D:氯沙坦'}\n",
            "69\n"
          ]
        },
        {
          "output_type": "stream",
          "name": "stderr",
          "text": [
            "\r 69%|██████▉   | 69/100 [05:31<02:29,  4.82s/it]"
          ]
        },
        {
          "output_type": "stream",
          "name": "stdout",
          "text": [
            "D\n",
            "D\n",
            "{'question': '87. 作⽤于⼆肽基肽酶4（DPP-4），为嘧啶⼆酮衍⽣物，适⽤于治疗2型糖尿病的药物是（）。', 'option': {'A': '阿格列汀', 'B': '罗格列酮', 'C': '达格列净', 'D': '格列吡嗪', 'E': '那格列奈'}, 'analysis': '阿格列汀是嘧啶⼆酮的衍⽣物，⼀⽇给药1次，适⽤于治疗2型糖尿病。', 'answer': 'A', 'question_type': '配伍选择题', 'source': '2021年执业药师职业资格考试《药学专业知识（⼀）》', 'options': 'A:阿格列汀\\nB:罗格列酮\\nC:达格列净\\nD:格列吡嗪\\nE:那格列奈', 'deepseek_ans': 'A:阿格列汀'}\n",
            "70\n"
          ]
        },
        {
          "output_type": "stream",
          "name": "stderr",
          "text": [
            "\r 70%|███████   | 70/100 [05:38<02:39,  5.30s/it]"
          ]
        },
        {
          "output_type": "stream",
          "name": "stdout",
          "text": [
            "A\n",
            "A\n",
            "{'question': '52. 属于⿇醉药品的是（）。', 'option': {'A': '氨酚待因⽚', 'B': '氨酚氢可酮⽚', 'C': '氢可酮', 'D': '氯胺酮', 'E': ''}, 'analysis': '⿇醉药品包括：可卡因、罂粟浓缩物（包括罂粟果提取物、罂粟果提取物粉）。⼆氢埃托啡、地芬诺酯、芬太尼、氢可酮、氢吗啡酮、美沙酮、吗啡（包括吗啡阿托品注射液）、阿⽚（包括复⽅樟脑酊、阿桔⽚）、羟考酮、哌替啶、瑞芬太尼、舒芬太尼、蒂巴因、可待因、右丙氧芬、双氢可待因、⼄基吗啡、福尔可定、布桂嗪、罂粟壳。', 'answer': 'C', 'question_type': '配伍选择题', 'source': '2021年执业药师职业资格考试《药事管理与法规》', 'options': 'A:氨酚待因⽚\\nB:氨酚氢可酮⽚\\nC:氢可酮\\nD:氯胺酮\\nE:', 'deepseek_ans': '根据麻醉药品管理的相关规定和医学依据，对选项进行分析：\\n\\n1. **关键词识别**：题目要求识别\"麻醉药品\"，这类药物具有强效镇痛作用，但易产生依赖性，需严格管制（如阿片类、可卡因类等）。\\n\\n2. **选项验证**：\\n   - **A. 氨酚待因片**：含对乙酰氨基酚和可待因，可待因属于**第二类精神药品**（非麻醉药品）。\\n   - **B. 氨酚氢可酮片**：含氢可酮，但为复方制剂，氢可酮单方属于麻醉药品，复方制剂通常按**第二类精神药品**管理。\\n   - **C. 氢可酮**：单方制剂为**麻醉药品**（列入我国《麻醉药品品种目录》）。\\n   - **D. 氯胺酮**：属于**第一类精神药品**（麻醉用途时需特殊审批，但分类上不属于麻醉药品）。\\n\\n3. **最准确答案**：仅**氢可酮（C）**明确属于麻醉药品。\\n\\n最终答案：C'}\n",
            "71\n"
          ]
        },
        {
          "output_type": "stream",
          "name": "stderr",
          "text": [
            "\r 71%|███████   | 71/100 [05:42<02:26,  5.06s/it]"
          ]
        },
        {
          "output_type": "stream",
          "name": "stdout",
          "text": [
            "C\n",
            "C:氢可酮\n",
            "{'question': '20. 关于⽹络销售药品管理的说法，错误的是（）。', 'option': {'A': '药品零售企业不得通过⽹络销售含⿇黄碱类复⽅制剂等国家有专门管理要求的药品', 'B': '药品⽹络销售者，应当对配送药品的质量安全负责，保障药品储存、运输过程符合《药品经营质量管理规范》的相关要求', 'C': '药品⽹络交易第三⽅平台提供者，应当依法对申请⼊驻经营的药品上市许可持有⼈、药品经营企业的有关资质等进⾏审核，保证其符合法定要求，并对发⽣在平台上的药品经营⾏为进⾏管理', 'D': '特殊情形下，第⼆类精神药品、毒性中药饮⽚、蛋⽩同化制剂和肽类激素等药品可以通过⽹络交易', 'E': ''}, 'analysis': 'D项，疫苗、⾎液制品、⿇醉药品、精神药品、医疗⽤毒性药品、放射性药品、药品类易制毒化学品等国家实⾏特殊管理的药品不得在⽹上销售。', 'answer': 'D', 'question_type': '最佳选择题', 'source': '2021年执业药师职业资格考试《药事管理与法规》', 'options': 'A:药品零售企业不得通过⽹络销售含⿇黄碱类复⽅制剂等国家有专门管理要求的药品\\nB:药品⽹络销售者，应当对配送药品的质量安全负责，保障药品储存、运输过程符合《药品经营质量管理规范》的相关要求\\nC:药品⽹络交易第三⽅平台提供者，应当依法对申请⼊驻经营的药品上市许可持有⼈、药品经营企业的有关资质等进⾏审核，保证其符合法定要求，并对发⽣在平台上的药品经营⾏为进⾏管理\\nD:特殊情形下，第⼆类精神药品、毒性中药饮⽚、蛋⽩同化制剂和肽类激素等药品可以通过⽹络交易\\nE:', 'deepseek_ans': '根据题干要求分析各选项的合规性：\\n\\n**错误选项为 D**  \\n依据《药品网络销售监督管理办法》及相关法规：  \\n- A正确（含麻黄碱类复方制剂禁止网售）  \\n- B正确（网络销售者需承担配送质量责任）  \\n- C正确（第三方平台需履行审核管理义务）  \\n- D错误（第二类精神药品、毒性中药饮片、蛋白同化制剂等严禁网络销售，无例外情形）  \\n\\n最终答案：D'}\n",
            "72\n"
          ]
        },
        {
          "output_type": "stream",
          "name": "stderr",
          "text": [
            "\r 72%|███████▏  | 72/100 [05:47<02:19,  4.97s/it]"
          ]
        },
        {
          "output_type": "stream",
          "name": "stdout",
          "text": [
            "D\n",
            "D\n",
            "{'question': '28. 不属于阿昔洛韦适应证的是（）。', 'option': {'A': '单纯疱疹', 'B': '带状疱疹', 'C': '免疫缺陷者⽔痘', 'D': '病毒性急性视⽹膜坏死', 'E': '⼄型流感'}, 'analysis': '阿昔洛韦适应证有：①单纯疱疹病毒感染：⽤于免疫缺陷者初发和复发性黏膜⽪肤感染的治疗以及反复发作病例的预防；也⽤于单纯疱疹性脑炎治疗。②带状疱疹：⽤于免疫缺陷者严重带状疱疹患者或免疫功能正常者弥散型带状疱疹的治疗。③免疫缺陷者⽔痘的治疗。④急性视⽹膜坏死的治疗。', 'answer': 'E', 'question_type': '最佳选择题', 'source': '2021年执业药师职业资格考试《药学专业知识（⼆）》', 'options': 'A:单纯疱疹\\nB:带状疱疹\\nC:免疫缺陷者⽔痘\\nD:病毒性急性视⽹膜坏死\\nE:⼄型流感', 'deepseek_ans': '分析题干关键词：阿昔洛韦、适应证、不属于  \\n调用检索工具验证医学依据：阿昔洛韦是抗病毒药物，主要用于治疗疱疹病毒感染，包括单纯疱疹（A）、带状疱疹（B）、免疫缺陷者水痘（C）和病毒性急性视网膜坏死（D）。乙型流感（E）由流感病毒引起，不属于疱疹病毒，阿昔洛韦对其无效。  \\n综合所有信息选择最准确的答案：E  \\n\\nE:⼄型流感'}\n",
            "73\n"
          ]
        },
        {
          "output_type": "stream",
          "name": "stderr",
          "text": [
            "\r 73%|███████▎  | 73/100 [05:52<02:11,  4.87s/it]"
          ]
        },
        {
          "output_type": "stream",
          "name": "stdout",
          "text": [
            "E\n",
            "E\n",
            "{'question': '67. 根据《处⽅管理办法》，为门诊⼀般患者开具头孢克洛缓释⽚，每张处⽅（）。', 'option': {'A': '不得超过15⽇常⽤量', 'B': '不得超过7⽇常⽤量', 'C': '为⼀次常⽤量', 'D': '不得超过3⽇常⽤量', 'E': ''}, 'analysis': '处⽅⼀般不得超过7⽇⽤量；急诊处⽅⼀般不得超过3⽇⽤量；对于某些慢性病、⽼年病或特殊情况，处⽅⽤量可适当延长，但医师应当注明理由。⿇醉药品、精神药品、医疗⽤毒性药品、放射性药品的处⽅⽤量应当严格按照国家有关规定执⾏。', 'answer': 'B', 'question_type': '配伍选择题', 'source': '2021年执业药师职业资格考试《药事管理与法规》', 'options': 'A:不得超过15⽇常⽤量\\nB:不得超过7⽇常⽤量\\nC:为⼀次常⽤量\\nD:不得超过3⽇常⽤量\\nE:', 'deepseek_ans': '根据《处方管理办法》对门诊一般患者开具抗菌药物的规定，头孢克洛缓释片属于抗生素，处方量应控制在7日常用量内。因此正确答案是：\\n\\nB:不得超过7日常用量'}\n",
            "74\n"
          ]
        },
        {
          "output_type": "stream",
          "name": "stderr",
          "text": [
            "\r 74%|███████▍  | 74/100 [05:57<02:07,  4.91s/it]"
          ]
        },
        {
          "output_type": "stream",
          "name": "stdout",
          "text": [
            "B\n",
            "B\n",
            "{'question': '72. 深静脉⾎栓的溶栓治疗，宜选⽤的药物是（）。', 'option': {'A': '达⽐加群酯', 'B': '氯吡格雷', 'C': '尿激酶', 'D': '依诺肝素钠', 'E': '华法林'}, 'analysis': '尿激酶是最常⽤的溶栓药，对急性期DVT的治疗具有起效快、效果好、过敏反应少的特点。', 'answer': 'C', 'question_type': '配伍选择题', 'source': '2021年执业药师职业资格考试《药学综合知识与技能》', 'options': 'A:达⽐加群酯\\nB:氯吡格雷\\nC:尿激酶\\nD:依诺肝素钠\\nE:华法林', 'deepseek_ans': 'C:尿激酶'}\n",
            "75\n"
          ]
        },
        {
          "output_type": "stream",
          "name": "stderr",
          "text": [
            "\r 75%|███████▌  | 75/100 [06:02<02:03,  4.93s/it]"
          ]
        },
        {
          "output_type": "stream",
          "name": "stdout",
          "text": [
            "C\n",
            "C\n",
            "{'question': '113. 关于胃⾷管反流病患者应⽤含铝抗酸药⽤药教育的说法，正确的有（）。', 'option': {'A': '长期服⽤可能会引起低磷⾎症', 'B': '易引起腹泻', 'C': '可快速缓解症状，对溃疡愈合⼏乎⽆作⽤', 'D': '可增加⼼⾎管事件发⽣风险', 'E': '与其他药物合⽤，通常要间隔2⼩时'}, 'analysis': 'A项，铝制剂⼤量服⽤可导致肠梗阻，长期服⽤能引起低磷⾎症，罕见⾻软化。B项，抗酸药中铝制剂可引起便秘，⽽镁制剂有缓泻作⽤，⼆者合⽤可抵消各⾃的副作⽤。C项，抗酸药可中和胃酸，常⽤药物是含有铝、镁等的碱性盐类及其复合制剂，可⽤于快速缓解症状，对RE的愈合⼏乎⽆作⽤，适⽤于治疗轻度胃⾷管反流病，通常与其他抑酸治疗⽅法同时应⽤。D项，含铝抗酸药不会增加⼼⾎管事件发⽣风险。E项，在服⽤其他药物前或后2⼩时再服抗酸药可避免⼤部分的药物相互作⽤。因此答案选ACE。', 'answer': 'ACE', 'question_type': '多项选择题', 'source': '2021年执业药师职业资格考试《药学综合知识与技能》', 'options': 'A:长期服⽤可能会引起低磷⾎症\\nB:易引起腹泻\\nC:可快速缓解症状，对溃疡愈合⼏乎⽆作⽤\\nD:可增加⼼⾎管事件发⽣风险\\nE:与其他药物合⽤，通常要间隔2⼩时', 'deepseek_ans': '1. 分析题干关键词：胃食管反流病、含铝抗酸药、用药教育  \\n2. 调用检索工具验证医学依据：  \\n   - 含铝抗酸药长期使用可能导致铝蓄积，干扰磷吸收，引发低磷血症（A正确）。  \\n   - 含铝抗酸药常见不良反应为便秘，而非腹泻（B错误）。  \\n   - 抗酸药可中和胃酸快速缓解症状，但无黏膜修复作用，对溃疡愈合无效（C正确）。  \\n   - 含铝抗酸药与心血管事件无明确关联（D错误）。  \\n   - 铝离子易与其他药物（如喹诺酮类、四环素类）络合，需间隔2小时服用（E正确）。  \\n3. 综合信息：A、C、E为正确选项。  \\n\\n最终选项：A, C, E'}\n",
            "76\n"
          ]
        },
        {
          "output_type": "stream",
          "name": "stderr",
          "text": [
            "\r 76%|███████▌  | 76/100 [06:06<01:54,  4.79s/it]"
          ]
        },
        {
          "output_type": "stream",
          "name": "stdout",
          "text": [
            "ACE\n",
            "A,C,E\n",
            "{'question': '84. 根据《国家药品监督管理局职能配置、内设机构和⼈员编制规定》及其有关规定，负责组织开展执业药师考前培训、继续教育的是（）。', 'option': {'A': '国家药品监督管理局⾼级研修学院', 'B': '国家药品监督管理局执业药师资格认证中⼼', 'C': '国家药典委员会', 'D': '国家药品监督管理局信息中⼼', 'E': ''}, 'analysis': '国家药品监督管理局⾼级研修学院的主要职责为：①实施公务⼈员⾼级研修，承担监管政策理论研究及⼈才队伍发展战略研究。②承担职业化药品检查员教育培训⼯作。③承担药品监管系统教育培训研究、课题开发和培训教学实施。④组织开展执业药师考前培训、继续教育、师资培训及相关⼯作。⑤开展药品安全专业技术⼈员培训⼯作。⑥负责药品安全关键岗位从业⼈员（⼯种）技能鉴定相关⼯作。⑦拟定药品监管教育培训相关学科、课程和教材体系建设规划并组织实施。', 'answer': 'A', 'question_type': '配伍选择题', 'source': '2021年执业药师职业资格考试《药事管理与法规》', 'options': 'A:国家药品监督管理局⾼级研修学院\\nB:国家药品监督管理局执业药师资格认证中⼼\\nC:国家药典委员会\\nD:国家药品监督管理局信息中⼼\\nE:', 'deepseek_ans': '根据题干关键词“执业药师考前培训、继续教育”及《国家药品监督管理局职能配置、内设机构和人员编制规定》相关规定，经检索验证：\\n\\n**正确答案：A:国家药品监督管理局高级研修学院**  \\n（注：该机构具体承担执业药师继续教育管理及培训工作，而执业药师资格认证中心主要负责考试考务及注册管理。）'}\n",
            "77\n"
          ]
        },
        {
          "output_type": "stream",
          "name": "stderr",
          "text": [
            "\r 77%|███████▋  | 77/100 [06:10<01:46,  4.61s/it]"
          ]
        },
        {
          "output_type": "stream",
          "name": "stdout",
          "text": [
            "A\n",
            "B\n",
            "{'question': '95520. 原形⽆效，需经代谢后产⽣活性的药物是（）。', 'option': {'A': '甲苯磺丁脲', 'B': '管萘洛尔', 'C': '氯吡格雷', 'D': '地西泮', 'E': '丙⽶嗪'}, 'analysis': '氯吡格雷体外⽆活性，为前药。⼜服后经CYP450酶系转化，再经⽔解形成噻吩环开环的活性代谢物', 'answer': 'C', 'question_type': '最佳选择题', 'source': '2021年执业药师职业资格考试《药学专业知识（⼀）》', 'options': 'A:甲苯磺丁脲\\nB:管萘洛尔\\nC:氯吡格雷\\nD:地西泮\\nE:丙⽶嗪', 'deepseek_ans': 'C:氯吡格雷'}\n",
            "78\n"
          ]
        },
        {
          "output_type": "stream",
          "name": "stderr",
          "text": [
            "\r 78%|███████▊  | 78/100 [06:15<01:41,  4.60s/it]"
          ]
        },
        {
          "output_type": "stream",
          "name": "stdout",
          "text": [
            "C\n",
            "C\n",
            "{'question': '50. 患者，男，35岁，近⽇出现⾜趾间⽪肤瘙痒、⽔泡样⽪疹，宜选⽤的药物是（）。', 'option': {'A': '酮康唑乳膏', 'B': '甲硝唑栓', 'C': '雌三醇乳膏', 'D': '硝酸咪康唑栓', 'E': '氯康唑胶囊'}, 'analysis': '本题描述可知，患者属于⽔疱型⾜癣，可⽤咪唑类抗菌药治疗，包括克霉唑、酮康唑等，因此答案选A。', 'answer': 'A', 'question_type': '配伍选择题', 'source': '2021年执业药师职业资格考试《药学综合知识与技能》', 'options': 'A:酮康唑乳膏\\nB:甲硝唑栓\\nC:雌三醇乳膏\\nD:硝酸咪康唑栓\\nE:氯康唑胶囊', 'deepseek_ans': '1. 分析题干关键词：\\n   - 症状：足趾间皮肤瘙痒、水泡样皮疹\\n   - 可能的诊断：足癣（真菌感染）\\n\\n2. 医学依据验证：\\n   - 足趾间瘙痒和水泡样皮疹是真菌感染（如足癣）的典型表现。\\n   - 治疗足癣首选外用抗真菌药物。\\n\\n3. 选项分析：\\n   - A: 酮康唑乳膏（外用抗真菌药，适用于足癣）\\n   - B: 甲硝唑栓（抗厌氧菌/原虫药，用于阴道感染，不适用）\\n   - C: 雌三醇乳膏（雌激素制剂，用于萎缩性阴道炎，不适用）\\n   - D: 硝酸咪康唑栓（阴道抗真菌栓剂，不适用于足部）\\n   - E: 氯康唑胶囊（全身用抗真菌药，非首选）\\n\\n4. 最准确答案：\\n   - 酮康唑乳膏是直接针对足部真菌感染的外用药物。\\n\\nA:酮康唑乳膏'}\n",
            "79\n"
          ]
        },
        {
          "output_type": "stream",
          "name": "stderr",
          "text": [
            "\r 79%|███████▉  | 79/100 [06:19<01:36,  4.60s/it]"
          ]
        },
        {
          "output_type": "stream",
          "name": "stdout",
          "text": [
            "A\n",
            "A:酮康唑乳膏\n",
            "{'question': '2118. 患者，⼥，65岁。诊断为⾻质疏松症，给予鲑降钙素注射液治疗，⽤药期间需注意的事项有（）。', 'option': {'A': '应当注意有⽆⽪下和⽛龈出⾎', 'B': '必须补充⾜量的钙剂和维⽣素D', 'C': '对蛋⽩质过敏者，使⽤前需做⽪肤敏感试验', 'D': '可能出现低⾎糖反应', 'E': '常出现⾯部潮红的不良反应'}, 'analysis': '降钙素的使⽤：对蛋⽩质过敏者可能对降钙素过敏，应⽤前宜作⽪肤敏感试验。⾻质疏松治疗时，宜同时补钙和维⽣素D。降钙素的不良反应有⾯部及⼿部潮红；偶见⾯部发热感、胸部压迫感、⼼悸、视物模糊、咽喉部薄荷样爽快感、低钠⾎症、全⾝乏⼒、肢端⿇⽊、⼿⾜搐搦、尿频、浮肿、哮喘发作。', 'answer': 'BCE', 'question_type': '多项选择题', 'source': '2021年执业药师职业资格考试《药学专业知识（⼆）》', 'options': 'A:应当注意有⽆⽪下和⽛龈出⾎\\nB:必须补充⾜量的钙剂和维⽣素D\\nC:对蛋⽩质过敏者，使⽤前需做⽪肤敏感试验\\nD:可能出现低⾎糖反应\\nE:常出现⾯部潮红的不良反应', 'deepseek_ans': 'B:必须补充⾜量的钙剂和维⽣素D\\nC:对蛋⽩质过敏者，使⽤前需做⽪肤敏感试验\\nE:常出现⾯部潮红的不良反应'}\n",
            "80\n"
          ]
        },
        {
          "output_type": "stream",
          "name": "stderr",
          "text": [
            "\r 80%|████████  | 80/100 [06:26<01:44,  5.24s/it]"
          ]
        },
        {
          "output_type": "stream",
          "name": "stdout",
          "text": [
            "BCE\n",
            "B:必须补充⾜量的钙剂和维⽣素D\n",
            "C:对蛋⽩质过敏者，使⽤前需做⽪肤敏感试验\n",
            "E:常出现⾯部潮红的不良反应\n",
            "{'question': '36. 可⼲扰转录过程和阻⽌RNA合成的抗肿瘤药物是（）。', 'option': {'A': '顺铂', 'B': '塞替派', 'C': '丝裂霉素', 'D': '多柔⽐星', 'E': '长春瑞滨'}, 'analysis': 'A项，顺铂是破坏DNA的铂类化合物；B项，塞替派是破坏DNA的烷化剂；C项，丝裂霉素是破坏DNA的抗⽣素；D项，多柔⽐星是可⼲扰转录过程和阻⽌RNA合成的药物；E项，长春瑞滨是抑制蛋⽩质合成与功能的药物。', 'answer': 'D', 'question_type': '最佳选择题', 'source': '2021年执业药师职业资格考试《药学专业知识（⼆）》', 'options': 'A:顺铂\\nB:塞替派\\nC:丝裂霉素\\nD:多柔⽐星\\nE:长春瑞滨', 'deepseek_ans': 'D:多柔⽐星'}\n",
            "81\n"
          ]
        },
        {
          "output_type": "stream",
          "name": "stderr",
          "text": [
            "\r 81%|████████  | 81/100 [06:31<01:37,  5.14s/it]"
          ]
        },
        {
          "output_type": "stream",
          "name": "stdout",
          "text": [
            "D\n",
            "D\n",
            "{'question': '40. 兼有抑菌作⽤的⿐⽤减充⾎剂是（）。', 'option': {'A': '呋⿇滴⿐液', 'B': '赛洛唑啉滴⿐液', 'C': '羟甲唑啉⿐喷剂', 'D': '⿇黄碱滴⿐液', 'E': '左氧氟沙星滴⿐液'}, 'analysis': '呋⿇滴⿐液除了抑菌外，还可以使⿐黏膜⾎管收缩，缓解急、慢性⿐炎的⿐塞症状。', 'answer': 'A', 'question_type': '最佳选择题', 'source': '2021年执业药师职业资格考试《药学专业知识（⼆）》', 'options': 'A:呋⿇滴⿐液\\nB:赛洛唑啉滴⿐液\\nC:羟甲唑啉⿐喷剂\\nD:⿇黄碱滴⿐液\\nE:左氧氟沙星滴⿐液', 'deepseek_ans': 'A:呋麻滴鼻液'}\n",
            "82\n"
          ]
        },
        {
          "output_type": "stream",
          "name": "stderr",
          "text": [
            "\r 82%|████████▏ | 82/100 [06:36<01:33,  5.21s/it]"
          ]
        },
        {
          "output_type": "stream",
          "name": "stdout",
          "text": [
            "A\n",
            "D\n",
            "{'question': '56. 哺乳期妇⼥使⽤，可致男婴乳房增⼤的药物是（）。', 'option': {'A': '复⽅炔诺酮', 'B': '依那普利', 'C': '胰岛素', 'D': '复⽅磺胺甲唑', 'E': '莫西沙星'}, 'analysis': 'A项，复⽅炔诺酮属于避孕药，是激素类药物，哺乳期妇⼥使⽤复⽅炔诺酮，可使男婴乳房增⼤。B项，依那普利属于⾼⾎压药物，是⾎管紧张素转化酶抑制剂，哺乳期妇⼥使⽤依那普利对乳⼉肾脏有影响。C项，哺乳期妇⼥使⽤胰岛素对乳⼉安全⽆害。D项，复⽅磺胺甲唑是磺胺类药物，哺乳期妇⼥使⽤复⽅磺胺甲唑，可使新⽣⼉发⽣胆红素脑病。E项，莫西沙星是喹诺酮类药物，哺乳期妇⼥使⽤莫西沙星，对乳⼉⾻关节具有潜在危险。', 'answer': 'A', 'question_type': '配伍选择题', 'source': '2021年执业药师职业资格考试《药学综合知识与技能》', 'options': 'A:复⽅炔诺酮\\nB:依那普利\\nC:胰岛素\\nD:复⽅磺胺甲唑\\nE:莫西沙星', 'deepseek_ans': 'A:复⽅炔诺酮'}\n",
            "83\n"
          ]
        },
        {
          "output_type": "stream",
          "name": "stderr",
          "text": [
            "\r 83%|████████▎ | 83/100 [06:41<01:24,  4.96s/it]"
          ]
        },
        {
          "output_type": "stream",
          "name": "stdout",
          "text": [
            "A\n",
            "A\n",
            "{'question': '76. 氨氯地平的妊娠毒性分级是（）。', 'option': {'A': 'X级', 'B': 'A级', 'C': 'C级', 'D': 'D级', 'E': 'B级'}, 'analysis': '利巴韦林的妊娠毒性分级是X级；阿莫西林的妊娠毒性分级是B级；氨氯地平的妊娠毒性分级是C级。', 'answer': 'C', 'question_type': '配伍选择题', 'source': '2021年执业药师职业资格考试《药学综合知识与技能》', 'options': 'A:X级\\nB:A级\\nC:C级\\nD:D级\\nE:B级', 'deepseek_ans': 'C:C级'}\n",
            "84\n"
          ]
        },
        {
          "output_type": "stream",
          "name": "stderr",
          "text": [
            "\r 84%|████████▍ | 84/100 [06:45<01:16,  4.81s/it]"
          ]
        },
        {
          "output_type": "stream",
          "name": "stdout",
          "text": [
            "C\n",
            "C\n",
            "{'question': '21. 关于疫苗流通管理的说法，错误的是（）。', 'option': {'A': '疫苗上市许可持有⼈在销售疫苗时，应当提供加盖其印章的批签发证明复印件或者电⼦⽂件', 'B': '疫苗上市许可持有⼈应当按照采购合同约定，向疾病防控制机构和接种单位直接供应疫苗', 'C': '疫苗上市许可持有⼈应当按照规定，建⽴真实、准确完整的销售记录，并保存⾄疫苗有效期满后不少于五年备查', 'D': '疾病预防控制机构、接种单位应当建⽴疫苗定期检查制度', 'E': ''}, 'analysis': 'B项，疫苗上市许可持有⼈应当按照采购合同约定，向疾病预防控制机构或者疾病预防控制机构指定的接种单位配送疫苗。A项，疫苗上市许可持有⼈在销售疫苗时，应当提供加盖其印章的批签发证明复印件或者电⼦⽂件。C项，疫苗上市许可持有⼈应当按照规定，建⽴真实、准确、完整的销售记录，并保存⾄疫苗有效期满后不少于五年备查。D项，疾病预防控制机构、接种单位应当建⽴疫苗定期检查制度，对存在包装⽆法识别、储存温度不符合要求、超过有效期等问题的疫苗，采取隔离存放、设置警⽰标志等措施，并按照国务院药品监督管理部门、卫⽣健康主管部门、⽣态环境主管部门的规定处置。', 'answer': 'B', 'question_type': '最佳选择题', 'source': '2021年执业药师职业资格考试《药事管理与法规》', 'options': 'A:疫苗上市许可持有⼈在销售疫苗时，应当提供加盖其印章的批签发证明复印件或者电⼦⽂件\\nB:疫苗上市许可持有⼈应当按照采购合同约定，向疾病防控制机构和接种单位直接供应疫苗\\nC:疫苗上市许可持有⼈应当按照规定，建⽴真实、准确完整的销售记录，并保存⾄疫苗有效期满后不少于五年备查\\nD:疾病预防控制机构、接种单位应当建⽴疫苗定期检查制度\\nE:', 'deepseek_ans': '根据疫苗流通管理相关规定，错误的说法是：\\n\\nD:疾病预防控制机构、接种单位应当建⽴疫苗定期检查制度\\n\\n（注：正确表述应为\"疫苗定期检查制度\"由疫苗上市许可持有人建立，疾病预防控制机构和接种单位需建立的是\"疫苗接收、储存等环节的核查制度\"。其他选项A、B、C均符合《疫苗管理法》第二十八条、第三十二条、第三十六条等条款规定）'}\n",
            "85\n"
          ]
        },
        {
          "output_type": "stream",
          "name": "stderr",
          "text": [
            "\r 85%|████████▌ | 85/100 [06:49<01:09,  4.64s/it]"
          ]
        },
        {
          "output_type": "stream",
          "name": "stdout",
          "text": [
            "B\n",
            "D\n",
            "{'question': '题干：秦某是⼀所中医药⼤学中医学专业硕⼠毕业⽣，已获得硕⼠学位，在校期间学过中药材知识和栽培技术，具有中药材辨识能⼒。临近毕业时，准备参加执业药师职业资格考试，但因专业⼯作年限不符合报名条件，未能参加考试。 秦某的⽼家在边远⼭区，交通不便，为解决家乡群众看病难题，毕业后主动返乡当村医。平时除给乡邻治病之外，还在⾃家地⾥种植地产中药材。\\n95. 根据《中医药法》，关于秦某种植地产中药材的说法，正确的是（）。', 'option': {'A': '销售给当地的中药饮⽚⽣产企业', 'B': '将⾃产中药材加⼯成中药制剂⽅便村民使⽤', 'C': '在其开设的诊所中煎汤药给村民治病', 'D': '种植仅供⾃⽤的医疗⽤毒性中药材', 'E': ''}, 'analysis': '根据当地实际⼯作需要，乡村中医药技术⼈员⾃种⾃采⾃⽤的中草药，只限于其所在的村医疗机构内使⽤，不得上市流通，不得加⼯成中药制剂。', 'answer': 'C', 'question_type': '综合分析选择题', 'source': '2021年执业药师职业资格考试《药事管理与法规》', 'options': 'A:销售给当地的中药饮⽚⽣产企业\\nB:将⾃产中药材加⼯成中药制剂⽅便村民使⽤\\nC:在其开设的诊所中煎汤药给村民治病\\nD:种植仅供⾃⽤的医疗⽤毒性中药材\\nE:', 'deepseek_ans': '根据《中医药法》相关规定，综合分析如下：\\n\\n1. **关键词分析**：秦某作为中医学硕士，返乡种植中药材并服务村民，需明确法律对\"自种自用中药材\"的许可范围，尤其是村医在诊所使用或加工自制中药制剂的合法性。\\n\\n2. **医学/法律依据**：\\n   - 《中医药法》第二十六条明确：在村医疗机构执业的中医医师、具备中药材知识和识别能力的乡村医生，可**自种、自采地产中药材**用于临床服务。\\n   - **允许加工制剂**：根据同条款，此类人员可**将自种中药材加工成中药制剂**，但仅限自用（如村民治病），不得上市销售。\\n   - **禁止事项**：毒性中药材（如选项D）的种植使用需特殊许可；直接销售原药材（选项A）需药品经营资质；煎汤药（选项C）属于常规诊疗行为，非种植相关法规重点。\\n\\n3. **最准确答案**：  \\n   **B**（将自产中药材加工成中药制剂方便村民使用）直接符合《中医药法》对乡村医生自种自用中药材的特别规定。\\n\\n最终选项：B'}\n",
            "86\n"
          ]
        },
        {
          "output_type": "stream",
          "name": "stderr",
          "text": [
            "\r 86%|████████▌ | 86/100 [06:55<01:06,  4.77s/it]"
          ]
        },
        {
          "output_type": "stream",
          "name": "stdout",
          "text": [
            "C\n",
            "C:在其开设的诊所中煎汤药给村民治病\n",
            "{'question': '30. 关于⽣物等效性研究的实施与样品采集的说法，正确的是（）。', 'option': {'A': '通常采⽤受试制剂和参⽐制剂的单个最低规格制剂进⾏试验', 'B': '从0时到最后⼀个样品采集时间t的曲线下⾯积与时间从0到⽆穷⼤的AUC之⽐通常应当达于70%', 'C': '整个采样时间不少于3个末端消除半衰期', 'D': '受试制剂与参⽐制剂药物含量的差值应⼩于2%', 'E': '⼀般情况下，受试者试验前⾄少空腹8⼩时'}, 'analysis': '通常最⾼规格的制剂可以⼀个单位（单⽚或单粒）服⽤，受试制剂与参⽐制剂药物含量的差值⼩于5%。试验机构应对试验制剂及参⽐制剂按相关要求留样。⼀般建议每位受试者每个试验周期采集12～18个样品，其中包括给药前的样品。采样时间不短于3个末端消除半衰期。⼀般情况下，受试者试验前⾄少空腹10⼩时。', 'answer': 'C', 'question_type': '最佳选择题', 'source': '2021年执业药师职业资格考试《药学专业知识（⼀）》', 'options': 'A:通常采⽤受试制剂和参⽐制剂的单个最低规格制剂进⾏试验\\nB:从0时到最后⼀个样品采集时间t的曲线下⾯积与时间从0到⽆穷⼤的AUC之⽐通常应当达于70%\\nC:整个采样时间不少于3个末端消除半衰期\\nD:受试制剂与参⽐制剂药物含量的差值应⼩于2%\\nE:⼀般情况下，受试者试验前⾄少空腹8⼩时', 'deepseek_ans': '# 分析题干关键词\\n题干关键词包括：生物等效性研究、样品采集、受试制剂、参比制剂、AUC、消除半衰期、空腹时间等。\\n\\n# 调用检索工具验证医学依据\\n根据生物等效性研究的相关指南和规范：\\n1. 通常采用受试制剂和参比制剂的单个最高规格制剂进行试验，而非最低规格（A错误）。\\n2. AUC0-t/AUC0-∞比值通常应≥80%，而非70%（B错误）。\\n3. 采样时间应不少于3个末端消除半衰期（C正确）。\\n4. 制剂含量差值要求一般为5%以内，而非2%（D错误）。\\n5. 受试者试验前应至少空腹8小时（E正确）。\\n\\n# 综合所有信息选择最准确的答案\\n最准确的选项是C和E，但题目要求选择一个最正确的答案。\\n\\n# 用中文输出最终选项\\nE:⼀般情况下，受试者试验前�少空腹8⼩时'}\n",
            "87\n"
          ]
        },
        {
          "output_type": "stream",
          "name": "stderr",
          "text": [
            "\r 87%|████████▋ | 87/100 [06:59<01:00,  4.66s/it]"
          ]
        },
        {
          "output_type": "stream",
          "name": "stdout",
          "text": [
            "C\n",
            "C\n",
            "{'question': '题干：患者，男，53岁，季节性过敏性⿐炎病史5年，3天前，受凉后出现流涕、⿐塞、咳嗽，咳痰，低热，头痛，⽆胸闷、⽓短等其他不适，已在医院发热门诊完成了⿐拭⼦检查，排除了甲型流感和⼄型流感，诊断为普通感冒。\\n107. 为缓解该患者的感冒症状，不宜选⽤的药物是（）。', 'option': {'A': '含伪⿇黄碱的复⽅抗感冒药', 'B': '神经氨酸酶抑制剂', 'C': '⿐⽤减充⾎剂', 'D': '解热镇痛药', 'E': '祛痰剂'}, 'analysis': '神经氨酸酶抑制剂是抗病毒药，不能⽤于为缓解的普通感冒症状，因此答案选B。', 'answer': 'B', 'question_type': '综合分析选择题', 'source': '2021年执业药师职业资格考试《药学综合知识与技能》', 'options': 'A:含伪⿇黄碱的复⽅抗感冒药\\nB:神经氨酸酶抑制剂\\nC:⿐⽤减充⾎剂\\nD:解热镇痛药\\nE:祛痰剂', 'deepseek_ans': '根据题干分析和医学依据验证，最准确的答案如下：\\n\\nB:神经氨酸酶抑制剂'}\n",
            "88\n"
          ]
        },
        {
          "output_type": "stream",
          "name": "stderr",
          "text": [
            "\r 88%|████████▊ | 88/100 [07:04<00:55,  4.64s/it]"
          ]
        },
        {
          "output_type": "stream",
          "name": "stdout",
          "text": [
            "B\n",
            "B\n",
            "{'question': '119. 属于碳青霉烯类的抗菌药物有（）。', 'option': {'A': '亚胺培南', 'B': '氨曲南', 'C': '美罗培南', 'D': '厄他培南', 'E': '⽐阿培南'}, 'analysis': 'ACDE四项，亚胺培南、美罗培南、厄他培南和⽐阿培南是碳青霉烯类抗菌药物；B项，氨曲南是氨基糖苷类药物。', 'answer': 'ACDE', 'question_type': '多项选择题', 'source': '2021年执业药师职业资格考试《药学专业知识（⼆）》', 'options': 'A:亚胺培南\\nB:氨曲南\\nC:美罗培南\\nD:厄他培南\\nE:⽐阿培南', 'deepseek_ans': 'A:亚胺培南  \\nC:美罗培南  \\nD:厄他培南  \\nE:比阿培南'}\n",
            "89\n"
          ]
        },
        {
          "output_type": "stream",
          "name": "stderr",
          "text": [
            "\r 89%|████████▉ | 89/100 [07:09<00:54,  4.98s/it]"
          ]
        },
        {
          "output_type": "stream",
          "name": "stdout",
          "text": [
            "ACDE\n",
            "A:亚胺培南\n",
            "C:美罗培南\n",
            "D:厄他培南\n",
            "E:⽐阿培南\n",
            "{'question': '52. 若⽆禁忌证，治疗2型糖尿病⾸选的⼜服降糖药物（）。', 'option': {'A': '沙格列汀', 'B': '达格列净', 'C': '吡格列酮', 'D': '⼆甲双胍', 'E': '瑞格列奈'}, 'analysis': '⼆甲双胍⾸选⽤于治疗单纯饮⾷控制及体育锻炼治疗⽆效的2型糖尿病。', 'answer': 'D', 'question_type': '配伍选择题', 'source': '2021年执业药师职业资格考试《药学专业知识（⼆）》', 'options': 'A:沙格列汀\\nB:达格列净\\nC:吡格列酮\\nD:⼆甲双胍\\nE:瑞格列奈', 'deepseek_ans': 'D:⼆甲双胍'}\n",
            "90\n"
          ]
        },
        {
          "output_type": "stream",
          "name": "stderr",
          "text": [
            "\r 90%|█████████ | 90/100 [07:14<00:49,  4.98s/it]"
          ]
        },
        {
          "output_type": "stream",
          "name": "stdout",
          "text": [
            "D\n",
            "D\n",
            "{'question': '题干：患者，男，69岁，BMI 27.8kg/m ，既往有⾻性关节炎病史。近期爬⼭后，再次出现膝关节疼痛，患者热敷后疼痛未缓解，前来咨询如何选⽤“⽌痛药”。\\n103. 如服⽤所选⽌痛药，需关注的不良反应是（）。', 'option': {'A': '便秘', 'B': '肾损害', 'C': '⼜⼲', 'D': '共济失调', 'E': '剥脱性⽪炎'}, 'analysis': '双氯芬酸钠的不良反应有消化道反应，肾损害及⾼⾎压，因此答案选B。', 'answer': 'B', 'question_type': '综合分析选择题', 'source': '2021年执业药师职业资格考试《药学综合知识与技能》', 'options': 'A:便秘\\nB:肾损害\\nC:⼜⼲\\nD:共济失调\\nE:剥脱性⽪炎', 'deepseek_ans': 'B:肾损害'}\n",
            "91\n"
          ]
        },
        {
          "output_type": "stream",
          "name": "stderr",
          "text": [
            "\r 91%|█████████ | 91/100 [07:20<00:45,  5.09s/it]"
          ]
        },
        {
          "output_type": "stream",
          "name": "stdout",
          "text": [
            "B\n",
            "B:肾损害\n",
            "{'question': '88. 属于胰岛素增敏剂，具有噻唑烷⼆酮结构，通于治疗2型糖尿病的药物（）。', 'option': {'A': '阿格列汀', 'B': '罗格列酮', 'C': '达格列净', 'D': '格列吡嗪', 'E': '那格列奈'}, 'analysis': '罗格列酮属于胰岛素增敏剂，具有噻唑烷⼆酮结构，通于治疗2型糖尿病。', 'answer': 'B', 'question_type': '配伍选择题', 'source': '2021年执业药师职业资格考试《药学专业知识（⼀）》', 'options': 'A:阿格列汀\\nB:罗格列酮\\nC:达格列净\\nD:格列吡嗪\\nE:那格列奈', 'deepseek_ans': 'B:罗格列酮'}\n",
            "92\n"
          ]
        },
        {
          "output_type": "stream",
          "name": "stderr",
          "text": [
            "\r 92%|█████████▏| 92/100 [07:24<00:39,  4.95s/it]"
          ]
        },
        {
          "output_type": "stream",
          "name": "stdout",
          "text": [
            "B\n",
            "B\n",
            "{'question': '56. 根据《药品经营质量管理规范》及其有关附录⽂件，属于温湿度⾃动监测系统特有的验证项⽬是（）。', 'option': {'A': '测点终端安装数量及位置确认', 'B': '测点终端参数与数据联动传输确认', 'C': '运输最长时限验证', 'D': '极端温度保温性能验证', 'E': ''}, 'analysis': '温湿度⾃动监测系统验证的项⽬⾄少包括：①采集、传送、记录数据以及报警功能的确认；②监测设备的测量范围和准确度确认；③测点终端安装数量及位置确认；④监测系统与温度调控设施⽆联动状态的独⽴安全运⾏性能确认；⑤系统在断电、计算机关机状态下的应急性能确认；⑥防⽌⽤户修改、删除、反向导⼊数据等功能确认。', 'answer': 'A', 'question_type': '配伍选择题', 'source': '2021年执业药师职业资格考试《药事管理与法规》', 'options': 'A:测点终端安装数量及位置确认\\nB:测点终端参数与数据联动传输确认\\nC:运输最长时限验证\\nD:极端温度保温性能验证\\nE:', 'deepseek_ans': '根据《药品经营质量管理规范》及其相关附录文件，温湿度自动监测系统的特有验证项目主要涉及系统本身的安装、数据传输和功能验证。选项B“测点终端参数与数据联动传输确认”是温湿度自动监测系统特有的验证项目，因为它直接关系到系统能否准确、实时地监测和传输温湿度数据。\\n\\n最终选项：B'}\n",
            "93\n"
          ]
        },
        {
          "output_type": "stream",
          "name": "stderr",
          "text": [
            "\r 93%|█████████▎| 93/100 [07:29<00:33,  4.81s/it]"
          ]
        },
        {
          "output_type": "stream",
          "name": "stdout",
          "text": [
            "A\n",
            "A\n",
            "{'question': '54. 长期应⽤⼴谱抗⽣素造成⼆重感染的不良反应属于（）。', 'option': {'A': '特异质反应', 'B': '停药反应', 'C': '后遗效应', 'D': '毒性反应', 'E': '继发反应'}, 'analysis': '继发反应：发于药物治疗作⽤之后的不良反应，是治疗剂量下治疗作⽤本⾝带来的间接结果。例如，长期应⽤⼴谱抗⽣素，使敏感细菌被杀灭，⽽⾮敏感菌（如厌氧菌、真菌）⼤量繁殖，造成⼆重感染。', 'answer': 'E', 'question_type': '配伍选择题', 'source': '2021年执业药师职业资格考试《药学专业知识（⼀）》', 'options': 'A:特异质反应\\nB:停药反应\\nC:后遗效应\\nD:毒性反应\\nE:继发反应', 'deepseek_ans': '分析题干关键词：\\n1. 长期应用广谱抗生素\\n2. 二重感染\\n3. 不良反应类型\\n\\n医学依据验证：\\n二重感染是长期使用广谱抗生素后，敏感菌群被抑制，不敏感菌群（如真菌或耐药菌）过度繁殖导致的新感染。这属于药物治疗作用间接引发的额外不良后果，符合\"继发反应\"的定义（药物发挥治疗作用时诱发的非目标性效应）。\\n\\n排除其他选项：\\nA-特异质反应：与遗传异常相关\\nB-停药反应：突然停药后原有症状加重\\nC-后遗效应：停药后血药浓度已降至阈浓度以下时残存的效应\\nD-毒性反应：药物直接对组织器官造成的损害\\n\\n最准确的答案：\\nE:继发反应'}\n",
            "94\n"
          ]
        },
        {
          "output_type": "stream",
          "name": "stderr",
          "text": [
            "\r 94%|█████████▍| 94/100 [07:33<00:28,  4.70s/it]"
          ]
        },
        {
          "output_type": "stream",
          "name": "stdout",
          "text": [
            "E\n",
            "E\n",
            "{'question': '74. 属于酪氨酸激酶抑制剂的抗肿瘤药物是（）。', 'option': {'A': '来曲唑', 'B': '环磷酰胺', 'C': '厄洛替尼', 'D': '长春新碱', 'E': '多柔⽐星'}, 'analysis': '厄洛替尼是表⽪⽣长因⼦受体（EGFR）酪氨酸激酶抑制剂，为竞争性抑制EGFR酪氨酸激酶活性，起到抑制肿瘤细胞增殖的作⽤。', 'answer': 'C', 'question_type': '配伍选择题', 'source': '2021年执业药师职业资格考试《药学专业知识（⼆）》', 'options': 'A:来曲唑\\nB:环磷酰胺\\nC:厄洛替尼\\nD:长春新碱\\nE:多柔⽐星', 'deepseek_ans': 'C:厄洛替尼'}\n",
            "95\n"
          ]
        },
        {
          "output_type": "stream",
          "name": "stderr",
          "text": [
            "\r 95%|█████████▌| 95/100 [07:38<00:23,  4.61s/it]"
          ]
        },
        {
          "output_type": "stream",
          "name": "stdout",
          "text": [
            "C\n",
            "C\n",
            "{'question': '89. 患者，⼥，65岁。诊断为社区获得性肺炎，伴肾功能不全，肌酐清除率25mL/min，宜选⽤的⽆需根据肾功能调整剂量的抗菌药物是（）。', 'option': {'A': '头孢曲松', 'B': '头孢唑林', 'C': '头孢噻肟', 'D': '头孢他啶', 'E': '头孢吡肟'}, 'analysis': '肾功能不全患者肌酐清除率≥5mL/min，⼀⽇应⽤头孢曲松的剂量少于2g时，不需作剂量调整。', 'answer': 'A', 'question_type': '配伍选择题', 'source': '2021年执业药师职业资格考试《药学专业知识（⼆）》', 'options': 'A:头孢曲松\\nB:头孢唑林\\nC:头孢噻肟\\nD:头孢他啶\\nE:头孢吡肟', 'deepseek_ans': 'A:头孢曲松'}\n",
            "96\n"
          ]
        },
        {
          "output_type": "stream",
          "name": "stderr",
          "text": [
            "\r 96%|█████████▌| 96/100 [07:42<00:18,  4.54s/it]"
          ]
        },
        {
          "output_type": "stream",
          "name": "stdout",
          "text": [
            "A\n",
            "A\n",
            "{'question': '50. ⽤于验光配镜屈光度检查前散瞳的药物是（）。', 'option': {'A': '聚⼄⼆醇滴眼液', 'B': '硫酸阿托品眼⽤凝胶', 'C': '雷珠单抗注射液', 'D': '⽑果芸⾹碱滴眼液', 'E': '丙美卡因滴眼液'}, 'analysis': '硫酸阿托品眼⽤凝胶是散瞳药，⽤于虹膜睫状体炎、检查眼底前的散瞳、验光配镜屈光度检查前的散瞳。', 'answer': 'B', 'question_type': '配伍选择题', 'source': '2021年执业药师职业资格考试《药学专业知识（⼆）》', 'options': 'A:聚⼄⼆醇滴眼液\\nB:硫酸阿托品眼⽤凝胶\\nC:雷珠单抗注射液\\nD:⽑果芸⾹碱滴眼液\\nE:丙美卡因滴眼液', 'deepseek_ans': 'B:硫酸阿托品眼⽤凝胶'}\n",
            "97\n"
          ]
        },
        {
          "output_type": "stream",
          "name": "stderr",
          "text": [
            "\r 97%|█████████▋| 97/100 [07:47<00:14,  4.81s/it]"
          ]
        },
        {
          "output_type": "stream",
          "name": "stdout",
          "text": [
            "B\n",
            "B\n",
            "{'question': '14. 根据下列部门的主要职责、内设机构和⼈员编制规定，负责提出国家基本药物价格政策建议的部门是（）。', 'option': {'A': '国家医疗保障局', 'B': '国家卫⽣健康委员会', 'C': '国家发展和改⾰委员会', 'D': '国家市场监督管理总局', 'E': ''}, 'analysis': '卫⽣健康主管部门负责组织拟订国民健康政策，拟订卫⽣健康事业发展法律法规草案、政策、规划，制定部门规章和标准并组织实施。协调推进深化医药卫⽣体制改⾰，组织深化公⽴医院综合改⾰，健全现代医院管理制度，提出医疗服务和药品价格政策的建议。组织制定国家药物政策和国家基本药物制度，开展药品使⽤监测、临床综合评价和短缺药品预警，提出国家基本药物价格政策的建议。', 'answer': 'B', 'question_type': '最佳选择题', 'source': '2021年执业药师职业资格考试《药事管理与法规》', 'options': 'A:国家医疗保障局\\nB:国家卫⽣健康委员会\\nC:国家发展和改⾰委员会\\nD:国家市场监督管理总局\\nE:', 'deepseek_ans': 'A:国家医疗保障局'}\n",
            "98\n"
          ]
        },
        {
          "output_type": "stream",
          "name": "stderr",
          "text": [
            "\r 98%|█████████▊| 98/100 [07:54<00:10,  5.41s/it]"
          ]
        },
        {
          "output_type": "stream",
          "name": "stdout",
          "text": [
            "B\n",
            "B\n",
            "{'question': '72. 多数脂溶性⼩分⼦类药物的吸收机制是（）。', 'option': {'A': '膜孔滤过', 'B': '简单扩散', 'C': '膜动转运', 'D': '易化扩散', 'E': '主动转运'}, 'analysis': '简单扩散：⽣物膜为类脂双分⼦层，脂溶性药物可以溶于脂质膜中，容易穿过细胞膜。', 'answer': 'B', 'question_type': '配伍选择题', 'source': '2021年执业药师职业资格考试《药学专业知识（⼀）》', 'options': 'A:膜孔滤过\\nB:简单扩散\\nC:膜动转运\\nD:易化扩散\\nE:主动转运', 'deepseek_ans': 'B:简单扩散'}\n",
            "99\n"
          ]
        },
        {
          "output_type": "stream",
          "name": "stderr",
          "text": [
            "\r 99%|█████████▉| 99/100 [07:59<00:05,  5.21s/it]"
          ]
        },
        {
          "output_type": "stream",
          "name": "stdout",
          "text": [
            "B\n",
            "B\n",
            "{'question': '48. 患者，男，54岁，因痛风服⽤⾮布司他，为增强降尿酸效果，可同时使⽤的药物是（）。', 'option': {'A': '阿托伐他汀', 'B': '甲巯咪唑', 'C': '丙硫氧嘧啶', 'D': '氢氯噻嗪', 'E': '碳酸氢钠'}, 'analysis': '碳酸氢钠是⼀种抗酸剂，⼜服后可迅速中和胃酸，解除胃酸过多或烧⼼症状。此外，它也有⼀定的碱化尿液的效果。所以，临床上往往将碳酸氢钠结合⾮布司他等抑制尿酸⽣成的药物合⽤，碱化尿液，提⾼降尿酸的效果。', 'answer': 'E', 'question_type': '配伍选择题', 'source': '2021年执业药师职业资格考试《药学综合知识与技能》', 'options': 'A:阿托伐他汀\\nB:甲巯咪唑\\nC:丙硫氧嘧啶\\nD:氢氯噻嗪\\nE:碳酸氢钠', 'deepseek_ans': 'E:碳酸氢钠'}\n",
            "100\n"
          ]
        },
        {
          "output_type": "stream",
          "name": "stderr",
          "text": [
            "100%|██████████| 100/100 [08:03<00:00,  4.84s/it]"
          ]
        },
        {
          "output_type": "stream",
          "name": "stdout",
          "text": [
            "E\n",
            "E\n",
            "模型准确率: 79.00%\n"
          ]
        },
        {
          "output_type": "stream",
          "name": "stderr",
          "text": [
            "\n"
          ]
        }
      ]
    },
    {
      "cell_type": "markdown",
      "source": [
        "<font color=\"blue\">You need to optimize the prompt to improve the performance (accuracy) of large language models (LLMs).</font>"
      ],
      "metadata": {
        "id": "SwPb1z2rFJzP"
      }
    },
    {
      "cell_type": "code",
      "source": [
        "# CoT 计算做题准确率\n",
        "prompt = ChatPromptTemplate.from_messages(\n",
        "    [\n",
        "        (\"system\", \"You are an AI assistant, please answer user's question.\"),\n",
        "        (\"user\", \"{input}\")\n",
        "    ]\n",
        ")\n",
        "deepseek_chat = ChatDeepSeek(model=\"deepseek-chat\", temperature=0)\n",
        "chain = prompt | deepseek_chat | StrOutputParser()\n",
        "your_prompt = \"\"\"你是一名严谨的药剂学专家，请按以下步骤处理问题：\n",
        "1. 分析题干关键词\n",
        "2. 调用检索工具验证医学依据\n",
        "3. 综合所有信息选择最准确的答案\n",
        "4. 用中文输出最终选项\n",
        "Please answer the multiple choice questions below, please direct the correct answer option and do not output anything else.\n",
        "{question}\n",
        "{options}\"\"\"\n",
        "\n",
        "import re\n",
        "from tqdm import tqdm\n",
        "\n",
        "def get_ans(ans):\n",
        "    match = re.findall(r'.*?([A-E]+(?:[、, ]+[A-E]+)*)', ans)\n",
        "    if match:\n",
        "        last_match = match[-1]\n",
        "        return ''.join(re.split(r'[、, ，]+', last_match))\n",
        "    return ''\n",
        "\n",
        "correct_num = 0\n",
        "total_num = 0\n",
        "#for da in tqdm(data[:10]):\n",
        "for da in tqdm(data):\n",
        "  print(total_num+1)\n",
        "  da['deepseek_ans'] =  chain.invoke(get_query(da))\n",
        "  print(da['answer'])\n",
        "  print(da['deepseek_ans'])\n",
        "  if get_ans(da['deepseek_ans']) == da['answer']:\n",
        "    correct_num += 1\n",
        "  total_num += 1\n",
        "print(f\"模型准确率: {correct_num/total_num:.2%}\")"
      ],
      "metadata": {
        "id": "8Xp9wyc3LT0e",
        "outputId": "d2fc0158-8919-412a-f226-374b2ff9a125",
        "colab": {
          "base_uri": "https://localhost:8080/"
        }
      },
      "execution_count": 25,
      "outputs": [
        {
          "output_type": "stream",
          "name": "stderr",
          "text": [
            "\r  0%|          | 0/100 [00:00<?, ?it/s]"
          ]
        },
        {
          "output_type": "stream",
          "name": "stdout",
          "text": [
            "1\n"
          ]
        },
        {
          "output_type": "stream",
          "name": "stderr",
          "text": [
            "\r  1%|          | 1/100 [00:08<14:44,  8.93s/it]"
          ]
        },
        {
          "output_type": "stream",
          "name": "stdout",
          "text": [
            "B\n",
            "根据国家药品监督管理局、公安部、国家卫生健康委员会的相关规定，口服固体制剂每剂量单位含羟考酮碱不超过5毫克，且不含其他麻醉药品、精神药品或者药品类易制毒化学品的复方制剂列入**第二类精神药品管理**。\n",
            "\n",
            "**正确答案：B**\n",
            "2\n"
          ]
        },
        {
          "output_type": "stream",
          "name": "stderr",
          "text": [
            "\r  2%|▏         | 2/100 [00:13<10:17,  6.30s/it]"
          ]
        },
        {
          "output_type": "stream",
          "name": "stdout",
          "text": [
            "BCDE\n",
            "B:普拉克索\n",
            "3\n"
          ]
        },
        {
          "output_type": "stream",
          "name": "stderr",
          "text": [
            "\r  3%|▎         | 3/100 [00:20<10:58,  6.79s/it]"
          ]
        },
        {
          "output_type": "stream",
          "name": "stdout",
          "text": [
            "D\n",
            "D:甲苯咪唑\n",
            "4\n"
          ]
        },
        {
          "output_type": "stream",
          "name": "stderr",
          "text": [
            "\r  4%|▍         | 4/100 [00:25<09:31,  5.96s/it]"
          ]
        },
        {
          "output_type": "stream",
          "name": "stdout",
          "text": [
            "C\n",
            "C:雷珠单抗注射液\n",
            "5\n"
          ]
        },
        {
          "output_type": "stream",
          "name": "stderr",
          "text": [
            "\r  5%|▌         | 5/100 [00:36<12:19,  7.79s/it]"
          ]
        },
        {
          "output_type": "stream",
          "name": "stdout",
          "text": [
            "B\n",
            "根据药品管理法律法规及相关文件的规定，药品零售企业可以开架自选销售的药品是非处方药（OTC）。我们需要分析各选项是否为非处方药：\n",
            "\n",
            "A: 复方甘草片 - 含阿片粉成分，属于处方药  \n",
            "B: 复方金银花颗粒 - 中成药OTC（乙类非处方药）  \n",
            "C: 复方地芬诺酯片 - 含地芬诺酯（麻醉药品），严格处方药  \n",
            "D: 复方枇杷喷托维林颗粒 - 含喷托维林（镇咳药），部分为处方药  \n",
            "\n",
            "经核实，**复方金银花颗粒**是唯一明确列入乙类非处方药的品种。  \n",
            "\n",
            "正确答案选项：B\n",
            "6\n"
          ]
        },
        {
          "output_type": "stream",
          "name": "stderr",
          "text": [
            "\r  6%|▌         | 6/100 [00:41<10:31,  6.72s/it]"
          ]
        },
        {
          "output_type": "stream",
          "name": "stdout",
          "text": [
            "B\n",
            "B:温度\n",
            "7\n"
          ]
        },
        {
          "output_type": "stream",
          "name": "stderr",
          "text": [
            "\r  7%|▋         | 7/100 [00:49<11:10,  7.21s/it]"
          ]
        },
        {
          "output_type": "stream",
          "name": "stdout",
          "text": [
            "C\n",
            "根据严谨的药剂学分析流程，正确答案是：\n",
            "\n",
            "C:适⽤于1型糖尿病或糖尿病酮症酸中毒\n",
            "8\n"
          ]
        },
        {
          "output_type": "stream",
          "name": "stderr",
          "text": [
            "\r  8%|▊         | 8/100 [00:53<09:41,  6.32s/it]"
          ]
        },
        {
          "output_type": "stream",
          "name": "stdout",
          "text": [
            "C\n",
            "C:附条件批准程序\n",
            "9\n"
          ]
        },
        {
          "output_type": "stream",
          "name": "stderr",
          "text": [
            "\r  9%|▉         | 9/100 [00:58<08:48,  5.81s/it]"
          ]
        },
        {
          "output_type": "stream",
          "name": "stdout",
          "text": [
            "A\n",
            "A:西格列汀\n",
            "10\n"
          ]
        },
        {
          "output_type": "stream",
          "name": "stderr",
          "text": [
            "\r 10%|█         | 10/100 [01:03<08:10,  5.45s/it]"
          ]
        },
        {
          "output_type": "stream",
          "name": "stdout",
          "text": [
            "A\n",
            "A:25mg\n",
            "11\n"
          ]
        },
        {
          "output_type": "stream",
          "name": "stderr",
          "text": [
            "\r 11%|█         | 11/100 [01:07<07:47,  5.25s/it]"
          ]
        },
        {
          "output_type": "stream",
          "name": "stdout",
          "text": [
            "D\n",
            "D:N-去甲基舍曲林\n",
            "12\n"
          ]
        },
        {
          "output_type": "stream",
          "name": "stderr",
          "text": [
            "\r 12%|█▏        | 12/100 [01:17<09:35,  6.54s/it]"
          ]
        },
        {
          "output_type": "stream",
          "name": "stdout",
          "text": [
            "D\n",
            "根据题干要求，通过分析关键词和验证医学依据，最准确的错误说法是：\n",
            "\n",
            "A:同⼀药品上市许可持有⼈⽣产的同⼀药品，分别按处⽅药与⾮处⽅药管理的，⼆者包装颜⾊必须明显区别\n",
            "\n",
            "依据：《药品说明书和标签管理规定》未强制要求处方药与非处方药的包装颜色必须明显区别，而是强调标签内容应显著区分。其他选项B、C、D均符合现行法规要求。\n",
            "13\n"
          ]
        },
        {
          "output_type": "stream",
          "name": "stderr",
          "text": [
            "\r 13%|█▎        | 13/100 [01:22<08:48,  6.08s/it]"
          ]
        },
        {
          "output_type": "stream",
          "name": "stdout",
          "text": [
            "B\n",
            "B:甲硝唑栓\n",
            "14\n"
          ]
        },
        {
          "output_type": "stream",
          "name": "stderr",
          "text": [
            "\r 14%|█▍        | 14/100 [01:26<08:01,  5.60s/it]"
          ]
        },
        {
          "output_type": "stream",
          "name": "stdout",
          "text": [
            "D\n",
            "D:结晶性\n",
            "15\n"
          ]
        },
        {
          "output_type": "stream",
          "name": "stderr",
          "text": [
            "\r 15%|█▌        | 15/100 [01:43<12:31,  8.85s/it]"
          ]
        },
        {
          "output_type": "stream",
          "name": "stdout",
          "text": [
            "B\n",
            "要配制有效氯浓度为500 mg/L的消毒剂10 L，计算步骤如下：\n",
            "\n",
            "1. **计算所需有效氯的总质量**：  \n",
            "   500 mg/L × 10 L = 5000 mg = 5 g。\n",
            "\n",
            "2. **计算所需次氯酸钠溶液的体积**：  \n",
            "   次氯酸钠溶液的有效氯浓度为6.0%（即60 g/L）。  \n",
            "   设需要的次氯酸钠溶液体积为 \\( V \\)，则：  \n",
            "   \\( 60 \\, \\text{g/L} \\times V = 5 \\, \\text{g} \\)  \n",
            "   \\( V = \\frac{5}{60} \\, \\text{L} \\approx 0.0833 \\, \\text{L} = 83 \\, \\text{mL} \\)。\n",
            "\n",
            "3. **计算所需纯化水的体积**：  \n",
            "   总配制体积为10 L，减去次氯酸钠溶液的体积：  \n",
            "   \\( 10 \\, \\text{L} - 0.0833 \\, \\text{L} \\approx 9.917 \\, \\text{L} = 9917 \\, \\text{mL} \\)。\n",
            "\n",
            "**正确答案是选项 A: 83 mL 和 9917 mL**。\n",
            "16\n"
          ]
        },
        {
          "output_type": "stream",
          "name": "stderr",
          "text": [
            "\r 16%|█▌        | 16/100 [01:49<11:29,  8.21s/it]"
          ]
        },
        {
          "output_type": "stream",
          "name": "stdout",
          "text": [
            "C\n",
            "C:CYP2C19\n",
            "17\n"
          ]
        },
        {
          "output_type": "stream",
          "name": "stderr",
          "text": [
            "\r 17%|█▋        | 17/100 [01:55<10:03,  7.27s/it]"
          ]
        },
        {
          "output_type": "stream",
          "name": "stdout",
          "text": [
            "B\n",
            "B:别嘌醇\n",
            "18\n"
          ]
        },
        {
          "output_type": "stream",
          "name": "stderr",
          "text": [
            "\r 18%|█▊        | 18/100 [02:05<11:21,  8.31s/it]"
          ]
        },
        {
          "output_type": "stream",
          "name": "stdout",
          "text": [
            "ACE\n",
            "A:⾮甾体抗炎药舒林酸结构中的甲基亚砜，经还原后的代谢物才具有活性\n",
            "C:驱⾍药阿苯达唑结构中的丙硫醚，经S-氧化后的代谢物才具有活性\n",
            "D:抗癫痫药苯妥英钠结构中的⼀个芳环，发⽣氧化代谢后产⽣羟基化的代谢物仍具有活性\n",
            "E:解热镇痛药保泰松结构中的⼀个芳环，发⽣氧化代谢后产⽣羟基化的保泰松仍具有活性\n",
            "19\n"
          ]
        },
        {
          "output_type": "stream",
          "name": "stderr",
          "text": [
            "\r 19%|█▉        | 19/100 [02:10<09:46,  7.24s/it]"
          ]
        },
        {
          "output_type": "stream",
          "name": "stdout",
          "text": [
            "D\n",
            "D:CYP2D6\n",
            "20\n"
          ]
        },
        {
          "output_type": "stream",
          "name": "stderr",
          "text": [
            "\r 20%|██        | 20/100 [02:24<12:08,  9.10s/it]"
          ]
        },
        {
          "output_type": "stream",
          "name": "stdout",
          "text": [
            "A\n",
            "根据医疗器械分类管理规定，二类医疗器械通常指需要严格控制管理以保证其安全有效的医疗器械。综合分析选项：\n",
            "\n",
            "A: 体温计（二类）、皮肤缝合钉（一类或二类）、无菌医用手套（一类）→ 部分符合  \n",
            "B: 超声三维系统软件（三类）、血压计（二类）、核磁共振成像设备（三类）→ 部分符合  \n",
            "C: 针灸针（二类）、听诊器（一类）、医用防护服（一类或二类）→ 部分符合  \n",
            "D: 集液袋（二类）、手术刀（一类）、睡眠监护系统软件（二类）→ 部分符合  \n",
            "\n",
            "**最准确的是A选项**（体温计为二类代表性产品，其余选项混合三类或一类器械）。  \n",
            "\n",
            "最终选项：A\n",
            "21\n"
          ]
        },
        {
          "output_type": "stream",
          "name": "stderr",
          "text": [
            "\r 21%|██        | 21/100 [02:28<10:18,  7.83s/it]"
          ]
        },
        {
          "output_type": "stream",
          "name": "stdout",
          "text": [
            "A\n",
            "E\n",
            "22\n"
          ]
        },
        {
          "output_type": "stream",
          "name": "stderr",
          "text": [
            "\r 22%|██▏       | 22/100 [02:41<11:57,  9.20s/it]"
          ]
        },
        {
          "output_type": "stream",
          "name": "stdout",
          "text": [
            "E\n",
            "分析题干关键词：\n",
            "1. 异丙托溴铵制剂处方成分及用量\n",
            "2. 枸橼酸的作用\n",
            "\n",
            "调用检索工具验证医学依据：\n",
            "1. 枸橼酸在药物制剂中常用作pH调节剂，维持药物稳定性\n",
            "2. 该处方中枸橼酸用量极低(0.04g)，符合pH调节剂的使用特点\n",
            "3. 其他选项：\n",
            "   A. 潜溶剂 - 主要由无水乙醇担任\n",
            "   B. 防腐剂 - 处方中无典型防腐剂\n",
            "   C. 助溶剂 - 无证据支持\n",
            "   D. 抛射剂 - 由HFA-134a担任\n",
            "   E. pH调节剂 - 最符合枸橼酸作用\n",
            "\n",
            "综合所有信息选择最准确的答案：\n",
            "E:pH调节剂\n",
            "\n",
            "最终选项：E\n",
            "23\n"
          ]
        },
        {
          "output_type": "stream",
          "name": "stderr",
          "text": [
            "\r 23%|██▎       | 23/100 [02:51<12:06,  9.44s/it]"
          ]
        },
        {
          "output_type": "stream",
          "name": "stdout",
          "text": [
            "B\n",
            "根据题干关键词和分类管理要求分析：\n",
            "\n",
            "1. 关键词：处方药与非处方药分类管理、销售行为错误\n",
            "2. 医学依据验证：\n",
            "   - A选项符合《药品管理法》对可疑处方的处理规定\n",
            "   - B选项错误：非处方药也不允许采用\"捆绑搭售\"等促销方式（依据《药品流通监督管理办法》）\n",
            "   - C选项符合《处方管理办法》对药师审方要求\n",
            "   - D选项符合现行零售药店处方药销售规定\n",
            "\n",
            "3. 最准确答案：B\n",
            "\n",
            "最终选项：B\n",
            "24\n"
          ]
        },
        {
          "output_type": "stream",
          "name": "stderr",
          "text": [
            "\r 24%|██▍       | 24/100 [03:03<12:59, 10.25s/it]"
          ]
        },
        {
          "output_type": "stream",
          "name": "stdout",
          "text": [
            "B\n",
            "1. 分析题干关键词：\n",
            "   - 非索非那定（H1受体阻断药）\n",
            "   - 结构特点\n",
            "   - 临床使用特点\n",
            "   - 错误的说法\n",
            "\n",
            "2. 医学依据验证：\n",
            "   - 非索非那定是特非那定的活性代谢产物（A正确）\n",
            "   - 非索非那定经结构改造后心脏毒性显著降低（B错误，原特非那定有心脏毒性）\n",
            "   - 分子中含羧基（C正确，COOH是其结构特征）\n",
            "   - 极性大不易通过血脑屏障（D正确，故无中枢镇静作用）\n",
            "   - 口服生物利用度高（E正确，吸收迅速）\n",
            "\n",
            "3. 最准确答案：\n",
            "   B（心脏毒性大的说法错误）\n",
            "\n",
            "4. 最终选项：\n",
            "B\n",
            "25\n"
          ]
        },
        {
          "output_type": "stream",
          "name": "stderr",
          "text": [
            "\r 25%|██▌       | 25/100 [03:11<11:53,  9.51s/it]"
          ]
        },
        {
          "output_type": "stream",
          "name": "stdout",
          "text": [
            "A\n",
            "B:DF（波动系数）  \n",
            "\n",
            "（注：DE应为DF（Degree of Fluctuation）的笔误，DF是评价药物在体内浓度波动程度的关键参数，计算公式为 (Cmax - Cmin)/Cavg。其他选项中，AUC、Cmax、MRT、AUMC均不直接反映波动性。）\n",
            "26\n"
          ]
        },
        {
          "output_type": "stream",
          "name": "stderr",
          "text": [
            "\r 26%|██▌       | 26/100 [03:15<09:53,  8.02s/it]"
          ]
        },
        {
          "output_type": "stream",
          "name": "stdout",
          "text": [
            "C\n",
            "E\n",
            "27\n"
          ]
        },
        {
          "output_type": "stream",
          "name": "stderr",
          "text": [
            "\r 27%|██▋       | 27/100 [03:20<08:33,  7.03s/it]"
          ]
        },
        {
          "output_type": "stream",
          "name": "stdout",
          "text": [
            "E\n",
            "E:β-内酰胺类\n",
            "28\n"
          ]
        },
        {
          "output_type": "stream",
          "name": "stderr",
          "text": [
            "\r 28%|██▊       | 28/100 [03:46<15:19, 12.77s/it]"
          ]
        },
        {
          "output_type": "stream",
          "name": "stdout",
          "text": [
            "B\n",
            "### 1. 分析题干关键词\n",
            "- **头孢呋辛钠**：半合成广谱抗生素，水溶液中易降解。\n",
            "- **药动学特征**：一室模型，半衰期（t1/2）约为1.1小时。\n",
            "- **排泄**：24小时内90%以上以原形从尿中排出。\n",
            "- **给药方案**：每日三次（即每8小时一次），每次静脉注射0.5g。\n",
            "- **患者参数**：表观分布容积（Vd）为20L。\n",
            "- **问题**：计算多次给药后的平均稳态血药浓度（Css_avg）。\n",
            "\n",
            "### 2. 调用检索工具验证医学依据\n",
            "根据药动学一室模型，平均稳态血药浓度（Css_avg）的计算公式为：\n",
            "\\[ Css_{avg} = \\frac{Dose \\times F}{CL \\times \\tau} \\]\n",
            "其中：\n",
            "- Dose：每次给药剂量（0.5g = 500mg）。\n",
            "- F：生物利用度，静脉注射为1（100%）。\n",
            "- CL：清除率（Clearance）。\n",
            "- τ：给药间隔（8小时）。\n",
            "\n",
            "清除率（CL）可通过半衰期（t1/2）和表观分布容积（Vd）计算：\n",
            "\\[ CL = \\frac{0.693 \\times Vd}{t_{1/2}} \\]\n",
            "已知：\n",
            "- t1/2 = 1.1小时。\n",
            "- Vd = 20L。\n",
            "\n",
            "因此：\n",
            "\\[ CL = \\frac{0.693 \\times 20}{1.1} \\approx \\frac{13.86}{1.1} \\approx 12.6 \\, \\text{L/h} \\]\n",
            "\n",
            "### 3. 计算平均稳态血药浓度（Css_avg）\n",
            "将已知值代入Css_avg公式：\n",
            "\\[ Css_{avg} = \\frac{500 \\times 1}{12.6 \\times 8} \\approx \\frac{500}{100.8} \\approx 4.96 \\, \\text{mg/L} \\]\n",
            "\n",
            "### 4. 综合所有信息选择最准确的答案\n",
            "计算结果与选项B一致。\n",
            "\n",
            "### 5. 最终答案\n",
            "B:4.96mg/L\n",
            "29\n"
          ]
        },
        {
          "output_type": "stream",
          "name": "stderr",
          "text": [
            "\r 29%|██▉       | 29/100 [03:52<12:50, 10.85s/it]"
          ]
        },
        {
          "output_type": "stream",
          "name": "stdout",
          "text": [
            "ACD\n",
            "A:Ⅲ期临床试验是治疗作⽤确证阶段\n",
            "C:Ⅰ期临床试验是初步的临床药理学及⼈体安全性评价试验\n",
            "D:Ⅱ期临床试验是治疗作⽤初步评价阶段\n",
            "30\n"
          ]
        },
        {
          "output_type": "stream",
          "name": "stderr",
          "text": [
            "\r 30%|███       | 30/100 [03:57<10:24,  8.92s/it]"
          ]
        },
        {
          "output_type": "stream",
          "name": "stdout",
          "text": [
            "E\n",
            "E:脂质体\n",
            "31\n"
          ]
        },
        {
          "output_type": "stream",
          "name": "stderr",
          "text": [
            "\r 31%|███       | 31/100 [04:01<08:41,  7.55s/it]"
          ]
        },
        {
          "output_type": "stream",
          "name": "stdout",
          "text": [
            "C\n",
            "C:行政处罚\n",
            "32\n"
          ]
        },
        {
          "output_type": "stream",
          "name": "stderr",
          "text": [
            "\r 32%|███▏      | 32/100 [04:08<08:25,  7.44s/it]"
          ]
        },
        {
          "output_type": "stream",
          "name": "stdout",
          "text": [
            "E\n",
            "E:⾮布司他\n",
            "33\n"
          ]
        },
        {
          "output_type": "stream",
          "name": "stderr",
          "text": [
            "\r 33%|███▎      | 33/100 [04:13<07:27,  6.69s/it]"
          ]
        },
        {
          "output_type": "stream",
          "name": "stdout",
          "text": [
            "C\n",
            "C:依达拉奉\n",
            "34\n"
          ]
        },
        {
          "output_type": "stream",
          "name": "stderr",
          "text": [
            "\r 34%|███▍      | 34/100 [04:18<06:44,  6.12s/it]"
          ]
        },
        {
          "output_type": "stream",
          "name": "stdout",
          "text": [
            "C\n",
            "C:构型异构\n",
            "35\n"
          ]
        },
        {
          "output_type": "stream",
          "name": "stderr",
          "text": [
            "\r 35%|███▌      | 35/100 [04:23<06:06,  5.64s/it]"
          ]
        },
        {
          "output_type": "stream",
          "name": "stdout",
          "text": [
            "C\n",
            "C:枸橼酸铋钾\n",
            "36\n"
          ]
        },
        {
          "output_type": "stream",
          "name": "stderr",
          "text": [
            "\r 36%|███▌      | 36/100 [04:35<08:09,  7.65s/it]"
          ]
        },
        {
          "output_type": "stream",
          "name": "stdout",
          "text": [
            "C\n",
            "根据《中共中央国务院关于深化医疗保障制度改革的意见》中明确的制度定位，医疗救助是对困难群众的托底保障。以下是逐步分析：\n",
            "\n",
            "1. **关键词分析**：题目核心是“多层次医疗保障制度体系”中“发挥托底作用”的部分。  \n",
            "2. **政策依据**：  \n",
            "   - 基本医疗保险（D）是主体保障，覆盖全民，但非托底。  \n",
            "   - 补充医疗保险（A）和医疗互助（B）是更高层次的补充保障。  \n",
            "   - **医疗救助（C）**专门针对贫困人群，承担防止因病致贫、兜底保障的功能，符合“托底”描述。  \n",
            "3. **排除法**：其他选项均不具备政策明文规定的托底属性。  \n",
            "\n",
            "**正确答案：C**\n",
            "37\n"
          ]
        },
        {
          "output_type": "stream",
          "name": "stderr",
          "text": [
            "\r 37%|███▋      | 37/100 [04:40<07:15,  6.92s/it]"
          ]
        },
        {
          "output_type": "stream",
          "name": "stdout",
          "text": [
            "D\n",
            "D:四环素\n",
            "38\n"
          ]
        },
        {
          "output_type": "stream",
          "name": "stderr",
          "text": [
            "\r 38%|███▊      | 38/100 [04:45<06:28,  6.26s/it]"
          ]
        },
        {
          "output_type": "stream",
          "name": "stdout",
          "text": [
            "A\n",
            "A:乙酰半胱氨酸\n",
            "39\n"
          ]
        },
        {
          "output_type": "stream",
          "name": "stderr",
          "text": [
            "\r 39%|███▉      | 39/100 [04:51<06:23,  6.28s/it]"
          ]
        },
        {
          "output_type": "stream",
          "name": "stdout",
          "text": [
            "A\n",
            "A:责令改正，没收违法购进的药品和违法所得，并处违法购进药品货值⾦额⼆倍以上⼗倍以下的罚款，货值⾦额不⾜五万元的，按五万元计算\n",
            "40\n"
          ]
        },
        {
          "output_type": "stream",
          "name": "stderr",
          "text": [
            "\r 40%|████      | 40/100 [05:02<07:31,  7.53s/it]"
          ]
        },
        {
          "output_type": "stream",
          "name": "stdout",
          "text": [
            "ACD\n",
            "根据执业药师注册管理的相关规定，执业药师的执业单位主要包括药品生产、经营（批发、零售）、使用领域的企业或机构。结合选项分析：\n",
            "\n",
            "1. **药品连锁企业总部**（A）：属于药品经营企业，符合执业单位要求  \n",
            "2. **药品检验机构**（B）：属于技术监督机构，非直接药品服务单位，不符合  \n",
            "3. **药品批发企业**（C）：明确属于药品经营企业，符合  \n",
            "4. **医疗机构**（D）：属于药品使用单位，符合  \n",
            "\n",
            "**正确答案选项：A、C、D**\n",
            "41\n"
          ]
        },
        {
          "output_type": "stream",
          "name": "stderr",
          "text": [
            "\r 41%|████      | 41/100 [05:06<06:33,  6.68s/it]"
          ]
        },
        {
          "output_type": "stream",
          "name": "stdout",
          "text": [
            "B\n",
            "B:氨曲南\n",
            "42\n"
          ]
        },
        {
          "output_type": "stream",
          "name": "stderr",
          "text": [
            "\r 42%|████▏     | 42/100 [05:14<06:42,  6.94s/it]"
          ]
        },
        {
          "output_type": "stream",
          "name": "stdout",
          "text": [
            "C\n",
            "根据《关于做好当前药品价格管理工作的意见》的相关规定，错误的说法是：\n",
            "\n",
            "C: 麻醉药品和第一类精神药品实行政府定价，其他药品实行政府指导价\n",
            "\n",
            "（正确政策应为：麻醉药品和第一类精神药品实行政府定价，其他药品实行市场调节价，而非政府指导价）\n",
            "43\n"
          ]
        },
        {
          "output_type": "stream",
          "name": "stderr",
          "text": [
            "\r 43%|████▎     | 43/100 [05:20<06:21,  6.70s/it]"
          ]
        },
        {
          "output_type": "stream",
          "name": "stdout",
          "text": [
            "B\n",
            "B:乳果糖\n",
            "44\n"
          ]
        },
        {
          "output_type": "stream",
          "name": "stderr",
          "text": [
            "\r 44%|████▍     | 44/100 [05:25<05:52,  6.29s/it]"
          ]
        },
        {
          "output_type": "stream",
          "name": "stdout",
          "text": [
            "E\n",
            "D:⾼锰酸钾溶液（1:5000～1:10000）\n",
            "45\n"
          ]
        },
        {
          "output_type": "stream",
          "name": "stderr",
          "text": [
            "\r 45%|████▌     | 45/100 [05:38<07:34,  8.27s/it]"
          ]
        },
        {
          "output_type": "stream",
          "name": "stdout",
          "text": [
            "E\n",
            "分析题干关键词：\n",
            "1. 药物相互作用：一个药物通过诱导体内生化反应影响另一个药物的药效\n",
            "2. 药效降低：属于拮抗作用或代谢性相互作用\n",
            "3. 诱导生化反应：主要指酶诱导作用（如细胞色素P450酶）\n",
            "\n",
            "验证医学依据：\n",
            "- 苯巴比妥是强效的CYP3A4酶诱导剂，可加速避孕药的代谢，降低其血药浓度和避孕效果\n",
            "- 其他选项：\n",
            "  A. 阿替洛尔与氢氯噻嗪是协同降压，无代谢影响\n",
            "  B. 丙磺舒抑制青霉素排泄，属于转运体相互作用\n",
            "  C. 阿司匹林与对乙酰氨基酚是作用机制互补\n",
            "  D. 磺胺甲噁唑与甲氧苄啶是协同抑制叶酸代谢\n",
            "\n",
            "最准确的答案：\n",
            "E:抗癫痫药苯巴⽐妥与避孕药\n",
            "46\n"
          ]
        },
        {
          "output_type": "stream",
          "name": "stderr",
          "text": [
            "\r 46%|████▌     | 46/100 [05:43<06:31,  7.25s/it]"
          ]
        },
        {
          "output_type": "stream",
          "name": "stdout",
          "text": [
            "B\n",
            "B:清晨\n",
            "47\n"
          ]
        },
        {
          "output_type": "stream",
          "name": "stderr",
          "text": [
            "\r 47%|████▋     | 47/100 [05:50<06:14,  7.06s/it]"
          ]
        },
        {
          "output_type": "stream",
          "name": "stdout",
          "text": [
            "D\n",
            "根据《药品经营质量管理规范》（GSP）相关规定，测量范围在－25℃～0℃之间的温湿度监测系统，温度最大允许误差为 **±1.0℃**。  \n",
            "\n",
            "**最终答案：D**\n",
            "48\n"
          ]
        },
        {
          "output_type": "stream",
          "name": "stderr",
          "text": [
            "\r 48%|████▊     | 48/100 [05:56<05:54,  6.81s/it]"
          ]
        },
        {
          "output_type": "stream",
          "name": "stdout",
          "text": [
            "ABE\n",
            "B:珍菊降压⽚\n",
            "E:消渴丸\n",
            "49\n"
          ]
        },
        {
          "output_type": "stream",
          "name": "stderr",
          "text": [
            "\r 49%|████▉     | 49/100 [06:03<05:42,  6.71s/it]"
          ]
        },
        {
          "output_type": "stream",
          "name": "stdout",
          "text": [
            "B\n",
            "根据《国家药品监督管理局职能配置、内设机构和人员编制规定》及相关规定，负责执业药师管理信息系统的建设、管理和维护的机构是：\n",
            "\n",
            "B:国家药品监督管理局执业药师资格认证中心\n",
            "50\n"
          ]
        },
        {
          "output_type": "stream",
          "name": "stderr",
          "text": [
            "\r 50%|█████     | 50/100 [06:11<06:02,  7.26s/it]"
          ]
        },
        {
          "output_type": "stream",
          "name": "stdout",
          "text": [
            "D\n",
            "根据题干描述和药品监管相关规定，针对乙企业违规销售含麻黄碱类复方制剂行为的错误检查结论是：\n",
            "\n",
            "C:乙涉嫌将含麻黄碱类复方制剂流入非法渠道\n",
            "\n",
            "（题干仅提及超数量销售和留存处方，未提供流向非法渠道的证据，其他选项A/B/D均与题干违规事实直接相关）\n",
            "51\n"
          ]
        },
        {
          "output_type": "stream",
          "name": "stderr",
          "text": [
            "\r 51%|█████     | 51/100 [06:16<05:21,  6.56s/it]"
          ]
        },
        {
          "output_type": "stream",
          "name": "stdout",
          "text": [
            "B\n",
            "B:具有终⽌妊娠作⽤的药品\n",
            "52\n"
          ]
        },
        {
          "output_type": "stream",
          "name": "stderr",
          "text": [
            "\r 52%|█████▏    | 52/100 [06:27<06:23,  7.99s/it]"
          ]
        },
        {
          "output_type": "stream",
          "name": "stdout",
          "text": [
            "C\n",
            "根据《中药品种保护条例》对中药保护级别的划分，对特定疾病有特殊疗效的中药符合以下标准：\n",
            "\n",
            "**一级保护品种**：  \n",
            "- 对特定疾病有特殊疗效  \n",
            "- 相当于国家一级保护野生药材物种的人工制成品  \n",
            "- 用于预防和治疗特殊疾病  \n",
            "\n",
            "**二级保护品种**：  \n",
            "- 符合一级保护的品种或已解除一级保护的品种  \n",
            "- 对特定疾病有显著疗效  \n",
            "- 从天然药物中提取的有效物质及特殊制剂  \n",
            "\n",
            "**三级保护品种**：  \n",
            "- 对特定疾病有一定疗效（标准低于二级）  \n",
            "\n",
            "**题干关键词**“对特定疾病有特殊疗效”明确对应**一级保护品种**的最高级别保护。  \n",
            "\n",
            "正确答案：  \n",
            "C:⼀级保护品种\n",
            "53\n"
          ]
        },
        {
          "output_type": "stream",
          "name": "stderr",
          "text": [
            "\r 53%|█████▎    | 53/100 [06:32<05:26,  6.94s/it]"
          ]
        },
        {
          "output_type": "stream",
          "name": "stdout",
          "text": [
            "E\n",
            "E:肠-肝循环\n",
            "54\n"
          ]
        },
        {
          "output_type": "stream",
          "name": "stderr",
          "text": [
            "\r 54%|█████▍    | 54/100 [06:40<05:29,  7.17s/it]"
          ]
        },
        {
          "output_type": "stream",
          "name": "stdout",
          "text": [
            "C\n",
            "根据《药品经营质量管理规范》及其相关附录文件，保温箱特有的验证项目是：\n",
            "\n",
            "D:极端温度保温性能验证\n",
            "55\n"
          ]
        },
        {
          "output_type": "stream",
          "name": "stderr",
          "text": [
            "\r 55%|█████▌    | 55/100 [06:45<05:05,  6.79s/it]"
          ]
        },
        {
          "output_type": "stream",
          "name": "stdout",
          "text": [
            "C\n",
            "C:⼄基纤维素（EC）\n",
            "56\n"
          ]
        },
        {
          "output_type": "stream",
          "name": "stderr",
          "text": [
            "\r 56%|█████▌    | 56/100 [06:58<06:15,  8.52s/it]"
          ]
        },
        {
          "output_type": "stream",
          "name": "stdout",
          "text": [
            "B\n",
            "1. 分析题干关键词：\n",
            "   - 环磷酰胺\n",
            "   - 结构特点\n",
            "   - 应用\n",
            "   - 错误说法\n",
            "\n",
            "2. 调用检索工具验证医学依据：\n",
            "   - 环磷酰胺是一种前药，需要在体内代谢激活才能发挥作用。\n",
            "   - 磷酰基的引入降低了毒性，提高了选择性。\n",
            "   - 正常细胞内可转化为无毒代谢产物（如羧基磷酰胺），这是其选择性毒性的原因之一。\n",
            "   - 环磷酰胺属于氮芥类烷化剂，是经典的抗肿瘤药物。\n",
            "   - 临床广泛用于抗肿瘤治疗。\n",
            "\n",
            "3. 综合所有信息选择最准确的答案：\n",
            "   - 选项B\"磷酰基的引⼊使毒性升⾼\"与事实相反，磷酰基实际上是降低毒性的关键修饰。\n",
            "\n",
            "4. 最终答案：\n",
            "B\n",
            "57\n"
          ]
        },
        {
          "output_type": "stream",
          "name": "stderr",
          "text": [
            "\r 57%|█████▋    | 57/100 [07:10<06:51,  9.57s/it]"
          ]
        },
        {
          "output_type": "stream",
          "name": "stdout",
          "text": [
            "C\n",
            "根据化妆品管理要求的分析：\n",
            "\n",
            "1. 关键词分析：\n",
            "- 特殊化妆品注册级别（国家级）\n",
            "- 普通化妆品备案时间（上市前）\n",
            "- 分类管理依据（风险程度）\n",
            "- 特殊化妆品变更注册条件（重大变化）\n",
            "\n",
            "2. 医学依据验证（根据《化妆品监督管理条例》）：\n",
            "- A选项错误：特殊化妆品需经国务院药品监督管理部门注册（非省级）\n",
            "- B选项错误：国产普通化妆品应在上市销售前备案\n",
            "- C选项正确：第四条明确规定按风险程度分类管理\n",
            "- D选项错误：仅当变化涉及安全性、功效宣称时才需变更注册\n",
            "\n",
            "3. 最准确答案：\n",
            "C\n",
            "\n",
            "最终选项：C\n",
            "58\n"
          ]
        },
        {
          "output_type": "stream",
          "name": "stderr",
          "text": [
            "\r 58%|█████▊    | 58/100 [07:15<05:40,  8.11s/it]"
          ]
        },
        {
          "output_type": "stream",
          "name": "stdout",
          "text": [
            "E\n",
            "E:苯⼄醇胺类\n",
            "59\n"
          ]
        },
        {
          "output_type": "stream",
          "name": "stderr",
          "text": [
            "\r 59%|█████▉    | 59/100 [07:19<04:50,  7.09s/it]"
          ]
        },
        {
          "output_type": "stream",
          "name": "stdout",
          "text": [
            "C\n",
            "C:微浑浊或沉淀\n",
            "60\n"
          ]
        },
        {
          "output_type": "stream",
          "name": "stderr",
          "text": [
            "\r 60%|██████    | 60/100 [07:24<04:14,  6.37s/it]"
          ]
        },
        {
          "output_type": "stream",
          "name": "stdout",
          "text": [
            "D\n",
            "D:多奈哌齐\n",
            "61\n"
          ]
        },
        {
          "output_type": "stream",
          "name": "stderr",
          "text": [
            "\r 61%|██████    | 61/100 [07:43<06:30, 10.01s/it]"
          ]
        },
        {
          "output_type": "stream",
          "name": "stdout",
          "text": [
            "D\n",
            "1. 分析题干关键词：\n",
            "   - 上呼吸道感染\n",
            "   - 氨苄西林治疗无效\n",
            "   - 舒他西林（sultamicillin）有效\n",
            "   - 题目要求找出关于舒他西林结构和临床使用的错误说法\n",
            "\n",
            "2. 医学依据验证：\n",
            "   - 舒他西林是氨苄西林与舒巴坦（β-内酰胺酶抑制剂）通过双酯键连接的前药，口服后在肠道酯酶作用下水解为氨苄西林和舒巴坦。\n",
            "   - 舒巴坦本身抗菌活性较弱，主要作用是抑制β-内酰胺酶，保护氨苄西林不被水解。\n",
            "   - 舒他西林的抗菌效果优于单用氨苄西林，是因为舒巴坦增强了氨苄西林的稳定性，而非两者均有强抗菌活性。\n",
            "   - 口服吸收迅速完全，且对β-内酰胺酶的稳定性确实强于氨苄西林。\n",
            "\n",
            "3. 综合判断错误选项：\n",
            "   D选项错误（舒巴坦抗菌活性弱，主要作用是抑制β-内酰胺酶）\n",
            "\n",
            "4. 最终答案：\n",
            "D\n",
            "62\n"
          ]
        },
        {
          "output_type": "stream",
          "name": "stderr",
          "text": [
            "\r 62%|██████▏   | 62/100 [07:47<05:19,  8.40s/it]"
          ]
        },
        {
          "output_type": "stream",
          "name": "stdout",
          "text": [
            "E\n",
            "E:福莫特罗\n",
            "63\n"
          ]
        },
        {
          "output_type": "stream",
          "name": "stderr",
          "text": [
            "\r 63%|██████▎   | 63/100 [07:52<04:31,  7.33s/it]"
          ]
        },
        {
          "output_type": "stream",
          "name": "stdout",
          "text": [
            "A\n",
            "A:聚⼄⼆醇滴眼液\n",
            "64\n"
          ]
        },
        {
          "output_type": "stream",
          "name": "stderr",
          "text": [
            "\r 64%|██████▍   | 64/100 [07:57<04:01,  6.71s/it]"
          ]
        },
        {
          "output_type": "stream",
          "name": "stdout",
          "text": [
            "B\n",
            "B:治疗期间若发⽣⽪肤黏膜⼲燥，应减量或停药\n",
            "65\n"
          ]
        },
        {
          "output_type": "stream",
          "name": "stderr",
          "text": [
            "\r 65%|██████▌   | 65/100 [08:09<04:49,  8.28s/it]"
          ]
        },
        {
          "output_type": "stream",
          "name": "stdout",
          "text": [
            "C\n",
            "1. 分析题干关键词：维生素K拮抗剂、抗凝血药物  \n",
            "2. 医学依据验证：  \n",
            "   - 维生素K拮抗剂通过抑制维生素K依赖性凝血因子（Ⅱ、Ⅶ、Ⅸ、Ⅹ）的合成发挥抗凝作用。  \n",
            "   - **华法林**是经典维生素K拮抗剂，其他选项作用机制不同：  \n",
            "     - A（依诺肝素）：低分子肝素，抗Xa因子  \n",
            "     - B（氯吡格雷）：抗血小板药（P2Y12抑制剂）  \n",
            "     - D（利伐沙班）& E（达比加群酯）：直接口服抗凝药（分别抑制Xa因子和Ⅱa因子）  \n",
            "3. 最准确答案：**C**  \n",
            "\n",
            "最终选项：C\n",
            "66\n"
          ]
        },
        {
          "output_type": "stream",
          "name": "stderr",
          "text": [
            "\r 66%|██████▌   | 66/100 [08:24<05:47, 10.23s/it]"
          ]
        },
        {
          "output_type": "stream",
          "name": "stdout",
          "text": [
            "D\n",
            "为了准确回答这个问题，我将按照严谨的步骤进行分析：\n",
            "\n",
            "1. 分析题干关键词：\n",
            "- \"体外无活性\"：指药物在体外测试时不显示药理活性\n",
            "- \"体内水解开环\"：指药物进入体内后需要通过水解反应打开环状结构\n",
            "- \"发挥活性\"：指药物需要在体内转化后才能起效\n",
            "\n",
            "2. 医学依据验证：\n",
            "这类药物被称为\"前药\"(prodrug)，常见需要通过体内代谢激活的环状结构药物包括：\n",
            "- 奥司他韦（开环后才能抑制神经氨酸酶）\n",
            "- 环磷酰胺（需开环形成活性代谢物）\n",
            "- 头孢类抗生素中的某些前药（如头孢呋辛酯）\n",
            "\n",
            "3. 最可能正确的选项：\n",
            "根据药剂学知识，典型的例子是奥美拉唑（E选项），它属于质子泵抑制剂前药，需要在酸性环境中开环转化为活性形式。\n",
            "\n",
            "但由于题目未提供具体选项内容，基于专业判断，最常见且符合描述的案例是：\n",
            "\n",
            "E\n",
            "\n",
            "4. 最终答案：\n",
            "E\n",
            "67\n"
          ]
        },
        {
          "output_type": "stream",
          "name": "stderr",
          "text": [
            "\r 67%|██████▋   | 67/100 [08:30<04:53,  8.90s/it]"
          ]
        },
        {
          "output_type": "stream",
          "name": "stdout",
          "text": [
            "A\n",
            "A:美托洛尔会影响阿司匹林的抗⾎⼩板活性，应停⽤\n",
            "68\n"
          ]
        },
        {
          "output_type": "stream",
          "name": "stderr",
          "text": [
            "\r 68%|██████▊   | 68/100 [08:38<04:35,  8.62s/it]"
          ]
        },
        {
          "output_type": "stream",
          "name": "stdout",
          "text": [
            "A\n",
            "根据题干信息和处方药与非处方药分类管理规定，最准确的答案是：\n",
            "\n",
            "C:⼄建⽴处⽅药销售的处⽅管理制度，要求对售出的处⽅药处⽅进⾏抄录，处⽅原件返还消费者\n",
            "69\n"
          ]
        },
        {
          "output_type": "stream",
          "name": "stderr",
          "text": [
            "\r 69%|██████▉   | 69/100 [08:42<03:48,  7.37s/it]"
          ]
        },
        {
          "output_type": "stream",
          "name": "stdout",
          "text": [
            "D\n",
            "D:氯沙坦\n",
            "70\n"
          ]
        },
        {
          "output_type": "stream",
          "name": "stderr",
          "text": [
            "\r 70%|███████   | 70/100 [08:49<03:34,  7.14s/it]"
          ]
        },
        {
          "output_type": "stream",
          "name": "stdout",
          "text": [
            "A\n",
            "A:阿格列汀\n",
            "71\n"
          ]
        },
        {
          "output_type": "stream",
          "name": "stderr",
          "text": [
            "\r 71%|███████   | 71/100 [09:04<04:40,  9.66s/it]"
          ]
        },
        {
          "output_type": "stream",
          "name": "stdout",
          "text": [
            "C\n",
            "根据麻醉药品管理的相关规定和医学依据，对选项进行分析：\n",
            "\n",
            "1. **关键词识别**：题目要求识别\"麻醉药品\"，这类药物具有强效镇痛作用，但易产生依赖性，需严格管制（如阿片类、可卡因类等）。\n",
            "\n",
            "2. **选项验证**：\n",
            "   - **A. 氨酚待因片**：含对乙酰氨基酚和可待因，可待因属于**第二类精神药品**（非麻醉药品）。\n",
            "   - **B. 氨酚氢可酮片**：含氢可酮，但为复方制剂，氢可酮单方属于麻醉药品，复方制剂通常按**第二类精神药品**管理。\n",
            "   - **C. 氢可酮**：单方制剂为**麻醉药品**（列入我国《麻醉药品品种目录》）。\n",
            "   - **D. 氯胺酮**：属于**第一类精神药品**（麻醉用途时需特殊审批，但分类上不属于麻醉药品）。\n",
            "\n",
            "3. **最准确答案**：仅**氢可酮（C）**明确属于麻醉药品。\n",
            "\n",
            "最终答案：C\n",
            "72\n"
          ]
        },
        {
          "output_type": "stream",
          "name": "stderr",
          "text": [
            "\r 72%|███████▏  | 72/100 [09:14<04:28,  9.59s/it]"
          ]
        },
        {
          "output_type": "stream",
          "name": "stdout",
          "text": [
            "D\n",
            "根据题干要求分析各选项的合规性：\n",
            "\n",
            "**错误选项为 D**  \n",
            "依据《药品网络销售监督管理办法》及相关法规：  \n",
            "- A正确（含麻黄碱类复方制剂禁止网售）  \n",
            "- B正确（网络销售者需承担配送质量责任）  \n",
            "- C正确（第三方平台需履行审核管理义务）  \n",
            "- D错误（第二类精神药品、毒性中药饮片、蛋白同化制剂等严禁网络销售，无例外情形）  \n",
            "\n",
            "最终答案：D\n",
            "73\n"
          ]
        },
        {
          "output_type": "stream",
          "name": "stderr",
          "text": [
            "\r 73%|███████▎  | 73/100 [09:23<04:14,  9.44s/it]"
          ]
        },
        {
          "output_type": "stream",
          "name": "stdout",
          "text": [
            "E\n",
            "分析题干关键词：阿昔洛韦、适应证、不属于  \n",
            "调用检索工具验证医学依据：阿昔洛韦是抗病毒药物，主要用于治疗疱疹病毒感染，包括单纯疱疹（A）、带状疱疹（B）、免疫缺陷者水痘（C）和病毒性急性视网膜坏死（D）。乙型流感（E）由流感病毒引起，不属于疱疹病毒，阿昔洛韦对其无效。  \n",
            "综合所有信息选择最准确的答案：E  \n",
            "\n",
            "E:⼄型流感\n",
            "74\n"
          ]
        },
        {
          "output_type": "stream",
          "name": "stderr",
          "text": [
            "\r 74%|███████▍  | 74/100 [09:31<03:52,  8.93s/it]"
          ]
        },
        {
          "output_type": "stream",
          "name": "stdout",
          "text": [
            "B\n",
            "根据《处方管理办法》对门诊一般患者开具抗菌药物的规定，头孢克洛缓释片属于抗生素，处方量应控制在7日常用量内。因此正确答案是：\n",
            "\n",
            "B:不得超过7日常用量\n",
            "75\n"
          ]
        },
        {
          "output_type": "stream",
          "name": "stderr",
          "text": [
            "\r 75%|███████▌  | 75/100 [09:35<03:10,  7.63s/it]"
          ]
        },
        {
          "output_type": "stream",
          "name": "stdout",
          "text": [
            "C\n",
            "C:尿激酶\n",
            "76\n"
          ]
        },
        {
          "output_type": "stream",
          "name": "stderr",
          "text": [
            "\r 76%|███████▌  | 76/100 [09:48<03:39,  9.15s/it]"
          ]
        },
        {
          "output_type": "stream",
          "name": "stdout",
          "text": [
            "ACE\n",
            "1. 分析题干关键词：胃食管反流病、含铝抗酸药、用药教育  \n",
            "2. 调用检索工具验证医学依据：  \n",
            "   - 含铝抗酸药长期使用可能导致铝蓄积，干扰磷吸收，引发低磷血症（A正确）。  \n",
            "   - 含铝抗酸药常见不良反应为便秘，而非腹泻（B错误）。  \n",
            "   - 抗酸药可中和胃酸快速缓解症状，但无黏膜修复作用，对溃疡愈合无效（C正确）。  \n",
            "   - 含铝抗酸药与心血管事件无明确关联（D错误）。  \n",
            "   - 铝离子易与其他药物（如喹诺酮类、四环素类）络合，需间隔2小时服用（E正确）。  \n",
            "3. 综合信息：A、C、E为正确选项。  \n",
            "\n",
            "最终选项：A, C, E\n",
            "77\n"
          ]
        },
        {
          "output_type": "stream",
          "name": "stderr",
          "text": [
            "\r 77%|███████▋  | 77/100 [09:56<03:22,  8.81s/it]"
          ]
        },
        {
          "output_type": "stream",
          "name": "stdout",
          "text": [
            "A\n",
            "根据题干关键词“执业药师考前培训、继续教育”及《国家药品监督管理局职能配置、内设机构和人员编制规定》相关规定，经检索验证：\n",
            "\n",
            "**正确答案：A:国家药品监督管理局高级研修学院**  \n",
            "（注：该机构具体承担执业药师继续教育管理及培训工作，而执业药师资格认证中心主要负责考试考务及注册管理。）\n",
            "78\n"
          ]
        },
        {
          "output_type": "stream",
          "name": "stderr",
          "text": [
            "\r 78%|███████▊  | 78/100 [10:00<02:43,  7.45s/it]"
          ]
        },
        {
          "output_type": "stream",
          "name": "stdout",
          "text": [
            "C\n",
            "C:氯吡格雷\n",
            "79\n"
          ]
        },
        {
          "output_type": "stream",
          "name": "stderr",
          "text": [
            "\r 79%|███████▉  | 79/100 [10:15<03:23,  9.68s/it]"
          ]
        },
        {
          "output_type": "stream",
          "name": "stdout",
          "text": [
            "A\n",
            "1. 分析题干关键词：\n",
            "   - 症状：足趾间皮肤瘙痒、水泡样皮疹\n",
            "   - 可能的诊断：足癣（真菌感染）\n",
            "\n",
            "2. 医学依据验证：\n",
            "   - 足趾间瘙痒和水泡样皮疹是真菌感染（如足癣）的典型表现。\n",
            "   - 治疗足癣首选外用抗真菌药物。\n",
            "\n",
            "3. 选项分析：\n",
            "   - A: 酮康唑乳膏（外用抗真菌药，适用于足癣）\n",
            "   - B: 甲硝唑栓（抗厌氧菌/原虫药，用于阴道感染，不适用）\n",
            "   - C: 雌三醇乳膏（雌激素制剂，用于萎缩性阴道炎，不适用）\n",
            "   - D: 硝酸咪康唑栓（阴道抗真菌栓剂，不适用于足部）\n",
            "   - E: 氯康唑胶囊（全身用抗真菌药，非首选）\n",
            "\n",
            "4. 最准确答案：\n",
            "   - 酮康唑乳膏是直接针对足部真菌感染的外用药物。\n",
            "\n",
            "A:酮康唑乳膏\n",
            "80\n"
          ]
        },
        {
          "output_type": "stream",
          "name": "stderr",
          "text": [
            "\r 80%|████████  | 80/100 [10:22<02:57,  8.90s/it]"
          ]
        },
        {
          "output_type": "stream",
          "name": "stdout",
          "text": [
            "BCE\n",
            "B:必须补充⾜量的钙剂和维⽣素D\n",
            "C:对蛋⽩质过敏者，使⽤前需做⽪肤敏感试验\n",
            "E:常出现⾯部潮红的不良反应\n",
            "81\n"
          ]
        },
        {
          "output_type": "stream",
          "name": "stderr",
          "text": [
            "\r 81%|████████  | 81/100 [10:27<02:25,  7.67s/it]"
          ]
        },
        {
          "output_type": "stream",
          "name": "stdout",
          "text": [
            "D\n",
            "D:多柔⽐星\n",
            "82\n"
          ]
        },
        {
          "output_type": "stream",
          "name": "stderr",
          "text": [
            "\r 82%|████████▏ | 82/100 [10:33<02:11,  7.31s/it]"
          ]
        },
        {
          "output_type": "stream",
          "name": "stdout",
          "text": [
            "A\n",
            "A:呋麻滴鼻液\n",
            "83\n"
          ]
        },
        {
          "output_type": "stream",
          "name": "stderr",
          "text": [
            "\r 83%|████████▎ | 83/100 [10:38<01:49,  6.47s/it]"
          ]
        },
        {
          "output_type": "stream",
          "name": "stdout",
          "text": [
            "A\n",
            "A:复⽅炔诺酮\n",
            "84\n"
          ]
        },
        {
          "output_type": "stream",
          "name": "stderr",
          "text": [
            "\r 84%|████████▍ | 84/100 [10:47<01:55,  7.22s/it]"
          ]
        },
        {
          "output_type": "stream",
          "name": "stdout",
          "text": [
            "C\n",
            "C:C级\n",
            "85\n"
          ]
        },
        {
          "output_type": "stream",
          "name": "stderr",
          "text": [
            "\r 85%|████████▌ | 85/100 [10:56<01:55,  7.68s/it]"
          ]
        },
        {
          "output_type": "stream",
          "name": "stdout",
          "text": [
            "B\n",
            "根据疫苗流通管理相关规定，错误的说法是：\n",
            "\n",
            "D:疾病预防控制机构、接种单位应当建⽴疫苗定期检查制度\n",
            "\n",
            "（注：正确表述应为\"疫苗定期检查制度\"由疫苗上市许可持有人建立，疾病预防控制机构和接种单位需建立的是\"疫苗接收、储存等环节的核查制度\"。其他选项A、B、C均符合《疫苗管理法》第二十八条、第三十二条、第三十六条等条款规定）\n",
            "86\n"
          ]
        },
        {
          "output_type": "stream",
          "name": "stderr",
          "text": [
            "\r 86%|████████▌ | 86/100 [11:13<02:27, 10.55s/it]"
          ]
        },
        {
          "output_type": "stream",
          "name": "stdout",
          "text": [
            "C\n",
            "根据《中医药法》相关规定，综合分析如下：\n",
            "\n",
            "1. **关键词分析**：秦某作为中医学硕士，返乡种植中药材并服务村民，需明确法律对\"自种自用中药材\"的许可范围，尤其是村医在诊所使用或加工自制中药制剂的合法性。\n",
            "\n",
            "2. **医学/法律依据**：\n",
            "   - 《中医药法》第二十六条明确：在村医疗机构执业的中医医师、具备中药材知识和识别能力的乡村医生，可**自种、自采地产中药材**用于临床服务。\n",
            "   - **允许加工制剂**：根据同条款，此类人员可**将自种中药材加工成中药制剂**，但仅限自用（如村民治病），不得上市销售。\n",
            "   - **禁止事项**：毒性中药材（如选项D）的种植使用需特殊许可；直接销售原药材（选项A）需药品经营资质；煎汤药（选项C）属于常规诊疗行为，非种植相关法规重点。\n",
            "\n",
            "3. **最准确答案**：  \n",
            "   **B**（将自产中药材加工成中药制剂方便村民使用）直接符合《中医药法》对乡村医生自种自用中药材的特别规定。\n",
            "\n",
            "最终选项：B\n",
            "87\n"
          ]
        },
        {
          "output_type": "stream",
          "name": "stderr",
          "text": [
            "\r 87%|████████▋ | 87/100 [11:27<02:31, 11.65s/it]"
          ]
        },
        {
          "output_type": "stream",
          "name": "stdout",
          "text": [
            "C\n",
            "# 分析题干关键词\n",
            "题干关键词包括：生物等效性研究、样品采集、受试制剂、参比制剂、AUC、消除半衰期、空腹时间等。\n",
            "\n",
            "# 调用检索工具验证医学依据\n",
            "根据生物等效性研究的相关指南和规范：\n",
            "1. 通常采用受试制剂和参比制剂的单个最高规格制剂进行试验，而非最低规格（A错误）。\n",
            "2. AUC0-t/AUC0-∞比值通常应≥80%，而非70%（B错误）。\n",
            "3. 采样时间应不少于3个末端消除半衰期（C正确）。\n",
            "4. 制剂含量差值要求一般为5%以内，而非2%（D错误）。\n",
            "5. 受试者试验前应至少空腹8小时（E正确）。\n",
            "\n",
            "# 综合所有信息选择最准确的答案\n",
            "最准确的选项是C和E，但题目要求选择一个最正确的答案。\n",
            "\n",
            "# 用中文输出最终选项\n",
            "E:⼀般情况下，受试者试验前�少空腹8⼩时\n",
            "88\n"
          ]
        },
        {
          "output_type": "stream",
          "name": "stderr",
          "text": [
            "\r 88%|████████▊ | 88/100 [11:33<01:57,  9.83s/it]"
          ]
        },
        {
          "output_type": "stream",
          "name": "stdout",
          "text": [
            "B\n",
            "根据题干分析和医学依据验证，最准确的答案如下：\n",
            "\n",
            "B:神经氨酸酶抑制剂\n",
            "89\n"
          ]
        },
        {
          "output_type": "stream",
          "name": "stderr",
          "text": [
            "\r 89%|████████▉ | 89/100 [11:38<01:33,  8.51s/it]"
          ]
        },
        {
          "output_type": "stream",
          "name": "stdout",
          "text": [
            "ACDE\n",
            "A:亚胺培南  \n",
            "C:美罗培南  \n",
            "D:厄他培南  \n",
            "E:比阿培南\n",
            "90\n"
          ]
        },
        {
          "output_type": "stream",
          "name": "stderr",
          "text": [
            "\r 90%|█████████ | 90/100 [11:43<01:13,  7.39s/it]"
          ]
        },
        {
          "output_type": "stream",
          "name": "stdout",
          "text": [
            "D\n",
            "D:⼆甲双胍\n",
            "91\n"
          ]
        },
        {
          "output_type": "stream",
          "name": "stderr",
          "text": [
            "\r 91%|█████████ | 91/100 [11:48<00:59,  6.58s/it]"
          ]
        },
        {
          "output_type": "stream",
          "name": "stdout",
          "text": [
            "B\n",
            "B:肾损害\n",
            "92\n"
          ]
        },
        {
          "output_type": "stream",
          "name": "stderr",
          "text": [
            "\r 92%|█████████▏| 92/100 [11:53<00:48,  6.08s/it]"
          ]
        },
        {
          "output_type": "stream",
          "name": "stdout",
          "text": [
            "B\n",
            "B:罗格列酮\n",
            "93\n"
          ]
        },
        {
          "output_type": "stream",
          "name": "stderr",
          "text": [
            "\r 93%|█████████▎| 93/100 [12:00<00:46,  6.58s/it]"
          ]
        },
        {
          "output_type": "stream",
          "name": "stdout",
          "text": [
            "A\n",
            "根据《药品经营质量管理规范》及其相关附录文件，温湿度自动监测系统的特有验证项目主要涉及系统本身的安装、数据传输和功能验证。选项B“测点终端参数与数据联动传输确认”是温湿度自动监测系统特有的验证项目，因为它直接关系到系统能否准确、实时地监测和传输温湿度数据。\n",
            "\n",
            "最终选项：B\n",
            "94\n"
          ]
        },
        {
          "output_type": "stream",
          "name": "stderr",
          "text": [
            "\r 94%|█████████▍| 94/100 [12:12<00:49,  8.19s/it]"
          ]
        },
        {
          "output_type": "stream",
          "name": "stdout",
          "text": [
            "E\n",
            "分析题干关键词：\n",
            "1. 长期应用广谱抗生素\n",
            "2. 二重感染\n",
            "3. 不良反应类型\n",
            "\n",
            "医学依据验证：\n",
            "二重感染是长期使用广谱抗生素后，敏感菌群被抑制，不敏感菌群（如真菌或耐药菌）过度繁殖导致的新感染。这属于药物治疗作用间接引发的额外不良后果，符合\"继发反应\"的定义（药物发挥治疗作用时诱发的非目标性效应）。\n",
            "\n",
            "排除其他选项：\n",
            "A-特异质反应：与遗传异常相关\n",
            "B-停药反应：突然停药后原有症状加重\n",
            "C-后遗效应：停药后血药浓度已降至阈浓度以下时残存的效应\n",
            "D-毒性反应：药物直接对组织器官造成的损害\n",
            "\n",
            "最准确的答案：\n",
            "E:继发反应\n",
            "95\n"
          ]
        },
        {
          "output_type": "stream",
          "name": "stderr",
          "text": [
            "\r 95%|█████████▌| 95/100 [12:18<00:36,  7.36s/it]"
          ]
        },
        {
          "output_type": "stream",
          "name": "stdout",
          "text": [
            "C\n",
            "C:厄洛替尼\n",
            "96\n"
          ]
        },
        {
          "output_type": "stream",
          "name": "stderr",
          "text": [
            "\r 96%|█████████▌| 96/100 [12:22<00:26,  6.59s/it]"
          ]
        },
        {
          "output_type": "stream",
          "name": "stdout",
          "text": [
            "A\n",
            "A:头孢曲松\n",
            "97\n"
          ]
        },
        {
          "output_type": "stream",
          "name": "stderr",
          "text": [
            "\r 97%|█████████▋| 97/100 [12:28<00:18,  6.15s/it]"
          ]
        },
        {
          "output_type": "stream",
          "name": "stdout",
          "text": [
            "B\n",
            "B:硫酸阿托品眼⽤凝胶\n",
            "98\n"
          ]
        },
        {
          "output_type": "stream",
          "name": "stderr",
          "text": [
            "\r 98%|█████████▊| 98/100 [12:32<00:11,  5.56s/it]"
          ]
        },
        {
          "output_type": "stream",
          "name": "stdout",
          "text": [
            "B\n",
            "A:国家医疗保障局\n",
            "99\n"
          ]
        },
        {
          "output_type": "stream",
          "name": "stderr",
          "text": [
            "\r 99%|█████████▉| 99/100 [12:38<00:05,  5.72s/it]"
          ]
        },
        {
          "output_type": "stream",
          "name": "stdout",
          "text": [
            "B\n",
            "B:简单扩散\n",
            "100\n"
          ]
        },
        {
          "output_type": "stream",
          "name": "stderr",
          "text": [
            "100%|██████████| 100/100 [12:43<00:00,  7.63s/it]"
          ]
        },
        {
          "output_type": "stream",
          "name": "stdout",
          "text": [
            "E\n",
            "E:碳酸氢钠\n",
            "模型准确率: 79.00%\n"
          ]
        },
        {
          "output_type": "stream",
          "name": "stderr",
          "text": [
            "\n"
          ]
        }
      ]
    }
  ]
}