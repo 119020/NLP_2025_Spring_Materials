{
  "nbformat": 4,
  "nbformat_minor": 0,
  "metadata": {
    "colab": {
      "provenance": [],
      "toc_visible": true,
      "gpuType": "T4",
      "include_colab_link": true
    },
    "kernelspec": {
      "name": "python3",
      "display_name": "Python 3"
    },
    "accelerator": "GPU"
  },
  "cells": [
    {
      "cell_type": "markdown",
      "metadata": {
        "id": "view-in-github",
        "colab_type": "text"
      },
      "source": [
        "<a href=\"https://colab.research.google.com/github/119020/NLP_2025_Spring_Materials/blob/main/CUHK_RA_TASK/NLP_Task_1_0331.ipynb\" target=\"_parent\"><img src=\"https://colab.research.google.com/assets/colab-badge.svg\" alt=\"Open In Colab\"/></a>"
      ]
    },
    {
      "cell_type": "markdown",
      "source": [
        "\n",
        "# Task 1: Topic Model\n",
        "**CUHK RA Recruitment:** Technical Task Sheet\n",
        "for Prof. Ling Cen (2025)\n",
        "\n",
        "\n",
        "\n"
      ],
      "metadata": {
        "id": "9yFFKuDZB_ow"
      }
    },
    {
      "cell_type": "markdown",
      "source": [
        "*Please enter your personal information (make sure you have copied this colab)*\n",
        "\n",
        "**Name**: 匡博文 KUANG, Bowen\n",
        "\n",
        "**Institution**: The Chinese University of Hong Kong, Shenzhen\n",
        "\n",
        "**Student ID**: 119020237\n",
        "\n",
        "\n",
        "\n",
        "\n"
      ],
      "metadata": {
        "id": "Y_qFy6J9EgJe"
      }
    },
    {
      "cell_type": "code",
      "source": [],
      "metadata": {
        "id": "AbC_Md4Gicaz"
      },
      "execution_count": null,
      "outputs": []
    },
    {
      "cell_type": "markdown",
      "source": [
        "1. **Make a copy of the provided Google Colab file.**  \n",
        "   First, you need to make a copy of the provided file into your own Google Drive. To accomplish this, open the Colab file link, navigate to `File` → `Save a copy in Drive`.\n",
        "\n",
        "2. **Execute the notebook to generate results.**  \n",
        "   You can click on \"Connect to GPU\" to apply for a free T4 GPU. Then, you can press the large play button to run a code cell.\n",
        "\n",
        "For more detailed instructions, refer to [Working with Google Colab](https://docs.google.com/document/d/1vMe8kC-oSyP3w7rIurDbG3NqfyQw7sZJ2C_S2ngtQnk/edit?usp=sharing)."
      ],
      "metadata": {
        "id": "nQDMk5Uu1niv"
      }
    },
    {
      "cell_type": "code",
      "source": [
        "import json\n",
        "import pandas as pd\n",
        "from sentence_transformers import SentenceTransformer\n",
        "\n",
        "# 可选：启用OpenMP并行（需安装）\n",
        "import os\n",
        "os.environ[\"OMP_NUM_THREADS\"] = \"4\"  # 设为CPU物理核心数\n",
        "\n",
        "!wget -O content_samples.jl -qq --no-check-certificate \"https://drive.usercontent.google.com/u/0/uc?id=1s_k8Gs7ZqYuRgGYPSlgUUN27G32zeKc-&export=download\""
      ],
      "metadata": {
        "id": "K7swzsxrkszH"
      },
      "execution_count": 7,
      "outputs": []
    },
    {
      "cell_type": "code",
      "source": [
        "# 读取数据\n",
        "data = []\n",
        "with open('content_samples.jl', 'r') as f:\n",
        "    for line in f:\n",
        "        sample = json.loads(line)\n",
        "        content = sample.get('Content', '')\n",
        "        Time = sample.get('time', '')\n",
        "        year = int(Time.split('-')[0]) if Time else None\n",
        "        name = sample.get('Name', '')\n",
        "        data.append({'content': content, 'year': year, 'name': name})\n",
        "\n",
        "df = pd.DataFrame(data)\n",
        "df\n",
        "#df = df.sample(frac=0.02, random_state=42)# 0.02*112425"
      ],
      "metadata": {
        "colab": {
          "base_uri": "https://localhost:8080/",
          "height": 848
        },
        "id": "YHN-osiXkwRq",
        "outputId": "f253f2a8-b03c-48bd-95e5-369f466519f3"
      },
      "execution_count": 8,
      "outputs": [
        {
          "output_type": "execute_result",
          "data": {
            "text/plain": [
              "                                                  content  year  \\\n",
              "0        Karen, the turnover rates or retention rates ...  2001   \n",
              "1        It is safe to say that they declined fairly s...  2001   \n",
              "2        We don't forecast, we order, all right, and s...  2001   \n",
              "3        Okay next for John. John on the MPLD product ...  2001   \n",
              "4        Since a very small amount of dollars that are...  2001   \n",
              "...                                                   ...   ...   \n",
              "112420   And does that -- how do you see the market ch...  2003   \n",
              "112421   Yes, I wanted to get some direction as to whe...  2003   \n",
              "112422   If you did something with that, could you sor...  2003   \n",
              "112423    Real quick, given first quarter FFO, and som...  2004   \n",
              "112424                                               Yes.  2004   \n",
              "\n",
              "                      name  \n",
              "0       THOMAS B. GOLISANO  \n",
              "1         NATHAN SARKISIAN  \n",
              "2               JOHN DAANE  \n",
              "3                TIM MAHON  \n",
              "4           KENDA GONZALEZ  \n",
              "...                    ...  \n",
              "112420          Thad Piper  \n",
              "112421          Rizwan Ali  \n",
              "112422      Michael Fuller  \n",
              "112423        Mike Mueller  \n",
              "112424           Jay Leupp  \n",
              "\n",
              "[112425 rows x 3 columns]"
            ],
            "text/html": [
              "\n",
              "  <div id=\"df-c27dc169-8ffb-4efe-96aa-6dc9dfdaadfb\" class=\"colab-df-container\">\n",
              "    <div>\n",
              "<style scoped>\n",
              "    .dataframe tbody tr th:only-of-type {\n",
              "        vertical-align: middle;\n",
              "    }\n",
              "\n",
              "    .dataframe tbody tr th {\n",
              "        vertical-align: top;\n",
              "    }\n",
              "\n",
              "    .dataframe thead th {\n",
              "        text-align: right;\n",
              "    }\n",
              "</style>\n",
              "<table border=\"1\" class=\"dataframe\">\n",
              "  <thead>\n",
              "    <tr style=\"text-align: right;\">\n",
              "      <th></th>\n",
              "      <th>content</th>\n",
              "      <th>year</th>\n",
              "      <th>name</th>\n",
              "    </tr>\n",
              "  </thead>\n",
              "  <tbody>\n",
              "    <tr>\n",
              "      <th>0</th>\n",
              "      <td>Karen, the turnover rates or retention rates ...</td>\n",
              "      <td>2001</td>\n",
              "      <td>THOMAS B. GOLISANO</td>\n",
              "    </tr>\n",
              "    <tr>\n",
              "      <th>1</th>\n",
              "      <td>It is safe to say that they declined fairly s...</td>\n",
              "      <td>2001</td>\n",
              "      <td>NATHAN SARKISIAN</td>\n",
              "    </tr>\n",
              "    <tr>\n",
              "      <th>2</th>\n",
              "      <td>We don't forecast, we order, all right, and s...</td>\n",
              "      <td>2001</td>\n",
              "      <td>JOHN DAANE</td>\n",
              "    </tr>\n",
              "    <tr>\n",
              "      <th>3</th>\n",
              "      <td>Okay next for John. John on the MPLD product ...</td>\n",
              "      <td>2001</td>\n",
              "      <td>TIM MAHON</td>\n",
              "    </tr>\n",
              "    <tr>\n",
              "      <th>4</th>\n",
              "      <td>Since a very small amount of dollars that are...</td>\n",
              "      <td>2001</td>\n",
              "      <td>KENDA GONZALEZ</td>\n",
              "    </tr>\n",
              "    <tr>\n",
              "      <th>...</th>\n",
              "      <td>...</td>\n",
              "      <td>...</td>\n",
              "      <td>...</td>\n",
              "    </tr>\n",
              "    <tr>\n",
              "      <th>112420</th>\n",
              "      <td>And does that -- how do you see the market ch...</td>\n",
              "      <td>2003</td>\n",
              "      <td>Thad Piper</td>\n",
              "    </tr>\n",
              "    <tr>\n",
              "      <th>112421</th>\n",
              "      <td>Yes, I wanted to get some direction as to whe...</td>\n",
              "      <td>2003</td>\n",
              "      <td>Rizwan Ali</td>\n",
              "    </tr>\n",
              "    <tr>\n",
              "      <th>112422</th>\n",
              "      <td>If you did something with that, could you sor...</td>\n",
              "      <td>2003</td>\n",
              "      <td>Michael Fuller</td>\n",
              "    </tr>\n",
              "    <tr>\n",
              "      <th>112423</th>\n",
              "      <td>Real quick, given first quarter FFO, and som...</td>\n",
              "      <td>2004</td>\n",
              "      <td>Mike Mueller</td>\n",
              "    </tr>\n",
              "    <tr>\n",
              "      <th>112424</th>\n",
              "      <td>Yes.</td>\n",
              "      <td>2004</td>\n",
              "      <td>Jay Leupp</td>\n",
              "    </tr>\n",
              "  </tbody>\n",
              "</table>\n",
              "<p>112425 rows × 3 columns</p>\n",
              "</div>\n",
              "    <div class=\"colab-df-buttons\">\n",
              "\n",
              "  <div class=\"colab-df-container\">\n",
              "    <button class=\"colab-df-convert\" onclick=\"convertToInteractive('df-c27dc169-8ffb-4efe-96aa-6dc9dfdaadfb')\"\n",
              "            title=\"Convert this dataframe to an interactive table.\"\n",
              "            style=\"display:none;\">\n",
              "\n",
              "  <svg xmlns=\"http://www.w3.org/2000/svg\" height=\"24px\" viewBox=\"0 -960 960 960\">\n",
              "    <path d=\"M120-120v-720h720v720H120Zm60-500h600v-160H180v160Zm220 220h160v-160H400v160Zm0 220h160v-160H400v160ZM180-400h160v-160H180v160Zm440 0h160v-160H620v160ZM180-180h160v-160H180v160Zm440 0h160v-160H620v160Z\"/>\n",
              "  </svg>\n",
              "    </button>\n",
              "\n",
              "  <style>\n",
              "    .colab-df-container {\n",
              "      display:flex;\n",
              "      gap: 12px;\n",
              "    }\n",
              "\n",
              "    .colab-df-convert {\n",
              "      background-color: #E8F0FE;\n",
              "      border: none;\n",
              "      border-radius: 50%;\n",
              "      cursor: pointer;\n",
              "      display: none;\n",
              "      fill: #1967D2;\n",
              "      height: 32px;\n",
              "      padding: 0 0 0 0;\n",
              "      width: 32px;\n",
              "    }\n",
              "\n",
              "    .colab-df-convert:hover {\n",
              "      background-color: #E2EBFA;\n",
              "      box-shadow: 0px 1px 2px rgba(60, 64, 67, 0.3), 0px 1px 3px 1px rgba(60, 64, 67, 0.15);\n",
              "      fill: #174EA6;\n",
              "    }\n",
              "\n",
              "    .colab-df-buttons div {\n",
              "      margin-bottom: 4px;\n",
              "    }\n",
              "\n",
              "    [theme=dark] .colab-df-convert {\n",
              "      background-color: #3B4455;\n",
              "      fill: #D2E3FC;\n",
              "    }\n",
              "\n",
              "    [theme=dark] .colab-df-convert:hover {\n",
              "      background-color: #434B5C;\n",
              "      box-shadow: 0px 1px 3px 1px rgba(0, 0, 0, 0.15);\n",
              "      filter: drop-shadow(0px 1px 2px rgba(0, 0, 0, 0.3));\n",
              "      fill: #FFFFFF;\n",
              "    }\n",
              "  </style>\n",
              "\n",
              "    <script>\n",
              "      const buttonEl =\n",
              "        document.querySelector('#df-c27dc169-8ffb-4efe-96aa-6dc9dfdaadfb button.colab-df-convert');\n",
              "      buttonEl.style.display =\n",
              "        google.colab.kernel.accessAllowed ? 'block' : 'none';\n",
              "\n",
              "      async function convertToInteractive(key) {\n",
              "        const element = document.querySelector('#df-c27dc169-8ffb-4efe-96aa-6dc9dfdaadfb');\n",
              "        const dataTable =\n",
              "          await google.colab.kernel.invokeFunction('convertToInteractive',\n",
              "                                                    [key], {});\n",
              "        if (!dataTable) return;\n",
              "\n",
              "        const docLinkHtml = 'Like what you see? Visit the ' +\n",
              "          '<a target=\"_blank\" href=https://colab.research.google.com/notebooks/data_table.ipynb>data table notebook</a>'\n",
              "          + ' to learn more about interactive tables.';\n",
              "        element.innerHTML = '';\n",
              "        dataTable['output_type'] = 'display_data';\n",
              "        await google.colab.output.renderOutput(dataTable, element);\n",
              "        const docLink = document.createElement('div');\n",
              "        docLink.innerHTML = docLinkHtml;\n",
              "        element.appendChild(docLink);\n",
              "      }\n",
              "    </script>\n",
              "  </div>\n",
              "\n",
              "\n",
              "<div id=\"df-208618bd-5229-4564-bafc-4944d01ece65\">\n",
              "  <button class=\"colab-df-quickchart\" onclick=\"quickchart('df-208618bd-5229-4564-bafc-4944d01ece65')\"\n",
              "            title=\"Suggest charts\"\n",
              "            style=\"display:none;\">\n",
              "\n",
              "<svg xmlns=\"http://www.w3.org/2000/svg\" height=\"24px\"viewBox=\"0 0 24 24\"\n",
              "     width=\"24px\">\n",
              "    <g>\n",
              "        <path d=\"M19 3H5c-1.1 0-2 .9-2 2v14c0 1.1.9 2 2 2h14c1.1 0 2-.9 2-2V5c0-1.1-.9-2-2-2zM9 17H7v-7h2v7zm4 0h-2V7h2v10zm4 0h-2v-4h2v4z\"/>\n",
              "    </g>\n",
              "</svg>\n",
              "  </button>\n",
              "\n",
              "<style>\n",
              "  .colab-df-quickchart {\n",
              "      --bg-color: #E8F0FE;\n",
              "      --fill-color: #1967D2;\n",
              "      --hover-bg-color: #E2EBFA;\n",
              "      --hover-fill-color: #174EA6;\n",
              "      --disabled-fill-color: #AAA;\n",
              "      --disabled-bg-color: #DDD;\n",
              "  }\n",
              "\n",
              "  [theme=dark] .colab-df-quickchart {\n",
              "      --bg-color: #3B4455;\n",
              "      --fill-color: #D2E3FC;\n",
              "      --hover-bg-color: #434B5C;\n",
              "      --hover-fill-color: #FFFFFF;\n",
              "      --disabled-bg-color: #3B4455;\n",
              "      --disabled-fill-color: #666;\n",
              "  }\n",
              "\n",
              "  .colab-df-quickchart {\n",
              "    background-color: var(--bg-color);\n",
              "    border: none;\n",
              "    border-radius: 50%;\n",
              "    cursor: pointer;\n",
              "    display: none;\n",
              "    fill: var(--fill-color);\n",
              "    height: 32px;\n",
              "    padding: 0;\n",
              "    width: 32px;\n",
              "  }\n",
              "\n",
              "  .colab-df-quickchart:hover {\n",
              "    background-color: var(--hover-bg-color);\n",
              "    box-shadow: 0 1px 2px rgba(60, 64, 67, 0.3), 0 1px 3px 1px rgba(60, 64, 67, 0.15);\n",
              "    fill: var(--button-hover-fill-color);\n",
              "  }\n",
              "\n",
              "  .colab-df-quickchart-complete:disabled,\n",
              "  .colab-df-quickchart-complete:disabled:hover {\n",
              "    background-color: var(--disabled-bg-color);\n",
              "    fill: var(--disabled-fill-color);\n",
              "    box-shadow: none;\n",
              "  }\n",
              "\n",
              "  .colab-df-spinner {\n",
              "    border: 2px solid var(--fill-color);\n",
              "    border-color: transparent;\n",
              "    border-bottom-color: var(--fill-color);\n",
              "    animation:\n",
              "      spin 1s steps(1) infinite;\n",
              "  }\n",
              "\n",
              "  @keyframes spin {\n",
              "    0% {\n",
              "      border-color: transparent;\n",
              "      border-bottom-color: var(--fill-color);\n",
              "      border-left-color: var(--fill-color);\n",
              "    }\n",
              "    20% {\n",
              "      border-color: transparent;\n",
              "      border-left-color: var(--fill-color);\n",
              "      border-top-color: var(--fill-color);\n",
              "    }\n",
              "    30% {\n",
              "      border-color: transparent;\n",
              "      border-left-color: var(--fill-color);\n",
              "      border-top-color: var(--fill-color);\n",
              "      border-right-color: var(--fill-color);\n",
              "    }\n",
              "    40% {\n",
              "      border-color: transparent;\n",
              "      border-right-color: var(--fill-color);\n",
              "      border-top-color: var(--fill-color);\n",
              "    }\n",
              "    60% {\n",
              "      border-color: transparent;\n",
              "      border-right-color: var(--fill-color);\n",
              "    }\n",
              "    80% {\n",
              "      border-color: transparent;\n",
              "      border-right-color: var(--fill-color);\n",
              "      border-bottom-color: var(--fill-color);\n",
              "    }\n",
              "    90% {\n",
              "      border-color: transparent;\n",
              "      border-bottom-color: var(--fill-color);\n",
              "    }\n",
              "  }\n",
              "</style>\n",
              "\n",
              "  <script>\n",
              "    async function quickchart(key) {\n",
              "      const quickchartButtonEl =\n",
              "        document.querySelector('#' + key + ' button');\n",
              "      quickchartButtonEl.disabled = true;  // To prevent multiple clicks.\n",
              "      quickchartButtonEl.classList.add('colab-df-spinner');\n",
              "      try {\n",
              "        const charts = await google.colab.kernel.invokeFunction(\n",
              "            'suggestCharts', [key], {});\n",
              "      } catch (error) {\n",
              "        console.error('Error during call to suggestCharts:', error);\n",
              "      }\n",
              "      quickchartButtonEl.classList.remove('colab-df-spinner');\n",
              "      quickchartButtonEl.classList.add('colab-df-quickchart-complete');\n",
              "    }\n",
              "    (() => {\n",
              "      let quickchartButtonEl =\n",
              "        document.querySelector('#df-208618bd-5229-4564-bafc-4944d01ece65 button');\n",
              "      quickchartButtonEl.style.display =\n",
              "        google.colab.kernel.accessAllowed ? 'block' : 'none';\n",
              "    })();\n",
              "  </script>\n",
              "</div>\n",
              "    </div>\n",
              "  </div>\n"
            ],
            "application/vnd.google.colaboratory.intrinsic+json": {
              "type": "dataframe",
              "variable_name": "df"
            }
          },
          "metadata": {},
          "execution_count": 8
        },
        {
          "output_type": "display_data",
          "data": {
            "text/plain": [
              "<google.colab._quickchart_helpers.SectionTitle at 0x7a6e04e73910>"
            ],
            "text/html": [
              "<h4 class=\"colab-quickchart-section-title\">Distributions</h4>\n",
              "<style>\n",
              "  .colab-quickchart-section-title {\n",
              "      clear: both;\n",
              "  }\n",
              "</style>"
            ]
          },
          "metadata": {}
        },
        {
          "output_type": "display_data",
          "data": {
            "text/plain": [
              "from matplotlib import pyplot as plt\n",
              "df['year'].plot(kind='hist', bins=20, title='year')\n",
              "plt.gca().spines[['top', 'right',]].set_visible(False)"
            ],
            "text/html": [
              "      <div class=\"colab-quickchart-chart-with-code\" id=\"chart-aa5e4c71-ddb0-48ce-b487-6f73cb0402eb\">\n",
              "        <img style=\"width: 180px;\" src=\"data:image/png;base64,iVBORw0KGgoAAAANSUhEUgAAAjwAAAGrCAYAAADEhE38AAAAOnRFWHRTb2Z0d2FyZQBNYXRwbG90\n",
              "bGliIHZlcnNpb24zLjEwLjAsIGh0dHBzOi8vbWF0cGxvdGxpYi5vcmcvlHJYcgAAAAlwSFlzAAAP\n",
              "YQAAD2EBqD+naQAAHlZJREFUeJzt3XuQleVhx/Hfwsp6Y1GXqCisxCxoDYqFgTDqxNTGGTXWW6IZ\n",
              "bRyxdSDYjnZ0psFJGi9xIM6kNiZNxmpTbMu0lSiaaYwatYnWXARNtFEbFHFZo6yLEMFEXLm8/cNm\n",
              "JxtJwi7n7IFnP5+ZMwPvcy7Py5PjfPOe97ynqaqqKgAABRvR6AkAANSb4AEAiid4AIDiCR4AoHiC\n",
              "BwAonuABAIoneACA4gkeAKB4ggcAKJ7gAQCKJ3gAgOIJHoDf4u233270FIAaETzAbuNrX/ta3ve+\n",
              "9+XXf/O4t7c3Y8eOzd13353XX3898+bNy2GHHZa2tracdtppWbVqVd99v/71r2f69OnZf//9M3bs\n",
              "2Jxxxhl58cUX+8Zvu+22jB8/Pl/5ylcyceLEtLW1Den+AfUjeIDdxvnnn59169blwQcf7Nt2xx13\n",
              "ZM8998yf/Mmf5Oyzz87GjRvz4x//OK+88kqOPvronH766dm8eXOSZPTo0fmnf/qnvPbaa/npT3+a\n",
              "qqpywQUX9HuN7u7uPPXUU3n66afz6quvDun+AfXTVP36/1UC2MVdfvnleeWVV/L1r389SfLBD34w\n",
              "J510Us4444zMmjUr69evz7777psk2bp1a/bdd9888MADOeGEE971XD/+8Y8zbdq0bNy4MaNHj85t\n",
              "t92WSy65JBs3bszee+89pPsF1FdzoycAMBDz5s3L1KlT8+qrr2b9+vX5/ve/n3/7t3/L9773vWzZ\n",
              "siXjx49/12NeeumlJMnDDz+c6667Ls8++2x++ctf9o339PRk9OjRSZIDDzxQ7ECBBA+wWznyyCNz\n",
              "/PHHZ9GiRenu7s5HPvKRjB8/PgcffHBGjRqVtWvXZo899njX495+++2cfvrp+exnP5u77747o0eP\n",
              "7jvC8+sHukeM8Ek/lMg7G9jtXHrppbnlllvyL//yL5k7d26S5IQTTsiUKVMyb9689PT0JEl+/vOf\n",
              "584778ybb76Zt99+O5s2bcr++++f0aNH55VXXslnPvOZRu4GMIQED7DbOeuss/LWW2+ltbU1p5xy\n",
              "SpJk5MiReeCBB7L33nvnAx/4QEaPHp2pU6fmrrvuSlNTU/bdd9/84z/+Y66//vrsu+++OfXUU3Pu\n",
              "uec2eE+AoeKkZWC39IEPfCBnnHFGPv3pTzd6KsBuwDk8wG7nW9/6Vp5++uncc889jZ4KsJsQPMBu\n",
              "ZcKECdm0aVNuvvnmjB07ttHTAXYTPtICAIrnpGUAoHiCBwAonuABAIoneACA4gme/3fTTTc1egoA\n",
              "QJ0Inv+3evXqRk8BAKgTwQMAFE/wAADFEzwAQPEEDwBQPMEDABRP8AAAxRM8AEDxBA8AUDzBAwAU\n",
              "T/AAAMUTPABA8QQPAFA8wQMAFE/wAADFEzwAQPGaGz0BgHqbOP+euj135+c/UrfnBmrHER4AoHiC\n",
              "BwAonuABAIoneACA4gkeAKB4ggcAKJ7gAQCKJ3gAgOIJHgCgeIIHACie4AEAiid4AIDiCR4AoHiC\n",
              "BwAonuABAIoneACA4gkeAKB4ggcAKJ7gAQCKJ3gAgOIJHgCgeIIHACheXYPnsssuy8SJE9PU1JQn\n",
              "n3yyb/vzzz+f4447LpMnT86MGTPyzDPP1HUMABje6ho8H/vYx/Loo4/msMMO67d97ty5mTNnTp57\n",
              "7rl86lOfyuzZs+s6BgAMb01VVVX1fpGJEyfm7rvvzrHHHpuenp50dHRk/fr1aW5uTlVVGTduXB59\n",
              "9NG0trbWfKyjo+Nd8+nt7U1vb2+/bX/zN3+Tm266qd7/FEADTJx/T92eu/PzH6nbcwO1M+Tn8Lz0\n",
              "0ksZN25cmpubkyRNTU1pb29PV1dXXca2Z+HChRkzZky/27Jly4Zg7wGARhiWJy1fddVV2bBhQ7/b\n",
              "zJkzGz0tAKBOmof6BSdMmJA1a9Zky5YtfR8/dXV1pb29Pa2trTUf256Wlpa0tLT02zZy5Mih2H0A\n",
              "oAGG/AjPgQcemGnTpmXx4sVJkjvvvDPjx49PR0dHXcYAAOp60vLcuXNzzz33pLu7O21tbRk9enRW\n",
              "rlyZFStWZPbs2Vm3bl1aW1uzaNGiHH300UlSl7EdccUVV+TGG2+s/T8C0HBOWgaG5FtauwPBA+US\n",
              "PMCwPGkZABheBA8AUDzBAwAUT/AAAMUTPABA8QQPAFA8wQMAFE/wAADFEzwAQPEEDwBQPMEDABRP\n",
              "8AAAxRM8AEDxBA8AUDzBAwAUT/AAAMUTPABA8QQPAFA8wQMAFE/wAADFEzwAQPEEDwBQPMEDABRP\n",
              "8AAAxRM8AEDxBA8AUDzBAwAUT/AAAMUTPABA8QQPAFA8wQMAFE/wAADFEzwAQPEEDwBQPMEDABRP\n",
              "8AAAxRM8AEDxBA8AUDzBAwAUT/AAAMUTPABA8QQPAFA8wQMAFE/wAADFEzwAQPEEDwBQPMEDABRP\n",
              "8AAAxRM8AEDxBA8AUDzBAwAUT/AAAMUTPABA8QQPAFA8wQMAFE/wAADFa1jwfOtb38q0adNy7LHH\n",
              "ZsqUKfnnf/7nJElPT09OOeWUTJo0KVOmTMkjjzzS95jBjgEAw1tzI160qqp84hOfyHe/+90cc8wx\n",
              "6ezszJFHHplzzjkn8+fPz6xZs3Lfffdl+fLlOfvss/Piiy9mjz32GPQYADC8NSR4kqSpqSmvv/56\n",
              "kmTjxo1pa2tLS0tLlixZkpUrVyZJZsyYkUMOOSQPP/xwPvzhDw967Df19vamt7e337atW7fWcW8B\n",
              "gEZqSPA0NTXl9ttvzznnnJN99tknP//5z7N06dK88cYb2bx5cw4++OC++06cODFdXV1Zt27doMa2\n",
              "Z+HChbn22mv7bZs1a1aN9xIA2FU05ByeLVu25Prrr8/SpUuzevXqPPTQQ7nwwguzZcuWIXn9q666\n",
              "Khs2bOh3mzlz5pC8NgAw9BoSPE8++WReeeWVfPCDH0zyzkdQ48ePz//8z/+kubk53d3dffft7OxM\n",
              "e3t72traBjW2PS0tLWltbe13GzlyZJ32FgBotIYEz4QJE7JmzZr87//+b5Jk5cqVeeGFF3LEEUfk\n",
              "3HPPzc0335wkWb58eV5++eWceOKJSTLoMQBgeGvIOTwHHXRQbrnllpx33nkZMWJEtm3blr//+79P\n",
              "e3t7brjhhlx44YWZNGlSRo0alcWLF/d902qwYwDA8NZUVVXV6EnsCq644orceOONjZ4GUAcT599T\n",
              "t+fu/PxH6vbcQO240jIAUDzBAwAUT/AAAMUTPABA8QQPAFA8wQMAFE/wAADFEzwAQPEEDwBQPMED\n",
              "ABRP8AAAxRM8AEDxBA8AUDzBAwAUT/AAAMUTPABA8QQPAFA8wQMAFE/wAADFEzwAQPEEDwBQPMED\n",
              "ABRP8AAAxRM8AEDxBA8AUDzBAwAUT/AAAMUTPABA8QQPAFA8wQMAFE/wAADFEzwAQPEEDwBQPMED\n",
              "ABRP8AAAxRM8AEDxBA8AUDzBAwAUT/AAAMUTPABA8QQPAFA8wQMAFE/wAADFEzwAQPEEDwBQvAEH\n",
              "z/3331+PeQAA1E3zQB9w3XXX5bLLLsull16aiy++OK2trfWYFwwLE+ffU5fn7fz8R+ryvAC7qwEf\n",
              "4fne976X//iP/8jTTz+dyZMn59JLL82zzz5bj7kBANTEoM7h+cM//MPceuutue+++/LNb34zxxxz\n",
              "TE4++eT85Cc/qfX8AAB22qCC58EHH8yZZ56Zc845J3/xF3+R7u7uzJ07N2effXat5wcAsNMGfA7P\n",
              "H/zBH2Ts2LG57LLLcs4552TkyJFJko997GP52te+VvMJAgDsrAEHz+LFizN9+vTtjt177707PSEA\n",
              "gFob8EdaTzzxRNavX9/393Xr1uXWW2+t6aQAAGppwMHz1a9+NQcccEDf39va2vLVr361ppMCAKil\n",
              "AQdPVVXv2rZ169aaTAYAoB4GfA7PuHHjsmTJkpx33nlJkttvvz3jxo2r+cRgV1GviwMCMHQGHDxf\n",
              "/OIXc+aZZ+av//qvkyR77713vvGNbwz4hXt7e3PllVfm/vvvz5577pmpU6dm8eLFef7553PRRRfl\n",
              "tddey5gxY3Lbbbfl/e9/f5IMegyonXoGoCtEA/Uy4OA58sgj8+yzz2bFihVJkiOOOKLvq+kDMX/+\n",
              "/DQ1NeW5555LU1NTuru7kyRz587NnDlzMnv27Nxxxx2ZPXt2li9fvlNjMNw4KgXQX1O1vZNyfo9t\n",
              "27alu7s7W7Zs6dvW3t6+w4//5S9/mXHjxuVnP/tZv9/i6unpSUdHR9avX5/m5uZUVZVx48bl0Ucf\n",
              "TWtr66DGOjo6dmhOV1xxRW688cYd/0dg2BAPQ6deR3gclQIGfITntttuy2WXXZY99tgjI0a8c85z\n",
              "U1NTenp6dvg5XnjhhRxwwAFZsGBBHnzwwey111655pprst9++2XcuHFpbm7ue9729vZ0dXVlzJgx\n",
              "gxrbXvD09vamt7e33zYnXu/+hMnuzxoC9TLgb2l97nOfy/Lly7Nu3bqsXbs2a9euHVDsJMmWLVuy\n",
              "evXqHHXUUXn88cfzpS99KR//+Mf7HTGqp4ULF2bMmDH9bsuWLRuS1wYAht6Ag2fs2LE54ogjdupF\n",
              "29vbM2LEiPzpn/5pknd+jPS9731vVq9enTVr1vSFT1VV6erqSnt7eyZMmDCose256qqrsmHDhn63\n",
              "mTNn7tQ+AQC7rgEHz1lnnZUvfvGL6enpycaNG/tuAzF27Nj88R//ce6///4kyYsvvpgXX3wxxx9/\n",
              "fKZNm5bFixcnSe68886MHz8+HR0dOfDAAwc1tj0tLS1pbW3tdxvMidcAwO5hwCct/+q8neSdc2Wq\n",
              "qkpTU9OAz4FZtWpV/vzP/zyvvfZaRowYkc9+9rP56Ec/mhUrVmT27NlZt25dWltbs2jRohx99NFJ\n",
              "MuixHeGk5d2f8z9oBCctw+5hUN/SKpHg2f0JHhpB8MDuYcDf0kre+QHRZ599NhdeeGFef/31bNq0\n",
              "ydWWAWA3V/IlHAb146F/9md/lmuuuSbJO7+WfsEFF9R6XgAANTPg4Lnlllvywx/+sO+Cge973/uy\n",
              "du3amk8MAKBWBhw8LS0t2Wuvvfpt+9UF/wAAdkUDDp73vOc9fb9/lbxz5eWB/KwEAMBQG9SvpZ9/\n",
              "/vn56U9/mgkTJqS1tTXf/OY36zE3AICaGHDwdHR05LHHHsuKFStSVdWgfy2d4clXxwFohAEHT1dX\n",
              "V5Jkn332SZK8/PLLSQb2a+kAAENpwMEzffr0vissv/XWW3nzzTfT1tY24B8QBQAYKgMOnt/8CvrS\n",
              "pUvz1FNP1WxCAAC1ttPfJz/nnHOyYMGCXHvttbWYDwDwOzgXcnAGHDy//svoW7duzWOPPTbgX0sH\n",
              "ABhKAw6e/fbbr+8cnpEjR2bSpEn50pe+VI+5AQDUxICDZ9u2bfWYBwBA3Qz4SssAALubAR/hGTFi\n",
              "RN/PSvy6qqrS1NSUrVu31mRiALuDep1A2vn5j9TleWG4GnDwXHfdddm0aVPmzZuXJLn55puz1157\n",
              "5a/+6q9qPTcAgJoYcPDcddddeeKJJ/r+fv3112f69On59Kc/XdOJAQDUyoCD54033khPT08OPPDA\n",
              "JElPT0/eeOONmk8MYDir57VWfFw2NFwvZ9cy4OC58sorM3Xq1Jx22mlJkvvuuy/XXHNNrecFAFAz\n",
              "Aw6euXPn5vjjj893vvOdJMkVV1yR97///TWfGABArQzqpyXa2tpy9NFH50Mf+lC2bNmSt99+O6NG\n",
              "jar13AAAamLA1+G54447MmvWrFx88cVJkmeeeSZnnXVWrecFAFAzAz7Cs3DhwvzoRz/Khz/84STJ\n",
              "1KlTs3r16ppPjMZysh0wHPhv3fAx4CM8I0eOTFtbW79tPs4CAHZlAw6e0aNH59VXX+272vJDDz2U\n",
              "Aw44oOYTAwColQF/pHXDDTfk1FNPzapVq3LCCSfkxRdfzD33OCQIAOy6BhQ827Zty9atW/Od73wn\n",
              "3//+91NVVY477rjst99+dZoeAMDOG1DwjBgxInPmzMlTTz2VU089tV5zAgCoqQF/pDVp0qSsXLky\n",
              "HR0d9ZgPALyLb1OxswYcPOvXr8+xxx6b4447Lvvuu2/f9qVLl9Z0YgAAtbLDwTNnzpzccsstueii\n",
              "i3LGGWdk//33r+e8AABqZoeD5/HHH0+SXHTRRZk2bVp+9KMf1W1SANRPvT4e8ivs7MoGfB2eJKmq\n",
              "qtbzAAComx0+wrNp06b85Cc/SVVVeeutt/r+/CvHHHNMXSYIALCzBhQ8Z5xxRt/ff/3PTU1NWbVq\n",
              "VW1nBgBQIzscPJ2dnXWcBgBA/QzqHB4AgN3JgK/DAwDb4+KA7Moc4QEAiid4AIDiCR4AoHiCBwAo\n",
              "nuABAIrnW1q7Md+IAIAd4wgPAFA8wQMAFE/wAADFEzwAQPEEDwBQPMEDABRP8AAAxRM8AEDxBA8A\n",
              "UDzBAwAUT/AAAMVrePAsWrQoTU1Nufvuu5MkPT09OeWUUzJp0qRMmTIljzzySN99BzsGAAxvDQ2e\n",
              "zs7O3HrrrZk1a1bftvnz52fWrFl5/vnns2jRolxwwQXZvHnzTo0BAMNbw4Jn27ZtueSSS/LlL385\n",
              "LS0tfduXLFmST37yk0mSGTNm5JBDDsnDDz+8U2MAwPDW3KgXvvHGG3P88cdn+vTpfdvWrVuXzZs3\n",
              "5+CDD+7bNnHixHR1dQ16bHt6e3vT29vbb9vWrVtrtWsAwC6mIUd4nn766dx55535zGc+04iXz8KF\n",
              "CzNmzJh+t2XLljVkLgBA/TUkeP77v/87nZ2dmTRpUiZOnJgf/vCHmTNnTpYsWZLm5uZ0d3f33bez\n",
              "szPt7e1pa2sb1Nj2XHXVVdmwYUO/28yZM+u3wwBAQzUkeObNm5c1a9aks7MznZ2dmTVrVm655ZbM\n",
              "mzcv5557bm6++eYkyfLly/Pyyy/nxBNPTJJBj/2mlpaWtLa29ruNHDmy3rsNADRIw87h+W1uuOGG\n",
              "XHjhhZk0aVJGjRqVxYsXZ4899tipMQBgeNslgue73/1u358POuigfPvb397u/QY7BgAMbw2/8CAA\n",
              "QL0JHgCgeIIHACie4AEAiid4AIDiCR4AoHiCBwAonuABAIoneACA4gkeAKB4ggcAKJ7gAQCKJ3gA\n",
              "gOIJHgCgeIIHACie4AEAiid4AIDiCR4AoHiCBwAonuABAIoneACA4gkeAKB4ggcAKJ7gAQCKJ3gA\n",
              "gOIJHgCgeIIHACie4AEAiid4AIDiCR4AoHiCBwAonuABAIoneACA4gkeAKB4ggcAKJ7gAQCKJ3gA\n",
              "gOI1N3oCw8HE+fc0egoAMKw5wgMAFE/wAADFEzwAQPEEDwBQPMEDABRP8AAAxRM8AEDxBA8AUDzB\n",
              "AwAUT/AAAMUTPABA8QQPAFA8wQMAFE/wAADFEzwAQPEEDwBQPMEDABRP8AAAxRM8AEDxGhI8b731\n",
              "Vs4666xMnjw5U6dOzcknn5yVK1cmSXp6enLKKadk0qRJmTJlSh555JG+xw12DAAY3hp2hGfOnDlZ\n",
              "sWJFnnrqqZx55pm55JJLkiTz58/PrFmz8vzzz2fRokW54IILsnnz5p0aAwCGt4YEz5577pnTTjst\n",
              "TU1NSZJZs2als7MzSbJkyZJ88pOfTJLMmDEjhxxySB5++OGdGvtNvb292bhxY7/b1q1b67a/AEBj\n",
              "7RLn8Nx0000588wzs27dumzevDkHH3xw39jEiRPT1dU16LHtWbhwYcaMGdPvtmzZsvrtIADQUA0P\n",
              "ngULFmTlypVZuHDhkL3mVVddlQ0bNvS7zZw5c8heHwAYWg0Nni984QtZunRp7r333uy9995pa2tL\n",
              "c3Nzuru7++7T2dmZ9vb2QY9tT0tLS1pbW/vdRo4cWb8dBQAaqmHBc+ONN+bf//3f88ADD2S//fbr\n",
              "237uuefm5ptvTpIsX748L7/8ck488cSdGgMAhrfmRrzoz372s1x55ZU5/PDD80d/9EdJ3jnq8thj\n",
              "j+WGG27IhRdemEmTJmXUqFFZvHhx9thjjyQZ9BgAMLw1JHjGjx+fqqq2O3bQQQfl29/+dk3HAIDh\n",
              "reEnLQMA1JvgAQCKJ3gAgOIJHgCgeIIHACie4AEAiid4AIDiCR4AoHiCBwAonuABAIoneACA4gke\n",
              "AKB4ggcAKJ7gAQCKJ3gAgOIJHgCgeIIHACie4AEAiid4AIDiCR4AoHiCBwAonuABAIoneACA4gke\n",
              "AKB4ggcAKJ7gAQCKJ3gAgOIJHgCgeIIHACie4AEAiid4AIDiCR4AoHiCBwAonuABAIoneACA4gke\n",
              "AKB4ggcAKJ7gAQCKJ3gAgOIJHgCgeIIHACie4AEAiid4AIDiCR4AoHiCBwAonuABAIoneACA4gke\n",
              "AKB4ggcAKJ7gAQCKJ3gAgOIJHgCgeIIHACie4AEAiid4AIDiCR4AoHhFBc/zzz+f4447LpMnT86M\n",
              "GTPyzDPPNHpKAMAuoKjgmTt3bubMmZPnnnsun/rUpzJ79uxGTwkA2AUUEzw9PT15/PHH84lPfCJJ\n",
              "8tGPfjQvvfRSVq5c+a779vb2ZuPGjf1uW7duHeopAwBDpLnRE6iVl156KePGjUtz8zu71NTUlPb2\n",
              "9nR1daWjo6PffRcuXJhrr72237Yjjzwyl19+eZYtW5aZM2dm5MiRNZvbOTV7puFr69atdVkbdo51\n",
              "2XVZm13TcF6XK654qC7Pe9hhh+Xyyy//vfdrqqqqqssMhtgTTzyRCy64ICtWrOjbNnPmzHz+85/P\n",
              "SSed1O++vb296e3t7betpaUlvb29GTNmTDZs2JDW1tYhmTc7ZuPGjdZmF2Rddl3WZtdkXRqnmCM8\n",
              "EyZMyJo1a7Jly5Y0Nzenqqp0dXWlvb39XfdtaWlJS0vLu7b/ZgQBAGUo5hyeAw88MNOmTcvixYuT\n",
              "JHfeeWfGjx//ro+zAIDhp5gjPEnyD//wD5k9e3YWLFiQ1tbWLFq0qNFTAgB2AUUFzxFHHJEf/OAH\n",
              "g358S0tLrr766u1+3EVjWZtdk3XZdVmbXZN1aZxiTloGAPhtijmHBwDgtxE8AEDxBA8AUDzBAwAU\n",
              "r+jgeeutt3LWWWdl8uTJmTp1ak4++eS+39bq6enJKaeckkmTJmXKlCl55JFH+h432DF2TD3W5UMf\n",
              "+lDe+9735thjj82xxx6bv/u7vxvy/SrBYNdmwYIFOeKIIzJixIjcfffd/Z7Te2bn1WNdvGdqY7Br\n",
              "c/HFF/c95vjjj8/y5cv7xt58882cf/756ejoyOTJk3PHHXcM+X4VqSrYpk2bqnvuuafatm1bVVVV\n",
              "9eUvf7k68cQTq6qqqosvvri6+uqrq6qqqmXLllWHHnpo9fbbb+/UGDumHuty4oknVnfddddQ7kaR\n",
              "Brs2jz32WPXCCy9sdx28Z3ZePdbFe6Y2Brs23/jGN6rNmzdXVVVV//mf/1kddthhfc957bXXVhdd\n",
              "dFFVVVW1atWq6j3veU/12muvDcn+lKzo4PlNy5cv7/sf1T777FOtWbOmb2zGjBnVAw88sFNjDE4t\n",
              "1sV/vOtjR9fmV7a3Dt4ztVeLdfGeqY+Brk1VVdXatWur5ubmvgA66qijqh/84Ad94+eee2516623\n",
              "1nfiw0DRH2n9pptuuilnnnlm1q1bl82bN+fggw/uG5s4cWK6uroGPcbg7ey6/Mr8+fNz9NFH5+Mf\n",
              "/3hWrVo1pPtQqh1Zm9/Fe6Y+dnZdfsV7pvYGszY33XRTTjvttDQ3v3Mt4K6urhx22GG/93EMTFFX\n",
              "Wv5dFixYkJUrV+ahhx7Kpk2bGj0d/l+t1uVf//VfM2HChFRVla985Ss5/fTT8+yzz9ZwpsOP98yu\n",
              "yXtm1zWYtVm8eHGWLFni3LYhMCyO8HzhC1/I0qVLc++992bvvfdOW1tbmpub093d3Xefzs7OtLe3\n",
              "D3qMgavVuiTJhAkTkiRNTU35y7/8y6xatSrr1q0b2h0qyEDW5nfxnqmtWq1L4j1Ta4NZm9tvvz3X\n",
              "XnttHnjggRx00EF929vb27N69erf+jgGqdGfqdXb3/7t31bTpk2r1q9f32/7RRdd1O9kskMOOaTv\n",
              "ZLLBjrHjarkumzdvrrq7u/ue44477qja29uHZD9KNJi1+ZXtnRfiPVMbtVwX75naGsza3H777VVH\n",
              "R0fV2dn5rue7+uqr33XS8tq1a+u6D8NB0cHz0ksvVUmqww8/vJo6dWo1derUaubMmVVVVVV3d3d1\n",
              "8sknVx0dHdVRRx1V/dd//Vff4wY7xo6p9br84he/qKZPn15NmTKlOuaYY6qTTjqpevLJJxuyb7u7\n",
              "wa7N5z73uerQQw+tRo0aVbW1tVWHHnpo1dPT83sfx46p9bp4z9TOYNemubm5Gj9+fN9jpk6d2vdN\n",
              "rF/84hfVeeedVx1++OHVpEmTqttvv70h+1YaPx4KABRvWJzDAwAMb4IHACie4AEAiid4AIDiCR4A\n",
              "oHiCBwAonuABAIoneACA4gkeAKB4ggcAKN7/AbK++hvEPMdZAAAAAElFTkSuQmCC\n",
              "\">\n",
              "      </div>\n",
              "      <script type=\"text/javascript\">\n",
              "        (() => {\n",
              "          const chartElement = document.getElementById(\"chart-aa5e4c71-ddb0-48ce-b487-6f73cb0402eb\");\n",
              "          async function getCodeForChartHandler(event) {\n",
              "            const chartCodeResponse =  await google.colab.kernel.invokeFunction(\n",
              "                'getCodeForChart', [\"chart-aa5e4c71-ddb0-48ce-b487-6f73cb0402eb\"], {});\n",
              "            const responseJson = chartCodeResponse.data['application/json'];\n",
              "            await google.colab.notebook.addCell(responseJson.code, 'code');\n",
              "          }\n",
              "          chartElement.onclick = getCodeForChartHandler;\n",
              "        })();\n",
              "      </script>\n",
              "      <style>\n",
              "        .colab-quickchart-chart-with-code  {\n",
              "            display: block;\n",
              "            float: left;\n",
              "            border: 1px solid transparent;\n",
              "        }\n",
              "\n",
              "        .colab-quickchart-chart-with-code:hover {\n",
              "            cursor: pointer;\n",
              "            border: 1px solid #aaa;\n",
              "        }\n",
              "      </style>"
            ]
          },
          "metadata": {}
        },
        {
          "output_type": "display_data",
          "data": {
            "text/plain": [
              "<google.colab._quickchart_helpers.SectionTitle at 0x7a6e04d2cc90>"
            ],
            "text/html": [
              "<h4 class=\"colab-quickchart-section-title\">Time series</h4>\n",
              "<style>\n",
              "  .colab-quickchart-section-title {\n",
              "      clear: both;\n",
              "  }\n",
              "</style>"
            ]
          },
          "metadata": {}
        },
        {
          "output_type": "display_data",
          "data": {
            "text/plain": [
              "from matplotlib import pyplot as plt\n",
              "import seaborn as sns\n",
              "def _plot_series(series, series_name, series_index=0):\n",
              "  palette = list(sns.palettes.mpl_palette('Dark2'))\n",
              "  counted = (series['year']\n",
              "                .value_counts()\n",
              "              .reset_index(name='counts')\n",
              "              .rename({'index': 'year'}, axis=1)\n",
              "              .sort_values('year', ascending=True))\n",
              "  xs = counted['year']\n",
              "  ys = counted['counts']\n",
              "  plt.plot(xs, ys, label=series_name, color=palette[series_index % len(palette)])\n",
              "\n",
              "fig, ax = plt.subplots(figsize=(10, 5.2), layout='constrained')\n",
              "df_sorted = df.sort_values('year', ascending=True)\n",
              "_plot_series(df_sorted, '')\n",
              "sns.despine(fig=fig, ax=ax)\n",
              "plt.xlabel('year')\n",
              "_ = plt.ylabel('count()')"
            ],
            "text/html": [
              "      <div class=\"colab-quickchart-chart-with-code\" id=\"chart-f2cf8966-99ce-44bd-a94d-bac3aa03d253\">\n",
              "        <img style=\"width: 180px;\" src=\"data:image/png;base64,iVBORw0KGgoAAAANSUhEUgAAA/MAAAITCAYAAABLz0yVAAAAOnRFWHRTb2Z0d2FyZQBNYXRwbG90\n",
              "bGliIHZlcnNpb24zLjEwLjAsIGh0dHBzOi8vbWF0cGxvdGxpYi5vcmcvlHJYcgAAAAlwSFlzAAAP\n",
              "YQAAD2EBqD+naQAAbahJREFUeJzt3Xd8lfX9/vHrjOxJSMgehLBBliAbAScuFNTWSatF29qhtlW/\n",
              "1aptf9rhwg5Xra3SalXcgoqAbFmydxjZgyRk73Pu3x9JjqKoJOTkPuP1fDzysJw74zo1x3Dlfn8+\n",
              "H4thGIYAAAAAAIDXsJodAAAAAAAAdA5lHgAAAAAAL0OZBwAAAADAy1DmAQAAAADwMpR5AAAAAAC8\n",
              "DGUeAAAAAAAvQ5kHAAAAAMDLUOYBAAAAAPAyflXmFyxYYHYEAAAAAABOm1+V+ZycHLMjAAAAAABw\n",
              "2vyqzAMAAAAA4Aso8wAAAAAAeBnKPAAAAAAAXoYyDwAAAACAl6HMAwAAAADgZSjzAAAAAAB4Gco8\n",
              "AAAAAABehjIPAAAAAICXocwDAAAAAOBlKPMAAAAAAHgZyjwAAAAAAF6GMg8AAAAAgJehzAMAAAAA\n",
              "4GUo8wAAAAAAeBnKPAAAAAAAXoYyDwAAAACAl6HMAwAAAADgZSjzAAAAAAB4Gco8AAAAAABehjIP\n",
              "AD6ixenQf/Zv1EXv/lV/2PKBGlpbzI4EAAAAN7GbHQAAcHpanQ69eWibnti+TDk1FZKk7WX5WpKz\n",
              "W49MmqOx8RnmBgQAAEC3o8wDgJdyGk69c2SHHt+2TIeqjkmSYoPDdVX/MXo9+zMdqjqmKxY/o+8P\n",
              "mai7Rp+v0IBAkxMDAACgu1DmAcDLGIahJTm79ejWpdpfWSJJig4K1Q+HTdX3Bk9UaECgfjR8mn67\n",
              "8X29mr1Fz+9Zq6W5e/XnSVdoUlKWyekBAADQHSjzAOAlDMPQsvx9euSzpdpVUShJigwM1vyhU3TT\n",
              "kEmKCAx2vW90UKgem3KlLs0coV+tXaTc2gpd/eE/dO2Acfr12FmK/ML7AgAAwPtQ5gHAwxmGodWF\n",
              "2frz1o+09VieJCnMHqibhkzS/GFTFB0U+rUfe3byAC2bfbse3vKBXtz3qf5zYKOW5+/XHyddoRkp\n",
              "A3vqKQAAAKCbUeYBwIOtLz6sRz77SBtKjkqSgm0Bmjd4gn40fJpigsNO6XNEBAbroQmzdVHGcP1q\n",
              "7SLl1FTohqUvaG6/0br/rIvV6xt+GQAAAADPRJkHAA+0pTRHf/5sqdYUZUuSgmx2XTfwLP14+Nnq\n",
              "ExrRpc85KbGfll72c/1560f6x+61ev3QZ1pZeEAPTZitC9OHdWd8AAAAuBllHgA8yI6yfD2ydamW\n",
              "5++XJAVYbfrugLG67YzpSgqLOu3PHxoQqPvHXayLM4brzjWvK7vqmH6wfKEuyThDvxt/qWJDwk/7\n",
              "awAAAMD9KPMA4AH2VBTp0a1L9WHuHkmSzWLV3KzR+vmIGUqNiOn2rzemT7o+uPSnemL7Mj21c5Xe\n",
              "PbpDa4qy9bvxl+qyviNksVi6/WsCAACg+1DmAcBEBytL9djWj/Xu0R2SJIssurzfSP18xExlRsW6\n",
              "9WsH2wN095gLNCt9mO5c87r2Hi/WbStf0TuHt+uhiZcrITTSrV8fAAAAXUeZBwATHKku0xPblunN\n",
              "w9vkNAxJ0iUZZ+iOUeeof3SfHs1yRmyK3r/kNv1t5yd6cvsKfZS3V5++eUT3j7tYV2WN4S49AACA\n",
              "B6LMA0APyq89rie2LdNr2Z/JYTglSeenDdGdo87RkJgk03IF2uy6feQ5uiBtmH6x9nVtL8vXnWte\n",
              "1zuHt+uPk65QSngv07IBAADgqyjzANADiuqq9JcdK/TygU1qcTokSdOTB+oXo8/ViNgUk9N9bnBM\n",
              "gt6+6Id6dvcaPbp1qVYWHtTMNx/Xr8fO0nUDx8lqsZodEQAAAKLMA4BbHWuo0d92fKKX9m9Qk6NV\n",
              "kjQ5MUu/GHWuzoxPNzndydmtNv1o+LS2iYE1r2tzaY7+b/1beufIdv150hz1jXTvWn4AAAB8O8o8\n",
              "ALhBRWOdntq5Sv/at04NrS2SpHHxGfrFqHM1MbGfyelOTb+oOC268Bb9a996/WHLB/q0+IjOfWuB\n",
              "7hpznr4/eJJsVu7SAwAAmIUyDwDdqKqpQc/uXq1/7F6jutZmSdLI2FT9cvS5mprU3+s2k7NZrbpp\n",
              "yCSdkzpIv1r7htYWHdKDG9/Xu0d26tHJc3t8sz4AAAC0ocwDQDeobWnS87vX6Nndq1XV3ChJGhaT\n",
              "pF+MPlczUwZ5XYn/svSI3nrl/Jv13wOb9LtN7+uzY7k6/+0FumPUObpl2FQFWG1mRwQAAPArlHkA\n",
              "OA31Lc361771emrnSh1vqpckDYyO152jztUF6UN8asM4i8WiaweO0/TkAbpr3ZtaUbBff9jyod4/\n",
              "ukuPTp5j6m78AAAA/oYyDwBd0NjaooX7N+ivOz5RWWOtJCkzMlZ3jDpHl2Sc4dPryZPCo/XiufO0\n",
              "6NBW3b/hXe0sL9Csd/6q20ZM10/PmK5AGz9aAAAA3I2/cQHAKSqqq9LaomytLTqkTwoO6FhDW4lP\n",
              "C4/R7SNn6vJ+I2X3k3Fzi8WiuVmjNTWpv/5v/Vv6IHe3nti2TEuO7tKjk+dqZFyq2REBAAB8GmUe\n",
              "AL5GZVO91hUd1tqibK0pOqRDVcdOuJ4UFqWfjZipq/qP8ds1431CI/TcjOv0/tGd+vWnb2t/ZYku\n",
              "ff/vmj90iu4cda5C7AFmRwQAAPBJlHkAaNfQ2qyNJUe1pvCQ1hZla2d5oQwZrutWi0XDeydrcmKW\n",
              "Jif107j4vgpipFwWi0UX9z1DExP76Tcb3tVbh7fp6V2r9GHuHj06ea7GxWeYHREAAMDn8LdQAH6r\n",
              "xenQ9mP5WlOUrTVF2fqsNFfNTscJ79M/qo8mJfXT5MQsTUjIVFRQiElpPV9McJj+Ou07urTvGbpn\n",
              "3Zs6Ul2mOYuf0bzBE3T3mPMVFhDUY1kMw1BtS5OqmxtV1VyvquZGVTU1qLq5QVXNDV/5c3Vzo+pa\n",
              "mpQUFq2sqD7Kio5TVlSc+kXFKTootMdyAwAAnCqLYRjGt7+bb7jjjjv02GOPmR0DgEmchlP7jpe0\n",
              "jc0XHtKGkiOqbWk64X2SwqI0OTFLk5KyNCmxnxJCI01K692qmhr0u03v65WDmyVJqeG99OdJczQ5\n",
              "KeuUP0ezo7W9jLcX8KYG15+rmxtU+aU/VzW1l/T2Pzu76cdbbHC4+kW1lfu2kt9HWVFxSg6P9qnT\n",
              "CgAAgHehzAPwaTk15a6x+bVFh1TeWHfC9eigUE1K7KfJif00KTFLfSN7e/2Z8J5kZcEB/WrtGyqo\n",
              "q5QkfXfAWJ3ZJ/1ry3h1c6Mq2//c0Npy2l8/0GpTVFCIIgNDFBUYosjAYEUFtf3vL/45MjBEIbYA\n",
              "5dceV3bVMR2qOqbsqlIV1lV97ecOstldJb/tn20lPzMqViH2wNPODgAA8E0o8wB8yrGGGq0tOqQ1\n",
              "hW3lPa/2+AnXQ+wBOiu+r2vd+5CYRO6uulltS5Me3rxE/973aZc+PjIwuK10B35eyqOCTvxzZFCI\n",
              "or9UzqMCQxRss5/WL2fqWprai/0x1z+zK0t1pLrsK0syOlhkUUp49Od386P6qF/72H5scDi/LAIA\n",
              "AN2CMg/Aq9U0N+rT4sNa017g91eWnHDdbrFqdJ+09rvvWRoVl8o56CZZX3xYz+xaJYfTUGRQcHv5\n",
              "7ijjwa675V/8c0RAsGxWz/tli8PpVF7tcdcd/I6Sf7DqmCqb6r/246ICg9Wv/Q5+VnT7P6PilBYR\n",
              "4zfHGgIAgO5BmQfgVRpbW7TlWK7WFrYdF7e9LF8Ow3nC+wyNSXStez8rPqNHN14DKhrr2sp9VakO\n",
              "Vbbfza86przaiq9dxx9gtSkjonfb3XzX5nttZT8iMLiHnwEAAPAGbr091dTUpDvvvFMffvihgoOD\n",
              "NWLECC1cuFAHDx7UjTfeqLKyMkVFRelf//qXhg4dKkldvgbANzmcTu0sL9CaorZ17xtLjqrJ0XrC\n",
              "+2RE9NbkpCxNTuyniYn9FBMcZlJaoG1X/3HBYV85kq+xtUVHqst1qONO/hfW5je0tuhgVakOVpVK\n",
              "uSd+vvjQSPWP6qPz0gZrduZIvr8BAIAkN5f5u+++WxaLRQcOHJDFYlFxcbEk6ZZbbtH8+fM1b948\n",
              "vf7665o3b542bdp0WtcA+Ja8mgr9YcuH+qRgv6qaG0+41ickom1svn3H+ZTwXialBE5dsD1Ag2MS\n",
              "NDgm4YTHnYZTxXXVn9/Nrzqmg5Vt/yxpqFFJfbVK6qu1pihbv9u0WDNTBumq/mM0PWWgAhjNBwDA\n",
              "b7ltzL6urk6JiYnKz89XZOTnRzuVlpYqKytLFRUVstvtMgxDiYmJWrNmjSIjI7t0LSvrq0cdNTU1\n",
              "qanpxCOn7rvvPi1YsMAdTxdANzEMQ/85sFG/2/i+6lqbJbVtgDYhIdNV4PtH9WETMfiF6uZGHao6\n",
              "pi2lOXrj0FbtKC9wXesdHKYr+o3SlVmjNSQmycSUAADADG67M3/o0CHFxMTooYce0scff6yQkBA9\n",
              "8MADio6OVmJiouz2ti9tsViUlpam3NxcRUVFdenaycr8ww8/rAcffPCEx8aPH++upwugGxTWVemX\n",
              "axdpZcEBSdLYPun69ZmzNDIuhc3B4JciA4M1Ki5Vo+JSdfPQydpbUazXs7fojcNbdayhVs/tXqPn\n",
              "dq/R0JhEXZk1Rpf3G6neweFmxwYAAD3AbVsEt7a2KicnR0OGDNHmzZv15JNP6uqrr1Zra+u3f3A3\n",
              "uOeee1RVVXXC27hx43rkawPoHMMw9OrBzTrnrce1suCAgmx23Td2ll6/8BadGZ9OkQfaDY5J0H3j\n",
              "LtKmq+7Rv8+Zp4syhivQatPuiiI9sPE9jXnlId207EV9kLNbzY6e+XkLAADM4bY782lpabJarbr2\n",
              "2mslSaNGjVLfvn2Vk5OjoqIitba2usblc3NzlZaWpsjIyC5dO5mgoCAFBZ24g7XNRiEAPE1JfbXu\n",
              "XvemlubtlSSNjE3VE1OuVFZ0H5OTAZ7LbrVpZuogzUwdpOONdXr7yA69lr1F28vy9WHuHn2Yu0cx\n",
              "QWG6vN9IXZU1RkN7M4YPAICvcdud+djYWM2cOVMffvihJOnIkSM6cuSIJk2apNGjR2vhwoWSpEWL\n",
              "FiklJUVZWVnq06dPl64B8D6GYeitw9s0483HtTRvrwKsNt095ny9ddGtFHmgE3oFh2ne4Al6/5Lb\n",
              "tGz27bp12FT1CYlQRVOdnt+zVue/86TOfesJPbd7tcoaas2OCwAAuolbz5k/fPiwbrrpJpWVlclq\n",
              "teo3v/mN5syZo/3792vevHkqLy9XZGSkXnjhBQ0fPlySunztVHDOPOAZyhpq9X/r39LinF2SpGEx\n",
              "SXp8ylVf2eUbQNe0Oh1aVZit1w5u0Ye5u9XsdEiS7BarZqQM1JX9x2hmyiAF2tx6qA0AAHAjt5Z5\n",
              "T0OZB8z3/tGd+r/1b6m8sU52i1U/HTFDPxkxnSO2ADc53lSvd4/s0KsHt2hbWZ7r8V5BoZqd2TaG\n",
              "P6x3EidEAADgZSjzAHrE8cY63bvhHb19eLskaVCvBD0++UoNj002ORngPw5Wluq17C1alP2ZShpq\n",
              "XI8P6pWgK7NG6/LMUeoTGmFiQgAAcKoo8wDcbmnuHt217k2VNtTIarHox8PP1s9HzlQQI76AKVqd\n",
              "Dq0uzNbr2Z/pg9zdamrf+d5msWp6ygBdmTVG56QO5jUKAIAH46c0ALepamrQAxvf1WvZn0mSsqLi\n",
              "9PiUqzQqLtXkZIB/s1ttmp4yUNNTBqqqqaFtDD97iz47lquP8/bp47x9ig4K1WV9R+iq/mN0Ru9k\n",
              "xvABAPAw3JkH4BYr8vfrl2sXqbi+WhZZNH/YFP1y1LkKtgeYHQ3A1zhUdUyvZW/R69mfqbi+2vX4\n",
              "wOh4XZk1Rpf3G6n40EgTEwIAgA6UeQDdqralSb/d+L7+e2CjJCkjorcen3KlxsZnmBsMwClzOJ1a\n",
              "U5StV7O36IOcE8fwpyX311XtY/j8cg4AAPMwZg+g26wtzNada19Xfm2lJOn7gyfqnjMvUIg90Nxg\n",
              "ADrFZrVqWvIATUseoOrmRr17ZIdey96izaU5Wp6/X8vz9ysqMESXZY7QVVljNJKlMwAA9DjuzAM4\n",
              "bfUtzfp/m5fo3/vWS5LSwmP06JS5mpCQaXIyAN3pcNUxvZ79mV7L/kxF9VWux//f+Mt04+AJJiYD\n",
              "AMD/cGcewGnZUHxEd6x5TTk1FZKk6weepXvHzlJYQJDJyQB0t8yoOP1qzPm6c9S5Wld8SC/t26DF\n",
              "Obv0+82LNSNloFIjYsyOCACA37CaHQCAd2pobdGDG9/T3CXPKqemQklhUfrveTfp4YmXU+QBH2ez\n",
              "WjUlqb+enn6Nxif0VUNri+5e/5b8aNgPAADTUeYBdNqW0lyd//YCPbd7jQwZurr/mfp49u2amtzf\n",
              "7GgAepDVYtWfJl6hIJtdKwsO6M3D28yOBACA36DMAzhlTY5WPbR5iS5f/JQOV5cpPiRC/z5nnh6d\n",
              "PFeRgcFmxwNggsyoOP1sxAxJ0gMb3lNFY53JiQAA8A+UeQCnZEdZvma98xf9fedKOQ1DV/QbpWWX\n",
              "366ZqYPMjgbAZLcOm6pBvRJU0VSnBze+Z3YcAAD8AmUewDdqdrTqz599pEve+7v2V5YoNjhc/5hx\n",
              "vZ6cerWig0LNjgfAAwTa7PrTpCtkkUWLDm3VyoIDZkcCAMDnUeYBfK09FYW65L2/acH25XIYTl2S\n",
              "cYaWX367LkgfanY0AB5mdFyavj9koiTpnnVvqb6l2eREAAD4Nso8gK9odTq0YNsyXfTu37S7oki9\n",
              "gkL11NnX6Knp1ygmOMzseAA81K9Gn6fksGjl1lbo0a1LzY4DAIBPo8wDOMGByhJd9v5T+vPWpWpx\n",
              "OnR+2hAtv/x2XdL3DLOjAfBwYQFBemjCbEnSc3vWaEdZvrmBAADwYZR5AJIkh9Opv+9cqQveflLb\n",
              "y/IVFRisBVOv1j9mXK+4kAiz4wHwEjNTB+myzBFyGoZ+uXaRWpwOsyMBAOCTKPMAdLjqmK5Y/LQe\n",
              "2rxEzU6HZqQM1LLL79CcfqNksVjMjgfAyzw47hJFB4Vqd0WRntu9xuw4AAD4JMo84McMw9Dze9bq\n",
              "3LcXaMuxXIUHBOmRSXP073PmKSE00ux4ALxUbEi47h97kSTp0a1LdaS6zOREAAD4Hso84KccTqd+\n",
              "/enbun/Du2pytGpKUpaWzb5d3xkwlrvxAE7b3KzRmpKUpSZHq+5Z95YMwzA7EgAAPoUyD/ihZker\n",
              "frLqFb2471NZZNED4y7Wf8+7Scnh0WZHA+AjLBaLHp5wuYJtAVpTlK3XsreYHQkAAJ9CmQf8TH1L\n",
              "s7738b/1zpEdCrDa9Ldp39HNQydzNx5At8uI7K07R50jSXpw4/s61lBjciIAAHwHZR7wI8eb6vWd\n",
              "D/+hlYUHFWIP0Avn3KhLM0eYHQuAD/vB0MkaFpOkquYGPbDhPbPjAADgMyjzgJ8orq/W3MXP6LNj\n",
              "uYoKDNEr5/9AZycPMDsWAB9nt9r050lzZLNY9faR7VqWt8/sSAAA+ATKPOAHjlSX6fL3n9L+yhLF\n",
              "h0Ro0axbNKZPmtmxAPiJ4bHJunnoZEnSPevfVG1Lk8mJAADwfpR5wMftLi/U5e8/rbza48qI6K03\n",
              "L/qhBvVKMDsWAD/zi1HnKD0iRoV1VfrTlg/NjgMAgNejzAM+bEPxEc1d8ozKGms1JCZRb150q9Ii\n",
              "YsyOBcAPhdgD9fCEyyVJL+xdry2luSYnAgDvZBiGnIbT7BjwAJR5wEd9nLdX13z0vGpamnRWfIZe\n",
              "v/AWxYVEmB0LgB+bmtxfc/uNliFDv1q7SM2OVrMjAYDXONZQoz9/9pFGvPx7XfDOX1RSX212JJiM\n",
              "Mg/4oNezP9NNy15Sk6NV56QO0sLzblJkYLDZsQBA94+7SL2Dw7S/skRP7VxpdhwA8HgHKkv0izWv\n",
              "a/xrf9SC7ctV0VSnPRVFmrvkWRXWVZkdDyaizAM+5h+71+jnq1+Vw3BqTr9Rem7G9QqxB5gdCwAk\n",
              "Sb2Cw/TAuEskSQu2L1d2ZanJiQDA8xiGobVFh3Tj0n9pxpuP65WDm9XkaNWouFT9edIcpYRH60h1\n",
              "ma5c8ozya4+bHRcmsZsdAED3MAxDj2xdqgXbl0uSbh4ySb8Zd5GsFn5nB8CzzM4coTcObdWKgv26\n",
              "a90beu3C+fy3CgAktTgdeu/ITj27e7V2lhdIkiyy6Ly0wbp12FSd2SddFotFU5KydPUHzymnpkJz\n",
              "lzyjVy+Yz75IfoifnIAPcBpO3fvp264i/8tR5+r+cRfzl2MAHslisejhibMVag/UhpKj+u+BTWZH\n",
              "AgBT1TQ36tldqzXp9T/pJ6te0c7yAgXZ7Lph0HitvOJOPT/zBo2Nz5DFYpEkpYT30msX3qK+kbHK\n",
              "r63UnMXP6Eh1mcnPAj2NO/OAl2t2tOr21a/p7SPbZZFF/2/CZbph0HizYwHAN0oJ76VfjT5PD2x8\n",
              "Tw9tXqJzUgcrITTS7FgA0KMKayv1/N51+u/+DappaZIk9Q4O0/cGT9QNg8YrJjjsaz82KSxKr104\n",
              "X9/54DllVx3T3CXP6tULfqB+UXE9FR8m47Yd4MXqW5r1vWUv6u0j2xVgtelv075DkQfgNb43eKJG\n",
              "xKaourlR9336ttlxAKDH7Cov0E9WvqKJr/9Jz+xapZqWJmVFxelPk67Qhivv1s9HzvzGIt8hITRS\n",
              "r104XwOj41VSX625S57RgcqSHngG8ASUecBLHW+q13c//IdWFhxQiD1AL5xzoy7NHGF2LAA4ZTar\n",
              "VX+eNEd2i1VLcnZrSc4usyMBgNsYhqHl+ft19QfP6YJ3/qI3D29Tq+HUhIRM/eucG7X88tt1zYBx\n",
              "Cu7kxsVxIRF69cIfaHCvBB1rqNWVS57V3opiNz0LeBLKPOCFiuurNXfxM9pyLFdRgSF65fybdXby\n",
              "ALNjAUCnDYlJ1A+HT5Mk3bv+bVU3N5qcCAC6V5OjVa8c2KSZbz2uG5a+oLVFh2SzWHVZ5ggtvuQ2\n",
              "vXbhfJ2TOvi09jrqHRyuVy/4gYbFJKm8sU5XffCsdpcXduOzgCeizANe5kh1ma54/2ntryxRfEiE\n",
              "Fs26RWP6pJsdCwC67GcjZqhvZKxKGmr08OYlZscBgG5xvLFOT25frvGv/UG/WLtIBypLFWYP1Pyh\n",
              "k7V27i/1t2nf1RmxKd329XoFh+mVC27WiNgUHW+q11UfPKftZfnd9vnheSjzgBfZU1GoKxY/rdza\n",
              "CmVE9NabF/1Qg3olmB0LAE5LsD1Af5x4uSTppf0btKH4iMmJAKDrjlaX69fr39a41/6gP332kY41\n",
              "1CohNFK/PvNCbbzqHv1m3MVKCe/llq8dHRSql8+/WWPi0lTV3KDvfPCctpTmuuVrwXwWwzAMs0P0\n",
              "lDvuuEOPPfaY2TGALtlQfETfW/ZvVTc3akhMov5z3vcVFxJhdiwA6Da/XLtILx/YpKyoOH142c8U\n",
              "ZPO9Q3ccTqf+vnOlPsjdreSwaA2OSdDgXokaHJOg1PBeHCkKeLEtpTl6etcqfZCzR4baKtbQmETN\n",
              "HzZVl2QMV2AP/jettqVJNy59QRtKjio8IEgvnfs9jY3P6LGvj55BmQe8wLK8fZq/YqGaHK0aF5+h\n",
              "F2beqKigELNjAUC3qmyq1/Q3H9Oxhlr9fORM/WLUuWZH6lZFdVX6yapX9OnXTB6E2gM1qFeCBvdK\n",
              "0OCYRA3qFa9BvRIUHRTaw0kBnCqH06kPc/fo2d2rtbk0x/X49OSBumXYFE1K7Oc6G76n1bc0a97H\n",
              "/9K64sMKtQfq3+fO04SETFOywD0o84CHW3Roq+5Y/ZochlPnpA7SU2dfoxB7oNmxAMAt3ju6U7eu\n",
              "+I8CrDZ9cOlPNbBXvNmRusWyvH36+epXdbypXmH2QP1qzPlyOJ3ae7xIeyuKdbCqVE2O1pN+bFJY\n",
              "lAb3Smwr+u138jOjYhVgtfXwswDQoaG1Wa8e3KJnd69RTk25JCnQatPl/UZp/tApHvPfrobWZt20\n",
              "7CWtKjyoYFuA/nXOjZqclGV2LHQTyjzgwZ7fs1b3b3hXknRFv1F6dPJc/vIGwKcZhqGblr2oj/L2\n",
              "anRcmt6cdatsVu8dPW92tOoPWz7Qs7vXSJKG907W36Z9V5lRsSe8X6vToSPV5dpbUaS9x4u193iR\n",
              "9h0vVn5t5Uk/b6DVpqzoPm138dvH9Af1SlCfkAjT7gIC/uBYQ43+tXe9/r3vU1U21UuSogJDdOOg\n",
              "8Zo3eKL6hHreEsjG1hb9YPlCrSjYryCbXc/PvIFTkHwEZR7wQIZh6NFtH+uJbcskSTcNmaT7x13E\n",
              "WkoAfqGwrkoz3nxMtS1N+t1Zl+p7QyaaHalLjlaX68crX3btJv39wRP167GzOrUXQFVTg/ZXlrhK\n",
              "/r7jxdpbUaS61uaTvn9MUFj73fuE9jv5iRoQHa+QTp5bDeBEBypL9Oyu1Xrj0FY1Ox2SpPSIGN08\n",
              "ZLKu7n+mQgM8e2qyydGqW1f8R0vz9irQatOzM67TOamDzY6F00SZBzyM03Dqvk/f1b/3rZck/XLU\n",
              "ufrpiBncaQHgV/69d71+/enbCrMHasXldygpPNrsSJ3yzuHt+tW6N1Tb0qSowBA9PuVKnZc2pFs+\n",
              "t9NwKr+2Unsr2u7e721/O1JdJudJ/lpntVjUNzL284LfXvJTwqP5JTHwDQzD0Lriw3pm1yotz9/v\n",
              "enx0XJpuGTZFF6QN9arJoWZHq3688mUtydmtAKtNT519jS5IH2p2LJwGyjzgQZodrbp9zWt6+/B2\n",
              "WWTR/5twmW4YNN7sWADQ45yGU1csfkabS3N0TuogvTDzRq/4pWZDa7Pu3/Ce/ntgoyRpXHyG/jr1\n",
              "Oz3yy4iG1hYdrCxpK/cd4/oVxapoqjvp+4cHBGlgdLwGxyR+YdO9BEUGBrs9K+DJSutrtCx/n/69\n",
              "d712VRRKkiyy6Py0Ibp12FSdGZ9ucsKua3E69NOV/9O7R3fIbrHqr2d/VxdnDDc7FrqIMg94iPqW\n",
              "Zs1fsVCfFByQ3WLVgqlX67LMEWbHAgDTHKgs0flvP6kWp0NPnX2NLul7htmRvtH+4yX60Sf/1f7K\n",
              "Ellk0U9HTNftI2fKbuJeJ4Zh6FhDrWujvb3H20p+dmWpa1T4y7Ki4vTwxMvZ9Rp+w+F0altZnpbn\n",
              "79fy/P3aWV7guhZsC9DV/cfo5qGT1Tcy9hs+i/dodTr089Wv6a3D22SzWPUkf+f0WpR5wANUNtVr\n",
              "3sf/1ubSHIXYA/Ts9Os0PWWg2bEAwHSPbl2qx7ctU2xwuFZccYd6eeAxbYZh6OWDm/SbT99Vo6NF\n",
              "fUIi9OTUqz16x+gWp0OHq8pcJX9f+6Z7hXVVkiSbxap7xlygW4ZN8YqJCKCzyhtrtSL/gFYU7NfK\n",
              "goOuzew6jIhN0QVpQ3XdwHHqFRxmUkr3cTid+sXa1/Va9meyWix6bPKVmps12uxY6KRT34EFgFuU\n",
              "1Ffrmg+f1/7KEkUFhujFc+dpTB/vHd8CgO502xnT9d6RnTpYVarfb1qsRyfPNTvSCWqaG3XXujf0\n",
              "zpEdkqRpSf31xNSrFBfieTtaf1GA1aaBveI1sFe8Zn/hBvzxxjrdv/E9vXFoq36/ebG2HMvRY5Ov\n",
              "VASj9/ByTsOp7WUFWp6/TyvyD2h7Wb4MfX5PMyowWNOSB2h68kCdnTLA41/Dp8tmterRyXNlt9r0\n",
              "8oFNun31a2p1OvSdAWPNjoZOoMwDJjpaXa5rPnxeubUVig+J0H/Ov0mDeiWYHQsAPEaQza4/TbpC\n",
              "ly9+Wv87uFlXZI7UJA+54729LF8/+uS/yqmpkN1i1a/GnK9bh03x6k3legWHacGUq3Rmn3Tdv+Fd\n",
              "LcnZrX3HS/TcjOv4+QSvc7yxTp8UHNSKgv36JP/AV/aPGBqTqBkpgzQjZaBGxaWauiTGDFaLVX+c\n",
              "eLkCrDa9uO9T/WLtIrU6nbpu0FlmR8MpYsweMMmeikJd+9E/dayhVukRvfXy+TcpLSLG7FgA4JH+\n",
              "b/1benHfp0qP6K2PZ//c1KPWDMPQP/as0UObP1CL06GU8Gj9bdo1GtMnzbRM7vDZsVzdsvw/Kqqv\n",
              "Uog9QH+aOEeX9xtpdizgazkNp3aVF2p5/n6tyN+vrWV5J5zwEBEQpKnJAzQ9eYDOThmohNBIE9N6\n",
              "DsMw9MDG9/T8nrWS5NVHgvob7swDJthYclTzPv6XqpsbNSQmUQvP/b76hPr2OBcAnI67x1ygj3L3\n",
              "KKemXE9sW6Z7zrzAlBwVjXW6Y81r+jhvnyTpwvSh+vOkOYr2wLX8p2t0XJo+uOwnum3lK1pdmK2f\n",
              "rHpFW47l6DdjL1Kgjb9CwjNUNtVrdWG2lufv0ycFB3SsofaE64N6JWhGykBNTxmoM/ukK8DP7r6f\n",
              "CovFogfGXSy71aZndq3SfRveUavh0A+GTjE7Gr4Fd+aBHrYsb59uWfEfNTpaNC4+Qy/MvFFRQSFm\n",
              "xwIAj/dhzm7dtPwl2SxWLbn0Ng2JSerRr/9p8WHdtvIVFddXK8hm1/3jLtb1A8/y+Q3iHE6nHt26\n",
              "VE/uWCFJGhOXpqemX6uksCiTk8EfGYahPRVFWlHQtvP8ltJcOQyn63qYPVCTk7I0I2WQpqcM5Pu0\n",
              "EwzD0B8/+1B/3fGJJOn/zrxQPxo+zdxQ+EaUeaAHvXFoq+5Y/ZpaDadmpgzS09OvUYg90OxYAOA1\n",
              "5i9fqMU5uzQiNkXvXPQj2azuX5/ucDr15I7lenzbMjkNQ/2i4vTU2d/t8V8mmO3jvL362ar/qaq5\n",
              "Ub2Dw/T3ad/1mP0L4Nuqmxu1uvCglufv1ycFB1RSX33C9QHRfTQ9ZZBmJA/Q2PgMJkdOg2EYemzb\n",
              "x3p82zJJ0i9HnaufjZxpcip8Hco80EP+uWetfrPhXUnSFf1G6dHJcxn1AoBOKqmv1vQ3H1N1c6Pu\n",
              "H3eR28dAi+ur9ZOVr2h98WFJ0lVZY/S78ZcqLCDIrV/XU+XUlGv+8oXaXVEkq8WiX40+Xz8aPtWr\n",
              "N/2D5zEMQ/uOl7Tffd+nzSU5av3C3fcQe4AmJ2a5xudTwnuZmNY3Ldi2TH/eulSS9PORM3XnyHN8\n",
              "fgrJG1HmgR7w2NaP9di2jyVJ3x88UQ+cdTF/8QGALvrP/o26a90bCrEHaNns2922eejy/P36+apX\n",
              "VdFUp1B7oB6eeLnm9Bvllq/lTRpaW3Tvp2/pfwe3SJLOSx2sx6dcxZIxnJbaliatKcx2bV5XVF91\n",
              "wvV+UXGanjxAM1IGaVx8hoJN3ATTX/x950o9tHmJJOm2M87WXaPPp9B7GMo84GYL923Q3evflCT9\n",
              "YtS5+tmIGfyHEABOg9Nw6qoPntOnxUc0LXmAFp77vW7972qzo1V/3PKhntm9WlLb8VVPnX2NMqPi\n",
              "uu1reDvDMPTfA5t036dvq9npUHpEbz034zoNiUk0Oxq8yOGqMi3N26Pl+fu1seSoWpwO17Ugm12T\n",
              "EvtpenLb3feMyN4mJvVfz+1erQc3vi9JumXoFN07dhZ/j/UgLCgB3GhTyVHdt+EdSaw5AoDuYrVY\n",
              "9aeJV+jctxdoZcEBvXl4m67opjvmOTXl+vEnr2hbWZ4kad7gCbr3zFncBfwSi8WiaweO07DeSbpl\n",
              "xULl1JTr0vf+rj9MnK25WWPMjgcPVt5Yq3cO79CiQ1tdr7MO6RG9NSNloGakDNT4hExTj6BEmx8M\n",
              "naIAq133fvq2ntm9Wi1Ohx486xIKvYegzANuUlhXpfkrFqrF6dDFGcP10xEzzI4EAD4jMypOPxsx\n",
              "Q3/67CM9sOE9nZ08QDHBYaf1Od87skO/XLtINS1NigoM0aOT5+qC9KHdlNg3jYhN0ZJLfqKfrPqf\n",
              "Pik4oJ+vfk1bSnP1wFmXKIhNyNCuobVFS3P36I3DW/VJ/gHX+nebxapJif3aC/wgZUbFmpwUJzNv\n",
              "8ATZrVbdve5N/XPvOrUaTv1+/KUsGfUA/FcWcIPG1hb9YPlLOtZQq0G9EvTY5Cv5DSYAdLNbh03V\n",
              "O0d2aN/xYj248T0tmHp1lz5PQ2uLHtjwrv5zYKMk6cw+6frbtO8qOTy6G9P6rl7BYXrx3Hl6Ylvb\n",
              "jv8v7d+gHeUFenb6dfx/6MechlPri4/ojUOf6f2ju1Tb0uS6NiI2RZdnjtRlmSMUFxJhYkqcqusG\n",
              "niW7xapfrn1DL+77VC1Oh/448XIKvcko80A3MwxD96x/U9vL8hUdFKp/zrxBoQEcPwcA3S3QZtef\n",
              "Jl2hy957SosObdXl/Ubp7OQBnfocBypL9MMV/9X+yhJZZNFtZ5ytO0adw2kjnWS1WHXHqHM0Ki5V\n",
              "P1n1P20vy9cF7zypv077jqZ18t8JvNu+48V649BWvXlo2wmb2KWER+uKzFG6vN8o9Y/uY2JCdNV3\n",
              "BoxVgM2u21e/qpcPbFKr06FHJs3tkSNCcXJsgAd0s+f3rNX9G96V1WLRf8+7SZM5gxcA3Or+De/q\n",
              "+T1rlRreS8tm335Kv0A1DEP/O7hZ9376jhodLYoLCdeCKVdranL/Hkjs2/JqKnTLiv9oR3mBLLLo\n",
              "zlHn6KcjpnMHz4eV1FfrrcPb9MahrdpdUeR6PDIwWBdnnKE5/UZpbHw63wM+4u3D2/XTVf+Tw3Bq\n",
              "duZIPTHlStn5BagpuDMPdKO1hdn6bfuOn/eNnUWRB4Ae8KvR5+mDnN3Kqz2uR7Z+pN+Mu/gb37+m\n",
              "uVH3rH9Lbx3eJkmamtRfT0y5Sn1CGfftDqkRMXpj1q26v33pwiNbl+qzY7laMPVq9QoKNTseukld\n",
              "S5OW5OzWG4e2ak1Rtpzt9wcDrDbNSBmoK/qN0syUQWwe6YMuyxwhm9Wq2z55WW8d3iaH06knp13N\n",
              "RJMJ3PrrsYyMDA0cOFAjR47UyJEj9b///U+SdPDgQU2cOFEDBgzQ2LFjtXv3btfHdPUaYLa8mgrd\n",
              "+sl/5TCcmtNvlG4eMtnsSADgF8ICgvTQhNmSpH/sWavtZflf+747yvJ1wTt/0VuHt8lmseruMRdo\n",
              "4Xnfo8h3s2B7gP446Qo9Nnmugmx2Lc/fr1nv/EU7ywrMjobT0Op0aEX+fv1k5Ssa+crv9fPVr2pV\n",
              "4UE5DUNn9knXwxNm67Or/0/Pz7xBF2UMp8j7sIszhuuZ6dcqwGrTu0d36Icr/qtmR6vZsfyOW8fs\n",
              "MzIy9NZbb2nkyJEnPD5jxgzdcMMNmjdvnl5//XX98Y9/1KZNm07r2qlgzB7uUt/SrNmLn9KeiiKd\n",
              "0TtZi2bdynEqANDDfrzyZb19eLuGxiTqvUtuO+EukWEYen7PWv2/zUvU4nQoOSxaf5v2XZ0Zn25i\n",
              "Yv+wu7xQ81csVE5NhYJsdv1+/GX67oCxZsfCKTIMQzvLC/TGoa16+8h2HWuodV3rGxmrOf1G6fJ+\n",
              "I5UewTnw/mhZ3j79YPlLanY6dG7qYD09/VpOsuhBPV7mS0tLlZWVpYqKCtntdhmGocTERK1Zs0aR\n",
              "kZFdupaVdWqjzJR5uINhGPrxypf1zpEdig0O1+JLblMSu/cCQI8ra6jV2W8+psqmet0z5gL9+Iyz\n",
              "JUnHG+t0x5rXtTRvryTp/LQhemTyXEa+e1BlU71+vvpVfZy3T5L0nf5n6vfjL+POrQfLrz2uNw+1\n",
              "rYM/WFXqejwmKEyXZp6hOf1Ga2RsCqf1QJ8UHNBNy15Uk6NVZycP0HMzruemVg9x+69NbrjhBhmG\n",
              "oXHjxukPf/iD8vLylJiYKLu97UtbLBalpaUpNzdXUVFRXbp2sjLf1NSkpqamEx5zOBxufrbwR0/t\n",
              "WqV3juyQ3WLVM9OvpcgDgEliQ8J1/9iLdPua1/TYto81K2OYSutr9OOVL6u4vlqBVpvuG3uR5g2e\n",
              "QAHpYR2nu/x1xyf682dL9crBzdpdUaRnpl+rtIgYs+OhXVVTg97P2ak3Dm3Vp8VHXI8H2ew6P22I\n",
              "rug3StOSB7A2Gic4O3mA/n3OPM37+N/6pOCA7lzzmv5+9jVmx/ILbi3zq1atUlpamlpaWnTvvffq\n",
              "xhtv1O9+9zt3fkmXhx9+WA8++OAJj40fP75Hvjb8x4r8/Xp48weSpN+Ov1RnJfQ1OREA+Le5WaP1\n",
              "xuGtWl2YrWs//Kfy647LaRjKjIzVU2dfo6G9k8yO6LesFqt+OmKGRsam6scrX9bO8gJd+M5f9OTU\n",
              "qzUzdZDZ8fxWs6NVK/L3643D2/Rx3l41ta97tsiiCQl9NSdrtC5MH6bIwGCTk8KTTU7K0vMzr9e1\n",
              "H/1TS3J2y+F0cmRdD+ixo+mKioo0YMAAHTp0qEfG7E92Z/6+++7TggULeuLpwg8crirTJe/9VVXN\n",
              "jbpmwDj9ceLl3OkBAA9wtLpc57z1hBodLZKkOf1G6aEJsxUWEGRyMnQoqK3ULSv+o21lebLIop+N\n",
              "nKHbR8zkL/89xDAMfXYsV28c2qp3juzQ8aZ617WB0fG6ot8oXZ45kmlDdIrD6VTWS/epxenQhivv\n",
              "VjLfP27ntjvzdXV1amlpUXR0tCTp5Zdf1qhRo9SnTx+NHj1aCxcu1Lx587Ro0SKlpKS4CnlXr31Z\n",
              "UFCQgoJO/KFtszEShO5R29Kkm5e/qKrmRo2JS9Pvxl9KkQcAD5ER2Vt/mDhbT+1cpVuHTdWV/ceY\n",
              "HQlfkhwerUWzbtGDG9/Ti/s+1RPblmnrsTz9derV6hUcZnY8n3WkukxvHNqqNw5tU05Nuevx+JAI\n",
              "zc4cqSv6jdKQmET+ToMusVmtSg6L1tGacuXWVlDme4Db7swfPnxYc+bMkcPhkGEYyszM1IIFC5SR\n",
              "kaH9+/dr3rx5Ki8vV2RkpF544QUNHz5ckrp87VSwAR66g9Nw6gfLF+rD3D2KD43U4ktuU3xopNmx\n",
              "AADwSq9nf6a7172pRkeLksOi9cz0azUyLtXsWD7jeFO93jm8XYsObdVnx3Jdj4faAzUrfZiu6DdK\n",
              "kxL7MRWBbnHNh89rVeFBPTp5rq7uf6bZcXye2+7MZ2ZmauvWrSe9NnDgQK1fv75brwE9ZcH25fow\n",
              "d48CrTY9N+M6ijwAAKdhbtZoDYlJ1PzlC3W0plxXLH5avx1/qa4dMI47xKchv/a4nt21Wi8f3KSG\n",
              "1rYlJ1aLRVOT+mtOv9E6P22IQgMCTU4JX9OxoWVuTYXJSfwDhwACnfBhzm49uvVjSdLDEy/X6Lg0\n",
              "kxMBAOD9hsQkavGlP9Htq1/Vh7l7dPe6N7WlNEcPTZitEDuFszP2VhTrqV0r9fbh7XIYTklt//9e\n",
              "lTVGl/YdoT6hESYnhC9LDe8lScqrPW5yEv9AmQdO0YHKEv101f8kSfMGT2B0CACAbhQZGKx/zLhe\n",
              "T+1apT9s+UCvZX+m3RVFenb6dcqI7G12PI+3seSo/rbjEy3L3+d6bEpSln40fJomJ2Yx5YAewZ35\n",
              "nkWZB05BVVODblr2kupamzU+oa/uH3ex2ZEAAPA5FotFPxo+TSNiU/TjT17WnooizXr3L1ow5Sqd\n",
              "mzbE7Hgex2k49XHePv1950ptLs2R1Hak3EUZw/Sj4dN0RmyKyQnhbzrKfB5lvkdQ5oFv4XA6ddvK\n",
              "V3Skusy1MU+AlZMRAABwl0mJ/bTk0p/o1hX/0ZZjufreshf1kzOm6xejzmWjNrWdDf/24e16atdK\n",
              "HagslSQFWm26MmuMbhk2VZlRsSYnhL9Kax+zL2moUUNri0LsASYn8m2UeeBb/HnrR1pRsF/BtgA9\n",
              "P/N69Q4ONzsSAAA+LzEsSq9dOF+/37RY/9y7Tn/ZsUIbS47q+0MmanryQL/cvK2upUkvH9ikZ3at\n",
              "VlF9lSQpIiBI1w8ar5uGTGJTXpguOihU4QFBqm1pUn7tcfWP7mN2JJ9GmQe+wbtHduivOz6RJP15\n",
              "0hwN651sbiAAAPxIoM2u346/VGP6pOuXaxdpQ8kRbSg5omBbgKanDNCs9OE6J3WQIgKDzY7qVuWN\n",
              "tfrnnnX61971qmpukCT1CYnQzUMn67qBZynSx58/vIfFYlFaRIz2VBQpt6aCMu9mlHnga+ypKNQd\n",
              "a16TJN0ybKou7zfS3EAAAPipyzJHaHjvZP1n/wYtztmlvNrjWpKzW0tydivQatOUpP6alTFM56UN\n",
              "Ua+gULPjdpu8mgo9s3u1XjmwWY2OtuPl+kbG6tZhUzWn3ygFM8IMD5Qa3kt7KorY0b4HUOaBk6ho\n",
              "rNNNy15SQ2uLpiX11/+NucDsSAAA+LXMqFjdN+4i3Tt2lnaVF2pxzi4tztmlQ1XHtCx/n5bl75PN\n",
              "YtXExExdlD5c56cPUVyIdx7DtqeiSE/tXKl3juxwHS83IjZFPxw+TRemDWXfAHi0z3e0Lzc5ie+j\n",
              "zANf0up06Ief/Fd5tceVHhGjv579XX5oAgDgISwWi4bHJmt4bLJ+Nfo8Hags1eKcnVp8dJf2Hi/W\n",
              "6sJsrS7M1j3r39K4+AxdmD5Us9KHKSk82uzo38gwDG0oOaK/71yp5fn7XY9PTeqvHw+fpomJ/The\n",
              "Dl4hLbyjzHNn3t0o88CX/L/NS7S26JBC7YF6fuYNPjWuBwCAL7FYLBrYK14De8Xr9pHn6Eh1mRYf\n",
              "bbtjv70s37XG/oGN72lkbKouyhimWRnDlB7hOefWOw2nPsrdq7/vXKnPjuVKkqwWiy5KH64fDZ+m\n",
              "4bHs1wPv4jqerpbj6dyNMg98wevZW/Tc7jWSpCemXKVBvRJMTgQAAE5V38hY/fiMs/XjM85WQW2l\n",
              "lrSP4m8qydG2sjxtK8vT/9u8RENjEjUrfZhmZQw3bYOuZker3jy8TU/tXKnsqmOSpCCbXVdljdH8\n",
              "YVPUN5Lj5eCdUiPajqfLramQYRhMlLgRZR5ot70sX3ete1OS9LMRMzQrY5jJiQAAQFclh0fr5qGT\n",
              "dfPQySqpr9aHuXu0+OgurS8+rN0VRdpdUaQ/b12q/lF9NCtjmGalD9OQmES3F4/alib9d/9GPbt7\n",
              "tYrrqyVJkYHBuqH9eDlvXecPdEhtP2u+pqVJlc0NTLm6EWUekHSsoUY3L3tJTY5WnZM6SHeOOsfs\n",
              "SAAAoJvEh0bqhkHjdcOg8aporNNHuXu0OGeXVhdm62BVqRZsX64F25crPSJGF6a3jeKPik3t1mJf\n",
              "1lCrF/au07/2rlNVc2NbrpAI/WDoFF07cJzPH68H/xFiD1SfkAiVNtQot6aCMu9GlHn4vWZHq25Z\n",
              "8R8V1VepX1Scnpz6HVktbHgHAIAvigkO03cGjNV3BoxVdXOjPs7bq8VHd+mTggPKqanQ07tW6eld\n",
              "q5QYGtW2eV7GMI3tk9HlzXBzayr0zK5VeuXgZjU5WiVJmZGx+uHwabqi3ygF2fjrOHxPangvlTbU\n",
              "KK+mQiNiU8yO47P4rwf83gMb39PGkqOKCAjSP2feoEh+Mw4AgF+IDAzWFf1G6Yp+o1Tf0qzlBfu1\n",
              "5OgufZy3V0X1Vfrn3nX65951igsJ1/lpbbviT0jMVIDV9q2fe09Fof62c6XeO7LTdbzcyNhU/Wj4\n",
              "NJ2fNoSTcuDT0iJitOVYrnI5a96tKPPwa//Zv1Ev7vtUFln012nfVb+oOLMjAQAAE4QGBOrijOG6\n",
              "OGO4GltbtLrwoBbn7NJHuXt1rKFWC/dv0ML9GxQdFKrzUgdrVsYwTUnqf8KddcMwtL74sP6+c6U+\n",
              "KTjgenxa8gD9aPg0TUzIZDMw+IXPz5pnR3t3oszDb20uydG9n74tSfrl6HM1M3WQyYkAAIAnCLYH\n",
              "6Ny0ITo3bYhanA6tKzqkxUd36YPc3SpvrNOr2Vv0avYWhQcEaWbqIM1KHyaLLHpq10ptPZYnqe14\n",
              "uUsyztAPh0/VsN4cLwf/0rEJXh5l3q0o8/BLRXVVmr9ioVqcDl2UMVw/OWO62ZEAAIAHCrDaNC15\n",
              "gKYlD9BDE2ZrY+lRLT66S0tydqm4vlpvH96utw9vd71/kM2u7/Q/U/OHTfGo8+yBnuS6M8+YvVtR\n",
              "5uF3Gltb9IPlC1XaUKOB0fF6bPJcRt4AAMC3slmtmpCQqQkJmXrwrIu19Vi+Fufs0gc5u1TX0qxr\n",
              "BozV94dMUmxIuNlRAVN1lPn82uNyOJ3sEeEmlHn4FcMw9H/r39K2sjxFBYbo+Zk3KCwgyOxYAADA\n",
              "y1gtVo3pk6YxfdJ039hZZscBPEpiaJTsFqtanA6V1FcrKTza7Eg+iV+RwK+8sHedXs3eIqvFoqfO\n",
              "vkYZkYy/AQAAAN3JZrUquX3dfG4t6+bdhTIPv7Gu6JAe3Pi+JOnXZ16oqcn9TU4EAAAA+Ka0iPYy\n",
              "zyZ4bkOZh1/Irz2uW1f8Vw7DqcszR2r+0ClmRwIAAAB8Vmo4m+C5G2UePq+htVk3LXtRFU11Gt47\n",
              "WX+aNIcN7wAAAAA36tgEj+Pp3IcyD59mGIZ+sXaRdlcUqXdwmP4x43qF2APMjgUAAAD4tLRwxuzd\n",
              "jTIPn/b0rlV6+/B22S1WPTP9WiWzkyYAAADgdqmcNe92lHn4rE8KDujhLR9Ikh446xKNT8g0OREA\n",
              "AADgH9Lby3xJfbUaW1tMTuObKPPwSUeqy/TjT/4rp2Ho6v5n6sZB482OBAAAAPiNXkGhCrMHSmrb\n",
              "jBrdjzIPn1Pb0qSbl72kquZGjY5L00MTZrPhHQAAANCDLBYLo/ZuRpmHT3EaTv181avaX1mi+JAI\n",
              "PTvjOgXZ7GbHAgAAAPxOOjvauxVlHj7lye0r9EHubgVabXp2xvVKCI00OxIAAADgl1LZ0d6tKPPw\n",
              "GR/l7tEjW5dKkn4/4TKN6ZNmciIAAADAf30+Zk+ZdwfKPHxCXUuTfr76VUnSjYPG65oB40xOBAAA\n",
              "APi3z8fsWTPvDpR5+IQNJUdV3dyo5LBoPXDWJWbHAQAAAPxeajh35t2JMg+fsLbokCRpSlKWAqw2\n",
              "k9MAAAAA6FgzX93cqMqmepPT+B7KPHzCuvYyPykxy+QkAAAAACQpNCBQcSHhkhi1dwfKPLze8aZ6\n",
              "7SovlCRNTMw0OQ0AAACADh2j9jmM2nc7yjy83qfFh2XIUP+oPornKDoAAADAY6RGtI3ac9Z896PM\n",
              "w+utKWwbsZ+Y2M/kJAAAAAC+KL39znxeLWP23Y0yD6/XsV5+chJlHgAAAPAkHWfN53BnvttR5uHV\n",
              "SuqrdbCqVBZZND6B9fIAAACAJ0kLZ8zeXSjz8Grrig5Lkob1TlKvoFCT0wAAAAD4orT2O/P5tcfl\n",
              "NJwmp/EtlHl4tbVF2ZJYLw8AAAB4osSwKNksVjU7HSqurzE7jk+hzMOrddyZn0SZBwAAADyO3WpT\n",
              "cli0JEbtuxtlHl4rt6ZCubUVslusGhefYXYcAAAAACfRMWqfx1nz3YoyD6/VsYv9yLhUhQcEmZwG\n",
              "AAAAwMl0nDXPjvbdizIPr7W2vcwzYg8AAAB4rrSOs+ZrOGu+O1Hm4ZUMw3CVeTa/AwAAADwXY/bu\n",
              "QZmHV8quOqbShhoF2ewaE5dmdhwAAAAAX4Mxe/egzMMrddyVH9snQ8H2AJPTAAAAAPg6HWP2JfU1\n",
              "anK0mpzGd1Dm4ZU6zpdnvTwAAADg2XoHhynUHihDhgpqWTffXSjz8DpOw+k6X5718gAAAIBns1gs\n",
              "Sg1n1L67UebhdfZUFKmquUHhAUEaEZtsdhwAAAAA3+LzTfC4M99dKPPwOh3r5c+K7yu71WZyGgAA\n",
              "AADfpqPM53JnvttQ5uF1OF8eAAAA8C4dY/aU+e5DmYdXaXE6tKH4iCTKPAAAAOAtGLPvfpR5eJXt\n",
              "x/JV19qsXkGhGhyTYHYcAAAAAKeAMfvuR5mHV+k4km5iYj9ZLXz7AgAAAN6gY8y+qrlBVU0NJqfx\n",
              "DbQheBXWywMAAADeJywgSL2DwyRJebXcne8OlHl4jYbWFm05liuJMg8AAAB4m89H7Vk33x0o8/Aa\n",
              "n5XmqMnRqvjQSGVGxpodBwAAAEAnpIWzbr47UebhNb44Ym+xWExOAwAAAKAzUiPa1s0zZt89KPPw\n",
              "GqyXBwAAALwXY/bdq0fK/AsvvCCLxaK33npLklRaWqoLLrhA/fv317Bhw7Rq1SrX+3b1GnxbbUuT\n",
              "tpXlS6LMAwAAAN7INWbPnflu4fYyf/ToUT333HMaP36867G7775b48eP18GDB/XCCy/ommuuUUtL\n",
              "y2ldg2/bUHxEDsOp9IjeSmk/1gIAAACA9+gYs8+vPS6n4TQ5jfdza5l3Op26+eab9Ze//EVBQUGu\n",
              "x1999VXdeuutkqSxY8cqKSlJK1euPK1r8G0d58tzVx4AAADwTklh0bJZrGpytKq0odbsOF7P7s5P\n",
              "/thjj2nSpEkaM2aM67Hy8nK1tLQoISHB9VhGRoZyc3O7fO1kmpqa1NTUdMJjDoeju54aehjr5QEA\n",
              "AADvFmC1KSksSnm1x5VbU6GE0EizI3k1t92Z37VrlxYtWqR7773XXV/iGz388MOKioo64W3jxo2m\n",
              "ZMHpOd5Yp90VRZKkiYmZJqcBAAAA0FWp7UtmOZ7u9LmtzK9evVpHjx5V//79lZGRoU8//VTz58/X\n",
              "q6++KrvdruLiYtf7Hj16VGlpaerdu3eXrp3MPffco6qqqhPexo0b566nCzdaV3xYkjQwOl5xIREm\n",
              "pwEAAADQVR072nM83elzW5n/4Q9/qKKiIh09elRHjx7V+PHj9eyzz+qHP/yhrrzySj399NOSpE2b\n",
              "NqmgoEDTpk2TpC5f+7KgoCBFRkae8Gaz2dz1dOFG69pH7CcyYg8AAAB4tc+Pp6PMny63rpn/On/8\n",
              "4x91/fXXq3///goMDNTChQsVEBBwWtfgu1gvDwAAAPiG1HDOmu8uPVbmP/nkE9f/jo+P10cffXTS\n",
              "9+vqNfim4vpqZVcdk0UWjU/oa3YcAAAAAKeBMfvu4/Zz5oHT0TFiP7x3kqKDQk1OAwAAAOB0pLWf\n",
              "NV9UV60mR6vJabwbZR4e7fMR+yyTkwAAAAA4XbHB4QqxB8iQoYLaSrPjeDXKPDyWYRhaW5QtSZqU\n",
              "xHp5AAAAwNtZLBalhTNq3x0o8/BYubUVyq+tlN1i1bg+GWbHAQAAANANUiM4a747UObhsTpG7Ef3\n",
              "SVNoQKDJaQAAAAB0B3a07x6UeXistZwvDwAAAPicdHa07xaUeXgkwzBcO9lzvjwAAADgO1LDGbPv\n",
              "DpR5eKSDVaU61lCrIJtdo+PSzI4DAAAAoJuktt+Zz61lzP50UObhkdYWtt2VHxefoSCb3eQ0AAAA\n",
              "ALpLWnuZr2yqV3Vzo8lpvBdlHh6J8+UBAAAA3xQeEKSYoDBJUh6j9l1GmYfHcTidWl98WBLr5QEA\n",
              "AABf5Dqejk3wuowyD4+zu6JQVc0NiggI0vDeSWbHAQAAANDNXDvaczxdl1Hm4XE6RuzHJ2TKbrWZ\n",
              "nAYAAABAd+s4az6HMfsuo8zD46zlSDoAAADAp3WM2XPWfNdR5uFRmh2t2lhyVJI0kTIPAAAA+CTG\n",
              "7E8fZR4eZXtZvupbmxUTFKZBveLNjgMAAADADTrG7HNrK2QYhslpvBNlHh6lY8R+YmKmrBa+PQEA\n",
              "AABflBweLavFoiZHq0obasyO45VoS/AoHWV+MufLAwAAAD4rwGpTUliUJEbtu4oyD4/R0NqiLaU5\n",
              "klgvDwAAAPg61472bILXJZR5eIwtpTlqdjqUGBqlvpG9zY4DAAAAwI3SOna053i6LqHMw2OsKcqW\n",
              "1HYkncViMTkNAAAAAHdKa78zz/F0XWPvygft2bNH+fn5CgkJ0fDhwxUdHd3NseCPOF8eAAAA8B+p\n",
              "7cfT5XBnvktOuczX1NTokUce0XPPPafQ0FDFx8ersbFRhw4d0rhx43TXXXdp5syZ7swKH1bd3Kjt\n",
              "ZfmSWC8PAAAA+APXnXk2wOuSUy7z06dP1w033KCtW7cqPv7z87+dTqdWr16tp59+WtnZ2brlllvc\n",
              "EhS+bWPJETkNQxkRvZUcHm12HAAAAABultZ+Z76ovkrNjlYF2ro0OO63Tvn/rbVr1yooKOgrj1ut\n",
              "Vk2bNk3Tpk1TU1NTt4aD/2DEHgAAAPAvcSHhCrYFqNHRooK6SvWNjDU7klc55Q3wTlbku/I+wMlQ\n",
              "5gEAAAD/YrFYlBresaM9o/addcpl/uKLL9a6detOeq2yslKPPvqonnnmmW4LBv9R0VinPRVFklgv\n",
              "DwAAAPiTjlH7XHa077RTHrN/6KGHdM8992jPnj0aO3asawO8ffv2qaCgQD/+8Y/1/e9/351Z4aPW\n",
              "FR+WJA3qlaDYkHCT0wAAAADoKantZ83nsqN9p51ymT/jjDP0/vvvKy8vTytXrlR+fr5CQ0N17bXX\n",
              "avLkybLb2awAXbO28PPz5QEAAAD4D3a077pON/Djx4/ruuuuO+GxHTt26Iwzzui2UPAvrJcHAAAA\n",
              "/BNj9l13ymvmO8ybN++UHgNORWFdlQ5Xl8lqseis+L5mxwEAAADQg9IYs++yU74zX1paquLiYjU0\n",
              "NGjnzp0yDEOSVFVVpbq6OrcFhG9b135XfnjvZEUFhZicBgAAAEBPSm0fsz/eVK/aliaFB3BC2qk6\n",
              "5TL/8ssv64knnlBhYaEuvfRS1+NRUVH61a9+5ZZw8H3rGLEHAAAA/FZEYLB6BYXqeFO9cmsqNCQm\n",
              "0exIXuOUy/zPfvYz/exnP9Pvfvc73Xfffe7MBD9hGAbr5QEAAAA/lxYRQ5nvgk5vgHfffffJ6XSq\n",
              "uLhYra2trsfT0tK6NRh8X05NhQrqKhVgtWlcfIbZcQAAAACYIDW8l7aX5SuPTfA6pdNl/t///rd+\n",
              "8pOfKCAgQFZr2/55FotFpaWl3R4Ovq3jrvzouDSF2ANNTgMAAADADK4d7TmerlM6XeZ/+9vfatOm\n",
              "TRo4cKA78sCPsF4eAAAAQMdZ8+xo3zmdPpouNjaWIo/Txnp5AAAAAJKU2n48HWP2ndPpMj979mw9\n",
              "8cQTKi0tVXV1tesN6Iz9lSUqa6xVsC1Ao+JSzY4DAAAAwCRfHLPvOAId367TY/a//vWvJUl33HGH\n",
              "LBaLDMOQxWKRw+Ho9nDwXR135c+Kz1CgrdPfhgAAAAB8RHJYtCyyqNHRomMNteoTGmF2JK/Q6Tvz\n",
              "TqfT9eZwOFz/BDqjY738REbsAQAAAL8WaLMrMSxSEqP2ndHpMg+cLofTqfXFhyWxXh4AAAAAO9p3\n",
              "RafLvNVqlc1m+8obcKp2VRSqurlRkYHBGt472ew4AAAAAEz2+Y725SYn8R6dXqxcU1Pj+t8NDQ16\n",
              "8cUXGbNHp3Ssl5+QkCmbleEQAAAAwN917GifW8ud+VPV6SYVFhbmeouNjdUdd9yh119/3R3Z4KPW\n",
              "sl4eAAAAwBekRfSWJOVx1vwpO+3bovv27VNZWVl3ZIEfaHa0amPJEUmslwcAAADQJi284848Zf5U\n",
              "dXrMvlevXrJYLJKk1tZWSdJf/vKX7k0Fn7X1WJ4aWlvUOzhMA6PjzY4DAAAAwAOktm+AV1hXpRan\n",
              "QwFW9mX7Np0u89u2bfv8g+12JSQksAEeTlnHiP2kxH6uXwoBAAAA8G99QsIVZLOrydGqwrpKpbeP\n",
              "3ePrdXrMPj09XXFxcSooKFBOTo6amprckQs+ivXyAAAAAL7MarEqtWPUnnXzp6TTd+bXrVunOXPm\n",
              "KCEhQZJUUlKiRYsWacKECd0eDr6lobVZnx3LlcR6eQAAAAAnSg2PUXbVMc6aP0WdLvMdu9dPmjRJ\n",
              "Ulu5v/322/Xpp592ezj4lk0lOWpxOpQcFq0MxmYAAAAAfEFa+7r5PDbBOyWdHrNvaGhwFXlJmjhx\n",
              "ohobG7s1FHwT6+UBAAAAfJ20CMbsO6PTZT48PFwff/yx68/Lli1TWFhYt4aCb2K9PAAAAICvkxre\n",
              "dmeeMftT0+kx+yeffFJXXHGFawd7p9OpN954o9uDwbdUNzdqR3m+JMo8AAAAgK9KZ8y+Uzpd5gsL\n",
              "C7V582aVlJRIkuLj47Vx48ZuDwbfsqH4sJyGoczIWCWFRZkdBwAAAICH6ThrvryxTnUtTQoLCDI5\n",
              "kWfr9Jj9fffdp7i4OA0bNkzDhg1TbGys7rvvPndkgw9Z84X18gAAAADwZZGBwYoKDJHEqP2p6HSZ\n",
              "/zKLxSKHw9EdWeDD1lLmAQAAAHwLRu1PXafLfEREhNatW+f689q1axUREdGtoeBbyhpqte94sSRp\n",
              "QmKmyWkAAAAAeKqOUXt2tP92nV4z/6c//UmXX365Bg0aJEk6ePCg3nzzzW4PBt+xvviwJGlwrwT1\n",
              "Dg43OQ0AAAAAT5UazvF0p6rTZX7ChAnau3ev1q9fL6ntnPno6OjuzgUf0jFiPzkpy+QkAAAAADzZ\n",
              "52P2rJn/Np0u85LUq1cvzZo1q7uzwEexXh4AAADAqWDM/tSd9gZ4wDcprK3Ukeoy2SxWnRXf1+w4\n",
              "AAAAADxYWseYfW2FDMMwOY1no8zDrdYVt92VPyM2WRGBwSanAQAAAODJksN7ySKLGlpbVN5YZ3Yc\n",
              "j+bWMn/eeefpjDPO0MiRIzVlyhRt3bpVUtumeRMnTtSAAQM0duxY7d692/UxXb0Gz8SIPQAAAIBT\n",
              "FWSzKyE0UpKUw6j9N3JrmX/11Ve1Y8cObdu2TXfccYfmzZsnSbrllls0f/58HThwQHfddZfr8dO5\n",
              "Bs9jGIbWFFLmAQAAAJy6tIi2UXvOmv9mbi3zX9zlvqqqShaLRaWlpdq8ebOuu+46SdKcOXOUl5en\n",
              "7OzsLl87maamJlVXV5/w5nA43Pl08SVHqstVVF+lQKtNZ/ZJNzsOAAAAAC+Q1rGjfQ072n+TLu1m\n",
              "3xk33HCDVqxYIUlavHix8vLylJiYKLu97UtbLBalpaUpNzdXUVFRXbqWlfXVI88efvhhPfjggyc8\n",
              "Nn78eHc+VXzJuvYR+9F90hRiDzQ5DQAAAABvkBreVuZzaspNTuLZ3L4B3osvvqi8vDz9/ve/1113\n",
              "3eXuL+dyzz33qKqq6oS3cePG9djXxxfOl0/kfHkAAAAAp+bzMXvuzH8Tt9+Z73DjjTfq1ltvVUpK\n",
              "ioqKitTa2iq73S7DMJSbm6u0tDRFRkZ26drJBAUFKSgo6ITHbDZbTzxVSHIaTtdO9qyXBwAAAHCq\n",
              "0iJ6S2LM/tu47c58ZWWlCgsLXX9+66231Lt3b/Xp00ejR4/WwoULJUmLFi1SSkqKsrKyunwNnmf/\n",
              "8VKVN9Yp1B6oEbEpZscBAAAA4CVS28+aL6irVKuTfc++jtvuzFdVVenKK69UQ0ODrFar4uLi9N57\n",
              "78liseiZZ57RvHnz9NBDDykyMlIvvPCC6+O6eg2eZW1R28aE4+IzFGjrsQEQAAAAAF4uPjRCQTa7\n",
              "mhytKqyrcm2IhxO5rWWlp6dr48aNJ702cOBArV+/vluvwbOs43x5AAAAAF1gtViVEt5Lh6qOKa+m\n",
              "gjL/Ndy+AR78T6vTofXFhyVR5gEAAAB0XseofQ5nzX8tyjy63c7yQtW0NCkqMFhDY5LMjgMAAADA\n",
              "y3DW/LejzKPbdRxJNz4hUzYr32IAAAAAOiet/az5XO7Mfy2aFrrdOs6XBwAAAHAaUtvPms+tocx/\n",
              "Hco8ulWTo1UbS45KkiYlsV4eAAAAQOd13JlnzP7rUebRrbYey1Wjo0VxIeHqH9XH7DgAAAAAvFDH\n",
              "mvmyxlrVtzSbnMYzUebRrTrWy09M7CeLxWJyGgAAAADeKCooRFGBwZJYN/91KPPoVpwvDwAAAKA7\n",
              "pLpG7SnzJ0OZR7epb2nWZ8fyJFHmAQAAAJyejlH73FrWzZ8MZR7dZlPpUbU4HUoJj3ZtWAEAAAAA\n",
              "XZHaUea5M39SlHl0mzWFn4/Ys14eAAAAwOlIC287no4x+5OjzKPbrCvu2PyO8+UBAAAAnB7G7L8Z\n",
              "ZR7dorKpXjvLCySxXh4AAADA6Uv7wpi9YRgmp/E8lHl0iw3FR+Q0DGVFxSkhNNLsOAAAAAC8XHJY\n",
              "tCSpvrVZFU115obxQJR5dIu1HEkHAAAAoBsF2wNcNwpzaxi1/zLKPLpFR5mfSJkHAAAA0E3S2NH+\n",
              "a1HmcdqONdRof2WJJGliQqbJaQAAAAD4itSOHe1rKfNfRpnHaVtfdFiSNDQmUb2Cw0xOAwAAAMBX\n",
              "fH5nnjH7L6PM47SxXh4AAACAO6SFM2b/dSjzOG1rXGWe8+UBAAAAdJ+OO/OM2X8VZR6nJb/2uHJq\n",
              "ymWzWHVWQl+z4wAAAADwIantZb6gtlKtTofJaTwLZR6nZV37XfmRsSkKDwgyOQ0AAAAAX5IQGqFA\n",
              "q02thlNFdVVmx/EolHmcFtbLAwAAAHAXq8WqlPYd7XNr2QTviyjz6DLDMCjzAAAAANyqY9Q+j03w\n",
              "TkCZR5cdqS5TcX21gmx2je6TbnYcAAAAAD4orePOPGX+BJR5dFnHXfkxcWkKsQeYnAYAAACAL3Kd\n",
              "Nc+Y/Qko8+gyRuwBAAAAuBtj9idHmUeXOA2n1hUdlsT58gAAAADcxzVmz1nzJ6DMo0v2HS9WRVOd\n",
              "wuyBGhGXYnYcAAAAAD6qY8z+WEOtGlqbTU7jOSjz6JKOEfuzEvoqwGozOQ0AAAAAXxUdFKrIwGBJ\n",
              "Um4N6+Y7UObRJayXBwAAANBTUttH7fMYtXehzKPTWp0OfVp8RBJlHgAAAID7uXa0ZxM8F8o8Om1H\n",
              "eYFqW5oUFRiiITGJZscBAAAA4OPSwinzX0aZR6etax+xn5iYKauFbyEAAAAA7uU6no6z5l1oYui0\n",
              "z9fLcyQdAAAAAPdjzP6rKPPolCZHqzaWHJXEenkAAAAAPcN11nxNhQzDMDmNZ6DMo1M+O5arJker\n",
              "4kMilBUVZ3YcAAAAAH4gpb3M17U263hTvclpPANlHp2ypjBbkjQxsZ8sFovJaQAAAAD4g2B7gOJD\n",
              "IyUxat+BMo9OWcf58gAAAABM8MVRe1Dm0Ql1LU3aeixPUtudeQAAAADoKR072ueyo70kyjw64dPi\n",
              "I2o1nEqPiHHtJgkAAAAAPaGjg+RxZ14SZR6dsLrwoCRpSlJ/k5MAAAAA8DeuMftayrxEmUcnrG7f\n",
              "/G5yEufLAwAAAOhZrjH7GsbsJco8TlFxfbX2V5bIIgub3wEAAADocenhbWW+oPa4HE6nyWnMR5nH\n",
              "Kek4ku6M2GT1Cgo1OQ0AAAAAfxMfGqkAq02thlNF9VVmxzEdZR6n5PP18ozYAwAAAOh5NqtVyWHR\n",
              "kjieTqLM4xQYhuG6M8/mdwAAAADMkt6xoz3H01Hm8e0OVJaqpKFGwbYAndkn3ew4AAAAAPzU55vg\n",
              "cWeeMo9v1TFif1ZCXwXZ7CanAQAAAOCvUjuOp6PMU+bx7TqOpJuSyHp5AAAAAOZhzP5zlHl8o2ZH\n",
              "q9YXH5YkTU2mzAMAAAAwD2P2n6PM4xttPZan+tZm9Q4O06BeCWbHAQAAAODH0trH7EsbatTQ2mJy\n",
              "GnNR5vGNVrWvl5+clCWrhW8XAAAAAOaJDgpVRECQJCnfz0ftaWf4RmtYLw8AAADAQ1gsFkbt21Hm\n",
              "8bWqmxu1rSxfkjSV8+UBAAAAeAB2tG9DmcfXWl90SA7DqX5RcUoKjzY7DgAAAAB8YUd7yjxwUqva\n",
              "R+wnM2IPAAAAwEOkhreV+RzuzAMnt7p987upSZR5AAAAAJ4hjbPmJVHm8TUKait1uLpMNotVExL7\n",
              "mR0HAAAAACR9oczXVMgwDJPTmIcyj5PquCs/MjZFkYHBJqcBAAAAgDYp7Rvg1bQ0qbKp3uQ05qHM\n",
              "46RWF7Wvl2fEHgAAAIAHCbEHqE9IhCQp149H7Snz+Aqn4XSdL8+RdAAAAAA8zRdH7f0VZR5fse94\n",
              "scob6xRqD9SouFSz4wAAAADACTrOmvfnHe3dVuYbGxs1e/ZsDRgwQCNGjNC5556r7Oy2u72lpaW6\n",
              "4IIL1L9/fw0bNkyrVq1yfVxXr6H7rCpo+/c0ISFTgTa7yWkAAAAA4ETsaO/mO/Pz58/X/v37tX37\n",
              "dl122WW6+eabJUl33323xo8fr4MHD+qFF17QNddco5aWltO6hu7TsfndFNbLAwAAAPBAjNm7scwH\n",
              "Bwdr1qxZslgskqTx48fr6NGjkqRXX31Vt956qyRp7NixSkpK0sqVK0/r2pc1NTWpurr6hDeHw+Gu\n",
              "p+szGltbtKHkqCRpCuvlAQAAAHggxux7cM38ggULdNlll6m8vFwtLS1KSEhwXcvIyFBubm6Xr53M\n",
              "ww8/rKioqBPeNm7c6L4n6CO2lOao0dGi+JAIDYjuY3YcAAAAAPiKjjvzBXWVcjidJqcxR4+U+Yce\n",
              "ekjZ2dl6+OGHe+LLSZLuueceVVVVnfA2bty4Hvv63uqLR9J1TFUAAAAAgCdJDI2S3WJVi9Ohkvpq\n",
              "s+OYwu1l/pFHHtEbb7yhJUuWKDQ0VL1795bdbldxcbHrfY4ePaq0tLQuXzuZoKAgRUZGnvBms9nc\n",
              "90R9xOr2I+kYsQcAAADgqWxWq5I7Ru1r/XPU3q1l/rHHHtPLL7+spUuXKjo62vX4lVdeqaefflqS\n",
              "tGnTJhUUFGjatGmndQ2n73hTvXaUFUhquzMPAAAAAJ4qLaKtzPvrJnhuO3csPz9fd955pzIzMzV9\n",
              "+nRJbXfLN2zYoD/+8Y+6/vrr1b9/fwUGBmrhwoUKCAiQpC5fw+lbW3RIhgwNjI5XQmik2XEAAAAA\n",
              "4Gulhbetm8/10+Pp3FbmU1JSZBjGSa/Fx8fro48+6tZrOH2rC9qOpOOuPAAAAABPl9q+CV6un96Z\n",
              "77Hd7OH51rRvfjeV9fIAAAAAPFxauH+P2VPmIUnKqSlXTk2F7Barxif0NTsOAAAAAHyjjuPp/HXM\n",
              "njIPSZ/vYj+mT5rCAoJMTgMAAAAA36yjzJfUV6uhtcXkND2PMg9JHEkHAAAAwLv0CgpVmD1QklTg\n",
              "h3fnKfOQw+nU2qJDkqQpbH4HAAAAwAtYLBa/HrWnzEO7KgpV2VSviIAgjYhNMTsOAAAAAJySND/e\n",
              "0Z4yD60ubDuSbmJiP9mtNpPTAAAAAMCpSfXjHe0p82C9PAAAAACv9PmYPWUefqahtVmbSo5KYr08\n",
              "AAAAAO/CmD381saSo2p2OpQUFqXMyFiz4wAAAADAKUsNbyvzeWyAB3+z6gsj9haLxeQ0AAAAAHDq\n",
              "0iLa1sxXNzeqsqne5DQ9izLv59a0b37HiD0AAAAAbxNiD1RcSLgk/xu1p8z7sbKGWu2uKJIkTU6k\n",
              "zAMAAADwPh2j9v521jxl3o+tKWobsR8Sk6jY9t9mAQAAAIA36dgEz9+Op6PM+zGOpAMAAADg7dLa\n",
              "z5pnzB5+wTAMrWa9PAAAAAAvlxrBmD38yJHqMhXWVSnQatNZ8RlmxwEAAACALmHMHn6l40i6M/uk\n",
              "K8QeaHIaAAAAAOiajjH7/NrjchpOk9P0HMq8n+oYsZ+azHp5AAAAAN4rMSxKNotVzU6HiutrzI7T\n",
              "YyjzfqjV6dC6okOS2PwOAAAAgHezW21KCY+W5F+j9pR5P7S9LF81LU2KCgzRsJgks+MAAAAAwGlx\n",
              "nTVPmYcv6ziSbnJSlmxWvgUAAAAAeLfUiPbj6Wop8/BhriPpEjmSDgAAAID3S3ftaO8/x9NR5v1M\n",
              "XUuTtpTmSpKmJFPmAQAAAHg/15g9d+bhqz4tPqJWw6m08BilR/Q2Ow4AAAAAnDbXmD1r5uGrXCP2\n",
              "SdyVBwAAAOAbOsbsS+pr1NjaYnKankGZ9zMdm99N4Xx5AAAAAD4iJihMofZAGTJUUFdpdpweQZn3\n",
              "I8X11dpfWSKLLJqUkGl2HAAAAADoFhaLRanh/jVqT5n3I2va78qfEZusXsFhJqcBAAAAgO7j2tG+\n",
              "1j92tKfM+5GO9fKTOZIOAAAAgI9JbS/zOdyZhy8xDMN1Z34qm98BAAAA8DEdY/Z5lHn4kgOVpSpp\n",
              "qFGQza4xfdLNjgMAAAAA3Yoxe/ikjhH78fF9FWwPMDkNAAAAAHSvjjH73Jpyk5P0DMq8n+g4km4y\n",
              "I/YAAAAAfFDHmH1Vc6OqmhpMTuN+lHk/0Oxo1friw5KkqUmcLw8AAADA94QFBCk2OFySlFfr++vm\n",
              "KfN+YOuxPNW3Nqt3cJgGxySYHQcAAAAA3CI1ou3uvD/saE+Z9wOrvnAkndXCv3IAAAAAviktvH0T\n",
              "vBrf3wSPZucHOo6km8J6eQAAAAA+LM21oz135uHlqpsbta0sX5I0hfXyAAAAAHwYY/bwGeuLDslh\n",
              "OJUZGavk8Giz4wAAAACA27jG7P3grHnKvI9bxYg9AAAAAD/RMWafX3tcTsNpchr3osz7uDVFHWWe\n",
              "EXsAAAAAvi0pLEo2i1VNjlaV1NeYHcetKPM+rLC2UoeqjslqsWhCQqbZcQAAAADArexWm5LCoiT5\n",
              "/qg9Zd6HdRxJNzI2VVFBISanAQAAAAD36xi1z/XxTfAo8z5sdRHr5QEAAAD4l9Twth3tKfPwSk7D\n",
              "yfnyAAAAAPyOv5w1T5n3UfuOF6u8sU6h9kCNjkszOw4AAAAA9IjPx+xZMw8vtKqg7a78+IS+CrTZ\n",
              "TU4DAAAAAD0jNZw18/BiHevlp3IkHQAAAAA/khbRtma+uL5aTY5Wk9O4D2XeBzW2tmhD8RFJ0mTW\n",
              "ywMAAADwI7HB4QqxB8iQoYLaSrPjuA1l3gdtKc1Ro6NFfUIiNDA63uw4AAAAANBjLBaL0jpG7X14\n",
              "EzzKvA/qGLGfnJQli8VichoAAAAA6Fmp7aP2eT68bp4y74NWF3asl2fEHgAAAID/cd2Z9+Ed7Snz\n",
              "PuZ4U712lBVIkiaz+R0AAAAAP+Q6no4xe3iLtUWHZMjQgOg+SgiNNDsOAAAAAPS41HDG7OFl1rSP\n",
              "2E/hrjwAAAAAP5UW0VuSlFvLmD28xOrCg5KkKayXBwAAAOCnOs6ar2yqV3Vzo8lp3IMy70NyasqV\n",
              "U1Mhu8Wq8QmZZscBAAAAAFOEBQQpJihMku+O2lPmfUjHLvaj+6QpPCDI5DQAAAAAYB5f3wSPMu9D\n",
              "VrvWyzNiDwAAAMC/dYza53JnHp7M4XRqbdEhSdKURDa/AwAAAODfUn38rHnKvI/YVVGoyqZ6RQQE\n",
              "aWRcitlxAAAAAMBUHWP2eYzZw5N1jNhPTOwnu9VmchoAAAAAMBdj9qfhpz/9qTIyMmSxWLRt2zbX\n",
              "4wcPHtTEiRM1YMAAjR07Vrt37z7ta/6u40i6yYmslwcAAACAjjH7vNrjMgzD5DTdz61lfu7cuVqz\n",
              "Zo3S09NPePyWW27R/PnzdeDAAd11112aN2/eaV/zZw2tzdpUclSSNDWZ9fIAAAAAkBweLavFoiZH\n",
              "q0obasyO0+3cWuanTp2qlJQT12+XlpZq8+bNuu666yRJc+bMUV5enrKzs7t87WSamppUXV19wpvD\n",
              "4XDjszXPxpKjanY6lBgapczIWLPjAAAAAIDpAqw2JYVFSfLNUfseXzOfl5enxMRE2e12SZLFYlFa\n",
              "Wppyc3O7fO1kHn74YUVFRZ3wtnHjxp55kj1sVft6+anJWbJYLCanAQAAAADP4NrRvtb3drT32Q3w\n",
              "7rnnHlVVVZ3wNm7cOLNjucUa13p5RuwBAAAAoINrR3sfvDNv7+kvmJqaqqKiIrW2tsput8swDOXm\n",
              "5iotLU2RkZFdunYyQUFBCgoKOuExm833dnkva6jV7ooiSdLkpH4mpwEAAAAAz5EW7rs72vf4nfk+\n",
              "ffpo9OjRWrhwoSRp0aJFSklJUVZWVpev+bO1RYckSYN7JSguJMLkNAAAAADgOVIjOsbsfa/Mu/XO\n",
              "/C233KL3339fxcXFOv/88xUREaHs7Gw988wzmjdvnh566CFFRkbqhRdecH1MV6/5q1XtI/ZTkxix\n",
              "BwAAAIAvSneN2fvemnm3lvlnnnnmpI8PHDhQ69ev79Zr/sgwDNf58lM4kg4AAAAATtCxAV5hXZWa\n",
              "Ha0KtPX4SnO38dkN8PzBkeoyFdZVKdBq01nxGWbHAQAAAACPEhcSrmBbgAwZKqirNDtOt6LMe7GO\n",
              "I+nO7JOuEHugyWkAAAAAwLNYLBalRbRtgudro/aUeS/mGrFnvTwAAAAAnJTrrHkf29GeMu+lWp0O\n",
              "rWvfyX5Kkn/v6A8AAAAAXye1/c68r+1oT5n3UtvLClTT0qSowBAN751sdhwAAAAA8Ei+uqM9Zd5L\n",
              "dYzYT0rsJ5uVf40AAAAAcDKuMXvuzMMTfL5enhF7AAAAAPg6HRvg+dqaed85ZM+P1LU0aUtpriQ2\n",
              "vwMAAACAb5IZGaf/nX+zUtvH7X0FZd4LfVp8RK2GU2nhMcqI7G12HAAAAADwWMH2AE3ywYlmxuy9\n",
              "UMeI/WQf/IYEAAAAAHw7yrwXWl2YLUmaSpkHAAAAAL9EmfcyJfXV2l9ZIossmpTYz+w4AAAAAAAT\n",
              "UOa9TMdd+eG9k9QrOMzkNAAAAAAAM1DmvQzr5QEAAAAAlHkvYhiG1rjWy3MkHQAAAAD4K8q8FzlQ\n",
              "WaqShhoF2ew6s0+62XEAAAAAACahzHuRjhH7s+L7KtgeYHIaAAAAAIBZKPNepGPzuymslwcAAAAA\n",
              "v0aZ9xItTofWFx+WRJkHAAAAAH9HmfcSn5Xmqr61WTFBYRoSk2h2HAAAAACAiSjzXmKV60i6frJa\n",
              "+NcGAAAAAP6MVugl1rjWy3MkHQAAAAD4O8q8F6hubtS2snxJrJcHAAAAAFDmvcL6okNyGE71jYxV\n",
              "Sngvs+MAAAAAAExGmfcCq9pH7KdyVx4AAAAAIMq8V1hT1FbmJ1PmAQAAAACizHu8wtpKHao6JqvF\n",
              "ookJ/cyOAwAAAADwAJR5D9dxJN2I2BRFBYWYnAYAAAAA4Ako8x5udVHHenmOpAMAAAAAtKHMezCn\n",
              "4XSdL896eQAAAABAB8q8B9t3vFjljXUKsQdoTFya2XEAAAAAAB6CMu/BVhW03ZUfH5+pQJvd5DQA\n",
              "AAAAAE9BmfdgrvXyyYzYAwAAAAA+R5n3UI2tLdpQfESSNIXN7wAAAAAAX0CZ91BbSnPU6GhRn5AI\n",
              "DYyONzsOAAAAAMCDUOY9VMeI/eSkLFksFpPTAAAAAAA8CWXeQ61uP5JuSiLr5QEAAAAAJ6LMe6Dj\n",
              "TfXaUVYgifPlAQAAAABfRZn3QGuLDsmQof5RfZQYFmV2HAAAAACAh6HMe6A1HSP23JUHAAAAAJwE\n",
              "Zd4DrS48KIkyDwAAAAA4Ocq8hylrqFVZQ63sFqsmJPYzOw4AAAAAwAPZzQ6AE8WGhGvnNb/RwcpS\n",
              "hQcEmR0HAAAAAOCBuDPvgQJtdg3tnWR2DAAAAACAh6LMAwAAAADgZSjzAAAAAAB4Gco8AAAAAABe\n",
              "hjIPAAAAAICXocwDAAAAAOBlKPMAAAAAAHgZyjwAAAAAAF6GMg8AAAAAgJehzAMAAAAA4GUo8wAA\n",
              "AAAAeBnKPAAAAAAAXoYyDwAAAACAl6HMAwAAAADgZSjzAAAAAAB4Gco8AAAAAABehjIPAAAAAICX\n",
              "ocwDAAAAAOBlKPMAAAAAAHgZyjwAAAAAAF7GYhiGYXaInnLFFVcoIyNDkuRwOLRx40aNGzdONpvN\n",
              "3GCAiXgtAG14LQC8DoAOvBZgtvT0dP3sZz/7xvfxqzL/RdXV1YqKilJVVZUiIyPNjgOYhtcC0IbX\n",
              "AsDrAOjAawHegDF7AAAAAAC8DGUeAAAAAAAvQ5kHAAAAAMDL+G2ZDwoK0v3336+goCCzowCm4rUA\n",
              "tOG1APA6ADrwWoA38NsN8AAAAAAA8FZ+e2ceAAAAAABvRZkHAAAAAMDLUOYBAAAAAPAyPlPmGxsb\n",
              "NXv2bA0YMEAjRozQueeeq+zsbElSaWmpLrjgAvXv31/Dhg3TqlWrXB/X1WuAp3LHa+Hss89W3759\n",
              "NXLkSI0cOVKPP/54jz8voDO6+jp46KGHNHDgQFmtVr311lsnfE5+JsAbueO1wM8EeKOuvha+973v\n",
              "uT5m0qRJ2rRpk+tafX29vvvd7yorK0sDBgzQ66+/3uPPC37O8BENDQ3G+++/bzidTsMwDOMvf/mL\n",
              "MW3aNMMwDON73/uecf/99xuGYRgbN240kpOTjebm5tO6Bngqd7wWpk2bZrz55ps9+TSA09LV18GG\n",
              "DRuMQ4cOnfR7np8J8EbueC3wMwHeqKuvhbfffttoaWkxDMMw3n33XSM9Pd31OR988EHjxhtvNAzD\n",
              "MA4fPmzExcUZZWVlPfJ8AMMwDJ8p81+2adMm14stLCzMKCoqcl0bO3assXTp0tO6BniL7ngt8Bc3\n",
              "eLtTfR10ONn3PD8T4Au647XAzwT4gs6+FgzDMI4dO2bY7XZXuR8yZIixfv161/Urr7zSeO6559wb\n",
              "HPgCnxmz/7IFCxbosssuU3l5uVpaWpSQkOC6lpGRodzc3C5fA7zJ6b4WOtx9990aPny4rr76ah0+\n",
              "fLhHnwNwuk7ldfBN+JkAX3G6r4UO/EyAt+vKa2HBggWaNWuW7Ha7JCk3N1fp6enf+nGAu9jNDuAO\n",
              "Dz30kLKzs7Vs2TI1NDSYHQcwTXe9Fl566SWlpqbKMAz97W9/08UXX6w9e/Z0Y1LAffiZALThZwLQ\n",
              "piuvhYULF+rVV19lvxR4FJ+7M//II4/ojTfe0JIlSxQaGqrevXvLbreruLjY9T5Hjx5VWlpal68B\n",
              "3qC7XguSlJqaKkmyWCy67bbbdPjwYZWXl/fsEwK6oDOvg2/CzwR4u+56LUj8TIB368pr4X//+58e\n",
              "fPBBLV26VPHx8a7H09LSlJOT87UfB7ibT5X5xx57TC+//LKWLl2q6Oho1+NXXnmlnn76aUnSpk2b\n",
              "VFBQoGnTpp3WNcCTdedrobW1VSUlJa7PsWjRIsXHx6t3794994SALujK6+Cb8DMB3qo7Xwv8TIA3\n",
              "68pr4dVXX9W9996rjz/++CtF/Ysfd+TIEX3yySeaPXt2jzwXQJIshmEYZofoDvn5+UpNTVVmZqYi\n",
              "IiIkSUFBQdqwYYNKSkp0/fXX68iRIwoMDNRf//pXTZ8+XZK6fA3wVN39Wqirq9O0adPU1NQkq9Wq\n",
              "2NhYPfbYYxoxYoSZTxP4Rl19Hfz+97/X008/rWPHjikiIkLBwcHaunWr4uLi+JkAr9Tdr4XQ0FB+\n",
              "JsArdfW1EBAQoISEhBN+YbVs2TL17t1bdXV1+v73v6/NmzfLZrPp97//va666ipTnh/8k8+UeQAA\n",
              "AAAA/IVPjdkDAAAAAOAPKPMAAAAAAHgZyjwAAAAAAF6GMg8AAAAAgJehzAMAgB7R2tpqdgQAAHwG\n",
              "ZR4AALg88sgjmj9/vuvPlZWVio2NVUVFhR555BGNGzdOo0eP1gUXXKCcnBxJbcc0TZgwQaNGjdLQ\n",
              "oUP1/PPPuz5+3rx5+v73v6+pU6dq2LBhPf58AADwVRxNBwAAXCorKzVgwAAdOHBA0dHRevzxx7Vr\n",
              "1y7NnDlTK1as0NNPPy2bzaaXXnpJr7zyit5//30dP35ckZGRstlsqqio0KhRo7R27VqlpKRo3rx5\n",
              "2rp1q9asWeM62xkAAJw+u9kBAACA54iOjtbcuXP1z3/+U7fffrueeuop/e9//9PDDz+sTZs2acyY\n",
              "MZIkh8Ph+pjy8nLddNNNOnDggOx2u8rLy7Vr1y6lpKRIkq688kqKPAAA3YwyDwAATvDTn/5Ul156\n",
              "qQYPHqy4uDiNGjVKhmHonnvuOWEEv8Ott96qWbNmadGiRbJYLBo9erQaGxtd18PDw3syPgAAfoE1\n",
              "8wAA4ASDBg1SZmam5s+fr9tuu02SNHv2bD399NOqqKiQJLW0tGjr1q2SpOPHjys9PV0Wi0WrVq3S\n",
              "9u3bTcsOAIC/oMwDAICv+MEPfqDW1lbNnTtXknTttddq3rx5mj59ukaMGKGRI0dq+fLlkqQ//OEP\n",
              "uvvuuzVy5Ej985//1FlnnWVmdAAA/AIb4AEAgK+47bbbFB8fr/vuu8/sKAAA4CRYMw8AAFwKCws1\n",
              "Y8YMxcTE6MMPPzQ7DgAA+BrcmQcAAAAAwMuwZh4AAAAAAC9DmQcAAAAAwMtQ5gEAAAAA8DKUeQAA\n",
              "AAAAvAxlHgAAAAAAL0OZBwAAAADAy1DmAQAAAADwMpR5AAAAAAC8zP8H8DB0Pgq2IKUAAAAASUVO\n",
              "RK5CYII=\n",
              "\">\n",
              "      </div>\n",
              "      <script type=\"text/javascript\">\n",
              "        (() => {\n",
              "          const chartElement = document.getElementById(\"chart-f2cf8966-99ce-44bd-a94d-bac3aa03d253\");\n",
              "          async function getCodeForChartHandler(event) {\n",
              "            const chartCodeResponse =  await google.colab.kernel.invokeFunction(\n",
              "                'getCodeForChart', [\"chart-f2cf8966-99ce-44bd-a94d-bac3aa03d253\"], {});\n",
              "            const responseJson = chartCodeResponse.data['application/json'];\n",
              "            await google.colab.notebook.addCell(responseJson.code, 'code');\n",
              "          }\n",
              "          chartElement.onclick = getCodeForChartHandler;\n",
              "        })();\n",
              "      </script>\n",
              "      <style>\n",
              "        .colab-quickchart-chart-with-code  {\n",
              "            display: block;\n",
              "            float: left;\n",
              "            border: 1px solid transparent;\n",
              "        }\n",
              "\n",
              "        .colab-quickchart-chart-with-code:hover {\n",
              "            cursor: pointer;\n",
              "            border: 1px solid #aaa;\n",
              "        }\n",
              "      </style>"
            ]
          },
          "metadata": {}
        },
        {
          "output_type": "display_data",
          "data": {
            "text/plain": [
              "<google.colab._quickchart_helpers.SectionTitle at 0x7a6e1f18c5d0>"
            ],
            "text/html": [
              "<h4 class=\"colab-quickchart-section-title\">Values</h4>\n",
              "<style>\n",
              "  .colab-quickchart-section-title {\n",
              "      clear: both;\n",
              "  }\n",
              "</style>"
            ]
          },
          "metadata": {}
        },
        {
          "output_type": "display_data",
          "data": {
            "text/plain": [
              "from matplotlib import pyplot as plt\n",
              "df['year'].plot(kind='line', figsize=(8, 4), title='year')\n",
              "plt.gca().spines[['top', 'right']].set_visible(False)"
            ],
            "text/html": [
              "      <div class=\"colab-quickchart-chart-with-code\" id=\"chart-9ef1a611-e991-44d3-84b0-48308751c96a\">\n",
              "        <img style=\"width: 180px;\" src=\"data:image/png;base64,iVBORw0KGgoAAAANSUhEUgAAAqUAAAFuCAYAAAC4H2HYAAAAOnRFWHRTb2Z0d2FyZQBNYXRwbG90\n",
              "bGliIHZlcnNpb24zLjEwLjAsIGh0dHBzOi8vbWF0cGxvdGxpYi5vcmcvlHJYcgAAAAlwSFlzAAAP\n",
              "YQAAD2EBqD+naQAALPxJREFUeJzt3Xt8lPWB7/FvMrmRC7cEEkIIIZBgaWgQBKdqubSkRaQk9izn\n",
              "rFjatS+Kl3JqC/b1glNopcuG8lqKy6u6h+3WYivKERVYd1ELYVfodivGFnCRSokSwi0Ew00h15nn\n",
              "/BFmyD2ZZOa5zHzer5cvk+eZ5/n9hpl55pvf7/n9flGGYRgCAAAALBRtdQUAAAAAQikAAAAsRygF\n",
              "AACA5QilAAAAsByhFAAAAJYjlAIAAMByhFIAAABYjlAKAAAAyxFKAQAAYDlCKQAAACxHKAUAAIDl\n",
              "CKUAEAYaGxutrgIA9AuhFABC4Nlnn9XYsWNlGIZ/W0NDg9LS0rRr1y5duXJFjz76qEaPHq3U1FTN\n",
              "nTtXH330kf+xL7/8sqZMmaIhQ4YoLS1N8+fP18mTJ/37n3vuOWVlZemZZ55RTk6OUlNTTX1+ABBs\n",
              "hFIACIEHHnhAtbW1Kisr82975ZVXlJCQoK9+9au6//77de3aNR06dEjnzp3TxIkTNW/ePDU1NUmS\n",
              "UlJS9Ktf/Uoff/yxPvjgAxmGoYULF7Ypo7q6WkeOHNHRo0d14cIFU58fAARblNH6z3gAQNA8/vjj\n",
              "OnfunF5++WVJ0vTp0/XFL35R8+fPl9vt1qVLl5ScnCxJ8ng8Sk5O1t69e3XPPfd0ONehQ4c0efJk\n",
              "Xbt2TSkpKXruuee0ePFiXbt2TYmJiaY+LwAIhRirKwAA4erRRx9VYWGhLly4oEuXLum//uu/9OKL\n",
              "L+r3v/+9mpublZWV1eGY06dPS5L279+vn/zkJzp27JiuX7/u319TU6OUlBRJ0vDhwwmkAMIGoRQA\n",
              "QuS2227T3XffrS1btqi6ulr33XefsrKylJGRobi4OF28eFGxsbEdjmtsbNS8efP0ox/9SLt27VJK\n",
              "Soq/pbR151Z0NHdgAQgfXNEAIIQee+wx/eIXv9BvfvMbPfzww5Kke+65RwUFBXr00UdVU1MjSbp8\n",
              "+bJeffVV3bhxQ42Njaqrq9OQIUOUkpKic+fOadWqVVY+DQAIOUIpAIRQSUmJ6uvrNXDgQM2ZM0eS\n",
              "5HK5tHfvXiUmJurOO+9USkqKCgsLtXPnTkVFRSk5OVm//OUvtXbtWiUnJ+vee+/VggULLH4mABBa\n",
              "DHQCgBC78847NX/+fP3whz+0uioAYFvcUwoAIfT666/r6NGj2r17t9VVAQBbI5QCQIiMGjVKdXV1\n",
              "2rx5s9LS0qyuDgDYGt33AAAAsBwDnQAAAGA5QikAAAAsRygFAACA5QilAAAAsJzjQ+mmTZusrgIA\n",
              "AAD6yfGh9NSpU1ZXAQAAAP3k+FAKAAAA5yOUAgAAwHKEUgAAAFiOUAoAAADLEUoBAABgOUIpAAAA\n",
              "LEcoBQAAgOUIpQAAALAcoRQAAACWI5QCAADAcoRSAAAAWC7G6goAAAAg+P7wYa0e+Oe3O9332+9N\n",
              "1/iMFJNr1D1aSgEAAMJQV4FUkr677ZCJNekdQikAAECEOXP5htVV6IBQCgAAEGFc0VFWV6EDQikA\n",
              "AECEiXHZLwLar0YAAAAIqRhaSgEAAGC1WFpKAQAAYDXuKQUAAIDl6L4HAACA5aIJpQAAALCaDTMp\n",
              "oRQAACDSREfZL5XGWF0BAACASNHs8UqSDEkerxGycnrKnFGEUgAAgMiUs2K3aWX1lDnpvgcAAEDI\n",
              "GT00wk4ZPcScigSAUAoAAGCh99d8Re+v+UqvH/+jeRO63b/y3tt6PIcdJ8+n+x4AAMBCSfGBxbHE\n",
              "OFe3++Nj7Bc4e8OZtQYAAIhQPY2ct+Mgpt4glAIAADhIzyPrzalHsBFKAQAAHKSndesdmkkJpQAA\n",
              "AE7S48T3Dm0qJZQCAAA4SI+Z1JxqBB2hFAAAwEF67L53aCollAIAADhIVA9toT3ttytCKQAAgIOE\n",
              "6S2lTJ4PAAAiU7PHqwd/eVAHT16SJP2k+LMalhyvv1z4VOMzUvSXC59o7LBkXfykXgmxLg1Nimtz\n",
              "vCHpeHXLY2Jd9kmC9qlJYAilAAAgIt22+k01e28tEv+jf3nfwtr0Xs+T55tUkSAjlAIAgIjUOpD2\n",
              "xqRRg9V6jNGfqq74f56cPbjbY1s/trXVrdaxf2DaKG1757QkKTk+Rp82NEuSXlh8p158p0oDE2I0\n",
              "PCVBKQndxzen3lNKKAUAAOiF7Q9/XnGt1pWf8ff/oVO1NyRJOx67u9tjv/PCn7T7v8/7f6/86X0d\n",
              "HuPOTfWH0txhSXrvzFVJ0t3j0nT3uDT/435f8XH3FXVmJmWgEwAAQG+0n4kp2NnPMDr/OVAOzaSE\n",
              "UgAAgN6IanezZvvf+8uQ0enPgQp2vcxCKAUAAOgFp7SUOhWhFAAAoBc6tpQG9/zBCqU9LPhkW4RS\n",
              "AACAPuhpaqbWetMdb3Txc3s9lerQ3ntCKQAAQF8Ev6XU6PTnQDl1SihCKQAAQB8EEv5689hg3UYa\n",
              "ES2l9fX1KikpUX5+vgoLC1VUVKSKigpJUk1NjebMmaO8vDwVFBTowIED/uMeeugh/zF33323ysvL\n",
              "/ftu3LihBx54QOPGjVN+fr5eeeWVID01AACA0Ako/PXmsQx0CsySJUt0/PhxHTlyRMXFxVq8eLEk\n",
              "acWKFXK73Tpx4oS2bNmihQsXqqmpSZJ0//3369ixYzpy5IhWrlypBQsW+M+3YcMGxcfHq6KiQr/9\n",
              "7W/12GOPqba2NkhPDwAAIDSYEiq4AlrRKSEhQXPnzvX/7na7tWHDBknS9u3b/a2mU6dOVWZmpvbv\n",
              "36/Zs2dr/vz5bY45e/asmpubFRMTo5deeknPPvusJGnMmDGaOXOmdu7c6Q+7rTU0NKihoaHNNo/H\n",
              "E8hTAAAADvCbP1T616L/0m3DlTl4QI/HPP/2qTa/jxw8QF+8bbj/92avoW3vVEmSUpPi+l3HYI9y\n",
              "j/TJ8/u1zOimTZtUXFys2tpaNTU1KSMjw78vJydHVVVVnR4zd+5cxcS0FF1VVaXRo0f3eJwkrVu3\n",
              "TmvWrGmzze129+cpAAAAG/IFUkna90FNn85x9kpdh6DqU3u9sdPtacnx+vjTWw1giXEu3WjsvAFs\n",
              "Rv4wvX/uWo9r0Uvq1Q2jeenJ/p9njh+mEzWf9ik8uxw6J1SfQ2lpaakqKiq0b98+1dXV9eqYrVu3\n",
              "avv27W3uNw3EypUrtWzZsjbbVq9e3adzAQAA53j8S3nd7t/3wQUdPXutw/ZHZ45VnKvlbsVN+050\n",
              "e44fzv2MvlqYqbeO16hoQrr2HLugognpOlR1RUOTYjs8/rtfylP20ERNzx8WwDPp2pTRQ/XzB27X\n",
              "mLQkjRuerLHDkjVjfO/P/dxDUxUf49LVuqYO+/7tf9+j/1depT+euqI/n+/472QHfQqlGzZs0I4d\n",
              "O1RWVqbExEQlJiYqJiZG1dXV/tbSyspKZWdn+4956aWXtGbNGu3bt0/p6en+7dnZ2Tp16pRGjBjh\n",
              "P+7LX/5yp+XGx8crPj6+zTaXy9WXpwAAABzk+0X53e5PSYjpNJQunTVOSfEtcedPVZf1uxMfd3p8\n",
              "5U/v8//819Na8ssDN/9fNCG902MSYl3+xwZiQGzX2eWrhZkd6tFbM8e33Krw2/erO+wrGDlIa0dO\n",
              "1Po3P7BtKA14oNPGjRu1bds27d27V4MHD/ZvX7BggTZv3ixJKi8v19mzZzVjxgxJLfebrlq1SmVl\n",
              "ZW2CavvjTp48qbfeekslJSV9fDoAACASdXUPZusJ7i0d0e7MHnVTBdRSeubMGS1fvly5ubmaNWuW\n",
              "pJbWy4MHD2r9+vVatGiR8vLyFBcXp61btyo2tqWp+8EHH1RGRoaKi4v959q3b59SU1P1gx/8QN/6\n",
              "1rc0duxYuVwuPf3000pLSwviUwQAAOHO20XibD0QvavHmIFM2rOAQmlWVlaXKwykp6drz549ne7z\n",
              "TQ3VmaSkJL300kuBVAMAAKANby9aSq0MpegZKzoBAADH6ypwRrdpKTWpMp0gDveMUAoAABzP20Xi\n",
              "bNNSamUqRY8IpQAAwPG6ypt2uae0NYcuuBRyhFIAAOB4XQ90an1PqVm16R6ZtHOEUgAA4HhdDcQO\n",
              "9DGwDqEUAAA4Xm9aQa1sKW3dOtrvavTQ1OrUltg+LzMKAAAi0/Z3T2vz/g9tNXCoN/eLWnlP6bX6\n",
              "ZsvKdgpCKQAACMgLB6v00cXrppV33+dG9PiYrxZm6h/f+rDbxzw6c6yWvngoWNUKyIG/XLSkXCch\n",
              "lAIAgIB4vF5J0v+Ze5smZw8JSRl/tfkPkqR7xqXp6Qdu7/HxnxkxsMO2+a3WkZekeZ/L1GczB2nW\n",
              "hrfabB85eEDfK4qgIZQCAICA3MykGp8xUHfkDA1pWTPyh7UZQR+IpHhXh21ZQzoGUKZosgcGOgEA\n",
              "gID47s102T7N2bN+9qyV9QilAAAgIL5QGm3zdGX7zIw2CKUAACAgvkH3fe1WD0Swi+jsdIRXeyCU\n",
              "AgCAgPi7723eVGrX2tlnIi17IZQCAICA+OYntXkmDVtRPcRtM1qwQ4FQCgAAAmJm932wObHOkYJQ\n",
              "CgAAAsJAJ4QCoRQAAATEt1qn/e8ptWf97Fkr6zF5PgAAYebThmZdvt4YsvM3elpmz4+2eVOkzauH\n",
              "dgilAACEkbNX6jT7Z/tV1+QJeVmEvr5h9H3nCKUAAISRExc+UV2TR1FRUkJMx2U2gyU/PVnjhieH\n",
              "7PzB0FlmdkVHqXhSpq7caNL+v1w0vU7oGqEUAIAw4rvfc+LIQXpt6T3WVsZiXY203/TXt0uSclbs\n",
              "NrM6fgZNpZ1ioBMAAGHEc3O+JqY+6j27DojqSk8vrbOezS2EUgAAwohTpmtC34VrSyuhFACAMOKb\n",
              "2N5FS6ltB2LZtV5WI5QCABBGbrWUknzgLIRSAADCiC+Ukkmdd69opCOUAgAQRnzd97SUEsydhlAK\n",
              "AEAYMW62lNp9CVCgPUIpAABh5NaUUBZXxAbs+k8QrqPn+4tQCgBAGKH7/hb+CZyFFZ0AADBZQ7NH\n",
              "e49d0LW65qCf+91TlyTRfW9n/Q3LPU6e381+XyvthWv1/atECBBKAQAw2St/PKMf7jwa0jLiY+gM\n",
              "zRqS2KvHhUOLamKcq1ePe+t4jSTp3947r6cXhrJGgSOUAgBgsoufNEiSsoYM0IQRA4N+/tiYaH37\n",
              "C7lBP6/dvfroXfrXI+c0bcxQ/enUZS28M9vqKpnmtaV39+pxH1R/EuKa9B2hFAAAk/nu+5w1frj+\n",
              "tqTA2sqEkSmjh2jK6CGSpLkTR1hcG/M8NnOsxg1Psboa/UbbPgAAJmPaJqAjQikAACZj2qbIxsve\n",
              "OUIpAAAmY9omoCNCKQAAJvN139N7D9xCKAUAwGS+7vtoUingRygFAMBkdN+jP9q/a9q/jZz6tiKU\n",
              "AgBgMi/d90AHhFIAAEzmnxLKqU1aYYZXwR4IpQAAmMxj+KaEIg4BPqzoBABAO0dOX9Gz/3lSTR5v\n",
              "SM5/9NxVSdxTGqn4Y6RzhFIAANr5v299qDffrw55OWkpcSEvA/bju30DbRFKAQBop77ZI0n62u0j\n",
              "dfvNtdSDbWBCjL7y2YyQnBtwIkIpAADt+OYRvScvTV+bnGVxbSIbXd09iwqToVoMdAIAoB2DeURh\n",
              "Yz0FdaeGVEIpAADteP2j4y2uCBBBCKUAALTj6753Mbs9bChcB0oRSgEAaIfue4QS98l2jlAKAEA7\n",
              "LAMaWQiJ9kAoBQCgnVuhlLCC4AvX7vf+CiiU1tfXq6SkRPn5+SosLFRRUZEqKiokSTU1NZozZ47y\n",
              "8vJUUFCgAwcO+I8rLS3V+PHjFR0drV27drU558yZMzVmzBhNmjRJkyZN0lNPPdX/ZwUAQD946L6H\n",
              "g4TL2zTgltIlS5bo+PHjOnLkiIqLi7V48WJJ0ooVK+R2u3XixAlt2bJFCxcuVFNTkyRp9uzZeuON\n",
              "NzR9+vROz/nUU0/p8OHDOnz4sL7//e/34+kAANB/vpasaPoTAdME9HFLSEjQ3Llz/fdeuN1uVVZW\n",
              "SpK2b9+uRx55RJI0depUZWZmav/+/ZKkadOmKTc3N4jVBgAgdOi+B8zXrxWdNm3apOLiYtXW1qqp\n",
              "qUkZGbeWS8vJyVFVVVWvzrNixQqtXr1aEyZM0Lp167oMsA0NDWpoaGizzePx9P0JAAAcZfWuo9p5\n",
              "6GzIy7ne2CyJUAp76nFglkPftn0OpaWlpaqoqNC+fftUV1fX5wo8//zzGjVqlAzD0DPPPKN58+bp\n",
              "2LFjnT523bp1WrNmTZttbre7z2UDAJxl56Gz+rSh2ZSyEmKjNXZ4sillAehjKN2wYYN27NihsrIy\n",
              "JSYmKjExUTExMaqurva3llZWVio7O7vHc40aNUpSS+pfunSpnnjiCdXW1io1NbXDY1euXKlly5a1\n",
              "2bZ69eq+PAUAgAP5JrXf9m23MgcnhLSsoUlxSkmIDWkZAG4JOJRu3LhR27ZtU1lZmQYPHuzfvmDB\n",
              "Am3evFlPPvmkysvLdfbsWc2YMaPbczU3N6u2tlbp6emSpFdffVXp6emdBlJJio+PV3x8fJttLpcr\n",
              "0KcAAHAo372eo4YOUNaQRItrAyCYAgqlZ86c0fLly5Wbm6tZs2ZJagmKBw8e1Pr167Vo0SLl5eUp\n",
              "Li5OW7duVWxsy1+Ya9eu1ebNm3Xx4kUdPXpUS5cu1aFDh5SYmKj77rtPDQ0Nio6OVlpaml577bXg\n",
              "P0sAQFjwhVKW/4STBXuW0nD5NAQUSrOysrqc8DU9PV179uzpdN+qVau0atWqTve9++67gVQBABDB\n",
              "vMwfihDg3WQPzMAGAHAMX0spmRQIP4RSAIAjGIYhX2edi1QaMXilIwehFADgCN5Wd4/RfQ8n6++7\n",
              "N0ynKSWUAgCcwdtqTAOhNHIEe1AQ7ItQCgBwhDahlG8vIOzwsQYAOILXe+tnWkqBVsLk89DnZUYB\n",
              "AJAkr9fQsfPX1Ojx9vzgfqhv8vh/JpTCybgloXOEUgBAv/xs73E98x8fmlom3fdwMv6k6hyhFADQ\n",
              "Lx9dvC5JGpIYa8pa8TPHD1N8DEtMw7miaOnvFKEUANAvnptzNT3xlfF68M7RFtcG6AMyoi3QAQIA\n",
              "6BeW/gQQDIRSAEC/GDenaoomkwKm6Omj5tTbAwilAIB+8fpDqTO/CAHYA6EUANAvHrrvAUuFyyeP\n",
              "UAoA6Bd/9z3fKAD6gUsIAKBf6L4HzBWuk+8TSgEA/eKbEopQCqA/CKUAgH5hSigAwUAoBQD0i++e\n",
              "UhffKAD6gRWdACCM3Whs1vby07pa1xyyMs5erpPk3LkRYW9mvKt459oDoRQAwtiuQ+f05L8eM6Ws\n",
              "pDi+UgAztA/R7f8edGrI5goCAGHsSl2jJCl3WJLcuakhK2fEwATdmTs0ZOcHEP4IpQAQxm7e7qlp\n",
              "OUNVev9EaysDAN3gtnQACGP+6ZpYmB6AzRFKASCM3ZrY3uKKAEAPCKUAEMa8TGwPwCEIpQAQxpjY\n",
              "HoBTEEoBIIyxLj0Q/qIcOwlUW4RSAAhjHu4pBcJOT39jOvVvUEIpAIQx35RQLlIp0CWzVyPj09g5\n",
              "QikAhDHflFAsAQrYh2F1BWyKUAoAYYwpoQA4BSs6AYBJKmo+1drdx/RpfbNpZVZduiGJ7nsA9kco\n",
              "BQCT/Mvhs3rr+EVLys4YlGBJuQA6Mgw68DtDKAUAkzR6vJKk2Z8Zrr+akmVaucnxsXLnDjWtPADm\n",
              "CpdbxgmlAGAS3+pKY4cla07BCItrA8AqDDzsHAOdAMAkvtWV+EICeo+PS+QglAKASXwj4V1ceQH0\n",
              "S/dJ3akrPHFpBACT+LrvWfITiGwMdOocoRQATEL3PWBPfCLtgVAKACbxd98TSgGgA0IpAJiE1ZUA\n",
              "SMHvLQmXSwqhFABM4m2ZplTRpFIgovX/ChCe96QSSgHAJLdaSgmlANAek+cDiEhNHq88XnNbG5pu\n",
              "ruhEQykAdEQoBRBx9h67oO+8+Cc1NnstKZ+WUgDoiO57ABHn7Y9qLQukiXEuTR492JKyAdhD//to\n",
              "epg836F/99JSCiDi+O7t/PYXxuh7s/NNLTvWFa24GNoDAKA9QimAiONbTCUh1qWkeC6DAJzNqS2j\n",
              "7fHnOoCI4xvgxMpKACTzQx1Xns4RSgFEHCaxBwD7IZQCiDi+maBY7hMA7INQCiDieG+mUlZWAgD7\n",
              "IJQCiDi+7nsaSgH7C8ePaXguEtp/hFIAEYfuewBO1tOly6lXtoBCaX19vUpKSpSfn6/CwkIVFRWp\n",
              "oqJCklRTU6M5c+YoLy9PBQUFOnDggP+40tJSjR8/XtHR0dq1a1ebc3Z3HACEAmvQAwgn4TKTSMAt\n",
              "pUuWLNHx48d15MgRFRcXa/HixZKkFStWyO1268SJE9qyZYsWLlyopqYmSdLs2bP1xhtvaPr06R3O\n",
              "191xABAKdN8DsBKXns4FNGt0QkKC5s6d6//d7XZrw4YNkqTt27f7W02nTp2qzMxM7d+/X7Nnz9a0\n",
              "adO6PGd3xwEIbzXX6nX49BXTyz13pU4SLaUAWhjc5GkL/VrKZNOmTSouLlZtba2ampqUkZHh35eT\n",
              "k6Oqqqpujw/0uIaGBjU0NLTZ5vF4+vEMAFhpwT/9Qadqb1hWfizLfQKQdKLmU6urAPUjlJaWlqqi\n",
              "okL79u1TXV1dMOvUpXXr1mnNmjVttrndblPKBhB8vhbLgpEDFecyNyAOTYpT0WfSTS0TANC1PoXS\n",
              "DRs2aMeOHSorK1NiYqISExMVExOj6upqf6tnZWWlsrOzuz1PampqQMetXLlSy5Yta7Nt9erVfXkK\n",
              "AGzAt9znr745VcMHJlhcGwCAlQJumti4caO2bdumvXv3avDgwf7tCxYs0ObNmyVJ5eXlOnv2rGbM\n",
              "mNHj+QI5Lj4+XgMHDmzzn8vlCvQpALAJ39RM4TJyFAB6g1tYOxdQS+mZM2e0fPly5ebmatasWZJa\n",
              "guLBgwe1fv16LVq0SHl5eYqLi9PWrVsVGxsrSVq7dq02b96sixcv6ujRo1q6dKkOHTqkYcOGdXsc\n",
              "gPBltBpZ4GJlJQBdIMBFjoBCaVZWVpsvktbS09O1Z8+eTvetWrVKq1atCvg4AOHL13UvSWRSAJGk\n",
              "v5e8Ho936DWVoacALNEqk9J9DwAglAKwhpfuewBAK4RSAJZoHUrJpAAAQikAS7TuvmdlJQAAoRSA\n",
              "JVq3lJJJAQCEUgCW8LZqKnWRSgGg19rPgxQul9A+LzMKIDx4vYae/c+Tqrpk7hr0Dc0e/8903wMA\n",
              "CKVAhPvvs1f1d6//2bLyU+JjwuavfADBF46Xh5AvCODQFQcIpUCEu97QLElKTYrT192jTS//82NT\n",
              "macUAALQ0xXTSygF4ES+i9ewlHh9vyjf2soAAPrN08Xqm3bHQCcgwvkuXtzXCQDhwUsoBeBEvotX\n",
              "NFcDADBFqJsADEIpACfyXbyYlgkATBLky21UuxN6vME9v1kIpUCE8128GGwEACYJcUMm3fcAHMnf\n",
              "fU8mBYCwQPc9AEfyd9+TSgEgLDh1SihCKRDh6L4HAGfp6XpN9z0AR6L7HgDCCy2lABzJyzylABBW\n",
              "vA5NpazoBFjs8vVGPbz1j6q5Vm9J+Z/eXGaUe0oBwCTBnhKq3fmaCaUA+uLtj2r1zslLVldDOalJ\n",
              "VlcBABAEDc0eq6vQJ4RSwGK+v2g/mzlQa+Z/1pI6xLiiNXHkIEvKBoCI48yGzJAjlAIW893TOWhA\n",
              "rO7IGWpxbQAATufQ3nsGOgFW883cwT2dAIBgYPJ8AH3iufknLfOEAkBHXBsD59TR94RSwGLMEwoA\n",
              "CERPXxfOjKSEUsBy/u57WgMAIDIEe0qodr87tPeeUApYzWPQfQ8ACB6WGQXQJ3TfAwCCyaGZlFAK\n",
              "WM13PzrLfAJAhAhxaKSlFECf+KbuYEooAEAwOHTwPZPnAz6NzV5dsGD9+dpPGyV1XLsYAIC+cGpL\n",
              "KaEUkNTs8eor/3BAJz++blkd6L4HAPRG+5619r/Hupz5fUIoBSR9Ut/sD6QJsdGKCvZ8HT2Ij43W\n",
              "Vz6bYWqZAACL9PMrZsKIgW1+f2BadpvfF945WjsPndOfz1/rX0EmI5QCatvV8eefzGF6JgCAbUVH\n",
              "R6nyp/d1uT85PkZvPP4F5azY3WHfiEEJOn/V/FvVeoOBToBazxXKfKEAAFiBUAro1pxu3NcJAIA1\n",
              "CKWAbnXfs9QnACDknDk4PuQIpYAkj/dW9z0AADAfoRQQ3fcAABPxVdMpQikg1p8HAMBqhFJArdaf\n",
              "J5UCAGAJQimgW/eU0n0PAPbCZTm47LwCKaEUkGTQfQ8AgKVY0Qm2c/TsVb135qqpZVZfa1ndov36\n",
              "wQAAwByEUthKfZNH//Of/qAbjR5Lyo+PcVlSLgAgckwaNdjqKtgSoRS2cqPR4w+kRRPSTZ01IypK\n",
              "ml840sQSAQB2YHYv2T8+ONnU8kYNHWBqeX1FKIWteFvdgf2LRVNYhx4AEHIDYs3tJUtJiDW1vBGD\n",
              "nBFKGegEW2k9XyiBFACAyEEoha14vS3/Z2omAACCz85fr4RS2MqtllIbf2oAAHAQp3yjEkphK75Q\n",
              "SiYFAJjFsPOM8hGEUApb8XXfM18oAACRhVAKW6H7HgCAyBRQKK2vr1dJSYny8/NVWFiooqIiVVRU\n",
              "SJJqamo0Z84c5eXlqaCgQAcOHPAf192+mTNnasyYMZo0aZImTZqkp556KkhPDU5E9z0AwGzM9mIP\n",
              "Ac9TumTJEt17772KiorS008/rcWLF+utt97SihUr5Ha79eabb6q8vFz333+/Tp48qdjY2G73SdJT\n",
              "Tz2lkpKSYD83OJD35m09dN8DABAcTsncAbWUJiQkaO7cuf6/KNxutyorKyVJ27dv1yOPPCJJmjp1\n",
              "qjIzM7V///4e9wGt0X0PAEBk6teKTps2bVJxcbFqa2vV1NSkjIwM/76cnBxVVVV1u89nxYoVWr16\n",
              "tSZMmKB169YpNze30/IaGhrU0NDQZpvHY80a6ZGi2ePV+jc/0JnLdaaU90l9s6SWyfMBAEDk6HMo\n",
              "LS0tVUVFhfbt26e6ur4Hlueff16jRo2SYRh65plnNG/ePB07dqzTx65bt05r1qxps83tdve5bPTs\n",
              "0Okr+uffnTS93LTkeNPLBADYT2HWYKurEBSFWYN05MxVq6tha30KpRs2bNCOHTtUVlamxMREJSYm\n",
              "KiYmRtXV1f4W0crKSmVnZys1NbXLfZI0atQoSS03GS9dulRPPPGEamtrlZqa2qHclStXatmyZW22\n",
              "rV69ui9PAb1U39TSEp0xMEHf+eI4U8qMknTPuDRTygIA2NOBH8zSmcs3VDhqcMjLMmOe0lcevUt/\n",
              "+2/HtPDO7JCX1V6UQ6bPDziUbty4Udu2bVNZWZkGDx7s375gwQJt3rxZTz75pMrLy3X27FnNmDGj\n",
              "233Nzc2qra1Venq6JOnVV19Venp6p4FUkuLj4xUf37YFzeVyBfoUEADPzZFHqclxWuQebXFtAACR\n",
              "Ijs1UdmpiVZXI2hiXdH6SXGBJWUbcsbiAAGF0jNnzmj58uXKzc3VrFmzJLUExYMHD2r9+vVatGiR\n",
              "8vLyFBcXp61bt/pH13e17/r167rvvvvU0NCg6OhopaWl6bXXXgv+s0Sf+f54ZOARAAAIpYBCaVZW\n",
              "VpdN3Onp6dqzZ09A+5KSkvTuu+8GUgWY7NZoeIsrAgAAwhorOqFbvu77aFIpAACO5JR7Sgml6JaX\n",
              "7nsAQJhjRSd7IJSiWwbd9wAAwASEUnSLllIAAGAGQim65WHZTwBAmDNjnlIrOeUrnFCKbvm773mn\n",
              "AACAECJqoFteWkoBAAgbdm4U7tMyo7CHH+78b/3L4XMhLaPR45VEKAUAAKFFKHWwnYfO6kajx5Sy\n",
              "Jo4cZEo5AAAgMhFKHcw3sf32hz+v9IHxISsnxhWtkYMHhOz8AAAgdFr3dt6ePVhvHK22sDZdI5Q6\n",
              "mO++kFFDB2jEIEIjAADoqPUdeAmxLusq0gMGOjmYb7omF/d7AgDQZ+G+opNTnh+h1MF8I+Od8mYD\n",
              "AMCOwn6eUqsr0EuEUocyDMPffc8SoAAAoCtOyQmEUofytvqjzuWUdxsAADCdU3pUCaUO5W3V1eCU\n",
              "NxsAADCfU9quCKUO5WnVVOqUNxsAALCCM4ICodShDLrvAQBALzglJhBKHcpjtG4pdci7DQAAmM4p\n",
              "jVdMnm+C81frdP5qfVDPeaPh1vKiZFIAANAVp+QEQmmInb50QzP+/j/ajJYPNibPBwCg71KTQ7dU\n",
              "tx0kxjkj7jmjlg52qvaGvIYU64oKyVKgX7xtuGJc3IUBAECgXvz2nfqHvSe09v4Cq6sSUv9jcpbV\n",
              "VegVQmmI+e79zBueotcf/4LFtQEAAD53jU3TXWPTrK5GyMXFOKPxyhm1dDDffKLR/EsDAAB0iagU\n",
              "Yr71dBkhDwAA0DVCaYh5vS3/J5QCAAB0jVAaYh5/S6nFFQEAALAxQmmI0X0PAADQM0JpiPnmJ42m\n",
              "qRQAAKBLhNIQ83jpvgcAAOgJoTTEvHTfAwAA9IhQGmI3M6lcNJUCAAB0iRWd+uA/T3ysP5663KvH\n",
              "/vn8NUlSFC2lAAAAXSKUBqi+yaNv/bpcjc3egI5LinOFqEYAAABdS02K8/88efQQ7Tx0ViMGJVhY\n",
              "o84RSgNU3+TxB9IHpo3qVQtobHSUHnSPDnXVAAAA/P75G3fo8vVG5aQl+bf9rztG6Vpdk6bnDbOw\n",
              "Zp0jlAbIN8WTJP1dyUSmegIAALZUNCG9w7a4mGh9Z9Y4C2rTMwY6Bcg3ml5i7lEAAIBgIZQGyMu8\n",
              "owAAAEFHKA2Qf4UmRtMDAAAEDaE0QP7J8GkqBQAACBpCaYBYNhQAACD4CKUBMui+BwAACDpCaYB8\n",
              "3fcuQikAAEDQEEoD5LkZSsmkAAAAwUMoDZDBQCcAAICgY0WnADz8/Ls6c7lOEt33AAAAwUQoDcB7\n",
              "Z67q/NV6SVLGoASLawMAABA+CKUBKP3aRDU0eSRJd+QMtbg2AAAA4YNQGoBZ44dbXQUAAICwxEAn\n",
              "AAAAWI5QCgAAAMsRSgEAAGA5QikAAAAsRygFAACA5QilAAAAsFxAobS+vl4lJSXKz89XYWGhioqK\n",
              "VFFRIUmqqanRnDlzlJeXp4KCAh04cMB/XF/3AQAAIDIE3FK6ZMkSHT9+XEeOHFFxcbEWL14sSVqx\n",
              "YoXcbrdOnDihLVu2aOHChWpqaurXPgAAAESGgEJpQkKC5s6dq6ib67673W5VVlZKkrZv365HHnlE\n",
              "kjR16lRlZmZq//79/doHAACAyNCvFZ02bdqk4uJi1dbWqqmpSRkZGf59OTk5qqqq6vO+zjQ0NKih\n",
              "oaHNNo/H05+nAAAAABvo80Cn0tJSVVRUaN26dcGsT7fWrVunQYMGtfnvnXfeMa18AAAAhEafWko3\n",
              "bNigHTt2qKysTImJiUpMTFRMTIyqq6v9rZ6VlZXKzs5Wampqn/Z1ZuXKlVq2bFmbbd/4xjc6bAsV\n",
              "j8ejd955R9OmTZPL5TKlTHSN18N+eE3shdfDXng97IfXxDyjR4/W448/3u1jogzDMAI56caNG/XC\n",
              "Cy+orKxMQ4YM8W//m7/5G+Xk5OjJJ59UeXm5SkpKVFlZqdjY2D7vs5tr165p0KBBunr1qgYOHGh1\n",
              "dSIer4f98JrYC6+HvfB62A+vib0E1FJ65swZLV++XLm5uZo1a5YkKT4+XgcPHtT69eu1aNEi5eXl\n",
              "KS4uTlu3bvUHy77uAwAAQGQIKJRmZWWpq4bV9PR07dmzJ6j7AAAAEBlY0QkAAACWI5QGID4+Xj/+\n",
              "8Y8VHx9vdVUgXg874jWxF14Pe+H1sB9eE3sJeKATAAAAEGy0lAIAAMByhFIAAABYjlAKAAAAyxFK\n",
              "e+nEiRO66667lJ+fr6lTp+r999+3ukphob6+XiUlJcrPz1dhYaGKiopUUVEhSaqpqdGcOXOUl5en\n",
              "goICHThwwH9cKPahrS1btigqKkq7du2SxOthlYaGBi1dulR5eXmaOHGivv71r0vq/poUin1o8frr\n",
              "r2vy5MmaNGmSCgoK9Otf/1oSnw8zffe731VOTo6ioqJ0+PBh/3azPxN8XkLAQK/MmjXL2LJli2EY\n",
              "hvHyyy8bd9xxh7UVChN1dXXG7t27Da/XaxiGYfz85z83ZsyYYRiGYTz00EPGj3/8Y8MwDOOdd94x\n",
              "Ro4caTQ2NoZsH245efKk8fnPf95wu93Gzp07DcPg9bDK9773PWPp0qX+z8j58+cNw+j+mhSKfTAM\n",
              "r9drDBkyxDhy5IhhGC2fk/j4eOPatWt8Pky0f/9+4/Tp08bo0aONQ4cO+beb/Zng8xJ8hNJeuHDh\n",
              "gpGSkmI0NTUZhtFyYUpPTzdOnDhhcc3CT3l5uTF69GjDMAwjKSnJ/wVsGIYxdepUY+/evSHbhxYe\n",
              "j8f40pe+ZLz77rvGjBkz/KGU18N8n376qZGSkmJcvXq1zfburkmh2IcWXq/XGDp0qLF//37DMAzj\n",
              "yJEjRmZmptHQ0MDnwwKtQ6nZnwk+L6ER0IpOker06dMaMWKEYmJa/rmioqKUnZ2tqqoqjRs3zuLa\n",
              "hZdNmzapuLhYtbW1ampqUkZGhn9fTk6OqqqqQrIPt2zcuFF33323pkyZ4t/G62GNDz/8UEOHDlVp\n",
              "aanKyso0YMAAPfnkkxo8eHCX16RBgwYFfR/XuRZRUVF66aWX9LWvfU1JSUm6fPmyduzYoU8++YTP\n",
              "h8W6+54OxWeCz0toEEphG6WlpaqoqNC+fftUV1dndXUi0tGjR/Xqq69y75pNNDc369SpU5owYYJ+\n",
              "+tOf6tChQyoqKtLu3butrlpEam5u1tq1a7Vjxw5Nnz5d5eXlmj9/fpv7GgH0HQOdemHUqFE6f/68\n",
              "mpubJUmGYaiqqkrZ2dkW1yx8bNiwQTt27NAbb7yhxMREpaamKiYmRtXV1f7HVFZWKjs7OyT70OJ3\n",
              "v/udKisrlZeXp5ycHL399ttasmSJtm/fzuthgezsbEVHR+vBBx+UJN1+++0aM2aMTp061eU1qbvr\n",
              "VV/3ocXhw4d17tw5TZ8+XZI0depUZWVl6b333uPzYbFQvO/5vFjAqvsGnGbGjBltbmieMmWKtRUK\n",
              "Iz/72c+MyZMnG5cuXWqz/Zvf/Gabm/wzMzP9N/mHYh86an1PKa+HNYqKiozdu3cbhmEYH330kZGa\n",
              "mmqcOXOm22tSKPbBMKqrq43k5GTj2LFjhmEYxokTJ4whQ4YYp06d4vNhgfYDncz+TPB5CT5CaS99\n",
              "8MEHhtvtNvLy8owpU6YY7733ntVVCgunT582JBm5ublGYWGhUVhYaEybNs0wjJYvgKKiImPcuHHG\n",
              "hAkTjH//93/3HxeKfeiodSjl9bDGhx9+aMycOdMoKCgwPve5zxmvvPKKYRjdX5NCsQ8tXnzxRf9r\n",
              "UVBQYLzwwguGYfD5MNOSJUuMkSNHGi6Xyxg+fLgxduxYwzDM/0zweQm+KMMwDKtbawEAABDZuKcU\n",
              "AAAAliOUAgAAwHKEUgAAAFiOUAoAAADLEUoBAABgOUIpAAAALEcoBQAAgOUIpQAAALAcoRQAAACW\n",
              "I5QCAADAcoRSAAAAWO7/A64YzR/m5t5LAAAAAElFTkSuQmCC\n",
              "\">\n",
              "      </div>\n",
              "      <script type=\"text/javascript\">\n",
              "        (() => {\n",
              "          const chartElement = document.getElementById(\"chart-9ef1a611-e991-44d3-84b0-48308751c96a\");\n",
              "          async function getCodeForChartHandler(event) {\n",
              "            const chartCodeResponse =  await google.colab.kernel.invokeFunction(\n",
              "                'getCodeForChart', [\"chart-9ef1a611-e991-44d3-84b0-48308751c96a\"], {});\n",
              "            const responseJson = chartCodeResponse.data['application/json'];\n",
              "            await google.colab.notebook.addCell(responseJson.code, 'code');\n",
              "          }\n",
              "          chartElement.onclick = getCodeForChartHandler;\n",
              "        })();\n",
              "      </script>\n",
              "      <style>\n",
              "        .colab-quickchart-chart-with-code  {\n",
              "            display: block;\n",
              "            float: left;\n",
              "            border: 1px solid transparent;\n",
              "        }\n",
              "\n",
              "        .colab-quickchart-chart-with-code:hover {\n",
              "            cursor: pointer;\n",
              "            border: 1px solid #aaa;\n",
              "        }\n",
              "      </style>"
            ]
          },
          "metadata": {}
        },
        {
          "output_type": "stream",
          "name": "stdout",
          "text": [
            "Warning: total number of rows (112425) exceeds max_rows (20000). Limiting to first (20000) rows.\n"
          ]
        }
      ]
    },
    {
      "source": [
        "from matplotlib import pyplot as plt\n",
        "df['year'].plot(kind='hist', bins=20, title='year')\n",
        "plt.gca().spines[['top', 'right',]].set_visible(False)"
      ],
      "cell_type": "code",
      "metadata": {
        "colab": {
          "base_uri": "https://localhost:8080/",
          "height": 452
        },
        "id": "h0rIryEJn3Bl",
        "outputId": "ad9d5d5b-c3c5-4842-fbf8-1a58ade171de"
      },
      "execution_count": 11,
      "outputs": [
        {
          "output_type": "display_data",
          "data": {
            "text/plain": [
              "<Figure size 640x480 with 1 Axes>"
            ],
            "image/png": "[encoded data removed]"
          },
          "metadata": {}
        }
      ]
    },
    {
      "cell_type": "markdown",
      "source": [
        "1. Tokenize and lower-case texts."
      ],
      "metadata": {
        "id": "wgSYdy30O_UZ"
      }
    },
    {
      "cell_type": "code",
      "source": [
        "!pip -qq install nltk==3.8\n",
        "import nltk\n",
        "import numpy as np\n",
        "nltk.download('punkt')\n",
        "from nltk.tokenize import word_tokenize\n",
        "from tqdm import tqdm\n",
        "\n",
        "\n",
        "texts = df.content.replace(np.nan, '', regex=True)\n",
        "\n",
        "print(len(texts))\n",
        "\n",
        "tokenized_texts = [word_tokenize(text.lower()) for text in tqdm(texts)]\n"
      ],
      "metadata": {
        "id": "t27TcJKJO-ry",
        "colab": {
          "base_uri": "https://localhost:8080/"
        },
        "outputId": "b42f8af5-88fd-42a1-b614-2bf3f7d09e11"
      },
      "execution_count": 10,
      "outputs": [
        {
          "output_type": "stream",
          "name": "stderr",
          "text": [
            "[nltk_data] Downloading package punkt to /root/nltk_data...\n",
            "[nltk_data]   Package punkt is already up-to-date!\n"
          ]
        },
        {
          "output_type": "stream",
          "name": "stdout",
          "text": [
            "112425\n"
          ]
        },
        {
          "output_type": "stream",
          "name": "stderr",
          "text": [
            "100%|██████████| 112425/112425 [00:33<00:00, 3308.59it/s]\n"
          ]
        }
      ]
    },
    {
      "cell_type": "code",
      "source": [
        "tokenized_texts[0]\n",
        "#texts[0:10]"
      ],
      "metadata": {
        "id": "C9K7y4mD2UK2",
        "colab": {
          "base_uri": "https://localhost:8080/"
        },
        "outputId": "6dce67c9-c305-48e8-acc5-3aac4956d262"
      },
      "execution_count": 12,
      "outputs": [
        {
          "output_type": "execute_result",
          "data": {
            "text/plain": [
              "['karen',\n",
              " ',',\n",
              " 'the',\n",
              " 'turnover',\n",
              " 'rates',\n",
              " 'or',\n",
              " 'retention',\n",
              " 'rates',\n",
              " 'in',\n",
              " 'our',\n",
              " 'clients',\n",
              " 'for',\n",
              " 'major',\n",
              " 'markets',\n",
              " '-',\n",
              " 'the',\n",
              " 'retention',\n",
              " 'rate',\n",
              " 'is',\n",
              " 'much',\n",
              " 'higher',\n",
              " 'and',\n",
              " 'probably',\n",
              " 'the',\n",
              " 'reason',\n",
              " 'for',\n",
              " 'it',\n",
              " ',',\n",
              " 'the',\n",
              " 'single',\n",
              " 'largest',\n",
              " 'reason',\n",
              " 'for',\n",
              " 'it',\n",
              " ',',\n",
              " 'is',\n",
              " 'the',\n",
              " 'fact',\n",
              " 'that',\n",
              " 'you',\n",
              " 'do',\n",
              " \"n't\",\n",
              " 'have',\n",
              " 'businesses',\n",
              " 'going',\n",
              " 'in',\n",
              " 'and',\n",
              " 'out',\n",
              " 'of',\n",
              " 'business',\n",
              " 'like',\n",
              " 'you',\n",
              " 'do',\n",
              " 'at',\n",
              " 'long',\n",
              " 'end',\n",
              " 'of',\n",
              " 'the',\n",
              " 'marketplace',\n",
              " '.',\n",
              " 'a',\n",
              " 'client',\n",
              " 'base',\n",
              " 'is',\n",
              " 'a',\n",
              " 'much',\n",
              " 'more',\n",
              " 'stable',\n",
              " 'group',\n",
              " 'of',\n",
              " 'companies',\n",
              " 'than',\n",
              " 'they',\n",
              " 'are',\n",
              " 'in',\n",
              " 'a',\n",
              " 'core',\n",
              " 'payroll',\n",
              " 'service',\n",
              " '.',\n",
              " 'so',\n",
              " ',',\n",
              " 'consequently',\n",
              " ',',\n",
              " 'the',\n",
              " 'retention',\n",
              " 'level',\n",
              " 'is',\n",
              " 'much',\n",
              " 'higher',\n",
              " 'with',\n",
              " 'major',\n",
              " 'markets',\n",
              " '.',\n",
              " 'as',\n",
              " 'far',\n",
              " 'as',\n",
              " 'technology',\n",
              " 'is',\n",
              " 'concerned',\n",
              " ',',\n",
              " 'paychex',\n",
              " 'is',\n",
              " 'moving',\n",
              " 'to',\n",
              " 'a',\n",
              " 'direction',\n",
              " 'of',\n",
              " 'bringing',\n",
              " 'our',\n",
              " 'softwares',\n",
              " 'together',\n",
              " '.',\n",
              " 'currently',\n",
              " ',',\n",
              " 'right',\n",
              " 'now',\n",
              " ',',\n",
              " 'we',\n",
              " 'have',\n",
              " 'a',\n",
              " 'payroll',\n",
              " 'system',\n",
              " 'for',\n",
              " 'major',\n",
              " 'markets',\n",
              " 'and',\n",
              " 'a',\n",
              " 'payroll',\n",
              " 'system',\n",
              " 'for',\n",
              " 'our',\n",
              " 'core',\n",
              " 'payroll',\n",
              " 'services',\n",
              " '.',\n",
              " 'i',\n",
              " 'think',\n",
              " 'over',\n",
              " 'the',\n",
              " 'time',\n",
              " ',',\n",
              " 'that',\n",
              " 'can',\n",
              " 'be',\n",
              " 'a',\n",
              " 'short',\n",
              " 'period',\n",
              " 'of',\n",
              " 'time',\n",
              " ',',\n",
              " 'but',\n",
              " 'over',\n",
              " 'time',\n",
              " ',',\n",
              " 'you',\n",
              " \"'re\",\n",
              " 'going',\n",
              " 'to',\n",
              " 'see',\n",
              " 'all',\n",
              " 'the',\n",
              " 'functionality',\n",
              " 'in',\n",
              " 'our',\n",
              " 'major',\n",
              " 'market',\n",
              " 'system',\n",
              " 'moved',\n",
              " 'over',\n",
              " 'to',\n",
              " 'our',\n",
              " 'core',\n",
              " 'clients',\n",
              " 'so',\n",
              " 'that',\n",
              " 'they',\n",
              " 'can',\n",
              " 'both',\n",
              " 'take',\n",
              " 'advantage',\n",
              " 'of',\n",
              " 'it',\n",
              " ',',\n",
              " 'but',\n",
              " 'other',\n",
              " 'than',\n",
              " 'that',\n",
              " 'it',\n",
              " \"'s\",\n",
              " 'pretty',\n",
              " 'much',\n",
              " 'status',\n",
              " 'quo',\n",
              " '.']"
            ]
          },
          "metadata": {},
          "execution_count": 12
        }
      ]
    },
    {
      "cell_type": "markdown",
      "metadata": {
        "id": "QYoj91iDDDfT"
      },
      "source": [
        "2. Collect the indices of the words:"
      ]
    },
    {
      "cell_type": "code",
      "metadata": {
        "id": "5PL471pGjuVN",
        "colab": {
          "base_uri": "https://localhost:8080/"
        },
        "outputId": "ee46e70f-df49-4760-f90f-b2ff7c11db4e"
      },
      "source": [
        "from collections import Counter\n",
        "\n",
        "MIN_COUNT = 5\n",
        "\n",
        "words_counter = Counter(token for tokens in tokenized_texts for token in tokens)\n",
        "word2index = {\n",
        "    '<unk>': 0# index2word[0]，标记符\n",
        "}\n",
        "\n",
        "#print(words_counter.most_common())\n",
        "for word, count in words_counter.most_common():\n",
        "    if count < MIN_COUNT:\n",
        "        break\n",
        "\n",
        "    word2index[word] = len(word2index)\n",
        "\n",
        "#print(word2index)\n",
        "index2word = [word for word, _ in sorted(word2index.items(), key=lambda x: x[1])]\n",
        "#print(index2word)# 词库转化成list，按出现次数由大到小排序\n",
        "\n",
        "#print('Vocabulary size:', len(index2word))\n",
        "print('Vocabulary size:', len(word2index))# 只统计出现次数>=5的word\n",
        "print('Tokens count:', sum(len(tokens) for tokens in tokenized_texts))# 语料库所有语句的总词数（也等于不同单词按出现次数的加权和）\n",
        "print('Unknown tokens appeared:', sum(1 for tokens in tokenized_texts for token in tokens if token not in word2index))# 出现次数<5的word总数\n",
        "print('Most freq words:', index2word[1:21])"
      ],
      "execution_count": null,
      "outputs": [
        {
          "output_type": "stream",
          "name": "stdout",
          "text": [
            "Vocabulary size: 7226\n",
            "Tokens count: 623563\n",
            "Unknown tokens appeared: 35607\n",
            "Most freq words: ['?', 'the', 'what', 'is', 'how', 'i', 'a', 'to', 'in', 'do', 'of', 'are', 'and', 'can', 'for', ',', 'you', 'why', 'it', 'best']\n"
          ]
        }
      ]
    },
    {
      "cell_type": "markdown",
      "source": [
        "3. collect the context words\n",
        "\n",
        "First of all, we need to collect all the contexts from our corpus."
      ],
      "metadata": {
        "id": "jHEQOelqQwqP"
      }
    },
    {
      "cell_type": "code",
      "metadata": {
        "id": "ocrsXgaynYPG"
      },
      "source": [
        "def build_contexts(tokenized_texts, window_size):\n",
        "    contexts = []\n",
        "    for tokens in tokenized_texts:\n",
        "        for i in range(len(tokens)):\n",
        "            central_word = tokens[i]\n",
        "            context = [tokens[i + delta] for delta in range(-window_size, window_size + 1)\n",
        "                       if delta != 0 and i + delta >= 0 and i + delta < len(tokens)]\n",
        "\n",
        "            contexts.append((central_word, context))\n",
        "\n",
        "    return contexts\n",
        "\n",
        "contexts = build_contexts(tokenized_texts, window_size=2)"
      ],
      "execution_count": null,
      "outputs": []
    },
    {
      "cell_type": "markdown",
      "metadata": {
        "id": "8o_ePiZ7wfpT"
      },
      "source": [
        "Check, what you got:"
      ]
    },
    {
      "cell_type": "code",
      "metadata": {
        "id": "KyQNK-9SBdb9",
        "colab": {
          "base_uri": "https://localhost:8080/"
        },
        "outputId": "b061dd99-1118-4dfc-8141-c2666d5c3c96"
      },
      "source": [
        "contexts[:20]\n",
        "# len=2 第一个词（只有后两个词）/最后一个词（或标点，只有前两个词）\n",
        "# len=3 第二个词（前1个词+后两个词）/倒数第二个词（前两个词+后1个词）\n",
        "# len=4 中间的词（前两个词+后两个词）"
      ],
      "execution_count": null,
      "outputs": [
        {
          "output_type": "execute_result",
          "data": {
            "text/plain": [
              "[('what', ['is', 'the']),\n",
              " ('is', ['what', 'the', 'step']),\n",
              " ('the', ['what', 'is', 'step', 'by']),\n",
              " ('step', ['is', 'the', 'by', 'step']),\n",
              " ('by', ['the', 'step', 'step', 'guide']),\n",
              " ('step', ['step', 'by', 'guide', 'to']),\n",
              " ('guide', ['by', 'step', 'to', 'invest']),\n",
              " ('to', ['step', 'guide', 'invest', 'in']),\n",
              " ('invest', ['guide', 'to', 'in', 'share']),\n",
              " ('in', ['to', 'invest', 'share', 'market']),\n",
              " ('share', ['invest', 'in', 'market', 'in']),\n",
              " ('market', ['in', 'share', 'in', 'india']),\n",
              " ('in', ['share', 'market', 'india', '?']),\n",
              " ('india', ['market', 'in', '?']),\n",
              " ('?', ['in', 'india']),\n",
              " ('what', ['is', 'the']),\n",
              " ('is', ['what', 'the', 'story']),\n",
              " ('the', ['what', 'is', 'story', 'of']),\n",
              " ('story', ['is', 'the', 'of', 'kohinoor']),\n",
              " ('of', ['the', 'story', 'kohinoor', '('])]"
            ]
          },
          "metadata": {},
          "execution_count": 7
        }
      ]
    },
    {
      "cell_type": "markdown",
      "metadata": {
        "id": "pbQKln_6yC4l"
      },
      "source": [
        "4. Convert to indices\n",
        "\n",
        "Let's convert words to indices:"
      ]
    },
    {
      "cell_type": "code",
      "metadata": {
        "id": "hOPRlKlLvUBA",
        "colab": {
          "base_uri": "https://localhost:8080/"
        },
        "outputId": "a6167619-6ba4-494c-f917-1765f948afb0"
      },
      "source": [
        "contexts = [(word2index.get(central_word, 0), [word2index.get(word, 0) for word in context])\n",
        "            for central_word, context in contexts]\n",
        "contexts[:20]# 词转化成按词频生成的index"
      ],
      "execution_count": null,
      "outputs": [
        {
          "output_type": "execute_result",
          "data": {
            "text/plain": [
              "[(3, [4, 2]),\n",
              " (4, [3, 2, 1310]),\n",
              " (2, [3, 4, 1310, 65]),\n",
              " (1310, [4, 2, 65, 1310]),\n",
              " (65, [2, 1310, 1310, 2105]),\n",
              " (1310, [1310, 65, 2105, 8]),\n",
              " (2105, [65, 1310, 8, 629]),\n",
              " (8, [1310, 2105, 629, 9]),\n",
              " (629, [2105, 8, 9, 696]),\n",
              " (9, [8, 629, 696, 399]),\n",
              " (696, [629, 9, 399, 9]),\n",
              " (399, [9, 696, 9, 39]),\n",
              " (9, [696, 399, 39, 1]),\n",
              " (39, [399, 9, 1]),\n",
              " (1, [9, 39]),\n",
              " (3, [4, 2]),\n",
              " (4, [3, 2, 537]),\n",
              " (2, [3, 4, 537, 11]),\n",
              " (537, [4, 2, 11, 0]),\n",
              " (11, [2, 537, 0, 41])]"
            ]
          },
          "metadata": {},
          "execution_count": 8
        }
      ]
    },
    {
      "cell_type": "markdown",
      "metadata": {
        "id": "XGfhLR6x8D3r"
      },
      "source": [
        "### **1.2 Continuous Bag of Words (CBoW) Word2vec**"
      ]
    },
    {
      "cell_type": "markdown",
      "metadata": {
        "id": "3UuVr2IsaYhX"
      },
      "source": [
        "We have learn skip-gram model in tutorial. Now, we will explore another popular Word2Vec paradigm called Continuous Bag of Words (CBoW). *CBoW* offers faster processing and slightly better accuracy for common words compared to the *Skip-Gram*, which is more effective with rare words.\n",
        "\n",
        "**CBoW Structure**\n",
        "\n",
        "Below is the CBoW model architecture:\n",
        "\n",
        "![](https://i.ibb.co/StXTMFH/CBOW.png)\n",
        "\n",
        "In CBoW, the goal is to predict a target word from its surrounding context, represented by the sum of context vectors.\n",
        "\n",
        "We will leverage our understanding from the *Skip-Gram* model to implement *CBoW*."
      ]
    },
    {
      "cell_type": "markdown",
      "source": [
        "1. **Batches Generations**\n",
        "**<font color=\"red\">[Task]</font>** : Implement the batch generator.\n",
        "\n",
        "**Hint**: The generator should produce a input matrix `(batch_size, 2 * window_size)` containing context word indices and a target matrix `(batch_size)` with central word indices."
      ],
      "metadata": {
        "id": "5ENsl-sbox1m"
      }
    },
    {
      "cell_type": "code",
      "metadata": {
        "id": "VNaP0uaU7T2-"
      },
      "source": [
        "def make_cbow_batches_iter(contexts, window_size, batch_size):\n",
        "\n",
        "    # 去掉首尾两词（window<4）和标识词（word_index=0）\n",
        "    central_words = np.array([word for word, context in contexts if len(context) == 2 * window_size and word != 0])\n",
        "    contexts = np.array([context for word, context in contexts if len(context) == 2 * window_size and word != 0])\n",
        "\n",
        "\n",
        "    batches_count = int(math.ceil(len(contexts) / batch_size))\n",
        "\n",
        "    print('Initializing batches generator with {} batches per epoch'.format(batches_count))\n",
        "\n",
        "    indices = np.arange(len(contexts))\n",
        "    np.random.shuffle(indices)\n",
        "\n",
        "    for i in range(batches_count):\n",
        "      batch_begin, batch_end = i * batch_size, min((i + 1) * batch_size, len(contexts))\n",
        "      batch_indices = indices[batch_begin: batch_end]\n",
        "\n",
        "      # Write your implementation here.\n",
        "      # Get batch data\n",
        "      batch_contexts = contexts[batch_indices]\n",
        "      batch_centrals = central_words[batch_indices]\n",
        "\n",
        "      # Convert to tensors and yield\n",
        "      # Returns a dictionary with 'tokens' (context words) and 'labels' (target words)\n",
        "      yield {\n",
        "        # Converts numpy arrays to PyTorch LongTensors\n",
        "        'tokens': torch.LongTensor(batch_contexts),\n",
        "        'labels': torch.LongTensor(batch_centrals)\n",
        "      }"
      ],
      "execution_count": null,
      "outputs": []
    },
    {
      "cell_type": "markdown",
      "metadata": {
        "id": "wBF7xiik7ZaN"
      },
      "source": [
        "Check it:"
      ]
    },
    {
      "cell_type": "code",
      "metadata": {
        "id": "0IVrQl8S4L9j",
        "colab": {
          "base_uri": "https://localhost:8080/"
        },
        "outputId": "8cb9bb3c-c31e-4c3c-bcc6-b59ce590d6b4"
      },
      "source": [
        "window_size = 2\n",
        "batch_size = 32\n",
        "\n",
        "batch = next(make_cbow_batches_iter(contexts, window_size=window_size, batch_size=batch_size))\n",
        "#print(batch.items())\n",
        "assert isinstance(batch, dict)\n",
        "assert 'labels' in batch and 'tokens' in batch\n",
        "\n",
        "assert isinstance(batch['tokens'], torch.LongTensor)\n",
        "assert isinstance(batch['labels'], torch.LongTensor)\n",
        "\n",
        "assert batch['tokens'].shape == (batch_size, 2 * window_size)\n",
        "assert batch['labels'].shape == (batch_size,)"
      ],
      "execution_count": null,
      "outputs": [
        {
          "output_type": "stream",
          "name": "stdout",
          "text": [
            "Initializing batches generator with 12380 batches per epoch\n"
          ]
        }
      ]
    },
    {
      "cell_type": "markdown",
      "metadata": {
        "id": "nbKbZ_4E7T3U"
      },
      "source": [
        "2. **Model**\n",
        "**<font color=\"red\">[Task]</font>**: Build the `CBoWModel`.\n",
        "\n",
        "**Hint**: You need to implement the `forward` method based on the CBoW architecture. The context embedding is represented as the average of their context embeddings."
      ]
    },
    {
      "cell_type": "code",
      "metadata": {
        "id": "Mkawxwe77T3V"
      },
      "source": [
        "class CBoWModel(nn.Module):\n",
        "    def __init__(self, vocab_size, embedding_dim):\n",
        "        super().__init__()\n",
        "        self.embeddings = nn.Embedding(vocab_size, embedding_dim)\n",
        "        self.out_layer = nn.Linear(embedding_dim, vocab_size)\n",
        "\n",
        "    def forward(self, inputs):\n",
        "        # Get embeddings for all context words\n",
        "        context_embeds = self.embeddings(inputs)  # Shape: [batch_size, 2*window, emb_dim]\n",
        "\n",
        "        # Average the context embeddings across the window dimension\n",
        "        avg_embeds = context_embeds.mean(dim=1)  # Shape: [batch_size, emb_dim]\n",
        "\n",
        "        # Generate output logits\n",
        "        logits = self.out_layer(avg_embeds)  # Shape: [batch_size, vocab_size]\n",
        "        return logits"
      ],
      "execution_count": null,
      "outputs": []
    },
    {
      "cell_type": "markdown",
      "metadata": {
        "id": "DHhTDxya7a3S"
      },
      "source": [
        "Check it:"
      ]
    },
    {
      "cell_type": "code",
      "metadata": {
        "id": "nh_mNh__6lG2"
      },
      "source": [
        "model = CBoWModel(vocab_size=len(word2index), embedding_dim=32).cuda()\n",
        "\n",
        "outputs = model(batch['tokens'].cuda())\n",
        "\n",
        "assert isinstance(outputs, torch.cuda.FloatTensor)\n",
        "assert outputs.shape == (batch_size, len(word2index))"
      ],
      "execution_count": null,
      "outputs": []
    },
    {
      "cell_type": "markdown",
      "metadata": {
        "id": "hmn56yki7T3a"
      },
      "source": [
        "3. **Training**\n",
        "**<font color=\"red\">[Task]</font>** : Train the CBoW.\n",
        "\n",
        "**Hint**: Consider referring to the training code of the previously mentioned *Skip-gram* model."
      ]
    },
    {
      "cell_type": "code",
      "metadata": {
        "id": "OzKLP9bs7T3b",
        "colab": {
          "base_uri": "https://localhost:8080/"
        },
        "outputId": "6dcdf284-9b35-4674-b0c7-9a9dfe1d79e8"
      },
      "source": [
        "# Here are the hyperparameters you can adjust\n",
        "embedding_dim = 32\n",
        "learning_rate = 0.001\n",
        "epoch_num = 20\n",
        "batch_size = 128\n",
        "\n",
        "# Initialization Model\n",
        "model = CBoWModel(len(word2index),embedding_dim)\n",
        "# Getting model to GPU\n",
        "model.cuda()\n",
        "# Define the loss function\n",
        "criterion = nn.CrossEntropyLoss()\n",
        "# use Adam optimizer\n",
        "optimizer = optim.Adam(model.parameters(), lr=learning_rate)\n",
        "\n",
        "loss_every_nsteps = 3000\n",
        "total_loss = 0\n",
        "start_time = time.time()\n",
        "global_step = 0\n",
        "\n",
        "for ep in range(epoch_num):\n",
        "  for step, batch in enumerate(make_cbow_batches_iter(contexts, window_size=2, batch_size=batch_size)):\n",
        "      global_step += 1\n",
        "\n",
        "      # Move batch to GPU\n",
        "      inputs = batch['tokens'].cuda()\n",
        "      labels = batch['labels'].cuda()\n",
        "      # 初始化gradient\n",
        "      optimizer.zero_grad()\n",
        "      # Forward pass\n",
        "      outputs = model(inputs)\n",
        "\n",
        "      # Calculate loss\n",
        "      loss = criterion(outputs, labels)\n",
        "\n",
        "      # Backward pass and optimize（做一次gradient descent）\n",
        "      loss.backward()\n",
        "      optimizer.step()\n",
        "\n",
        "      total_loss += loss.item()\n",
        "\n",
        "      if global_step != 0 and global_step % loss_every_nsteps == 0:\n",
        "          print(\"Epoch = {}, Step = {}, Avg Loss = {:.4f}, Time = {:.2f}s\".format(ep, step, total_loss / loss_every_nsteps,\n",
        "                                                                      time.time() - start_time))\n",
        "          total_loss = 0\n",
        "          start_time = time.time() # 平均4s/epoch"
      ],
      "execution_count": null,
      "outputs": [
        {
          "output_type": "stream",
          "name": "stdout",
          "text": [
            "Initializing batches generator with 3095 batches per epoch\n",
            "Epoch = 0, Step = 2999, Avg Loss = 6.4792, Time = 4.28s\n",
            "Initializing batches generator with 3095 batches per epoch\n",
            "Epoch = 1, Step = 2904, Avg Loss = 5.5652, Time = 3.79s\n",
            "Initializing batches generator with 3095 batches per epoch\n",
            "Epoch = 2, Step = 2809, Avg Loss = 5.2524, Time = 3.94s\n",
            "Initializing batches generator with 3095 batches per epoch\n",
            "Epoch = 3, Step = 2714, Avg Loss = 5.0570, Time = 4.22s\n",
            "Initializing batches generator with 3095 batches per epoch\n",
            "Epoch = 4, Step = 2619, Avg Loss = 4.9147, Time = 3.81s\n",
            "Initializing batches generator with 3095 batches per epoch\n",
            "Epoch = 5, Step = 2524, Avg Loss = 4.8091, Time = 3.75s\n",
            "Initializing batches generator with 3095 batches per epoch\n",
            "Epoch = 6, Step = 2429, Avg Loss = 4.7171, Time = 4.20s\n",
            "Initializing batches generator with 3095 batches per epoch\n",
            "Epoch = 7, Step = 2334, Avg Loss = 4.6391, Time = 3.79s\n",
            "Initializing batches generator with 3095 batches per epoch\n",
            "Epoch = 8, Step = 2239, Avg Loss = 4.5762, Time = 4.64s\n",
            "Initializing batches generator with 3095 batches per epoch\n",
            "Epoch = 9, Step = 2144, Avg Loss = 4.5255, Time = 3.94s\n",
            "Initializing batches generator with 3095 batches per epoch\n",
            "Epoch = 10, Step = 2049, Avg Loss = 4.4706, Time = 3.76s\n",
            "Initializing batches generator with 3095 batches per epoch\n",
            "Epoch = 11, Step = 1954, Avg Loss = 4.4305, Time = 3.93s\n",
            "Initializing batches generator with 3095 batches per epoch\n",
            "Epoch = 12, Step = 1859, Avg Loss = 4.3839, Time = 4.07s\n",
            "Initializing batches generator with 3095 batches per epoch\n",
            "Epoch = 13, Step = 1764, Avg Loss = 4.3537, Time = 3.76s\n",
            "Initializing batches generator with 3095 batches per epoch\n",
            "Epoch = 14, Step = 1669, Avg Loss = 4.3104, Time = 3.88s\n",
            "Initializing batches generator with 3095 batches per epoch\n",
            "Epoch = 15, Step = 1574, Avg Loss = 4.2842, Time = 4.03s\n",
            "Initializing batches generator with 3095 batches per epoch\n",
            "Epoch = 16, Step = 1479, Avg Loss = 4.2546, Time = 3.75s\n",
            "Initializing batches generator with 3095 batches per epoch\n",
            "Epoch = 17, Step = 1384, Avg Loss = 4.2327, Time = 3.79s\n",
            "Initializing batches generator with 3095 batches per epoch\n",
            "Epoch = 18, Step = 1289, Avg Loss = 4.1957, Time = 4.12s\n",
            "Initializing batches generator with 3095 batches per epoch\n",
            "Epoch = 19, Step = 1194, Avg Loss = 4.1787, Time = 3.80s\n"
          ]
        }
      ]
    },
    {
      "cell_type": "markdown",
      "source": [
        "**Obtaining word embeddings**\n",
        "\n",
        "Word embeddings are contained within the embeddings layer of the model. We just need to move them from the GPU to the CPU and convert them to a numpy array."
      ],
      "metadata": {
        "id": "bcdVwk_gtiC8"
      }
    },
    {
      "cell_type": "code",
      "source": [
        "embeddings = model.embeddings.weight.data.cpu().numpy()\n"
      ],
      "metadata": {
        "id": "YRu-WeMbtivr"
      },
      "execution_count": null,
      "outputs": []
    },
    {
      "cell_type": "markdown",
      "source": [
        "**Testing Trained Word Embeddings**"
      ],
      "metadata": {
        "id": "X-GyEW7s76-Q"
      }
    },
    {
      "cell_type": "markdown",
      "source": [
        "Let's check how adequate are similarities that the model learnt."
      ],
      "metadata": {
        "id": "AqRo0WHOtrpu"
      }
    },
    {
      "cell_type": "code",
      "source": [
        "from sklearn.metrics.pairwise import cosine_similarity\n",
        "\n",
        "def most_similar(embeddings, index2word, word2index, word):\n",
        "    word_emb = embeddings[word2index[word]]\n",
        "\n",
        "    similarities = cosine_similarity([word_emb], embeddings)[0]\n",
        "    top10 = np.argsort(similarities)[-10:]\n",
        "\n",
        "    return [index2word[index] for index in reversed(top10)]\n",
        "\n",
        "most_similar(embeddings, index2word, word2index, 'my')"
      ],
      "metadata": {
        "id": "mjZ4Ki8RtXZH",
        "colab": {
          "base_uri": "https://localhost:8080/"
        },
        "outputId": "59653b92-b671-4e22-f3f5-93f34b6bd053"
      },
      "execution_count": null,
      "outputs": [
        {
          "output_type": "execute_result",
          "data": {
            "text/plain": [
              "['my',\n",
              " 'your',\n",
              " 'his',\n",
              " 'her',\n",
              " 'pages',\n",
              " 'our',\n",
              " 'their',\n",
              " '360',\n",
              " 'john',\n",
              " 'increases']"
            ]
          },
          "metadata": {},
          "execution_count": 18
        }
      ]
    },
    {
      "cell_type": "markdown",
      "metadata": {
        "id": "HQW4PBdF96xC"
      },
      "source": [
        "**Visualization of our embeddings**"
      ]
    },
    {
      "cell_type": "code",
      "source": [
        "import bokeh.models as bm, bokeh.plotting as pl\n",
        "from bokeh.io import output_notebook\n",
        "\n",
        "from sklearn.manifold import TSNE\n",
        "from sklearn.preprocessing import scale\n",
        "\n",
        "\n",
        "def draw_vectors(x, y, radius=10, alpha=0.25, color='blue',\n",
        "                 width=600, height=400, show=True, **kwargs):\n",
        "    \"\"\" draws an interactive plot for data points with auxilirary info on hover \"\"\"\n",
        "    output_notebook()\n",
        "\n",
        "    if isinstance(color, str):\n",
        "        color = [color] * len(x)\n",
        "    data_source = bm.ColumnDataSource({ 'x' : x, 'y' : y, 'color': color, **kwargs })\n",
        "\n",
        "    fig = pl.figure(active_scroll='wheel_zoom', width=width, height=height)\n",
        "    fig.scatter('x', 'y', size=radius, color='color', alpha=alpha, source=data_source)\n",
        "\n",
        "    fig.add_tools(bm.HoverTool(tooltips=[(key, \"@\" + key) for key in kwargs.keys()]))\n",
        "    if show:\n",
        "        pl.show(fig)\n",
        "    return fig\n",
        "\n",
        "\n",
        "def get_tsne_projection(word_vectors):\n",
        "    tsne = TSNE(n_components=2, verbose=1)\n",
        "    return scale(tsne.fit_transform(word_vectors))\n",
        "\n",
        "\n",
        "def visualize_embeddings(embeddings, index2word, word_count):\n",
        "    word_vectors = embeddings[1: word_count + 1]\n",
        "    words = index2word[1: word_count + 1]\n",
        "\n",
        "    word_tsne = get_tsne_projection(word_vectors)\n",
        "    draw_vectors(word_tsne[:, 0], word_tsne[:, 1], color='blue', token=words)\n",
        "\n",
        "\n",
        "visualize_embeddings(embeddings, index2word, 100)"
      ],
      "metadata": {
        "id": "5utoAUjltQZ6",
        "colab": {
          "base_uri": "https://localhost:8080/",
          "height": 628
        },
        "outputId": "b5db62d5-9386-4633-8366-1d74ff5b26d6"
      },
      "execution_count": null,
      "outputs": [
        {
          "output_type": "stream",
          "name": "stdout",
          "text": [
            "[t-SNE] Computing 91 nearest neighbors...\n",
            "[t-SNE] Indexed 100 samples in 0.000s...\n",
            "[t-SNE] Computed neighbors for 100 samples in 0.003s...\n",
            "[t-SNE] Computed conditional probabilities for sample 100 / 100\n",
            "[t-SNE] Mean sigma: 5.118707\n",
            "[t-SNE] KL divergence after 250 iterations with early exaggeration: 66.809059\n",
            "[t-SNE] KL divergence after 950 iterations: 0.496958\n"
          ]
        },
        {
          "output_type": "stream",
          "name": "stderr",
          "text": [
            "/usr/local/lib/python3.11/dist-packages/sklearn/preprocessing/_data.py:258: UserWarning: Numerical issues were encountered when centering the data and might not be solved. Dataset may contain too large values. You may need to prescale your features.\n",
            "  warnings.warn(\n",
            "/usr/local/lib/python3.11/dist-packages/sklearn/preprocessing/_data.py:277: UserWarning: Numerical issues were encountered when scaling the data and might not be solved. The standard deviation of the data is probably very close to 0. \n",
            "  warnings.warn(\n"
          ]
        },
        {
          "output_type": "display_data",
          "data": {
            "application/javascript": [
              "(function(root) {\n",
              "  function now() {\n",
              "    return new Date();\n",
              "  }\n",
              "\n",
              "  const force = true;\n",
              "\n",
              "  if (typeof root._bokeh_onload_callbacks === \"undefined\" || force === true) {\n",
              "    root._bokeh_onload_callbacks = [];\n",
              "    root._bokeh_is_loading = undefined;\n",
              "  }\n",
              "\n",
              "const JS_MIME_TYPE = 'application/javascript';\n",
              "  const HTML_MIME_TYPE = 'text/html';\n",
              "  const EXEC_MIME_TYPE = 'application/vnd.bokehjs_exec.v0+json';\n",
              "  const CLASS_NAME = 'output_bokeh rendered_html';\n",
              "\n",
              "  /**\n",
              "   * Render data to the DOM node\n",
              "   */\n",
              "  function render(props, node) {\n",
              "    const script = document.createElement(\"script\");\n",
              "    node.appendChild(script);\n",
              "  }\n",
              "\n",
              "  /**\n",
              "   * Handle when an output is cleared or removed\n",
              "   */\n",
              "  function handleClearOutput(event, handle) {\n",
              "    const cell = handle.cell;\n",
              "\n",
              "    const id = cell.output_area._bokeh_element_id;\n",
              "    const server_id = cell.output_area._bokeh_server_id;\n",
              "    // Clean up Bokeh references\n",
              "    if (id != null && id in Bokeh.index) {\n",
              "      Bokeh.index[id].model.document.clear();\n",
              "      delete Bokeh.index[id];\n",
              "    }\n",
              "\n",
              "    if (server_id !== undefined) {\n",
              "      // Clean up Bokeh references\n",
              "      const cmd_clean = \"from bokeh.io.state import curstate; print(curstate().uuid_to_server['\" + server_id + \"'].get_sessions()[0].document.roots[0]._id)\";\n",
              "      cell.notebook.kernel.execute(cmd_clean, {\n",
              "        iopub: {\n",
              "          output: function(msg) {\n",
              "            const id = msg.content.text.trim();\n",
              "            if (id in Bokeh.index) {\n",
              "              Bokeh.index[id].model.document.clear();\n",
              "              delete Bokeh.index[id];\n",
              "            }\n",
              "          }\n",
              "        }\n",
              "      });\n",
              "      // Destroy server and session\n",
              "      const cmd_destroy = \"import bokeh.io.notebook as ion; ion.destroy_server('\" + server_id + \"')\";\n",
              "      cell.notebook.kernel.execute(cmd_destroy);\n",
              "    }\n",
              "  }\n",
              "\n",
              "  /**\n",
              "   * Handle when a new output is added\n",
              "   */\n",
              "  function handleAddOutput(event, handle) {\n",
              "    const output_area = handle.output_area;\n",
              "    const output = handle.output;\n",
              "\n",
              "    // limit handleAddOutput to display_data with EXEC_MIME_TYPE content only\n",
              "    if ((output.output_type != \"display_data\") || (!Object.prototype.hasOwnProperty.call(output.data, EXEC_MIME_TYPE))) {\n",
              "      return\n",
              "    }\n",
              "\n",
              "    const toinsert = output_area.element.find(\".\" + CLASS_NAME.split(' ')[0]);\n",
              "\n",
              "    if (output.metadata[EXEC_MIME_TYPE][\"id\"] !== undefined) {\n",
              "      toinsert[toinsert.length - 1].firstChild.textContent = output.data[JS_MIME_TYPE];\n",
              "      // store reference to embed id on output_area\n",
              "      output_area._bokeh_element_id = output.metadata[EXEC_MIME_TYPE][\"id\"];\n",
              "    }\n",
              "    if (output.metadata[EXEC_MIME_TYPE][\"server_id\"] !== undefined) {\n",
              "      const bk_div = document.createElement(\"div\");\n",
              "      bk_div.innerHTML = output.data[HTML_MIME_TYPE];\n",
              "      const script_attrs = bk_div.children[0].attributes;\n",
              "      for (let i = 0; i < script_attrs.length; i++) {\n",
              "        toinsert[toinsert.length - 1].firstChild.setAttribute(script_attrs[i].name, script_attrs[i].value);\n",
              "        toinsert[toinsert.length - 1].firstChild.textContent = bk_div.children[0].textContent\n",
              "      }\n",
              "      // store reference to server id on output_area\n",
              "      output_area._bokeh_server_id = output.metadata[EXEC_MIME_TYPE][\"server_id\"];\n",
              "    }\n",
              "  }\n",
              "\n",
              "  function register_renderer(events, OutputArea) {\n",
              "\n",
              "    function append_mime(data, metadata, element) {\n",
              "      // create a DOM node to render to\n",
              "      const toinsert = this.create_output_subarea(\n",
              "        metadata,\n",
              "        CLASS_NAME,\n",
              "        EXEC_MIME_TYPE\n",
              "      );\n",
              "      this.keyboard_manager.register_events(toinsert);\n",
              "      // Render to node\n",
              "      const props = {data: data, metadata: metadata[EXEC_MIME_TYPE]};\n",
              "      render(props, toinsert[toinsert.length - 1]);\n",
              "      element.append(toinsert);\n",
              "      return toinsert\n",
              "    }\n",
              "\n",
              "    /* Handle when an output is cleared or removed */\n",
              "    events.on('clear_output.CodeCell', handleClearOutput);\n",
              "    events.on('delete.Cell', handleClearOutput);\n",
              "\n",
              "    /* Handle when a new output is added */\n",
              "    events.on('output_added.OutputArea', handleAddOutput);\n",
              "\n",
              "    /**\n",
              "     * Register the mime type and append_mime function with output_area\n",
              "     */\n",
              "    OutputArea.prototype.register_mime_type(EXEC_MIME_TYPE, append_mime, {\n",
              "      /* Is output safe? */\n",
              "      safe: true,\n",
              "      /* Index of renderer in `output_area.display_order` */\n",
              "      index: 0\n",
              "    });\n",
              "  }\n",
              "\n",
              "  // register the mime type if in Jupyter Notebook environment and previously unregistered\n",
              "  if (root.Jupyter !== undefined) {\n",
              "    const events = require('base/js/events');\n",
              "    const OutputArea = require('notebook/js/outputarea').OutputArea;\n",
              "\n",
              "    if (OutputArea.prototype.mime_types().indexOf(EXEC_MIME_TYPE) == -1) {\n",
              "      register_renderer(events, OutputArea);\n",
              "    }\n",
              "  }\n",
              "  if (typeof (root._bokeh_timeout) === \"undefined\" || force === true) {\n",
              "    root._bokeh_timeout = Date.now() + 5000;\n",
              "    root._bokeh_failed_load = false;\n",
              "  }\n",
              "\n",
              "  const NB_LOAD_WARNING = {'data': {'text/html':\n",
              "     \"<div style='background-color: #fdd'>\\n\"+\n",
              "     \"<p>\\n\"+\n",
              "     \"BokehJS does not appear to have successfully loaded. If loading BokehJS from CDN, this \\n\"+\n",
              "     \"may be due to a slow or bad network connection. Possible fixes:\\n\"+\n",
              "     \"</p>\\n\"+\n",
              "     \"<ul>\\n\"+\n",
              "     \"<li>re-rerun `output_notebook()` to attempt to load from CDN again, or</li>\\n\"+\n",
              "     \"<li>use INLINE resources instead, as so:</li>\\n\"+\n",
              "     \"</ul>\\n\"+\n",
              "     \"<code>\\n\"+\n",
              "     \"from bokeh.resources import INLINE\\n\"+\n",
              "     \"output_notebook(resources=INLINE)\\n\"+\n",
              "     \"</code>\\n\"+\n",
              "     \"</div>\"}};\n",
              "\n",
              "  function display_loaded() {\n",
              "    const el = document.getElementById(null);\n",
              "    if (el != null) {\n",
              "      el.textContent = \"BokehJS is loading...\";\n",
              "    }\n",
              "    if (root.Bokeh !== undefined) {\n",
              "      if (el != null) {\n",
              "        el.textContent = \"BokehJS \" + root.Bokeh.version + \" successfully loaded.\";\n",
              "      }\n",
              "    } else if (Date.now() < root._bokeh_timeout) {\n",
              "      setTimeout(display_loaded, 100)\n",
              "    }\n",
              "  }\n",
              "\n",
              "  function run_callbacks() {\n",
              "    try {\n",
              "      root._bokeh_onload_callbacks.forEach(function(callback) {\n",
              "        if (callback != null)\n",
              "          callback();\n",
              "      });\n",
              "    } finally {\n",
              "      delete root._bokeh_onload_callbacks\n",
              "    }\n",
              "    console.debug(\"Bokeh: all callbacks have finished\");\n",
              "  }\n",
              "\n",
              "  function load_libs(css_urls, js_urls, callback) {\n",
              "    if (css_urls == null) css_urls = [];\n",
              "    if (js_urls == null) js_urls = [];\n",
              "\n",
              "    root._bokeh_onload_callbacks.push(callback);\n",
              "    if (root._bokeh_is_loading > 0) {\n",
              "      console.debug(\"Bokeh: BokehJS is being loaded, scheduling callback at\", now());\n",
              "      return null;\n",
              "    }\n",
              "    if (js_urls == null || js_urls.length === 0) {\n",
              "      run_callbacks();\n",
              "      return null;\n",
              "    }\n",
              "    console.debug(\"Bokeh: BokehJS not loaded, scheduling load and callback at\", now());\n",
              "    root._bokeh_is_loading = css_urls.length + js_urls.length;\n",
              "\n",
              "    function on_load() {\n",
              "      root._bokeh_is_loading--;\n",
              "      if (root._bokeh_is_loading === 0) {\n",
              "        console.debug(\"Bokeh: all BokehJS libraries/stylesheets loaded\");\n",
              "        run_callbacks()\n",
              "      }\n",
              "    }\n",
              "\n",
              "    function on_error(url) {\n",
              "      console.error(\"failed to load \" + url);\n",
              "    }\n",
              "\n",
              "    for (let i = 0; i < css_urls.length; i++) {\n",
              "      const url = css_urls[i];\n",
              "      const element = document.createElement(\"link\");\n",
              "      element.onload = on_load;\n",
              "      element.onerror = on_error.bind(null, url);\n",
              "      element.rel = \"stylesheet\";\n",
              "      element.type = \"text/css\";\n",
              "      element.href = url;\n",
              "      console.debug(\"Bokeh: injecting link tag for BokehJS stylesheet: \", url);\n",
              "      document.body.appendChild(element);\n",
              "    }\n",
              "\n",
              "    for (let i = 0; i < js_urls.length; i++) {\n",
              "      const url = js_urls[i];\n",
              "      const element = document.createElement('script');\n",
              "      element.onload = on_load;\n",
              "      element.onerror = on_error.bind(null, url);\n",
              "      element.async = false;\n",
              "      element.src = url;\n",
              "      console.debug(\"Bokeh: injecting script tag for BokehJS library: \", url);\n",
              "      document.head.appendChild(element);\n",
              "    }\n",
              "  };\n",
              "\n",
              "  function inject_raw_css(css) {\n",
              "    const element = document.createElement(\"style\");\n",
              "    element.appendChild(document.createTextNode(css));\n",
              "    document.body.appendChild(element);\n",
              "  }\n",
              "\n",
              "  const js_urls = [\"https://cdn.bokeh.org/bokeh/release/bokeh-3.2.0.min.js\", \"https://cdn.bokeh.org/bokeh/release/bokeh-gl-3.2.0.min.js\", \"https://cdn.bokeh.org/bokeh/release/bokeh-widgets-3.2.0.min.js\", \"https://cdn.bokeh.org/bokeh/release/bokeh-tables-3.2.0.min.js\", \"https://cdn.bokeh.org/bokeh/release/bokeh-mathjax-3.2.0.min.js\"];\n",
              "  const css_urls = [];\n",
              "\n",
              "  const inline_js = [    function(Bokeh) {\n",
              "      Bokeh.set_log_level(\"info\");\n",
              "    },\n",
              "function(Bokeh) {\n",
              "    }\n",
              "  ];\n",
              "\n",
              "  function run_inline_js() {\n",
              "    if (root.Bokeh !== undefined || force === true) {\n",
              "          for (let i = 0; i < inline_js.length; i++) {\n",
              "      inline_js[i].call(root, root.Bokeh);\n",
              "    }\n",
              "} else if (Date.now() < root._bokeh_timeout) {\n",
              "      setTimeout(run_inline_js, 100);\n",
              "    } else if (!root._bokeh_failed_load) {\n",
              "      console.log(\"Bokeh: BokehJS failed to load within specified timeout.\");\n",
              "      root._bokeh_failed_load = true;\n",
              "    } else if (force !== true) {\n",
              "      const cell = $(document.getElementById(null)).parents('.cell').data().cell;\n",
              "      cell.output_area.append_execute_result(NB_LOAD_WARNING)\n",
              "    }\n",
              "  }\n",
              "\n",
              "  if (root._bokeh_is_loading === 0) {\n",
              "    console.debug(\"Bokeh: BokehJS loaded, going straight to plotting\");\n",
              "    run_inline_js();\n",
              "  } else {\n",
              "    load_libs(css_urls, js_urls, function() {\n",
              "      console.debug(\"Bokeh: BokehJS plotting callback run at\", now());\n",
              "      run_inline_js();\n",
              "    });\n",
              "  }\n",
              "}(window));"
            ],
            "application/vnd.bokehjs_load.v0+json": "(function(root) {\n  function now() {\n    return new Date();\n  }\n\n  const force = true;\n\n  if (typeof root._bokeh_onload_callbacks === \"undefined\" || force === true) {\n    root._bokeh_onload_callbacks = [];\n    root._bokeh_is_loading = undefined;\n  }\n\n\n  if (typeof (root._bokeh_timeout) === \"undefined\" || force === true) {\n    root._bokeh_timeout = Date.now() + 5000;\n    root._bokeh_failed_load = false;\n  }\n\n  const NB_LOAD_WARNING = {'data': {'text/html':\n     \"<div style='background-color: #fdd'>\\n\"+\n     \"<p>\\n\"+\n     \"BokehJS does not appear to have successfully loaded. If loading BokehJS from CDN, this \\n\"+\n     \"may be due to a slow or bad network connection. Possible fixes:\\n\"+\n     \"</p>\\n\"+\n     \"<ul>\\n\"+\n     \"<li>re-rerun `output_notebook()` to attempt to load from CDN again, or</li>\\n\"+\n     \"<li>use INLINE resources instead, as so:</li>\\n\"+\n     \"</ul>\\n\"+\n     \"<code>\\n\"+\n     \"from bokeh.resources import INLINE\\n\"+\n     \"output_notebook(resources=INLINE)\\n\"+\n     \"</code>\\n\"+\n     \"</div>\"}};\n\n  function display_loaded() {\n    const el = document.getElementById(null);\n    if (el != null) {\n      el.textContent = \"BokehJS is loading...\";\n    }\n    if (root.Bokeh !== undefined) {\n      if (el != null) {\n        el.textContent = \"BokehJS \" + root.Bokeh.version + \" successfully loaded.\";\n      }\n    } else if (Date.now() < root._bokeh_timeout) {\n      setTimeout(display_loaded, 100)\n    }\n  }\n\n  function run_callbacks() {\n    try {\n      root._bokeh_onload_callbacks.forEach(function(callback) {\n        if (callback != null)\n          callback();\n      });\n    } finally {\n      delete root._bokeh_onload_callbacks\n    }\n    console.debug(\"Bokeh: all callbacks have finished\");\n  }\n\n  function load_libs(css_urls, js_urls, callback) {\n    if (css_urls == null) css_urls = [];\n    if (js_urls == null) js_urls = [];\n\n    root._bokeh_onload_callbacks.push(callback);\n    if (root._bokeh_is_loading > 0) {\n      console.debug(\"Bokeh: BokehJS is being loaded, scheduling callback at\", now());\n      return null;\n    }\n    if (js_urls == null || js_urls.length === 0) {\n      run_callbacks();\n      return null;\n    }\n    console.debug(\"Bokeh: BokehJS not loaded, scheduling load and callback at\", now());\n    root._bokeh_is_loading = css_urls.length + js_urls.length;\n\n    function on_load() {\n      root._bokeh_is_loading--;\n      if (root._bokeh_is_loading === 0) {\n        console.debug(\"Bokeh: all BokehJS libraries/stylesheets loaded\");\n        run_callbacks()\n      }\n    }\n\n    function on_error(url) {\n      console.error(\"failed to load \" + url);\n    }\n\n    for (let i = 0; i < css_urls.length; i++) {\n      const url = css_urls[i];\n      const element = document.createElement(\"link\");\n      element.onload = on_load;\n      element.onerror = on_error.bind(null, url);\n      element.rel = \"stylesheet\";\n      element.type = \"text/css\";\n      element.href = url;\n      console.debug(\"Bokeh: injecting link tag for BokehJS stylesheet: \", url);\n      document.body.appendChild(element);\n    }\n\n    for (let i = 0; i < js_urls.length; i++) {\n      const url = js_urls[i];\n      const element = document.createElement('script');\n      element.onload = on_load;\n      element.onerror = on_error.bind(null, url);\n      element.async = false;\n      element.src = url;\n      console.debug(\"Bokeh: injecting script tag for BokehJS library: \", url);\n      document.head.appendChild(element);\n    }\n  };\n\n  function inject_raw_css(css) {\n    const element = document.createElement(\"style\");\n    element.appendChild(document.createTextNode(css));\n    document.body.appendChild(element);\n  }\n\n  const js_urls = [\"https://cdn.bokeh.org/bokeh/release/bokeh-3.2.0.min.js\", \"https://cdn.bokeh.org/bokeh/release/bokeh-gl-3.2.0.min.js\", \"https://cdn.bokeh.org/bokeh/release/bokeh-widgets-3.2.0.min.js\", \"https://cdn.bokeh.org/bokeh/release/bokeh-tables-3.2.0.min.js\", \"https://cdn.bokeh.org/bokeh/release/bokeh-mathjax-3.2.0.min.js\"];\n  const css_urls = [];\n\n  const inline_js = [    function(Bokeh) {\n      Bokeh.set_log_level(\"info\");\n    },\nfunction(Bokeh) {\n    }\n  ];\n\n  function run_inline_js() {\n    if (root.Bokeh !== undefined || force === true) {\n          for (let i = 0; i < inline_js.length; i++) {\n      inline_js[i].call(root, root.Bokeh);\n    }\n} else if (Date.now() < root._bokeh_timeout) {\n      setTimeout(run_inline_js, 100);\n    } else if (!root._bokeh_failed_load) {\n      console.log(\"Bokeh: BokehJS failed to load within specified timeout.\");\n      root._bokeh_failed_load = true;\n    } else if (force !== true) {\n      const cell = $(document.getElementById(null)).parents('.cell').data().cell;\n      cell.output_area.append_execute_result(NB_LOAD_WARNING)\n    }\n  }\n\n  if (root._bokeh_is_loading === 0) {\n    console.debug(\"Bokeh: BokehJS loaded, going straight to plotting\");\n    run_inline_js();\n  } else {\n    load_libs(css_urls, js_urls, function() {\n      console.debug(\"Bokeh: BokehJS plotting callback run at\", now());\n      run_inline_js();\n    });\n  }\n}(window));"
          },
          "metadata": {}
        },
        {
          "output_type": "display_data",
          "data": {
            "text/html": [
              "\n",
              "  <div id=\"a6b59266-6013-4dbe-8d92-c95ed8748b0f\" data-root-id=\"p1047\" style=\"display: contents;\"></div>\n"
            ]
          },
          "metadata": {}
        },
        {
          "output_type": "display_data",
          "data": {
            "application/javascript": [
              "(function(root) {\n",
              "  function embed_document(root) {\n",
              "  const docs_json = {\"61195cfa-3f47-4f64-b6af-408e12a33784\":{\"version\":\"3.2.0\",\"title\":\"Bokeh Application\",\"roots\":[{\"type\":\"object\",\"name\":\"Figure\",\"id\":\"p1047\",\"attributes\":{\"height\":400,\"x_range\":{\"type\":\"object\",\"name\":\"DataRange1d\",\"id\":\"p1048\"},\"y_range\":{\"type\":\"object\",\"name\":\"DataRange1d\",\"id\":\"p1049\"},\"x_scale\":{\"type\":\"object\",\"name\":\"LinearScale\",\"id\":\"p1056\"},\"y_scale\":{\"type\":\"object\",\"name\":\"LinearScale\",\"id\":\"p1057\"},\"title\":{\"type\":\"object\",\"name\":\"Title\",\"id\":\"p1054\"},\"renderers\":[{\"type\":\"object\",\"name\":\"GlyphRenderer\",\"id\":\"p1081\",\"attributes\":{\"data_source\":{\"type\":\"object\",\"name\":\"ColumnDataSource\",\"id\":\"p1044\",\"attributes\":{\"selected\":{\"type\":\"object\",\"name\":\"Selection\",\"id\":\"p1045\",\"attributes\":{\"indices\":[],\"line_indices\":[]}},\"selection_policy\":{\"type\":\"object\",\"name\":\"UnionRenderers\",\"id\":\"p1046\"},\"data\":{\"type\":\"map\",\"entries\":[[\"x\",{\"type\":\"ndarray\",\"array\":{\"type\":\"bytes\",\"data\":\"Yk1mv+KoEj8L4sG/QdMcP+SqvL+cNUi/+OyTPzI8vD9V1Qk/KaMaQNPzkj4M09C9LOt+vlcVBEBdDzw/9IBsvzHzb7+3mOG/5w7SvZHWLD8C9Oo/CeEIQDkNSD8QHEq+bC18vlgNr7zQ+Iq+iNmovvV4Hz7GAVk/aXwrPwHsM71pLHW/WaADQCZkn74V8p8/6YYEPynS5z8bh5e+XvcfvzK70j2qGAm+9NDiPDqU/b5MSOo+09iUv/bH/D+L2A2/XZb5PwfyxL+bMn8/c9x1vsh9cj+PkR0/LLnuvjhrVb8T3IW/PzoAPj3rCUBYrwU/wrVfv817t7+2JBM/E2xqPw4i8z7KAE2+N0+svkTha78wH48+XtiAv99wB7/Tf+s+NfaBv9twq78fx4m/vHtIvbwi+z4JuIG/MkI4v4i5dz70AeI/ex3hvobH9b9Yf+S/A12Pv79Gib1+I1W/oc+TPqrmET8OTsG/kM57vrfnvb5Rs+A+hAS6viB30763WIY+V3uNPx08A7/HqFO/FfVkvw==\"},\"shape\":[100],\"dtype\":\"float32\",\"order\":\"little\"}],[\"y\",{\"type\":\"ndarray\",\"array\":{\"type\":\"bytes\",\"data\":\"68MXP9bplb/SkKa94JTmP2d4dzxNL/6/dvyYv5AFnb4h69k+REZ6vhsZkj9jTAJAKFbLPhqaQz1m6Is9KS31Po/R7b/F9yy+eHqevyeV8r8435E/P8DhvhPHjz4lhLc+unS/vlSpBL5djcw/xsCOPwJK1T7Ghwa/hyvaPxyNwr61QQs/fmMPPvOYsj8oJ6C/daQkP/gvjT/fvnG/i87su0RcGj84nb6+3V0FvojZdD7NO0w+ZpHJv9/zkr3SDxi/QkymvUS1O7+v6VU/5g2cPs0ImL6a50++qZkDO0+RHb/waka/IVtHv66thL4/jda/QZDxv5KZQT1Is90/iKeKvzvGhT4fEF4/CGMKwAc9I77XZiA+e5n1v9muob9XIki/ytb2Pqd7zT9Zuam/DQNyvyNczj+TOXw/ciOYP239hb8p5oU/r8JuP0us7j796fQ+a2Cov12k0r9SgMw/kh+avmoXcj9HD3E/cu+dP9soHD88q0A/r2TAP3LKe7+94h+/NHD4PkR0kT/c5eq+Ei3dvg==\"},\"shape\":[100],\"dtype\":\"float32\",\"order\":\"little\"}],[\"color\",[\"blue\",\"blue\",\"blue\",\"blue\",\"blue\",\"blue\",\"blue\",\"blue\",\"blue\",\"blue\",\"blue\",\"blue\",\"blue\",\"blue\",\"blue\",\"blue\",\"blue\",\"blue\",\"blue\",\"blue\",\"blue\",\"blue\",\"blue\",\"blue\",\"blue\",\"blue\",\"blue\",\"blue\",\"blue\",\"blue\",\"blue\",\"blue\",\"blue\",\"blue\",\"blue\",\"blue\",\"blue\",\"blue\",\"blue\",\"blue\",\"blue\",\"blue\",\"blue\",\"blue\",\"blue\",\"blue\",\"blue\",\"blue\",\"blue\",\"blue\",\"blue\",\"blue\",\"blue\",\"blue\",\"blue\",\"blue\",\"blue\",\"blue\",\"blue\",\"blue\",\"blue\",\"blue\",\"blue\",\"blue\",\"blue\",\"blue\",\"blue\",\"blue\",\"blue\",\"blue\",\"blue\",\"blue\",\"blue\",\"blue\",\"blue\",\"blue\",\"blue\",\"blue\",\"blue\",\"blue\",\"blue\",\"blue\",\"blue\",\"blue\",\"blue\",\"blue\",\"blue\",\"blue\",\"blue\",\"blue\",\"blue\",\"blue\",\"blue\",\"blue\",\"blue\",\"blue\",\"blue\",\"blue\",\"blue\",\"blue\"]],[\"token\",[\"?\",\"the\",\"what\",\"is\",\"how\",\"i\",\"a\",\"to\",\"in\",\"do\",\"of\",\"are\",\"and\",\"can\",\"for\",\",\",\"you\",\"why\",\"it\",\"best\",\"my\",\"does\",\"on\",\"or\",\"which\",\"if\",\"be\",\"have\",\"with\",\"some\",\"'s\",\"that\",\".\",\"should\",\"get\",\"an\",\"from\",\"your\",\"india\",\")\",\"(\",\"who\",\"when\",\"like\",\"at\",\"people\",\"will\",\"good\",\"would\",\"there\",\"between\",\"as\",\"about\",\"``\",\"''\",\"not\",\"n't\",\"one\",\"did\",\"most\",\"we\",\"where\",\"was\",\"any\",\"by\",\"make\",\"way\",\"so\",\"after\",\"they\",\"quora\",\"life\",\":\",\"difference\",\"me\",\"this\",\"has\",\"know\",\"learn\",\"time\",\"their\",\"use\",\"many\",\"much\",\"someone\",\"money\",\"am\",\"all\",\"new\",\"think\",\"find\",\"work\",\"without\",\"become\",\"indian\",\"ever\",\"than\",\"start\",\"more\",\"better\"]]]}}},\"view\":{\"type\":\"object\",\"name\":\"CDSView\",\"id\":\"p1082\",\"attributes\":{\"filter\":{\"type\":\"object\",\"name\":\"AllIndices\",\"id\":\"p1083\"}}},\"glyph\":{\"type\":\"object\",\"name\":\"Scatter\",\"id\":\"p1078\",\"attributes\":{\"x\":{\"type\":\"field\",\"field\":\"x\"},\"y\":{\"type\":\"field\",\"field\":\"y\"},\"size\":{\"type\":\"value\",\"value\":10},\"line_color\":{\"type\":\"field\",\"field\":\"color\"},\"line_alpha\":{\"type\":\"value\",\"value\":0.25},\"fill_color\":{\"type\":\"field\",\"field\":\"color\"},\"fill_alpha\":{\"type\":\"value\",\"value\":0.25},\"hatch_color\":{\"type\":\"field\",\"field\":\"color\"},\"hatch_alpha\":{\"type\":\"value\",\"value\":0.25}}},\"nonselection_glyph\":{\"type\":\"object\",\"name\":\"Scatter\",\"id\":\"p1079\",\"attributes\":{\"x\":{\"type\":\"field\",\"field\":\"x\"},\"y\":{\"type\":\"field\",\"field\":\"y\"},\"size\":{\"type\":\"value\",\"value\":10},\"line_color\":{\"type\":\"field\",\"field\":\"color\"},\"line_alpha\":{\"type\":\"value\",\"value\":0.1},\"fill_color\":{\"type\":\"field\",\"field\":\"color\"},\"fill_alpha\":{\"type\":\"value\",\"value\":0.1},\"hatch_color\":{\"type\":\"field\",\"field\":\"color\"},\"hatch_alpha\":{\"type\":\"value\",\"value\":0.1}}},\"muted_glyph\":{\"type\":\"object\",\"name\":\"Scatter\",\"id\":\"p1080\",\"attributes\":{\"x\":{\"type\":\"field\",\"field\":\"x\"},\"y\":{\"type\":\"field\",\"field\":\"y\"},\"size\":{\"type\":\"value\",\"value\":10},\"line_color\":{\"type\":\"field\",\"field\":\"color\"},\"line_alpha\":{\"type\":\"value\",\"value\":0.2},\"fill_color\":{\"type\":\"field\",\"field\":\"color\"},\"fill_alpha\":{\"type\":\"value\",\"value\":0.2},\"hatch_color\":{\"type\":\"field\",\"field\":\"color\"},\"hatch_alpha\":{\"type\":\"value\",\"value\":0.2}}}}}],\"toolbar\":{\"type\":\"object\",\"name\":\"Toolbar\",\"id\":\"p1055\",\"attributes\":{\"tools\":[{\"type\":\"object\",\"name\":\"PanTool\",\"id\":\"p1068\"},{\"type\":\"object\",\"name\":\"WheelZoomTool\",\"id\":\"p1069\"},{\"type\":\"object\",\"name\":\"BoxZoomTool\",\"id\":\"p1070\",\"attributes\":{\"overlay\":{\"type\":\"object\",\"name\":\"BoxAnnotation\",\"id\":\"p1071\",\"attributes\":{\"syncable\":false,\"level\":\"overlay\",\"visible\":false,\"left_units\":\"canvas\",\"right_units\":\"canvas\",\"bottom_units\":\"canvas\",\"top_units\":\"canvas\",\"line_color\":\"black\",\"line_alpha\":1.0,\"line_width\":2,\"line_dash\":[4,4],\"fill_color\":\"lightgrey\",\"fill_alpha\":0.5}}}},{\"type\":\"object\",\"name\":\"SaveTool\",\"id\":\"p1072\"},{\"type\":\"object\",\"name\":\"ResetTool\",\"id\":\"p1073\"},{\"type\":\"object\",\"name\":\"HelpTool\",\"id\":\"p1074\"},{\"type\":\"object\",\"name\":\"HoverTool\",\"id\":\"p1084\",\"attributes\":{\"renderers\":\"auto\",\"tooltips\":[[\"token\",\"@token\"]]}}],\"active_scroll\":{\"id\":\"p1069\"}}},\"left\":[{\"type\":\"object\",\"name\":\"LinearAxis\",\"id\":\"p1063\",\"attributes\":{\"ticker\":{\"type\":\"object\",\"name\":\"BasicTicker\",\"id\":\"p1064\",\"attributes\":{\"mantissas\":[1,2,5]}},\"formatter\":{\"type\":\"object\",\"name\":\"BasicTickFormatter\",\"id\":\"p1065\"},\"major_label_policy\":{\"type\":\"object\",\"name\":\"AllLabels\",\"id\":\"p1066\"}}}],\"below\":[{\"type\":\"object\",\"name\":\"LinearAxis\",\"id\":\"p1058\",\"attributes\":{\"ticker\":{\"type\":\"object\",\"name\":\"BasicTicker\",\"id\":\"p1059\",\"attributes\":{\"mantissas\":[1,2,5]}},\"formatter\":{\"type\":\"object\",\"name\":\"BasicTickFormatter\",\"id\":\"p1060\"},\"major_label_policy\":{\"type\":\"object\",\"name\":\"AllLabels\",\"id\":\"p1061\"}}}],\"center\":[{\"type\":\"object\",\"name\":\"Grid\",\"id\":\"p1062\",\"attributes\":{\"axis\":{\"id\":\"p1058\"}}},{\"type\":\"object\",\"name\":\"Grid\",\"id\":\"p1067\",\"attributes\":{\"dimension\":1,\"axis\":{\"id\":\"p1063\"}}}]}}]}};\n",
              "  const render_items = [{\"docid\":\"61195cfa-3f47-4f64-b6af-408e12a33784\",\"roots\":{\"p1047\":\"a6b59266-6013-4dbe-8d92-c95ed8748b0f\"},\"root_ids\":[\"p1047\"]}];\n",
              "  root.Bokeh.embed.embed_items_notebook(docs_json, render_items);\n",
              "  }\n",
              "  if (root.Bokeh !== undefined) {\n",
              "    embed_document(root);\n",
              "  } else {\n",
              "    let attempts = 0;\n",
              "    const timer = setInterval(function(root) {\n",
              "      if (root.Bokeh !== undefined) {\n",
              "        clearInterval(timer);\n",
              "        embed_document(root);\n",
              "      } else {\n",
              "        attempts++;\n",
              "        if (attempts > 100) {\n",
              "          clearInterval(timer);\n",
              "          console.log(\"Bokeh: ERROR: Unable to run BokehJS code because BokehJS library is missing\");\n",
              "        }\n",
              "      }\n",
              "    }, 10, root)\n",
              "  }\n",
              "})(window);"
            ],
            "application/vnd.bokehjs_exec.v0+json": ""
          },
          "metadata": {
            "application/vnd.bokehjs_exec.v0+json": {
              "id": "p1047"
            }
          }
        }
      ]
    },
    {
      "cell_type": "markdown",
      "source": [
        "## Task 2： Explore Word Embeddings with Word2Vec\n",
        "In this task, we shall explore the embeddings produced by word2vec. Please revisit the lecture slides or tutorials for more details on the word2vec algorithm. If you're feeling adventurous, challenge yourself and try reading the original [paper](https://proceedings.neurips.cc/paper_files/paper/2013/file/9aa42b31882ec039965f3c4923ce901b-Paper.pdf).\n",
        "\n",
        "Then run the following cells to load the word2vec vectors into memory. **Note**: This might take several minutes."
      ],
      "metadata": {
        "id": "dkidM73PdLva"
      }
    },
    {
      "cell_type": "code",
      "source": [
        "def load_word2vec():\n",
        "    \"\"\" Load GloVe Twitter Vectors\n",
        "        Return:\n",
        "            wv_from_bin: Pre-trained embeddings with 25 dimensions for 1.2M vocabulary.\n",
        "    \"\"\"\n",
        "    import gensim.downloader as api\n",
        "    wv_from_bin = api.load(\"glove-twitter-25\")\n",
        "    vocab = list(wv_from_bin.key_to_index.keys())  # Updated for Gensim 4.x\n",
        "    print(\"Loaded vocab size %i\" % len(vocab))\n",
        "    return wv_from_bin"
      ],
      "metadata": {
        "id": "GI3v_EcWf9nW"
      },
      "execution_count": null,
      "outputs": []
    },
    {
      "cell_type": "code",
      "source": [
        "# -----------------------------------\n",
        "# Run Cell to Load Word Vectors\n",
        "# Note: This may take several minutes\n",
        "# -----------------------------------\n",
        "# 加载用时45s\n",
        "wv_from_bin = load_word2vec()"
      ],
      "metadata": {
        "id": "9n7coG7kgHwU",
        "colab": {
          "base_uri": "https://localhost:8080/"
        },
        "outputId": "5a5edd58-8814-4d81-be39-d3ea877baa59"
      },
      "execution_count": null,
      "outputs": [
        {
          "output_type": "stream",
          "name": "stdout",
          "text": [
            "[==================================================] 100.0% 104.8/104.8MB downloaded\n",
            "Loaded vocab size 1193514\n"
          ]
        }
      ]
    },
    {
      "cell_type": "markdown",
      "source": [
        "\n",
        "**Reducing dimensionality of Word2Vec Word Embeddings**\n",
        "\n",
        "Let's directly compare the word2vec embeddings to those of the co-occurrence matrix. Run the following cells to:\n",
        "\n",
        "- Put the 1.2 million word2vec vectors into a matrix M\n",
        "- Run reduce_to_k_dim (your Truncated SVD function) to reduce the vectors from 25-dimensional to 2-dimensional.\n",
        "\n"
      ],
      "metadata": {
        "id": "N3ONN2P8z9yA"
      }
    },
    {
      "cell_type": "code",
      "source": [
        "def get_matrix_of_vectors(wv_from_bin, required_words=['barrels', 'bpd', 'ecuador', 'energy', 'industry', 'kuwait', 'oil', 'output', 'petroleum', 'venezuela']):\n",
        "    \"\"\" Put the word2vec vectors into a matrix M.\n",
        "        Param:\n",
        "            wv_from_bin: KeyedVectors object; the 1.2 million word2vec vectors loaded from file\n",
        "        Return:\n",
        "            M: numpy matrix shape (num words, 300) containing the vectors\n",
        "            word2Ind: dictionary mapping each word to its row number in M\n",
        "    \"\"\"\n",
        "    import random\n",
        "    words = list(wv_from_bin.key_to_index.keys())\n",
        "    print(\"Shuffling words ...\")\n",
        "    random.shuffle(words)\n",
        "    words = words[:10000]\n",
        "    print(\"Putting %i words into word2Ind and matrix M...\" % len(words))\n",
        "    word2Ind = {}\n",
        "    M = []\n",
        "    curInd = 0\n",
        "    for w in words:\n",
        "        try:\n",
        "            M.append(wv_from_bin.word_vec(w))\n",
        "            word2Ind[w] = curInd\n",
        "            curInd += 1\n",
        "        except KeyError:\n",
        "            continue\n",
        "    for w in required_words:\n",
        "        try:\n",
        "            M.append(wv_from_bin.word_vec(w))\n",
        "            word2Ind[w] = curInd\n",
        "            curInd += 1\n",
        "        except KeyError:\n",
        "            continue\n",
        "    M = np.stack(M)\n",
        "    print(\"Done.\")\n",
        "    return M, word2Ind"
      ],
      "metadata": {
        "id": "Cmx7pKhhh1Qj"
      },
      "execution_count": null,
      "outputs": []
    },
    {
      "cell_type": "markdown",
      "source": [
        "**Implement reduce_to_k_dim**\n",
        "\n",
        "Construct a method that performs dimensionality reduction on the matrix to produce k-dimensional embeddings. Use SVD to take the top k components and produce a new matrix of k-dimensional embeddings.\n",
        "\n",
        "Note: All of numpy, scipy, and scikit-learn (sklearn) provide some implementation of SVD, but only scipy and sklearn provide an implementation of Truncated SVD, and only sklearn provides an efficient randomized algorithm for calculating large-scale Truncated SVD. So please use [sklearn.decomposition.TruncatedSVD](https://scikit-learn.org/stable/modules/generated/sklearn.decomposition.TruncatedSVD.html).\n",
        "\n",
        "**<font color=\"red\">[Task]</font>**: Complete reduce_to_k_dim function"
      ],
      "metadata": {
        "id": "NwG7p3MepE6P"
      }
    },
    {
      "cell_type": "code",
      "source": [
        "from sklearn.decomposition import TruncatedSVD\n",
        "\n",
        "def reduce_to_k_dim(M, k=2):\n",
        "    \"\"\" Reduce a co-occurence count matrix of dimensionality (num_corpus_words, num_corpus_words)\n",
        "        to a matrix of dimensionality (num_corpus_words, k) using the following SVD function from Scikit-Learn:\n",
        "            - http://scikit-learn.org/stable/modules/generated/sklearn.decomposition.TruncatedSVD.html\n",
        "\n",
        "        Params:\n",
        "            M (numpy matrix of shape (number of corpus words, number of corpus words)): co-occurence matrix of word counts\n",
        "            k (int): embedding size of each word after dimension reduction\n",
        "        Return:\n",
        "            M_reduced (numpy matrix of shape (number of corpus words, k)): matrix of k-dimensioal word embeddings.\n",
        "                    In terms of the SVD from math class, this actually returns U * S\n",
        "    \"\"\"\n",
        "    n_iters = 10     # Use this parameter in your call to `TruncatedSVD`\n",
        "    M_reduced = None\n",
        "    print(\"Running Truncated SVD over %i words...\" % (M.shape[0]))\n",
        "\n",
        "    # Write your implementation here.\n",
        "    # Initialize Truncated SVD\n",
        "    svd = TruncatedSVD(n_components=k, n_iter=n_iters, random_state=42)\n",
        "\n",
        "    # Apply dimensionality reduction\n",
        "    M_reduced = svd.fit_transform(M)\n",
        "\n",
        "    print(\"Done.\")\n",
        "    return M_reduced"
      ],
      "metadata": {
        "id": "ggHnG5EcidGm"
      },
      "execution_count": null,
      "outputs": []
    },
    {
      "cell_type": "code",
      "source": [
        "# -----------------------------------------------------------------\n",
        "# Run Cell to Reduce 25-Dimensinal Word Embeddings to k Dimensions\n",
        "# Note: This may take several minutes\n",
        "# -----------------------------------------------------------------\n",
        "M, word2Ind = get_matrix_of_vectors(wv_from_bin)\n",
        "M_reduced = reduce_to_k_dim(M, k=2)"
      ],
      "metadata": {
        "id": "hDG1rO_wh2zP",
        "colab": {
          "base_uri": "https://localhost:8080/"
        },
        "outputId": "fe1772a9-daa7-42a4-bb16-437b8f7ec202"
      },
      "execution_count": null,
      "outputs": [
        {
          "output_type": "stream",
          "name": "stdout",
          "text": [
            "Shuffling words ...\n",
            "Putting 10000 words into word2Ind and matrix M...\n",
            "Done.\n",
            "Running Truncated SVD over 10010 words...\n"
          ]
        },
        {
          "output_type": "stream",
          "name": "stderr",
          "text": [
            "<ipython-input-23-380a110fcb9c>:20: DeprecationWarning: Call to deprecated `word_vec` (Use get_vector instead).\n",
            "  M.append(wv_from_bin.word_vec(w))\n",
            "<ipython-input-23-380a110fcb9c>:27: DeprecationWarning: Call to deprecated `word_vec` (Use get_vector instead).\n",
            "  M.append(wv_from_bin.word_vec(w))\n"
          ]
        },
        {
          "output_type": "stream",
          "name": "stdout",
          "text": [
            "Done.\n"
          ]
        }
      ]
    },
    {
      "cell_type": "markdown",
      "source": [
        "**Here is a helper function to plot a set of 2D vectors in 2D space. For graphs, we will use Matplotlib (plt).**"
      ],
      "metadata": {
        "id": "_0fGsfm-oZG7"
      }
    },
    {
      "cell_type": "code",
      "source": [
        "import matplotlib.pyplot as plt\n",
        "\n",
        "def plot_embeddings(M_reduced, word2Ind, words):\n",
        "    \"\"\" Plot in a scatterplot the embeddings of the words specified in the list \"words\".\n",
        "        Include a label next to each point.\n",
        "\n",
        "        Params:\n",
        "            M_reduced (numpy matrix of shape (number of unique words in the corpus, k)): matrix of k-dimensional word embeddings\n",
        "            word2Ind (dict): dictionary that maps word to indices for matrix M\n",
        "            words (list of strings): words whose embeddings we want to visualize\n",
        "    \"\"\"\n",
        "    plt.figure(figsize=(10, 10))\n",
        "    for word in words:\n",
        "        if word in word2Ind:\n",
        "            idx = word2Ind[word]\n",
        "            x, y = M_reduced[idx, 0], M_reduced[idx, 1]\n",
        "            plt.scatter(x, y, marker='o', color='blue')\n",
        "            plt.text(x + 0.02, y + 0.02, word, fontsize=9)\n",
        "        else:\n",
        "            print(f\"Word '{word}' not found in word2Ind dictionary.\")\n",
        "\n",
        "    plt.title(\"Word Embeddings Visualization\")\n",
        "    plt.xlabel(\"Dimension 1\")\n",
        "    plt.ylabel(\"Dimension 2\")\n",
        "    plt.grid(True)\n",
        "    plt.show()"
      ],
      "metadata": {
        "id": "bMXt_-QPn0C0"
      },
      "execution_count": null,
      "outputs": []
    },
    {
      "cell_type": "markdown",
      "source": [
        "### 2.1: Word2Vec Plot Analysis\n",
        "Run the cell below to plot the 2D word2vec embeddings for ['barrels', 'bpd', 'ecuador', 'energy', 'industry', 'kuwait', 'oil', 'output', 'petroleum', 'venezuela'].\n",
        "\n",
        "What clusters together in 2-dimensional embedding space? What doesn't cluster together that you might think should have? How is the plot different from the one generated earlier from the co-occurrence matrix?"
      ],
      "metadata": {
        "id": "wBbtacQhorHe"
      }
    },
    {
      "cell_type": "code",
      "source": [
        "words = ['barrels', 'bpd', 'ecuador', 'energy', 'industry', 'kuwait', 'oil', 'output', 'petroleum', 'venezuela']\n",
        "plot_embeddings(M_reduced, word2Ind, words)"
      ],
      "metadata": {
        "id": "usSSq_x3llW6",
        "colab": {
          "base_uri": "https://localhost:8080/",
          "height": 892
        },
        "outputId": "e0a74f98-c29b-4bc7-ef0f-cae9ffe64d20"
      },
      "execution_count": null,
      "outputs": [
        {
          "output_type": "display_data",
          "data": {
            "text/plain": [
              "<Figure size 1000x1000 with 1 Axes>"
            ],
            "image/png": "[encoded data removed]"
          },
          "metadata": {}
        }
      ]
    },
    {
      "cell_type": "markdown",
      "source": [
        "**<font color=\"red\">[Task]</font>**:\n",
        "\n",
        "**Cluster**:\n",
        "1. 'barrels', 'petroleum', 'bpd' (barrels per day), and 'output' cluster tightly, reflecting their semantic connection to crude oil production.\n",
        "2. 'kuwait', 'venezuela', and 'ecuador' form a geographical cluster, representing their shared role as major oil exporters.\n",
        "\n",
        "**Not cluster**:\n",
        "'petroleum' and 'oil' might be expected to overlap completely as synonyms.\n",
        "\n",
        "**Comparison to Co-Occurrence Matrix Visualization**:\n",
        "The Word2Vec plot groups words by semantic similarity (for example, oil-producing nations), while co-occurrence matrices often emphasize syntactic co-occurrence (for example, \"oil\" + \"barrels\" in phrases).\n",
        "\n"
      ],
      "metadata": {
        "id": "Swps7Nsqo0Q5"
      }
    },
    {
      "cell_type": "markdown",
      "source": [
        "### 2.2 Polysemous Words\n",
        "Find a [polysemous](https://en.wikipedia.org/wiki/Polysemy) word (for example, \"leaves\" or \"scoop\") such that the top-10 most similar words (according to cosine similarity) contains related words from both meanings. For example, \"leaves\" has both \"turns\" and \"ground\" in the top 10, and \"scoop\" has both \"buckets\" and \"pops\". You will probably need to try several polysemous words before you find one. Please state the polysemous word you discover and the multiple meanings that occur in the top 10. Why do you think many of the polysemous words you tried didn't work?\n",
        "\n",
        "Note: You should use the wv_from_bin.most_similar(word) function to get the top 10 similar words. This function ranks all other words in the vocabulary with respect to their cosine similarity to the given word. For further assistance please check the GenSim [documentation](https://radimrehurek.com/gensim/models/keyedvectors.html#gensim.models.keyedvectors.FastTextKeyedVectors.most_similar)."
      ],
      "metadata": {
        "id": "3mbzLnAwdOth"
      }
    },
    {
      "cell_type": "code",
      "source": [
        "# Polysemous word exploration\n",
        "\n",
        "def find_polysemous(polysemous_word):\n",
        "  similar_words = wv_from_bin.most_similar(polysemous_word)\n",
        "  print(f\"Top 10 similar words for '{polysemous_word}':\")\n",
        "  print([word for word, sim in similar_words])\n",
        "  return\n",
        "\n",
        "potential_wordset = [\"bank\",\"chair\",\"check\",\"kind\",\"light\",\"novel\",\"patient\"]\n",
        "for word in potential_wordset:\n",
        "  print(\"word: \", word)\n",
        "  find_polysemous(word)\n",
        "  print()\n",
        "\n"
      ],
      "metadata": {
        "id": "f1pUnbtZq-ST",
        "colab": {
          "base_uri": "https://localhost:8080/"
        },
        "outputId": "401c05db-b630-4725-b2fd-40c025f8e1dc"
      },
      "execution_count": null,
      "outputs": [
        {
          "output_type": "stream",
          "name": "stdout",
          "text": [
            "word:  bank\n",
            "Top 10 similar words for 'bank':\n",
            "['unit', 'service', 'office', 'reg', 'program', 'company', 'open', 'target', 'bp', 'private']\n",
            "\n",
            "word:  chair\n",
            "Top 10 similar words for 'chair':\n",
            "['desk', 'floor', 'window', 'shoulder', 'front', 'bathroom', 'seat', 'wall', 'ceiling', 'roof']\n",
            "\n",
            "word:  check\n",
            "Top 10 similar words for 'check':\n",
            "['free', 'new', 'post', 'special', 'open', 'line', 'list', 'id', 'out', 'best']\n",
            "\n",
            "word:  kind\n",
            "Top 10 similar words for 'kind':\n",
            "['word', 'such', 'is', 'even', 'odd', 'thing', 'made', 'perfect', 'rare', 'exactly']\n",
            "\n",
            "word:  light\n",
            "Top 10 similar words for 'light':\n",
            "['dark', 'deep', 'cross', 'sun', 'heavy', 'clear', 'shadow', 'edge', 'inside', 'side']\n",
            "\n",
            "word:  novel\n",
            "Top 10 similar words for 'novel':\n",
            "['diary', 'comic', 'edit', 'judul', 'majalah', 'lagu', 'script', 'copy', 'film', 'theme']\n",
            "\n",
            "word:  patient\n",
            "Top 10 similar words for 'patient':\n",
            "['responsible', 'pleasure', 'seeking', 'opportunity', 'self', 'positive', 'presence', 'reputation', 'privilege', 'temporary']\n",
            "\n"
          ]
        }
      ]
    },
    {
      "cell_type": "markdown",
      "source": [
        "**<font color=\"red\">[Task]</font>**:\n",
        "\n",
        "**polysemous_word**:\n",
        "'light':\n",
        "1. meaning of **weight**: 'heavy'\n",
        "2. meaning of **brightness**: 'sun'\n",
        "3. meaning of **thickness**: 'deep'\n",
        "\n",
        "Many of the polysemous words **didn't work**:\n",
        "1. Most polysemous words have a statistically dominant meaning in training corpora. (\"bank\" predominantly relates to financial institutions in Twitter data).\n",
        "2. Some meanings share contextual associations ('bat' in sports and zoology both appear with 'night' or 'wing', since\n",
        "'wing' is also a polysemous word)."
      ],
      "metadata": {
        "id": "EIiwx3NLrHnV"
      }
    },
    {
      "cell_type": "markdown",
      "source": [
        "### 2.3: Synonyms & Antonyms\n",
        "\n",
        "When considering Cosine Similarity, it's often more convenient to think of Cosine Distance, which is simply 1 - Cosine Similarity.\n",
        "\n",
        "Find three words (w1,w2,w3) where w1 and w2 are synonyms and w1 and w3 are antonyms, but Cosine Distance(w1,w3) < Cosine Distance(w1,w2). For example, w1=\"happy\" is closer to w3=\"sad\" than to w2=\"cheerful\".\n",
        "\n",
        "Once you have found your example, please give a possible explanation for why this counter-intuitive result may have happened.\n",
        "\n",
        "You should use the the wv_from_bin.distance(w1, w2) function here in order to compute the cosine distance between two words. Please see the GenSim documentation for further assistance.\n"
      ],
      "metadata": {
        "id": "k8vhD0k0dQ-z"
      }
    },
    {
      "cell_type": "code",
      "source": [
        "def distance_exploration(w1, w2, w3):\n",
        "  w1_w2_dist = wv_from_bin.distance(w1, w2)\n",
        "  w1_w3_dist = wv_from_bin.distance(w1, w3)\n",
        "  w2_w3_dist = wv_from_bin.distance(w2, w3)\n",
        "  print(\"Synonyms {}, {} have cosine distance: {}\".format(w1, w2, w1_w2_dist))\n",
        "  print(\"Antonyms {}, {} have cosine distance: {}\".format(w1, w3, w1_w3_dist))\n",
        "  print(\"Antonyms {}, {} have cosine distance: {}\".format(w2, w3, w2_w3_dist))\n",
        "  print()\n",
        "  return\n",
        "\n",
        "# Test\n",
        "print(wv_from_bin.distance(\"be\", \"be\"))\n",
        "print(wv_from_bin.distance(\"bat\", \"tablet\"))\n",
        "print()\n",
        "# Example 1\n",
        "distance_exploration(\"light\", \"bright\", \"dark\")\n",
        "# Example 2\n",
        "distance_exploration(\"high\", \"tall\", \"low\")\n",
        "# Example 3\n",
        "distance_exploration(\"big\", \"large\", \"small\")\n",
        "# Example 4\n",
        "distance_exploration(\"fast\", \"quick\", \"slow\")\n",
        "# Example 5\n",
        "distance_exploration(\"rich\", \"wealthy\", \"poor\")"
      ],
      "metadata": {
        "id": "Wli3CumGs50-",
        "colab": {
          "base_uri": "https://localhost:8080/"
        },
        "outputId": "7ba3f75c-2503-4f39-dccc-4f2d5fc8fcc2"
      },
      "execution_count": null,
      "outputs": [
        {
          "output_type": "stream",
          "name": "stdout",
          "text": [
            "0.0\n",
            "0.7222889065742493\n",
            "\n",
            "Synonyms light, bright have cosine distance: 0.10691648721694946\n",
            "Antonyms light, dark have cosine distance: 0.078238844871521\n",
            "Antonyms bright, dark have cosine distance: 0.1149187684059143\n",
            "\n",
            "Synonyms high, tall have cosine distance: 0.21945339441299438\n",
            "Antonyms high, low have cosine distance: 0.1244133710861206\n",
            "Antonyms tall, low have cosine distance: 0.29470646381378174\n",
            "\n",
            "Synonyms big, large have cosine distance: 0.2832111120223999\n",
            "Antonyms big, small have cosine distance: 0.142084002494812\n",
            "Antonyms large, small have cosine distance: 0.10240131616592407\n",
            "\n",
            "Synonyms fast, quick have cosine distance: 0.11719149351119995\n",
            "Antonyms fast, slow have cosine distance: 0.19635289907455444\n",
            "Antonyms quick, slow have cosine distance: 0.16050982475280762\n",
            "\n",
            "Synonyms rich, wealthy have cosine distance: 0.1948477029800415\n",
            "Antonyms rich, poor have cosine distance: 0.20605862140655518\n",
            "Antonyms wealthy, poor have cosine distance: 0.3631433844566345\n",
            "\n"
          ]
        }
      ]
    },
    {
      "cell_type": "markdown",
      "source": [
        "**<font color=\"red\">[Task]</font>**:\n",
        "\n",
        "For example, w1=\"big\" is closer to w3=\"small\" than to w2=\"large\".\n",
        "\n",
        "**Possible explanation**:\n",
        "The model learns antonym pairs through their symmetrical usage patterns (e.g., \"not big but small\", \"large or small\"), making their vectors develop parallel directional relationships."
      ],
      "metadata": {
        "id": "gZV7c7_4s9Is"
      }
    },
    {
      "cell_type": "markdown",
      "metadata": {
        "id": "l4G2X-TTpzwz"
      },
      "source": [
        "## Task 3: Utilize Word Embeddings\n",
        "\n",
        "Guess, you've seen such pictures already:  \n",
        "\n",
        "![Embeddings Relations](https://www.tensorflow.org/images/linear-relationships.png)\n",
        "*Source: [Tensorflow tutorial on Vector Representations of Words](https://www.tensorflow.org/tutorials/representation/word2vec)*\n",
        "\n",
        "In the first image, we observe the intricate relationships encoded within the word embeddings space. This encompasses various dimensions like gender differences (male-female) or verb tenses.\n",
        "\n",
        "**Interactive Exploration**\n",
        "\n",
        "To delve deeper and interactively explore these relationships, check out these resources:\n",
        "- [Word Vector Demo](http://bionlp-www.utu.fi/wv_demo/)\n",
        "- [Word2Viz](https://lamyiowce.github.io/word2viz/)\n",
        "\n",
        "These tools offer a playful yet insightful experience, allowing you to grasp the nuances and capabilities of word embeddings.\n",
        "\n",
        "**Our task point**\n",
        "\n",
        "Our focus will be on utilizing [gensim](https://radimrehurek.com/gensim/), a well-regarded Python library for word embeddings. Gensim makes it effortless to work with and leverage the power of word embeddings in various applications.\n"
      ]
    },
    {
      "cell_type": "markdown",
      "source": [
        "### **3.1 Use Pretrained Embeddings**\n",
        "Base on gensim, we can easily use a well-pretrained embeddings model. There are a number of such models in <font color=\"blue\">gensim</font>, you can call `api.info()` to get the list."
      ],
      "metadata": {
        "id": "KIvBhh71WIeS"
      }
    },
    {
      "cell_type": "code",
      "metadata": {
        "id": "OEazfh1s9eki"
      },
      "source": [
        "import gensim.downloader as api\n",
        "\n",
        "model = api.load('glove-twitter-25')"
      ],
      "execution_count": null,
      "outputs": []
    },
    {
      "cell_type": "markdown",
      "source": [
        "**use word embedidngs with gensim**\n",
        "\n",
        "Yay, we have loaded well-built word embedings models, now let's learn how to use it.\n",
        "\n",
        "1. To get word's vector, well, call `get_vector`:"
      ],
      "metadata": {
        "id": "HPQxqjIGZxt_"
      }
    },
    {
      "cell_type": "code",
      "source": [
        "model.vector_size"
      ],
      "metadata": {
        "id": "kcvojKwVRooA",
        "outputId": "cc80b5c5-94cd-4282-da02-9465e2635ee0",
        "colab": {
          "base_uri": "https://localhost:8080/"
        }
      },
      "execution_count": null,
      "outputs": [
        {
          "output_type": "execute_result",
          "data": {
            "text/plain": [
              "25"
            ]
          },
          "metadata": {},
          "execution_count": 56
        }
      ]
    },
    {
      "cell_type": "code",
      "metadata": {
        "id": "4uF6iF6A9uGQ",
        "colab": {
          "base_uri": "https://localhost:8080/"
        },
        "outputId": "9b66fffd-cff4-4657-de15-d346f31b7165"
      },
      "source": [
        "model.get_vector('anything')"
      ],
      "execution_count": null,
      "outputs": [
        {
          "output_type": "execute_result",
          "data": {
            "text/plain": [
              "array([ 0.47841 ,  0.39537 , -0.3216  ,  0.58639 , -0.48316 ,  0.11402 ,\n",
              "        1.3829  , -0.86081 , -0.81769 , -0.075026, -0.77716 ,  0.58212 ,\n",
              "       -5.2756  , -0.54024 ,  0.39019 ,  0.3941  ,  0.32682 , -0.7274  ,\n",
              "        0.49747 , -0.88427 , -0.062516,  0.035716, -0.28677 ,  0.64153 ,\n",
              "       -0.574   ], dtype=float32)"
            ]
          },
          "metadata": {},
          "execution_count": 37
        }
      ]
    },
    {
      "cell_type": "markdown",
      "source": [
        "2. To get most similar words for the given one :"
      ],
      "metadata": {
        "id": "DiXwAZTsaHCf"
      }
    },
    {
      "cell_type": "code",
      "source": [
        "model.most_similar('bread')"
      ],
      "metadata": {
        "id": "57uH83XZaI6p",
        "colab": {
          "base_uri": "https://localhost:8080/"
        },
        "outputId": "e34e259c-177e-4768-e35d-900af9c26d6c"
      },
      "execution_count": null,
      "outputs": [
        {
          "output_type": "execute_result",
          "data": {
            "text/plain": [
              "[('meat', 0.9616428017616272),\n",
              " ('corn', 0.9610626101493835),\n",
              " ('cheese', 0.9532765746116638),\n",
              " ('noodles', 0.9493104815483093),\n",
              " ('soup', 0.9440537691116333),\n",
              " ('egg', 0.9418217539787292),\n",
              " ('milk', 0.941437304019928),\n",
              " ('chicken', 0.9398934841156006),\n",
              " ('beans', 0.9390753507614136),\n",
              " ('toast', 0.936586856842041)]"
            ]
          },
          "metadata": {},
          "execution_count": 38
        }
      ]
    },
    {
      "cell_type": "markdown",
      "source": [
        "3. Analogies with word embeddings\n",
        "\n",
        "It can do such magic (`woman` + `grandfather` - `man`) :\n"
      ],
      "metadata": {
        "id": "Rtyp__uQaVcR"
      }
    },
    {
      "cell_type": "code",
      "source": [
        "# Run this cell to answer the analogy -- man : grandfather :: woman : x\n",
        "model.most_similar(positive=['woman', 'grandfather'], negative=['man'])"
      ],
      "metadata": {
        "id": "9igEyCm6aqfU",
        "colab": {
          "base_uri": "https://localhost:8080/"
        },
        "outputId": "7a614ebc-7de9-45b3-a410-d120928e34af"
      },
      "execution_count": null,
      "outputs": [
        {
          "output_type": "execute_result",
          "data": {
            "text/plain": [
              "[('grandmother', 0.878795325756073),\n",
              " ('deceased', 0.8756000399589539),\n",
              " ('grandson', 0.8732503652572632),\n",
              " ('granddaughter', 0.8626090288162231),\n",
              " ('mother-in-law', 0.8423668742179871),\n",
              " ('stabs', 0.8338028192520142),\n",
              " ('adopted', 0.8286494016647339),\n",
              " ('marries', 0.825094997882843),\n",
              " ('brother-in-law', 0.8129834532737732),\n",
              " ('fiancee', 0.8020613193511963)]"
            ]
          },
          "metadata": {},
          "execution_count": 39
        }
      ]
    },
    {
      "cell_type": "markdown",
      "source": [
        "And this too:"
      ],
      "metadata": {
        "id": "BwCkJSNraruT"
      }
    },
    {
      "cell_type": "code",
      "source": [
        "model.most_similar([model.get_vector('coder') - model.get_vector('brain') + model.get_vector('money')])"
      ],
      "metadata": {
        "id": "e4t94HZXa1vd",
        "colab": {
          "base_uri": "https://localhost:8080/"
        },
        "outputId": "6ea99286-1a11-45f2-d766-f28a4ee8660b"
      },
      "execution_count": null,
      "outputs": [
        {
          "output_type": "execute_result",
          "data": {
            "text/plain": [
              "[('gfx', 0.8166243433952332),\n",
              " ('realtor', 0.7994468212127686),\n",
              " ('promoters', 0.7922900319099426),\n",
              " ('promoter', 0.7778065800666809),\n",
              " ('recruiter', 0.7722607254981995),\n",
              " ('digg', 0.7702906727790833),\n",
              " ('sfi', 0.7655168175697327),\n",
              " ('chefs', 0.7650213241577148),\n",
              " ('smallbusiness', 0.7634385228157043),\n",
              " ('realestate', 0.7535584568977356)]"
            ]
          },
          "metadata": {},
          "execution_count": 40
        }
      ]
    },
    {
      "cell_type": "markdown",
      "source": [
        "That is, who is like coder, with money and without brains."
      ],
      "metadata": {
        "id": "c23cwWhKvtXp"
      }
    },
    {
      "cell_type": "markdown",
      "source": [
        "**<font color=\"red\">[Task]</font>** : Run an interesting analogy example\n",
        "\n",
        "**Hint**: Similar to (`woman` + `grandfather` - `man`)"
      ],
      "metadata": {
        "id": "4a15dwaha36x"
      }
    },
    {
      "cell_type": "code",
      "source": [
        "# Example 1\n",
        "print(model.most_similar(positive=['teacher', 'drive'], negative=['teach']))\n",
        "# Example 2\n",
        "print(model.most_similar(positive=['book', 'painter'], negative=['writer']))\n",
        "# Example 3\n",
        "print(model.most_similar(positive=['swimming', 'run'], negative=['swim']))\n",
        "# Example 4 (counter-intuitive)\n",
        "print(model.most_similar(positive=['ran', 'swim'], negative=['swam']))"
      ],
      "metadata": {
        "id": "g0D04rXsa_al",
        "colab": {
          "base_uri": "https://localhost:8080/"
        },
        "outputId": "90256852-89e4-4229-d8a8-5a288b44b6e4"
      },
      "execution_count": null,
      "outputs": [
        {
          "output_type": "stream",
          "name": "stdout",
          "text": [
            "[('parking', 0.8648337721824646), ('driver', 0.8503885865211487), ('office', 0.8499545454978943), ('traffic', 0.8412368297576904), ('driving', 0.8351786732673645), ('room', 0.8287854194641113), ('phone', 0.8218833804130554), ('seat', 0.8195534944534302), ('class', 0.8189750909805298), ('window', 0.8187465667724609)]\n",
            "[('canvas', 0.9099440574645996), ('designs', 0.9082742929458618), ('painting', 0.906273603439331), ('charcoal', 0.8967033624649048), ('wood', 0.8896210193634033), ('acrylic', 0.88385009765625), ('fabric', 0.8818100690841675), ('glass', 0.8812238574028015), ('vinyl', 0.880736768245697), ('furniture', 0.8773772120475769)]\n",
            "[('fix', 0.9017049074172974), ('put', 0.8973711729049683), ('line', 0.8809762001037598), ('drop', 0.8791057467460632), ('take', 0.877155065536499), ('up', 0.8768268823623657), ('time', 0.874901294708252), ('step', 0.8721282482147217), ('shoot', 0.8701412677764893), ('out', 0.8696983456611633)]\n",
            "[('time', 0.9525530934333801), ('running', 0.9490893483161926), ('break', 0.9407573938369751), ('home', 0.9379763603210449), ('up', 0.9354071617126465), ('down', 0.9325153827667236), ('after', 0.9303314685821533), ('going', 0.9302447438240051), ('next', 0.9288904666900635), ('out', 0.9244027733802795)]\n"
          ]
        }
      ]
    },
    {
      "cell_type": "markdown",
      "source": [
        "### **3.2 Finding the Most Similar Sentence**\n",
        "\n",
        "In this section, we present a method for sentence retrieval based on word embeddings.\n",
        "\n",
        "The key point is to construct *sentence embeddings*. The simplest method to obtain a sentence embedding is by averaging the embeddings of the words within the sentence.\n",
        "\n",
        "*You are probably thinking, 'What a dumb idea, why on earth the average of embedding should contain any useful information'. Well, check [this paper](https://arxiv.org/pdf/1805.09843.pdf).*\n",
        "\n"
      ],
      "metadata": {
        "id": "szS69OEObDzy"
      }
    },
    {
      "cell_type": "markdown",
      "source": [
        "1. Get Sentence Embedding\n",
        "\n",
        "**<font color=\"red\">[Task]</font>** : Implement a function to compute sentence embeddings.\n",
        "\n",
        "**Hint**: Tokenize and lowercase the texts. Calculate the mean embedding for words with known embeddings."
      ],
      "metadata": {
        "id": "FPJdCsjtfDxJ"
      }
    },
    {
      "cell_type": "code",
      "source": [
        "def get_sentence_embedding(model, sentence):\n",
        "    \"\"\" Calcs sentence embedding as a mean of known word embeddings in the sentence.\n",
        "    If all the words are unknown, returns zero vector.\n",
        "    :param model: KeyedVectors instance\n",
        "    :param sentence: str or list of str (tokenized text)\n",
        "    \"\"\"\n",
        "    embedding = np.zeros([model.vector_size], dtype='float32')\n",
        "\n",
        "    if isinstance(sentence, str):\n",
        "        words = word_tokenize(sentence.lower())\n",
        "    else:\n",
        "        words = sentence\n",
        "\n",
        "    sum_embedding = np.zeros([model.vector_size], dtype='float32')\n",
        "    words_in_model = 0\n",
        "\n",
        "    # Write your implementation here.\n",
        "    for word in words:\n",
        "        if word in model.key_to_index:  # Check if word exists in model\n",
        "            sum_embedding += model.get_vector(word)\n",
        "            words_in_model += 1\n",
        "\n",
        "    if words_in_model > 0:\n",
        "        embedding = sum_embedding / words_in_model\n",
        "\n",
        "    return embedding"
      ],
      "metadata": {
        "id": "0LPw1fRg1GaW"
      },
      "execution_count": null,
      "outputs": []
    },
    {
      "cell_type": "markdown",
      "source": [
        "Check it:"
      ],
      "metadata": {
        "id": "1FbZbKPI1OZf"
      }
    },
    {
      "cell_type": "code",
      "source": [
        "vector = get_sentence_embedding(model, \"I'm very sure. This never happened to me before...\")\n",
        "assert vector.shape == (model.vector_size,)"
      ],
      "metadata": {
        "id": "u5phpDHEcdK9"
      },
      "execution_count": null,
      "outputs": []
    },
    {
      "cell_type": "markdown",
      "source": [
        "2. **Building the Index**\n",
        "\n",
        "With our method ready, we can now embed all sentences in our corpus for retrieval purposes. In this case, we use data from Quora, sampling 1000 entries randomly, and converting them into sentence embeddings."
      ],
      "metadata": {
        "id": "u-8wclbCdTfw"
      }
    },
    {
      "cell_type": "code",
      "source": [
        "quora_data = pd.read_csv('train.csv')\n",
        "corpus = list(quora_data.sample(1000)[['question1']].question1.replace(np.nan, '', regex=True).unique())\n",
        "text_vectors = np.array([get_sentence_embedding(model, sentence) for sentence in corpus])"
      ],
      "metadata": {
        "id": "P6B2c-bJdCrB"
      },
      "execution_count": null,
      "outputs": []
    },
    {
      "cell_type": "code",
      "source": [
        "corpus[0]"
      ],
      "metadata": {
        "id": "NXrJ-R8leSWR",
        "colab": {
          "base_uri": "https://localhost:8080/",
          "height": 35
        },
        "outputId": "6e96c87a-589a-4195-f465-3b79fbde42cf"
      },
      "execution_count": null,
      "outputs": [
        {
          "output_type": "execute_result",
          "data": {
            "text/plain": [
              "'What are some good badminton racket shops in chennai ?'"
            ],
            "application/vnd.google.colaboratory.intrinsic+json": {
              "type": "string"
            }
          },
          "metadata": {},
          "execution_count": 58
        }
      ]
    },
    {
      "cell_type": "code",
      "source": [
        "text_vectors"
      ],
      "metadata": {
        "id": "fqm8qkUFTuC4",
        "outputId": "be4a0c11-760b-4b3b-a0f7-0cfeadce1b6e",
        "colab": {
          "base_uri": "https://localhost:8080/"
        }
      },
      "execution_count": null,
      "outputs": [
        {
          "output_type": "execute_result",
          "data": {
            "text/plain": [
              "array([[ 0.02402911,  0.1427646 ,  0.0784831 , ..., -0.3536118 ,\n",
              "        -0.0862153 ,  0.0179314 ],\n",
              "       [ 0.23579252,  0.40083623,  0.19827075, ..., -0.07701469,\n",
              "        -0.0160512 , -0.38661614],\n",
              "       [ 0.40023124,  0.09987028, -0.10166488, ..., -0.5227163 ,\n",
              "         0.148689  , -0.06494699],\n",
              "       ...,\n",
              "       [ 0.07645285,  0.16366829,  0.20252457, ..., -0.05411857,\n",
              "        -0.02385858, -0.06262673],\n",
              "       [ 0.19763671,  0.21267682, -0.03742473, ..., -0.17085181,\n",
              "         0.12257457, -0.44581273],\n",
              "       [ 0.4114161 ,  0.3917895 , -0.12161788, ..., -0.28744185,\n",
              "        -0.33045378, -0.27712998]], dtype=float32)"
            ]
          },
          "metadata": {},
          "execution_count": 59
        }
      ]
    },
    {
      "cell_type": "markdown",
      "source": [
        "3. **Search**\n",
        "\n",
        "Now we are able perform search of the nearest neighbours to the given sentences in our base!\n",
        "\n",
        "\n",
        "We'll use cosine similarity of two vectors:\n",
        "$$\\text{cosine_similarity}(x, y) = \\frac{x^{T} y}{||x||\\cdot ||y||}$$\n",
        "\n",
        "*It's not a [distance](https://www.encyclopediaofmath.org/index.php/Metric) strictly speaking but we still can use it to search for the sentence vectors.*\n",
        "\n",
        "**<font color=\"red\">[Task]</font>** : Implement the following function.\n",
        "\n",
        "**Hint:** Calc the similarity between `query` embedding and `text_vectors` using `cosine_similarity` function. Find `k` vectors with highest scores and return corresponding texts from `texts` list."
      ],
      "metadata": {
        "id": "QiMtj5dXebbY"
      }
    },
    {
      "cell_type": "code",
      "source": [
        "from sklearn.metrics.pairwise import cosine_similarity\n",
        "\n",
        "def find_nearest(model, text_vectors, texts, query, k=10):\n",
        "    query_vec = get_sentence_embedding(model, query)\n",
        "\n",
        "    # Write your implementation here.\n",
        "    # Calculate cosine similarities\n",
        "    similarity_scores = cosine_similarity(query_vec.reshape(1, -1), text_vectors).flatten()\n",
        "\n",
        "    # Get indices of top-k scores（cos越接近1，两个句子越相近）\n",
        "    top_k_indices = np.argsort(similarity_scores)[-k:][::-1]\n",
        "\n",
        "    # Retrieve corresponding texts\n",
        "    return [texts[index] for index in top_k_indices]"
      ],
      "metadata": {
        "id": "ynEJW6E7eg0c"
      },
      "execution_count": null,
      "outputs": []
    },
    {
      "cell_type": "markdown",
      "source": [
        "Check it!"
      ],
      "metadata": {
        "id": "is8SoYmHkQo5"
      }
    },
    {
      "cell_type": "code",
      "source": [
        "find_nearest(model, text_vectors, corpus, \"What's your biggest regret in life?\", k=10)"
      ],
      "metadata": {
        "id": "49s4zB1OjXd4",
        "colab": {
          "base_uri": "https://localhost:8080/"
        },
        "outputId": "7ff03f9d-1b73-4ac1-9be4-e2db445431da"
      },
      "execution_count": null,
      "outputs": [
        {
          "output_type": "execute_result",
          "data": {
            "text/plain": [
              "['What is that one thing you want to change in your life?',\n",
              " 'What was the happiest day of your life? And why was it?',\n",
              " 'They say too much knowledge is dangerous. When and why is this the case?',\n",
              " \"What's the most romantic thing you have ever done for your husband/partner?\",\n",
              " 'Who would play you in a movie of your life?',\n",
              " 'What is most important in life: sex or love?',\n",
              " 'How can I change my life and my bad habits?',\n",
              " 'Imagine this, what would happen if all of space was filled with \"earth\\'s air\" for 5 seconds?',\n",
              " 'What was the best day of your life? What happened?',\n",
              " 'Could a person feel absolutely nothing if we look each other in the eyes for a longer duration?']"
            ]
          },
          "metadata": {},
          "execution_count": 75
        }
      ]
    },
    {
      "cell_type": "markdown",
      "source": [
        "### **Bias of Word Embeddings**\n",
        "\n",
        "It's important to be cognizant of the biases (gender, race, sexual orientation etc.) implicit in our word embeddings. Bias can be dangerous because it can reinforce stereotypes through applications that employ these models.\n",
        "\n"
      ],
      "metadata": {
        "id": "qA5CwGV8jU5_"
      }
    },
    {
      "cell_type": "markdown",
      "source": [
        "Here's an example showing word embeddings biases on gender:"
      ],
      "metadata": {
        "id": "pdIUrmnJxGvL"
      }
    },
    {
      "cell_type": "code",
      "source": [
        "print(model.most_similar(positive=['man', 'profession'], negative=['woman']))\n",
        "print()\n",
        "print(model.most_similar(positive=['woman', 'profession'], negative=['man']))"
      ],
      "metadata": {
        "id": "gWngJZCWxduU",
        "colab": {
          "base_uri": "https://localhost:8080/"
        },
        "outputId": "ad4ba380-0cf8-46d1-d3e2-c829ba8d1341"
      },
      "execution_count": null,
      "outputs": [
        {
          "output_type": "stream",
          "name": "stdout",
          "text": [
            "[('maths', 0.7983574867248535), ('basis', 0.7973601222038269), ('humør', 0.7948898673057556), ('cert', 0.7902684807777405), ('mulig', 0.7874146699905396), ('spændende', 0.7728654742240906), ('dårligt', 0.7700908184051514), ('latter', 0.7676339745521545), ('noget', 0.7676041126251221), ('vet', 0.7675378918647766)]\n",
            "\n",
            "[('representation', 0.871566116809845), ('encourages', 0.8626720309257507), ('empowering', 0.8612703084945679), ('intellectual', 0.8564386963844299), ('influences', 0.8559868931770325), ('ethical', 0.8550471663475037), ('affairs', 0.8541139960289001), ('behaviors', 0.8481355905532837), ('advocacy', 0.8439522981643677), ('critic', 0.8406822085380554)]\n"
          ]
        }
      ]
    },
    {
      "cell_type": "markdown",
      "source": [
        "**<font color=\"red\">[Task]</font>** Identify an example of bias.\n",
        "\n",
        "**Hint:** Consider providing an example from perspectives such as race or sexual orientation."
      ],
      "metadata": {
        "id": "zpFDY9BByDBj"
      }
    },
    {
      "cell_type": "code",
      "source": [
        "# Identifying racial bias example\n",
        "racial_bias = model.most_similar(positive=['black', 'crime'], negative=['white'])\n",
        "print(\"Black + Crime - White:\")\n",
        "print([word for word, score in racial_bias[:5]])"
      ],
      "metadata": {
        "id": "np_RQalnx0Bb",
        "colab": {
          "base_uri": "https://localhost:8080/"
        },
        "outputId": "44cbf66c-6530-4a70-dcd5-7f7e6ad48d12"
      },
      "execution_count": null,
      "outputs": [
        {
          "output_type": "stream",
          "name": "stdout",
          "text": [
            "Black + Crime - White:\n",
            "['criminal', 'terror', 'attack', 'debate', 'political']\n"
          ]
        }
      ]
    },
    {
      "cell_type": "markdown",
      "source": [
        "**<font color=\"red\">[Task]</font>** Thinking About Bias.\n",
        "\n",
        "**Hint:** Briefly explain how bias can be introduced into word embeddings and suggest one method to mitigate these biases."
      ],
      "metadata": {
        "id": "902RJydFyjMx"
      }
    },
    {
      "cell_type": "markdown",
      "source": [
        "**Explanation**:\n",
        "\n",
        "1. Models learn statistical associations present in corpora. If texts frequently link \"black\" with crime-related terms or \"woman\" with domestic roles, these connections become encoded.\n",
        "2. Historical/social prejudices reflected in language usage (e.g., \"illegal\" co-occurring with certain ethnic groups).\n",
        "\n",
        "**Mitigation Method**:\n",
        "Counterfactual Data Augmentation\n",
        "\n",
        "1. Generate gender/race-neutral sentences (\"The nurse is...\" → \"The <neutral> nurse is...\") during training.\n",
        "2. Create counterexamples by swapping gender terms.\n",
        "3. Retrain embeddings with this balanced data.\n",
        "\n",
        "\n"
      ],
      "metadata": {
        "id": "P8zWOHg3065B"
      }
    },
    {
      "cell_type": "markdown",
      "metadata": {
        "id": "xqDmuu7m_PB5"
      },
      "source": [
        "## Supplementary Materials\n",
        "Source from [DeepNLP-Course of DanAnastasyev](https://colab.research.google.com/drive/1o65wrq6RYgWyyMvNP8r9ZknXBniDoXrn#forceEdit=true&offline=true&sandboxMode=true)\n",
        "\n",
        "## To read\n",
        "### Blogs\n",
        "[On word embeddings - Part 1, Sebastian Ruder](http://ruder.io/word-embeddings-1/)  \n",
        "[On word embeddings - Part 2: Approximating the Softmax, Sebastian Ruder](http://ruder.io/word-embeddings-softmax/index.html)  \n",
        "[Word2Vec Tutorial - The Skip-Gram Model, Chris McCormick](http://mccormickml.com/2016/04/19/word2vec-tutorial-the-skip-gram-model/)  \n",
        "[Word2Vec Tutorial Part 2 - Negative Sampling, Chris McCormick](http://mccormickml.com/2017/01/11/word2vec-tutorial-part-2-negative-sampling/)\n",
        "\n",
        "### Papers\n",
        "[Word2vec Parameter Learning Explained (2014), Xin Rong](https://arxiv.org/abs/1411.2738)  \n",
        "[Neural word embedding as implicit matrix factorization (2014), Levy, Omer, and Yoav Goldberg](http://u.cs.biu.ac.il/~nlp/wp-content/uploads/Neural-Word-Embeddings-as-Implicit-Matrix-Factorization-NIPS-2014.pdf)  \n",
        "\n",
        "### Enhancing Embeddings\n",
        "[Two/Too Simple Adaptations of Word2Vec for Syntax Problems (2015), Ling, Wang, et al.](https://www.aclweb.org/anthology/N/N15/N15-1142.pdf)  \n",
        "[Not All Neural Embeddings are Born Equal (2014)](https://arxiv.org/pdf/1410.0718.pdf)  \n",
        "[Retrofitting Word Vectors to Semantic Lexicons (2014), M. Faruqui, et al.](https://arxiv.org/pdf/1411.4166.pdf)  \n",
        "[All-but-the-top: Simple and Effective Postprocessing for Word Representations (2017), Mu, et al.](https://arxiv.org/pdf/1702.01417.pdf)  \n",
        "\n",
        "### Sentence Embeddings\n",
        "[Skip-Thought Vectors (2015), Kiros, et al.](https://arxiv.org/pdf/1506.06726)  \n",
        "\n",
        "### Backpropagation\n",
        "[Backpropagation, Intuitions, cs231n + next parts in the Module 1](http://cs231n.github.io/optimization-2/)   \n",
        "[Calculus on Computational Graphs: Backpropagation, Christopher Olah](http://colah.github.io/posts/2015-08-Backprop/)\n",
        "\n",
        "## To watch\n",
        "[cs224n \"Lecture 2 - Word Vector Representations: word2vec\"](https://www.youtube.com/watch?v=ERibwqs9p38&index=2&list=PLqdrfNEc5QnuV9RwUAhoJcoQvu4Q46Lja&t=0s)  \n",
        "[cs224n \"Lecture 5 - Backpropagation\"](https://www.youtube.com/watch?v=isPiE-DBagM&index=5&list=PLqdrfNEc5QnuV9RwUAhoJcoQvu4Q46Lja&t=0s)   \n"
      ]
    },
    {
      "cell_type": "markdown",
      "source": [
        "\n",
        "## Acknowledgement\n",
        "\n",
        "This assignment was developed with reference to the following course materials:\n",
        "- [DeepNLP Course by Dan Anastasyev](https://github.com/DanAnastasyev/DeepNLP-Course?tab=readme-ov-file)\n",
        "- [Exploring Word Vectors from Stanford's CS224N](https://web.stanford.edu/class/cs224n/assignments/a1_preview/exploring_word_vectors.html)\n",
        "- [Natural Language Processing course from Princeton University](https://nlp.cs.princeton.edu/cos484-sp21/)\n",
        "- [Yandex Data School NLP Course Week 1 Seminar](https://colab.research.google.com/github/yandexdataschool/nlp_course/blob/2023/week01_embeddings/seminar.ipynb#scrollTo=9m7GZWVk-jrW)\n"
      ],
      "metadata": {
        "id": "CJ_O-O0wkool"
      }
    }
  ]
}